{
 "cells": [
  {
   "cell_type": "markdown",
   "metadata": {},
   "source": [
    "# Flatland Javascript Renderer\n",
    "\n",
    "This is in active development and is intended to replace the tkinter / PIL renderer.\n",
    "This notebook shows how the JS renderer can be started in a notebook using an \"iframe\".  It starts a Flask server in a background thread, listening on port 8080, localhost."
   ]
  },
  {
   "cell_type": "code",
   "execution_count": 1,
   "metadata": {},
   "outputs": [],
   "source": [
    "import time\n",
    "import os\n",
    "import numpy as np \n",
    "from numpy import array\n",
    "import threading\n",
    "import webbrowser\n",
    "import pandas as pd # useful for displaying tables\n",
    "import ipysheet as ips\n",
    "from IPython.display import HTML, display\n",
    "from matplotlib import pyplot as plt"
   ]
  },
  {
   "cell_type": "code",
   "execution_count": 2,
   "metadata": {},
   "outputs": [],
   "source": [
    "%matplotlib inline"
   ]
  },
  {
   "cell_type": "code",
   "execution_count": 3,
   "metadata": {},
   "outputs": [],
   "source": [
    "#pd.describe_option(\"rows\")"
   ]
  },
  {
   "cell_type": "markdown",
   "metadata": {},
   "source": [
    "In Flatland you can use custom observation builders and predicitors<br>\n",
    "Observation builders generate the observation needed by the controller<br>\n",
    "Preditctors can be used to do short time prediction which can help in avoiding conflicts in the network"
   ]
  },
  {
   "cell_type": "code",
   "execution_count": 4,
   "metadata": {},
   "outputs": [
    {
     "name": "stdout",
     "output_type": "stream",
     "text": [
      "Flask static folder:  /home/jeremy/projects/aicrowd/rl-trains/flatland/notebooks/static\n"
     ]
    }
   ],
   "source": [
    "from flatland.envs.malfunction_generators import malfunction_from_params, MalfunctionParameters\n",
    "from flatland.envs.observations import GlobalObsForRailEnv\n",
    "# First of all we import the Flatland rail environment\n",
    "from flatland.envs.rail_env import RailEnv\n",
    "from flatland.envs.rail_env import RailEnvActions\n",
    "from flatland.envs.rail_generators import sparse_rail_generator\n",
    "from flatland.envs.schedule_generators import sparse_schedule_generator\n",
    "# We also include a renderer because we want to visualize what is going on in the environment\n",
    "from flatland.utils.rendertools import RenderTool, AgentRenderVariant\n",
    "from flatland.utils.flask_util import simple_flask_server"
   ]
  },
  {
   "cell_type": "markdown",
   "metadata": {},
   "source": [
    "This is an introduction example for the Flatland 2.1.* version.<br>\n",
    "Changes and highlights of this version include<br>\n",
    "- Stochastic events (malfunctions)<br>\n",
    "- Different travel speeds for differet agents<br>\n",
    "- Levels are generated using a novel generator to reflect more realistic railway networks<br>\n",
    "- Agents start outside of the environment and enter at their own time<br>\n",
    "- Agents leave the environment after they have reached their goal<br>\n",
    "Use the new sparse_rail_generator to generate feasible network configurations with corresponding tasks<br>\n",
    "Training on simple small tasks is the best way to get familiar with the environment<br>\n",
    "We start by importing the necessary rail and schedule generators<br>\n",
    "The rail generator will generate the railway infrastructure<br>\n",
    "The schedule generator will assign tasks to all the agent within the railway network"
   ]
  },
  {
   "cell_type": "markdown",
   "metadata": {},
   "source": [
    "The railway infrastructure can be build using any of the provided generators in env/rail_generators.py<br>\n",
    "Here we use the sparse_rail_generator with the following parameters"
   ]
  },
  {
   "cell_type": "code",
   "execution_count": 5,
   "metadata": {},
   "outputs": [],
   "source": [
    "nSize = 3\n",
    "\n",
    "if nSize == 1: \n",
    "    width = 30  # With of map\n",
    "    height = 30  # Height of map\n",
    "    nr_trains = 5  # Number of trains that have an assigned task in the env\n",
    "    cities_in_map = 2  # Number of cities where agents can start or end\n",
    "elif nSize == 2:\n",
    "    width = 8 * 7  # With of map\n",
    "    height = 8 * 7  # Height of map\n",
    "    nr_trains = 20  # Number of trains that have an assigned task in the env\n",
    "    cities_in_map = 10  # Number of cities where agents can start or end\n",
    "else:\n",
    "    width = 16 * 7  # With of map\n",
    "    height = 9 * 7  # Height of map\n",
    "    nr_trains = 50  # Number of trains that have an assigned task in the env\n",
    "    cities_in_map = 20  # Number of cities where agents can start or end\n",
    "    \n",
    "seed = 14  # Random seed\n",
    "grid_distribution_of_cities = False  # Type of city distribution, if False cities are randomly placed\n",
    "max_rails_between_cities = 2  # Max number of tracks allowed between cities. This is number of entry point to a city\n",
    "max_rail_in_cities = 6  # Max number of parallel tracks within a city, representing a realistic trainstation"
   ]
  },
  {
   "cell_type": "code",
   "execution_count": 6,
   "metadata": {},
   "outputs": [
    {
     "data": {
      "text/html": [
       "Here are the configuration options in an editable mini spreadsheet:"
      ],
      "text/plain": [
       "<IPython.core.display.HTML object>"
      ]
     },
     "metadata": {},
     "output_type": "display_data"
    },
    {
     "data": {
      "application/vnd.jupyter.widget-view+json": {
       "model_id": "8e3bf39e401d409cb1ab3a71431ba879",
       "version_major": 2,
       "version_minor": 0
      },
      "text/plain": [
       "Sheet(cells=(Cell(choice=[], column_end=0, column_start=0, numeric_format='0[.]0', row_start=0, squeeze_row=Fa…"
      ]
     },
     "metadata": {},
     "output_type": "display_data"
    }
   ],
   "source": [
    "generator_configs = [\n",
    "    [30, 30, 5, 2],\n",
    "    [8*7, 8*7, 20, 10],\n",
    "    [16*7, 9*7, 50, 20],\n",
    "]\n",
    "dfConfig = pd.DataFrame(generator_configs, columns=\"width height nr_trains cities_in_map\".split(\" \"))\n",
    "dfConfig.index.name=\"config\"\n",
    "sheet = ips.from_dataframe(dfConfig.T)\n",
    "sheet.column_resizing = True\n",
    "sheet.column_width = [ 30, 30, 30 ]\n",
    "sheet.stretch_headers = \"none\"\n",
    "#sheet.rowHeaderWidth=200  # doesn't work\n",
    "\n",
    "display(HTML(\"Here are the configuration options in an editable mini spreadsheet:\"))\n",
    "display(sheet)"
   ]
  },
  {
   "cell_type": "code",
   "execution_count": 23,
   "metadata": {},
   "outputs": [
    {
     "data": {
      "text/plain": [
       "(112, 63)"
      ]
     },
     "execution_count": 23,
     "metadata": {},
     "output_type": "execute_result"
    }
   ],
   "source": [
    "n_config_column = 2\n",
    "srConf = dfConfig.iloc[n_config_column,:]\n",
    "srConf.width, srConf.height"
   ]
  },
  {
   "cell_type": "code",
   "execution_count": 26,
   "metadata": {},
   "outputs": [
    {
     "data": {
      "text/plain": [
       "width            112\n",
       "height            63\n",
       "nr_trains         50\n",
       "cities_in_map     20\n",
       "Name: 2, dtype: int64"
      ]
     },
     "execution_count": 26,
     "metadata": {},
     "output_type": "execute_result"
    }
   ],
   "source": [
    "dfConf = ips.to_dataframe(sheet)\n",
    "srConf = dfConf.iloc[:,n_config_column]\n",
    "srConf"
   ]
  },
  {
   "cell_type": "code",
   "execution_count": 27,
   "metadata": {},
   "outputs": [],
   "source": [
    "rail_generator = sparse_rail_generator(max_num_cities=cities_in_map,\n",
    "                                       seed=seed,\n",
    "                                       grid_mode=grid_distribution_of_cities,\n",
    "                                       max_rails_between_cities=max_rails_between_cities,\n",
    "                                       max_rails_in_city=max_rail_in_cities,\n",
    "                                       )"
   ]
  },
  {
   "cell_type": "markdown",
   "metadata": {},
   "source": [
    "The schedule generator can make very basic schedules with a start point, end point and a speed profile for each agent.<br>\n",
    "The speed profiles can be adjusted directly as well as shown later on. We start by introducing a statistical<br>\n",
    "distribution of speed profiles"
   ]
  },
  {
   "cell_type": "markdown",
   "metadata": {},
   "source": [
    "Different agent types (trains) with different speeds."
   ]
  },
  {
   "cell_type": "code",
   "execution_count": 28,
   "metadata": {},
   "outputs": [],
   "source": [
    "speed_ration_map = {1.: 0.25,  # Fast passenger train\n",
    "                    1. / 2.: 0.25,  # Fast freight train\n",
    "                    1. / 3.: 0.25,  # Slow commuter train\n",
    "                    1. / 4.: 0.25}  # Slow freight train"
   ]
  },
  {
   "cell_type": "markdown",
   "metadata": {},
   "source": [
    "We can now initiate the schedule generator with the given speed profiles"
   ]
  },
  {
   "cell_type": "code",
   "execution_count": 29,
   "metadata": {},
   "outputs": [],
   "source": [
    "schedule_generator = sparse_schedule_generator(speed_ration_map)"
   ]
  },
  {
   "cell_type": "markdown",
   "metadata": {},
   "source": [
    "We can furthermore pass stochastic data to the RailEnv constructor which will allow for stochastic malfunctions<br>\n",
    "during an episode."
   ]
  },
  {
   "cell_type": "code",
   "execution_count": 30,
   "metadata": {},
   "outputs": [],
   "source": [
    "stochastic_data = MalfunctionParameters(malfunction_rate=10000,  # Rate of malfunction occurence\n",
    "                                        min_duration=15,  # Minimal duration of malfunction\n",
    "                                        max_duration=50  # Max duration of malfunction\n",
    "                                        )\n",
    "# Custom observation builder without predictor\n",
    "observation_builder = GlobalObsForRailEnv()"
   ]
  },
  {
   "cell_type": "markdown",
   "metadata": {},
   "source": [
    "Custom observation builder with predictor, uncomment line below if you want to try this one<br>\n",
    "observation_builder = TreeObsForRailEnv(max_depth=2, predictor=ShortestPathPredictorForRailEnv())"
   ]
  },
  {
   "cell_type": "markdown",
   "metadata": {},
   "source": [
    "Construct the enviornment with the given observation, generataors, predictors, and stochastic data"
   ]
  },
  {
   "cell_type": "code",
   "execution_count": 31,
   "metadata": {},
   "outputs": [],
   "source": [
    "env = RailEnv(width=srConf.width,\n",
    "              height=srConf.height,\n",
    "              rail_generator=rail_generator,\n",
    "              schedule_generator=schedule_generator,\n",
    "              number_of_agents=srConf.nr_trains,\n",
    "              obs_builder_object=observation_builder,\n",
    "              malfunction_generator_and_process_data=malfunction_from_params(stochastic_data),\n",
    "              remove_agents_at_target=True)\n",
    "env.reset()\n",
    "pass"
   ]
  },
  {
   "cell_type": "markdown",
   "metadata": {},
   "source": [
    "Initiate the renderer"
   ]
  },
  {
   "cell_type": "code",
   "execution_count": 32,
   "metadata": {},
   "outputs": [
    {
     "name": "stderr",
     "output_type": "stream",
     "text": [
      "WebSocket transport not available. Install eventlet or gevent and gevent-websocket for improved performance.\n"
     ]
    },
    {
     "name": "stdout",
     "output_type": "stream",
     "text": [
      " * Serving Flask app \"flatland.utils.flask_util\" (lazy loading)\n",
      " * Environment: production\n",
      "   WARNING: This is a development server. Do not use it in a production deployment.\n",
      "   Use a production WSGI server instead.\n",
      " * Debug mode: off\n"
     ]
    },
    {
     "name": "stderr",
     "output_type": "stream",
     "text": [
      " * Running on http://127.0.0.1:8083/ (Press CTRL+C to quit)\n"
     ]
    }
   ],
   "source": [
    "env_renderer = RenderTool(env, # gl=\"PILSVG\", # defaults to BROWSER\n",
    "                          agent_render_variant=AgentRenderVariant.ONE_STEP_BEHIND,\n",
    "                          show_debug=False,\n",
    "                          screen_height=600,  # Adjust these parameters to fit your resolution\n",
    "                          screen_width=800)  # Adjust these parameters to fit your resolution\n",
    "\n",
    "render_pil = RenderTool(env, gl=\"PILSVG\",\n",
    "                          agent_render_variant=AgentRenderVariant.ONE_STEP_BEHIND,\n",
    "                          show_debug=False,\n",
    "                          screen_height=600,  # Adjust these parameters to fit your resolution\n",
    "                          screen_width=800)  # Adjust these parameters to fit your resolution\n",
    "\n"
   ]
  },
  {
   "cell_type": "markdown",
   "metadata": {},
   "source": [
    "The first thing we notice is that some agents don't have feasible paths to their target.<br>\n",
    "We first look at the map we have created"
   ]
  },
  {
   "cell_type": "markdown",
   "metadata": {},
   "source": [
    "nv_renderer.render_env(show=True)<br>\n",
    "time.sleep(2)<br>\n",
    "Import your own Agent or use RLlib to train agents on Flatland<br>\n",
    "As an example we use a random agent instead"
   ]
  },
  {
   "cell_type": "code",
   "execution_count": 33,
   "metadata": {},
   "outputs": [],
   "source": [
    "class RandomAgent:\n",
    "    def __init__(self, state_size, action_size):\n",
    "        self.state_size = state_size\n",
    "        self.action_size = action_size\n",
    "    def act(self, state):\n",
    "        \"\"\"\n",
    "        :param state: input is the observation of the agent\n",
    "        :return: returns an action\n",
    "        \"\"\"\n",
    "        return np.random.choice([RailEnvActions.MOVE_FORWARD, RailEnvActions.MOVE_RIGHT, RailEnvActions.MOVE_LEFT,\n",
    "                                 RailEnvActions.STOP_MOVING])\n",
    "    def step(self, memories):\n",
    "        \"\"\"\n",
    "        Step function to improve agent by adjusting policy given the observations\n",
    "        :param memories: SARS Tuple to be\n",
    "        :return:\n",
    "        \"\"\"\n",
    "        return\n",
    "    def save(self, filename):\n",
    "        # Store the current policy\n",
    "        return\n",
    "    def load(self, filename):\n",
    "        # Load a policy\n",
    "        return"
   ]
  },
  {
   "cell_type": "markdown",
   "metadata": {},
   "source": [
    "Initialize the agent with the parameters corresponding to the environment and observation_builder"
   ]
  },
  {
   "cell_type": "code",
   "execution_count": 34,
   "metadata": {},
   "outputs": [],
   "source": [
    "controller = RandomAgent(218, env.action_space[0])"
   ]
  },
  {
   "cell_type": "markdown",
   "metadata": {},
   "source": [
    "We start by looking at the information of each agent<br>\n",
    "We can see the task assigned to the agent by looking at"
   ]
  },
  {
   "cell_type": "code",
   "execution_count": 35,
   "metadata": {},
   "outputs": [
    {
     "data": {
      "text/html": [
       "<h2>Agents in the environment have to solve the following tasks:</h2>"
      ],
      "text/plain": [
       "<IPython.core.display.HTML object>"
      ]
     },
     "metadata": {},
     "output_type": "display_data"
    },
    {
     "data": {
      "text/html": [
       "<div>\n",
       "<style scoped>\n",
       "    .dataframe tbody tr th:only-of-type {\n",
       "        vertical-align: middle;\n",
       "    }\n",
       "\n",
       "    .dataframe tbody tr th {\n",
       "        vertical-align: top;\n",
       "    }\n",
       "\n",
       "    .dataframe thead th {\n",
       "        text-align: right;\n",
       "    }\n",
       "</style>\n",
       "<table border=\"1\" class=\"dataframe\">\n",
       "  <thead>\n",
       "    <tr style=\"text-align: right;\">\n",
       "      <th></th>\n",
       "      <th>idx</th>\n",
       "      <th>initial_pos</th>\n",
       "      <th>direction</th>\n",
       "      <th>target</th>\n",
       "    </tr>\n",
       "  </thead>\n",
       "  <tbody>\n",
       "    <tr>\n",
       "      <th>0</th>\n",
       "      <td>0</td>\n",
       "      <td>(22, 74)</td>\n",
       "      <td>2</td>\n",
       "      <td>(19, 93)</td>\n",
       "    </tr>\n",
       "    <tr>\n",
       "      <th>1</th>\n",
       "      <td>1</td>\n",
       "      <td>(7, 12)</td>\n",
       "      <td>0</td>\n",
       "      <td>(44, 16)</td>\n",
       "    </tr>\n",
       "    <tr>\n",
       "      <th>2</th>\n",
       "      <td>2</td>\n",
       "      <td>(19, 92)</td>\n",
       "      <td>2</td>\n",
       "      <td>(21, 9)</td>\n",
       "    </tr>\n",
       "    <tr>\n",
       "      <th>3</th>\n",
       "      <td>3</td>\n",
       "      <td>(42, 71)</td>\n",
       "      <td>3</td>\n",
       "      <td>(18, 52)</td>\n",
       "    </tr>\n",
       "    <tr>\n",
       "      <th>4</th>\n",
       "      <td>4</td>\n",
       "      <td>(39, 16)</td>\n",
       "      <td>3</td>\n",
       "      <td>(19, 95)</td>\n",
       "    </tr>\n",
       "    <tr>\n",
       "      <th>...</th>\n",
       "      <td>...</td>\n",
       "      <td>...</td>\n",
       "      <td>...</td>\n",
       "      <td>...</td>\n",
       "    </tr>\n",
       "    <tr>\n",
       "      <th>45</th>\n",
       "      <td>45</td>\n",
       "      <td>(37, 57)</td>\n",
       "      <td>1</td>\n",
       "      <td>(45, 102)</td>\n",
       "    </tr>\n",
       "    <tr>\n",
       "      <th>46</th>\n",
       "      <td>46</td>\n",
       "      <td>(43, 16)</td>\n",
       "      <td>1</td>\n",
       "      <td>(6, 94)</td>\n",
       "    </tr>\n",
       "    <tr>\n",
       "      <th>47</th>\n",
       "      <td>47</td>\n",
       "      <td>(56, 26)</td>\n",
       "      <td>0</td>\n",
       "      <td>(18, 52)</td>\n",
       "    </tr>\n",
       "    <tr>\n",
       "      <th>48</th>\n",
       "      <td>48</td>\n",
       "      <td>(41, 16)</td>\n",
       "      <td>3</td>\n",
       "      <td>(32, 89)</td>\n",
       "    </tr>\n",
       "    <tr>\n",
       "      <th>49</th>\n",
       "      <td>49</td>\n",
       "      <td>(41, 29)</td>\n",
       "      <td>3</td>\n",
       "      <td>(9, 73)</td>\n",
       "    </tr>\n",
       "  </tbody>\n",
       "</table>\n",
       "<p>50 rows × 4 columns</p>\n",
       "</div>"
      ],
      "text/plain": [
       "    idx initial_pos  direction     target\n",
       "0     0    (22, 74)          2   (19, 93)\n",
       "1     1     (7, 12)          0   (44, 16)\n",
       "2     2    (19, 92)          2    (21, 9)\n",
       "3     3    (42, 71)          3   (18, 52)\n",
       "4     4    (39, 16)          3   (19, 95)\n",
       "..  ...         ...        ...        ...\n",
       "45   45    (37, 57)          1  (45, 102)\n",
       "46   46    (43, 16)          1    (6, 94)\n",
       "47   47    (56, 26)          0   (18, 52)\n",
       "48   48    (41, 16)          3   (32, 89)\n",
       "49   49    (41, 29)          3    (9, 73)\n",
       "\n",
       "[50 rows x 4 columns]"
      ]
     },
     "metadata": {},
     "output_type": "display_data"
    }
   ],
   "source": [
    "\n",
    "dfAgents = pd.DataFrame(\n",
    "    [ (agent_idx, agent.initial_position, agent.direction, agent.target)\n",
    "     for agent_idx, agent in enumerate(env.agents) \n",
    "    ],\n",
    "    columns=\"idx,initial_pos,direction,target\".split(\",\")\n",
    ")\n",
    "  \n",
    "\n",
    "display(HTML(\"<h2>Agents in the environment have to solve the following tasks:</h2>\"))\n",
    "pd.set_option(\"display.max_rows\", 10)\n",
    "display(dfAgents)"
   ]
  },
  {
   "cell_type": "markdown",
   "metadata": {
    "hide_input": false
   },
   "source": [
    "The agent will always have a status indicating if it is currently present in the environment or done or active<br>\n",
    "For example we see that agent with index 0 is currently not active"
   ]
  },
  {
   "cell_type": "code",
   "execution_count": 36,
   "metadata": {},
   "outputs": [
    {
     "name": "stdout",
     "output_type": "stream",
     "text": [
      "\n",
      " Their current statuses are:\n",
      "============================\n"
     ]
    }
   ],
   "source": [
    "print(\"\\n Their current statuses are:\")\n",
    "print(\"============================\")"
   ]
  },
  {
   "cell_type": "code",
   "execution_count": 37,
   "metadata": {},
   "outputs": [
    {
     "data": {
      "text/html": [
       "<div>\n",
       "<style scoped>\n",
       "    .dataframe tbody tr th:only-of-type {\n",
       "        vertical-align: middle;\n",
       "    }\n",
       "\n",
       "    .dataframe tbody tr th {\n",
       "        vertical-align: top;\n",
       "    }\n",
       "\n",
       "    .dataframe thead th {\n",
       "        text-align: right;\n",
       "    }\n",
       "</style>\n",
       "<table border=\"1\" class=\"dataframe\">\n",
       "  <thead>\n",
       "    <tr style=\"text-align: right;\">\n",
       "      <th></th>\n",
       "      <th>Status</th>\n",
       "      <th>CurPosn</th>\n",
       "    </tr>\n",
       "  </thead>\n",
       "  <tbody>\n",
       "    <tr>\n",
       "      <th>0</th>\n",
       "      <td>RailAgentStatus.READY_TO_DEPART</td>\n",
       "      <td>None</td>\n",
       "    </tr>\n",
       "    <tr>\n",
       "      <th>1</th>\n",
       "      <td>RailAgentStatus.READY_TO_DEPART</td>\n",
       "      <td>None</td>\n",
       "    </tr>\n",
       "    <tr>\n",
       "      <th>2</th>\n",
       "      <td>RailAgentStatus.READY_TO_DEPART</td>\n",
       "      <td>None</td>\n",
       "    </tr>\n",
       "    <tr>\n",
       "      <th>3</th>\n",
       "      <td>RailAgentStatus.READY_TO_DEPART</td>\n",
       "      <td>None</td>\n",
       "    </tr>\n",
       "    <tr>\n",
       "      <th>4</th>\n",
       "      <td>RailAgentStatus.READY_TO_DEPART</td>\n",
       "      <td>None</td>\n",
       "    </tr>\n",
       "    <tr>\n",
       "      <th>...</th>\n",
       "      <td>...</td>\n",
       "      <td>...</td>\n",
       "    </tr>\n",
       "    <tr>\n",
       "      <th>45</th>\n",
       "      <td>RailAgentStatus.READY_TO_DEPART</td>\n",
       "      <td>None</td>\n",
       "    </tr>\n",
       "    <tr>\n",
       "      <th>46</th>\n",
       "      <td>RailAgentStatus.READY_TO_DEPART</td>\n",
       "      <td>None</td>\n",
       "    </tr>\n",
       "    <tr>\n",
       "      <th>47</th>\n",
       "      <td>RailAgentStatus.READY_TO_DEPART</td>\n",
       "      <td>None</td>\n",
       "    </tr>\n",
       "    <tr>\n",
       "      <th>48</th>\n",
       "      <td>RailAgentStatus.READY_TO_DEPART</td>\n",
       "      <td>None</td>\n",
       "    </tr>\n",
       "    <tr>\n",
       "      <th>49</th>\n",
       "      <td>RailAgentStatus.READY_TO_DEPART</td>\n",
       "      <td>None</td>\n",
       "    </tr>\n",
       "  </tbody>\n",
       "</table>\n",
       "<p>50 rows × 2 columns</p>\n",
       "</div>"
      ],
      "text/plain": [
       "                             Status CurPosn\n",
       "0   RailAgentStatus.READY_TO_DEPART    None\n",
       "1   RailAgentStatus.READY_TO_DEPART    None\n",
       "2   RailAgentStatus.READY_TO_DEPART    None\n",
       "3   RailAgentStatus.READY_TO_DEPART    None\n",
       "4   RailAgentStatus.READY_TO_DEPART    None\n",
       "..                              ...     ...\n",
       "45  RailAgentStatus.READY_TO_DEPART    None\n",
       "46  RailAgentStatus.READY_TO_DEPART    None\n",
       "47  RailAgentStatus.READY_TO_DEPART    None\n",
       "48  RailAgentStatus.READY_TO_DEPART    None\n",
       "49  RailAgentStatus.READY_TO_DEPART    None\n",
       "\n",
       "[50 rows x 2 columns]"
      ]
     },
     "metadata": {},
     "output_type": "display_data"
    }
   ],
   "source": [
    "dfAgStatus = pd.DataFrame(\n",
    "    [\n",
    "        (str(agent.status), str(agent.position))\n",
    "        for agent_idx, agent in enumerate(env.agents)\n",
    "    ], columns=[\"Status\", \"CurPosn\"])\n",
    "display(dfAgStatus)\n",
    "# print(\"Agent {} status is: {} with its current position being {}\".format(agent_idx, str(agent.status),\n",
    "#str(agent.position)))"
   ]
  },
  {
   "cell_type": "markdown",
   "metadata": {},
   "source": [
    "The agent needs to take any action [1,2,3] except do_nothing or stop to enter the level<br>\n",
    "If the starting cell is free they will enter the level<br>\n",
    "If multiple agents want to enter the same cell at the same time the lower index agent will enter first."
   ]
  },
  {
   "cell_type": "markdown",
   "metadata": {},
   "source": [
    "Let's check if there are any agents with the same start location"
   ]
  },
  {
   "cell_type": "code",
   "execution_count": 38,
   "metadata": {
    "scrolled": false
   },
   "outputs": [
    {
     "data": {
      "text/plain": [
       "{(22, 74): [0, 34],\n",
       " (7, 12): [1],\n",
       " (19, 92): [2, 24],\n",
       " (42, 71): [3],\n",
       " (39, 16): [4, 14, 37],\n",
       " (32, 90): [5],\n",
       " (6, 93): [6, 41],\n",
       " (41, 29): [7, 40, 49],\n",
       " (50, 44): [8, 25, 44],\n",
       " (48, 44): [9],\n",
       " (41, 16): [10, 28, 38, 48],\n",
       " (19, 96): [11, 18],\n",
       " (32, 86): [12, 17, 27],\n",
       " (53, 63): [13, 29],\n",
       " (56, 26): [15, 42, 47],\n",
       " (19, 24): [16],\n",
       " (37, 57): [19, 35, 45],\n",
       " (51, 86): [20, 43],\n",
       " (42, 102): [21],\n",
       " (39, 29): [22],\n",
       " (43, 16): [23, 32, 46],\n",
       " (24, 36): [26],\n",
       " (9, 74): [30],\n",
       " (24, 38): [31, 36],\n",
       " (21, 12): [33],\n",
       " (19, 94): [39]}"
      ]
     },
     "execution_count": 38,
     "metadata": {},
     "output_type": "execute_result"
    }
   ],
   "source": [
    "agents_with_same_start = set()\n",
    "agent_pairs = []\n",
    "dict_pos_agents = {}\n",
    "\n",
    "for iAgent, agent in enumerate(env.agents):\n",
    "    rcPos = agent.initial_position\n",
    "    if rcPos in dict_pos_agents:\n",
    "        dict_pos_agents[rcPos].append(iAgent)\n",
    "    else:\n",
    "        dict_pos_agents[rcPos] = [iAgent]\n",
    "\n",
    "dict_pos_agents"
   ]
  },
  {
   "cell_type": "code",
   "execution_count": 68,
   "metadata": {
    "scrolled": false
   },
   "outputs": [
    {
     "data": {
      "text/plain": [
       "Text(0.5, 1.0, 'Agent Indices at initial positions')"
      ]
     },
     "execution_count": 68,
     "metadata": {},
     "output_type": "execute_result"
    },
    {
     "data": {
      "image/png": "[encoded data removed]",
      "text/plain": [
       "<Figure size 720x405 with 1 Axes>"
      ]
     },
     "metadata": {
      "needs_background": "light"
     },
     "output_type": "display_data"
    }
   ],
   "source": [
    "r_aspect = srConf.width / srConf.height\n",
    "plt.figure(figsize=(10, 10 / r_aspect))\n",
    "iRev = [1, 0]\n",
    "rc2xy = array([[0,1],[-1,0]]).T\n",
    "for agent in env.agents:\n",
    "    rc1 = array(agent.initial_position)\n",
    "    rc2 = array(agent.target)\n",
    "    #plt.arrow(*rc1[iRev], *(rc2 - rc1)[iRev], width=0.5 )\n",
    "    rc12 = np.stack([rc1, rc2])\n",
    "    xy12 = np.matmul(rc12, rc2xy)\n",
    "    plt.plot(xy12[:,0], srConf.height + xy12[:,1])\n",
    "    #plt.arrow(*rc1[iRev], *(rc2 - rc1)[iRev], width=0.1, head_width=1 )\n",
    "\n",
    "for rcStart, liAgent in dict_pos_agents.items():\n",
    "    xyStart = np.matmul(array(rcStart), rc2xy) + [0,srConf.height]\n",
    "    plt.annotate(liAgent, xyStart)\n",
    "    \n",
    "#plt.xlim(0,srConf.width)\n",
    "#plt.ylim(0,srConf.height)\n",
    "plt.xticks(range(0,srConf.width, 5))\n",
    "plt.yticks(range(0,srConf.height, 5))\n",
    "plt.grid()\n",
    "plt.title(\"Agent Indices at initial positions\")"
   ]
  },
  {
   "cell_type": "code",
   "execution_count": 69,
   "metadata": {},
   "outputs": [
    {
     "name": "stderr",
     "output_type": "stream",
     "text": [
      "/home/jeremy/projects/aicrowd/rl-trains/flatland/flatland/utils/rendertools.py:412: UserWarning: Predictor did not provide any predicted cells to render.                 Observation builder needs to populate: env.dev_obs_dict\n",
      "  Observation builder needs to populate: env.dev_obs_dict\")\n"
     ]
    },
    {
     "data": {
      "image/png": "[encoded data removed]",
      "text/plain": [
       "<PIL.Image.Image image mode=RGBA size=676x382 at 0x7F8221500EB8>"
      ]
     },
     "execution_count": 69,
     "metadata": {},
     "output_type": "execute_result"
    }
   ],
   "source": [
    "import PIL\n",
    "render_pil.render_env()\n",
    "PIL.Image.fromarray(render_pil.get_image())"
   ]
  },
  {
   "cell_type": "code",
   "execution_count": null,
   "metadata": {},
   "outputs": [],
   "source": []
  },
  {
   "cell_type": "code",
   "execution_count": 135,
   "metadata": {},
   "outputs": [
    {
     "name": "stdout",
     "output_type": "stream",
     "text": [
      "30\n"
     ]
    }
   ],
   "source": [
    "if agent.initial_position in dict_count:\n",
    "    print(dict_count[agent.initial_position])"
   ]
  },
  {
   "cell_type": "code",
   "execution_count": 140,
   "metadata": {},
   "outputs": [
    {
     "ename": "TypeError",
     "evalue": "object of type 'int' has no len()",
     "output_type": "error",
     "traceback": [
      "\u001b[0;31m---------------------------------------------------------------------------\u001b[0m",
      "\u001b[0;31mTypeError\u001b[0m                                 Traceback (most recent call last)",
      "\u001b[0;32m<ipython-input-140-1cf91bb60cc0>\u001b[0m in \u001b[0;36m<module>\u001b[0;34m\u001b[0m\n\u001b[0;32m----> 1\u001b[0;31m \u001b[0mlen\u001b[0m\u001b[0;34m(\u001b[0m\u001b[0;36m1\u001b[0m\u001b[0;34m)\u001b[0m\u001b[0;34m\u001b[0m\u001b[0;34m\u001b[0m\u001b[0m\n\u001b[0m",
      "\u001b[0;31mTypeError\u001b[0m: object of type 'int' has no len()"
     ]
    }
   ],
   "source": []
  },
  {
   "cell_type": "code",
   "execution_count": 87,
   "metadata": {},
   "outputs": [
    {
     "name": "stdout",
     "output_type": "stream",
     "text": [
      "7 19 9 6\n"
     ]
    }
   ],
   "source": [
    "print(*rc1, *rc2)"
   ]
  },
  {
   "cell_type": "code",
   "execution_count": 97,
   "metadata": {},
   "outputs": [
    {
     "data": {
      "text/plain": [
       "(0, 63)"
      ]
     },
     "execution_count": 97,
     "metadata": {},
     "output_type": "execute_result"
    },
    {
     "data": {
      "image/png": "[encoded data removed]",
      "text/plain": [
       "<Figure size 432x288 with 1 Axes>"
      ]
     },
     "metadata": {
      "needs_background": "light"
     },
     "output_type": "display_data"
    }
   ],
   "source": [
    "plt.arrow(*rc1, *(rc2 - rc1))\n"
   ]
  },
  {
   "cell_type": "code",
   "execution_count": 79,
   "metadata": {},
   "outputs": [
    {
     "data": {
      "text/plain": [
       "{(10, 6): 56,\n",
       " (8, 6): 90,\n",
       " (5, 19): 90,\n",
       " (24, 23): 12,\n",
       " (7, 19): 30,\n",
       " (22, 23): 30,\n",
       " (20, 10): 6,\n",
       " (24, 10): 2}"
      ]
     },
     "execution_count": 79,
     "metadata": {},
     "output_type": "execute_result"
    }
   ],
   "source": [
    "dict_count"
   ]
  },
  {
   "cell_type": "code",
   "execution_count": 81,
   "metadata": {},
   "outputs": [
    {
     "data": {
      "text/plain": [
       "EnvAgent(initial_position=(10, 6), initial_direction=1, direction=1, target=(8, 19), moving=False, speed_data={'position_fraction': 0.0, 'speed': 1.0, 'transition_action_on_cellexit': 0.0}, malfunction_data={'malfunction': 0, 'malfunction_rate': 0.0, 'next_malfunction': 0, 'nr_malfunctions': 0, 'moving_before_malfunction': False}, handle=0, status=<RailAgentStatus.READY_TO_DEPART: 0>, position=None, old_direction=None, old_position=None)"
      ]
     },
     "execution_count": 81,
     "metadata": {},
     "output_type": "execute_result"
    }
   ],
   "source": [
    "env.agents[0]"
   ]
  },
  {
   "cell_type": "code",
   "execution_count": 82,
   "metadata": {},
   "outputs": [
    {
     "data": {
      "text/plain": [
       "EnvAgent(initial_position=(10, 6), initial_direction=1, direction=1, target=(23, 10), moving=False, speed_data={'position_fraction': 0.0, 'speed': 0.5, 'transition_action_on_cellexit': 0.0}, malfunction_data={'malfunction': 0, 'malfunction_rate': 0.0, 'next_malfunction': 0, 'nr_malfunctions': 0, 'moving_before_malfunction': False}, handle=1, status=<RailAgentStatus.READY_TO_DEPART: 0>, position=None, old_direction=None, old_position=None)"
      ]
     },
     "execution_count": 82,
     "metadata": {},
     "output_type": "execute_result"
    }
   ],
   "source": [
    "env.agents[1]"
   ]
  },
  {
   "cell_type": "markdown",
   "metadata": {},
   "source": [
    "Lets try to enter with all of these agents at the same time"
   ]
  },
  {
   "cell_type": "code",
   "execution_count": 17,
   "metadata": {},
   "outputs": [],
   "source": [
    "action_dict = dict()"
   ]
  },
  {
   "cell_type": "code",
   "execution_count": 18,
   "metadata": {},
   "outputs": [],
   "source": [
    "for agent_id in agents_with_same_start:\n",
    "    action_dict[agent_id] = 1  # Try to move with the agents"
   ]
  },
  {
   "cell_type": "markdown",
   "metadata": {},
   "source": [
    "Do a step in the environment to see what agents entered:"
   ]
  },
  {
   "cell_type": "code",
   "execution_count": 19,
   "metadata": {},
   "outputs": [],
   "source": [
    "env.step(action_dict)\n",
    "pass"
   ]
  },
  {
   "cell_type": "markdown",
   "metadata": {},
   "source": [
    "Current state and position of the agents after all agents with same start position tried to move"
   ]
  },
  {
   "cell_type": "code",
   "execution_count": 20,
   "metadata": {},
   "outputs": [
    {
     "name": "stdout",
     "output_type": "stream",
     "text": [
      "\n",
      " This happened when all tried to enter at the same time:\n",
      "========================================================\n",
      "Agent 0 status is: RailAgentStatus.ACTIVE with the current position being (22, 74).\n",
      "Agent 2 status is: RailAgentStatus.ACTIVE with the current position being (19, 92).\n",
      "Agent 4 status is: RailAgentStatus.ACTIVE with the current position being (39, 16).\n",
      "Agent 6 status is: RailAgentStatus.ACTIVE with the current position being (6, 93).\n",
      "Agent 7 status is: RailAgentStatus.ACTIVE with the current position being (41, 29).\n",
      "Agent 8 status is: RailAgentStatus.ACTIVE with the current position being (50, 44).\n",
      "Agent 10 status is: RailAgentStatus.ACTIVE with the current position being (41, 16).\n",
      "Agent 11 status is: RailAgentStatus.ACTIVE with the current position being (19, 96).\n",
      "Agent 12 status is: RailAgentStatus.ACTIVE with the current position being (32, 86).\n",
      "Agent 13 status is: RailAgentStatus.ACTIVE with the current position being (53, 63).\n",
      "Agent 14 status is: RailAgentStatus.READY_TO_DEPART with the current position being None.\n",
      "Agent 15 status is: RailAgentStatus.ACTIVE with the current position being (56, 26).\n",
      "Agent 17 status is: RailAgentStatus.READY_TO_DEPART with the current position being None.\n",
      "Agent 18 status is: RailAgentStatus.READY_TO_DEPART with the current position being None.\n",
      "Agent 19 status is: RailAgentStatus.ACTIVE with the current position being (37, 57).\n",
      "Agent 20 status is: RailAgentStatus.ACTIVE with the current position being (51, 86).\n",
      "Agent 23 status is: RailAgentStatus.ACTIVE with the current position being (43, 16).\n",
      "Agent 24 status is: RailAgentStatus.READY_TO_DEPART with the current position being None.\n",
      "Agent 25 status is: RailAgentStatus.READY_TO_DEPART with the current position being None.\n",
      "Agent 27 status is: RailAgentStatus.READY_TO_DEPART with the current position being None.\n",
      "Agent 28 status is: RailAgentStatus.READY_TO_DEPART with the current position being None.\n",
      "Agent 29 status is: RailAgentStatus.READY_TO_DEPART with the current position being None.\n",
      "Agent 31 status is: RailAgentStatus.ACTIVE with the current position being (24, 38).\n",
      "Agent 32 status is: RailAgentStatus.READY_TO_DEPART with the current position being None.\n",
      "Agent 34 status is: RailAgentStatus.READY_TO_DEPART with the current position being None.\n",
      "Agent 35 status is: RailAgentStatus.READY_TO_DEPART with the current position being None.\n",
      "Agent 36 status is: RailAgentStatus.READY_TO_DEPART with the current position being None.\n",
      "Agent 37 status is: RailAgentStatus.READY_TO_DEPART with the current position being None.\n",
      "Agent 38 status is: RailAgentStatus.READY_TO_DEPART with the current position being None.\n",
      "Agent 40 status is: RailAgentStatus.READY_TO_DEPART with the current position being None.\n",
      "Agent 41 status is: RailAgentStatus.READY_TO_DEPART with the current position being None.\n",
      "Agent 42 status is: RailAgentStatus.READY_TO_DEPART with the current position being None.\n",
      "Agent 43 status is: RailAgentStatus.READY_TO_DEPART with the current position being None.\n",
      "Agent 44 status is: RailAgentStatus.READY_TO_DEPART with the current position being None.\n",
      "Agent 45 status is: RailAgentStatus.READY_TO_DEPART with the current position being None.\n",
      "Agent 46 status is: RailAgentStatus.READY_TO_DEPART with the current position being None.\n",
      "Agent 47 status is: RailAgentStatus.READY_TO_DEPART with the current position being None.\n",
      "Agent 48 status is: RailAgentStatus.READY_TO_DEPART with the current position being None.\n",
      "Agent 49 status is: RailAgentStatus.READY_TO_DEPART with the current position being None.\n"
     ]
    }
   ],
   "source": [
    "print(\"\\n This happened when all tried to enter at the same time:\")\n",
    "print(\"========================================================\")\n",
    "for agent_id in agents_with_same_start:\n",
    "    print(\n",
    "        \"Agent {} status is: {} with the current position being {}.\".format(\n",
    "            agent_id, str(env.agents[agent_id].status),\n",
    "            str(env.agents[agent_id].position)))"
   ]
  },
  {
   "cell_type": "markdown",
   "metadata": {},
   "source": [
    "As you see only the agents with lower indexes moved. As soon as the cell is free again the agents can attempt<br>\n",
    "to start again."
   ]
  },
  {
   "cell_type": "markdown",
   "metadata": {},
   "source": [
    "You will also notice, that the agents move at different speeds once they are on the rail.<br>\n",
    "The agents will always move at full speed when moving, never a speed inbetween.<br>\n",
    "The fastest an agent can go is 1, meaning that it moves to the next cell at every time step<br>\n",
    "All slower speeds indicate the fraction of a cell that is moved at each time step<br>\n",
    "Lets look at the current speed data of the agents:"
   ]
  },
  {
   "cell_type": "code",
   "execution_count": 21,
   "metadata": {},
   "outputs": [
    {
     "name": "stdout",
     "output_type": "stream",
     "text": [
      "\n",
      " The speed information of the agents are:\n",
      "=========================================\n"
     ]
    }
   ],
   "source": [
    "print(\"\\n The speed information of the agents are:\")\n",
    "print(\"=========================================\")"
   ]
  },
  {
   "cell_type": "code",
   "execution_count": 22,
   "metadata": {},
   "outputs": [
    {
     "name": "stdout",
     "output_type": "stream",
     "text": [
      "Agent 0 speed is: 0.25 with the current fractional position being 0.0\n",
      "Agent 1 speed is: 0.33 with the current fractional position being 0.0\n",
      "Agent 2 speed is: 0.25 with the current fractional position being 0.0\n",
      "Agent 3 speed is: 0.25 with the current fractional position being 0.0\n",
      "Agent 4 speed is: 1.00 with the current fractional position being 0.0\n",
      "Agent 5 speed is: 0.50 with the current fractional position being 0.0\n",
      "Agent 6 speed is: 0.25 with the current fractional position being 0.0\n",
      "Agent 7 speed is: 0.25 with the current fractional position being 0.0\n",
      "Agent 8 speed is: 0.25 with the current fractional position being 0.0\n",
      "Agent 9 speed is: 0.50 with the current fractional position being 0.0\n",
      "Agent 10 speed is: 0.33 with the current fractional position being 0.0\n",
      "Agent 11 speed is: 0.33 with the current fractional position being 0.0\n",
      "Agent 12 speed is: 0.25 with the current fractional position being 0.0\n",
      "Agent 13 speed is: 0.50 with the current fractional position being 0.0\n",
      "Agent 14 speed is: 0.33 with the current fractional position being 0.0\n",
      "Agent 15 speed is: 0.25 with the current fractional position being 0.0\n",
      "Agent 16 speed is: 1.00 with the current fractional position being 0.0\n",
      "Agent 17 speed is: 1.00 with the current fractional position being 0.0\n",
      "Agent 18 speed is: 1.00 with the current fractional position being 0.0\n",
      "Agent 19 speed is: 0.33 with the current fractional position being 0.0\n",
      "Agent 20 speed is: 0.50 with the current fractional position being 0.0\n",
      "Agent 21 speed is: 0.33 with the current fractional position being 0.0\n",
      "Agent 22 speed is: 0.25 with the current fractional position being 0.0\n",
      "Agent 23 speed is: 0.33 with the current fractional position being 0.0\n",
      "Agent 24 speed is: 0.50 with the current fractional position being 0.0\n",
      "Agent 25 speed is: 1.00 with the current fractional position being 0.0\n",
      "Agent 26 speed is: 0.50 with the current fractional position being 0.0\n",
      "Agent 27 speed is: 1.00 with the current fractional position being 0.0\n",
      "Agent 28 speed is: 0.25 with the current fractional position being 0.0\n",
      "Agent 29 speed is: 0.25 with the current fractional position being 0.0\n",
      "Agent 30 speed is: 0.50 with the current fractional position being 0.0\n",
      "Agent 31 speed is: 0.50 with the current fractional position being 0.0\n",
      "Agent 32 speed is: 1.00 with the current fractional position being 0.0\n",
      "Agent 33 speed is: 0.25 with the current fractional position being 0.0\n",
      "Agent 34 speed is: 0.25 with the current fractional position being 0.0\n",
      "Agent 35 speed is: 0.33 with the current fractional position being 0.0\n",
      "Agent 36 speed is: 0.33 with the current fractional position being 0.0\n",
      "Agent 37 speed is: 0.33 with the current fractional position being 0.0\n",
      "Agent 38 speed is: 0.33 with the current fractional position being 0.0\n",
      "Agent 39 speed is: 1.00 with the current fractional position being 0.0\n",
      "Agent 40 speed is: 1.00 with the current fractional position being 0.0\n",
      "Agent 41 speed is: 1.00 with the current fractional position being 0.0\n",
      "Agent 42 speed is: 0.50 with the current fractional position being 0.0\n",
      "Agent 43 speed is: 0.33 with the current fractional position being 0.0\n",
      "Agent 44 speed is: 1.00 with the current fractional position being 0.0\n",
      "Agent 45 speed is: 1.00 with the current fractional position being 0.0\n",
      "Agent 46 speed is: 1.00 with the current fractional position being 0.0\n",
      "Agent 47 speed is: 0.33 with the current fractional position being 0.0\n",
      "Agent 48 speed is: 0.33 with the current fractional position being 0.0\n",
      "Agent 49 speed is: 0.50 with the current fractional position being 0.0\n"
     ]
    }
   ],
   "source": [
    "for agent_idx, agent in enumerate(env.agents):\n",
    "    print(\n",
    "        \"Agent {} speed is: {:.2f} with the current fractional position being {}\".format(\n",
    "            agent_idx, agent.speed_data['speed'], agent.speed_data['position_fraction']))"
   ]
  },
  {
   "cell_type": "markdown",
   "metadata": {},
   "source": [
    "New the agents can also have stochastic malfunctions happening which will lead to them being unable to move<br>\n",
    "for a certain amount of time steps. The malfunction data of the agents can easily be accessed as follows"
   ]
  },
  {
   "cell_type": "code",
   "execution_count": 23,
   "metadata": {},
   "outputs": [
    {
     "name": "stdout",
     "output_type": "stream",
     "text": [
      "\n",
      " The malfunction data of the agents are:\n",
      "========================================\n"
     ]
    }
   ],
   "source": [
    "print(\"\\n The malfunction data of the agents are:\")\n",
    "print(\"========================================\")"
   ]
  },
  {
   "cell_type": "code",
   "execution_count": 24,
   "metadata": {},
   "outputs": [
    {
     "name": "stdout",
     "output_type": "stream",
     "text": [
      "Agent 0 is OK = True\n",
      "Agent 1 is OK = True\n",
      "Agent 2 is OK = True\n",
      "Agent 3 is OK = True\n",
      "Agent 4 is OK = True\n",
      "Agent 5 is OK = True\n",
      "Agent 6 is OK = True\n",
      "Agent 7 is OK = True\n",
      "Agent 8 is OK = True\n",
      "Agent 9 is OK = True\n",
      "Agent 10 is OK = True\n",
      "Agent 11 is OK = True\n",
      "Agent 12 is OK = True\n",
      "Agent 13 is OK = True\n",
      "Agent 14 is OK = True\n",
      "Agent 15 is OK = True\n",
      "Agent 16 is OK = True\n",
      "Agent 17 is OK = True\n",
      "Agent 18 is OK = True\n",
      "Agent 19 is OK = True\n",
      "Agent 20 is OK = True\n",
      "Agent 21 is OK = True\n",
      "Agent 22 is OK = True\n",
      "Agent 23 is OK = True\n",
      "Agent 24 is OK = True\n",
      "Agent 25 is OK = True\n",
      "Agent 26 is OK = True\n",
      "Agent 27 is OK = True\n",
      "Agent 28 is OK = True\n",
      "Agent 29 is OK = True\n",
      "Agent 30 is OK = True\n",
      "Agent 31 is OK = True\n",
      "Agent 32 is OK = True\n",
      "Agent 33 is OK = True\n",
      "Agent 34 is OK = True\n",
      "Agent 35 is OK = True\n",
      "Agent 36 is OK = True\n",
      "Agent 37 is OK = True\n",
      "Agent 38 is OK = True\n",
      "Agent 39 is OK = True\n",
      "Agent 40 is OK = True\n",
      "Agent 41 is OK = True\n",
      "Agent 42 is OK = True\n",
      "Agent 43 is OK = True\n",
      "Agent 44 is OK = True\n",
      "Agent 45 is OK = True\n",
      "Agent 46 is OK = True\n",
      "Agent 47 is OK = True\n",
      "Agent 48 is OK = True\n",
      "Agent 49 is OK = True\n"
     ]
    }
   ],
   "source": [
    "for agent_idx, agent in enumerate(env.agents):\n",
    "    print(\n",
    "        \"Agent {} is OK = {}\".format(\n",
    "            agent_idx, agent.malfunction_data['malfunction'] < 1))"
   ]
  },
  {
   "cell_type": "markdown",
   "metadata": {},
   "source": [
    "Now that you have seen these novel concepts that were introduced you will realize that agents don't need to take<br>\n",
    "an action at every time step as it will only change the outcome when actions are chosen at cell entry.<br>\n",
    "Therefore the environment provides information about what agents need to provide an action in the next step.<br>\n",
    "You can access this in the following way."
   ]
  },
  {
   "cell_type": "markdown",
   "metadata": {},
   "source": [
    "Chose an action for each agent"
   ]
  },
  {
   "cell_type": "code",
   "execution_count": 25,
   "metadata": {},
   "outputs": [
    {
     "name": "stdout",
     "output_type": "stream",
     "text": [
      "\n",
      " The following agents can register an action:\n",
      "========================================\n",
      "Agent 0 needs to submit an action.\n",
      "Agent 1 needs to submit an action.\n",
      "Agent 2 needs to submit an action.\n",
      "Agent 3 needs to submit an action.\n",
      "Agent 4 needs to submit an action.\n",
      "Agent 5 needs to submit an action.\n",
      "Agent 6 needs to submit an action.\n",
      "Agent 7 needs to submit an action.\n",
      "Agent 8 needs to submit an action.\n",
      "Agent 9 needs to submit an action.\n",
      "Agent 10 needs to submit an action.\n",
      "Agent 11 needs to submit an action.\n",
      "Agent 12 needs to submit an action.\n",
      "Agent 13 needs to submit an action.\n",
      "Agent 14 needs to submit an action.\n",
      "Agent 15 needs to submit an action.\n",
      "Agent 16 needs to submit an action.\n",
      "Agent 17 needs to submit an action.\n",
      "Agent 18 needs to submit an action.\n",
      "Agent 19 needs to submit an action.\n",
      "Agent 20 needs to submit an action.\n",
      "Agent 21 needs to submit an action.\n",
      "Agent 22 needs to submit an action.\n",
      "Agent 23 needs to submit an action.\n",
      "Agent 24 needs to submit an action.\n",
      "Agent 25 needs to submit an action.\n",
      "Agent 26 needs to submit an action.\n",
      "Agent 27 needs to submit an action.\n",
      "Agent 28 needs to submit an action.\n",
      "Agent 29 needs to submit an action.\n",
      "Agent 30 needs to submit an action.\n",
      "Agent 31 needs to submit an action.\n",
      "Agent 32 needs to submit an action.\n",
      "Agent 33 needs to submit an action.\n",
      "Agent 34 needs to submit an action.\n",
      "Agent 35 needs to submit an action.\n",
      "Agent 36 needs to submit an action.\n",
      "Agent 37 needs to submit an action.\n",
      "Agent 38 needs to submit an action.\n",
      "Agent 39 needs to submit an action.\n",
      "Agent 40 needs to submit an action.\n",
      "Agent 41 needs to submit an action.\n",
      "Agent 42 needs to submit an action.\n",
      "Agent 43 needs to submit an action.\n",
      "Agent 44 needs to submit an action.\n",
      "Agent 45 needs to submit an action.\n",
      "Agent 46 needs to submit an action.\n",
      "Agent 47 needs to submit an action.\n",
      "Agent 48 needs to submit an action.\n",
      "Agent 49 needs to submit an action.\n"
     ]
    }
   ],
   "source": [
    "for a in range(env.get_num_agents()):\n",
    "    action = controller.act(0)\n",
    "    action_dict.update({a: action})\n",
    "# Do the environment step\n",
    "observations, rewards, dones, information = env.step(action_dict)\n",
    "print(\"\\n The following agents can register an action:\")\n",
    "print(\"========================================\")\n",
    "for info in information['action_required']:\n",
    "    print(\"Agent {} needs to submit an action.\".format(info))"
   ]
  },
  {
   "cell_type": "markdown",
   "metadata": {},
   "source": [
    "We recommend that you monitor the malfunction data and the action required in order to optimize your training<br>\n",
    "and controlling code."
   ]
  },
  {
   "cell_type": "markdown",
   "metadata": {},
   "source": [
    "Let us now look at an episode playing out with random actions performed"
   ]
  },
  {
   "cell_type": "code",
   "execution_count": 26,
   "metadata": {},
   "outputs": [
    {
     "name": "stdout",
     "output_type": "stream",
     "text": [
      "\n",
      "Start episode...\n"
     ]
    }
   ],
   "source": [
    "print(\"\\nStart episode...\")"
   ]
  },
  {
   "cell_type": "markdown",
   "metadata": {},
   "source": [
    "Reset the rendering system"
   ]
  },
  {
   "cell_type": "code",
   "execution_count": 27,
   "metadata": {},
   "outputs": [],
   "source": [
    "if False:\n",
    "    env_renderer.reset()\n",
    "else:\n",
    "    server.send_env()"
   ]
  },
  {
   "cell_type": "markdown",
   "metadata": {},
   "source": [
    "Here you can also further enhance the provided observation by means of normalization<br>\n",
    "See training navigation example in the baseline repository"
   ]
  },
  {
   "cell_type": "markdown",
   "metadata": {},
   "source": [
    "## Javascript Renderer\n",
    "The cell below should create an HTML \"iframe\" which is like a new window within a window.\n",
    "It loads from the Flask server created above, and which should now be running in the background, listening on localhost:8080.  The server should have been created with the Flatland RailEnv.  When the JS Renderer connects to the server, it should load the env data, ie the rails and agent positions.\n",
    "\n",
    "Note that only one server can be running on the host / machine / VM because it is configured to listen on a fixed port (8080).  Only one JS renderer can connect to the server. \n",
    "\n",
    "If you start more than one, only one will work, and it may be glitchy.  However it can be convenient to start a new window pointing to the server on http://localhost:8080/index.html - you can then position the viewer elsewhere, and run steps from the cells below."
   ]
  },
  {
   "cell_type": "code",
   "execution_count": 28,
   "metadata": {},
   "outputs": [
    {
     "name": "stderr",
     "output_type": "stream",
     "text": [
      "127.0.0.1 - - [23/Dec/2019 16:33:50] \"\u001b[37mGET /socket.io/?EIO=3&transport=polling&t=MypculC&sid=1e843427776c4d4f883a67fbea1b6969 HTTP/1.1\u001b[0m\" 200 -\n"
     ]
    }
   ],
   "source": [
    "#%%html\n",
    "#<iframe src=\"http://127.0.0.1:8080/index.html\" height=500 width=600 />"
   ]
  },
  {
   "cell_type": "code",
   "execution_count": 29,
   "metadata": {},
   "outputs": [],
   "source": [
    "score = 0\n",
    "# Run episode\n",
    "frame_step = 0"
   ]
  },
  {
   "cell_type": "code",
   "execution_count": 30,
   "metadata": {},
   "outputs": [],
   "source": [
    "nSteps = 1000"
   ]
  },
  {
   "cell_type": "code",
   "execution_count": 31,
   "metadata": {},
   "outputs": [
    {
     "name": "stdout",
     "output_type": "stream",
     "text": [
      "Episode: Steps 0\t Score = -25.91666666666666\n",
      "Episode: Steps 1\t Score = -51.83333333333334\n",
      "Episode: Steps 2\t Score = -77.74999999999999\n",
      "Episode: Steps 3\t Score = -103.66666666666659\n",
      "Episode: Steps 4\t Score = -129.5833333333332\n",
      "Episode: Steps 5\t Score = -155.5\n",
      "Episode: Steps 6\t Score = -181.4166666666668\n",
      "Episode: Steps 7\t Score = -207.3333333333336\n",
      "Episode: Steps 8\t Score = -233.2500000000004\n",
      "Episode: Steps 9\t Score = -259.16666666666714\n",
      "Episode: Steps 10\t Score = -285.08333333333354\n",
      "Episode: Steps 11\t Score = -310.99999999999994\n",
      "Episode: Steps 12\t Score = -336.91666666666634\n",
      "Episode: Steps 13\t Score = -362.83333333333275\n",
      "Episode: Steps 14\t Score = -388.74999999999915\n",
      "Episode: Steps 15\t Score = -414.66666666666555\n",
      "Episode: Steps 16\t Score = -440.58333333333195\n",
      "Episode: Steps 17\t Score = -466.49999999999835\n",
      "Episode: Steps 18\t Score = -492.41666666666475\n",
      "Episode: Steps 19\t Score = -518.3333333333313\n",
      "Episode: Steps 20\t Score = -544.2499999999985\n",
      "Episode: Steps 21\t Score = -570.1666666666657\n",
      "Episode: Steps 22\t Score = -596.0833333333329\n",
      "Episode: Steps 23\t Score = -622.0000000000001\n",
      "Episode: Steps 24\t Score = -647.9166666666673\n",
      "Episode: Steps 25\t Score = -672.8333333333345\n",
      "Episode: Steps 26\t Score = -697.7500000000017\n",
      "Episode: Steps 27\t Score = -722.6666666666689\n",
      "Episode: Steps 28\t Score = -747.5833333333361\n",
      "Episode: Steps 29\t Score = -772.5000000000033\n",
      "Episode: Steps 30\t Score = -797.4166666666705\n",
      "Episode: Steps 31\t Score = -822.3333333333377\n",
      "Episode: Steps 32\t Score = -847.2500000000049\n",
      "Episode: Steps 33\t Score = -872.1666666666721\n",
      "Episode: Steps 34\t Score = -897.0833333333393\n",
      "Episode: Steps 35\t Score = -922.0000000000065\n",
      "Episode: Steps 36\t Score = -946.9166666666737\n",
      "Episode: Steps 37\t Score = -971.8333333333409\n",
      "Episode: Steps 38\t Score = -996.7500000000081\n",
      "Episode: Steps 39\t Score = -1021.6666666666753\n",
      "Episode: Steps 40\t Score = -1046.583333333341\n",
      "Episode: Steps 41\t Score = -1071.5000000000066\n",
      "Episode: Steps 42\t Score = -1096.4166666666722\n",
      "Episode: Steps 43\t Score = -1121.3333333333378\n",
      "Episode: Steps 44\t Score = -1146.2500000000034\n",
      "Episode: Steps 45\t Score = -1171.166666666669\n",
      "Episode: Steps 46\t Score = -1196.0833333333346\n",
      "Episode: Steps 47\t Score = -1221.0000000000002\n",
      "Episode: Steps 48\t Score = -1245.9166666666658\n",
      "Episode: Steps 49\t Score = -1270.8333333333314\n",
      "Episode: Steps 50\t Score = -1295.749999999997\n",
      "Episode: Steps 51\t Score = -1320.6666666666626\n",
      "Episode: Steps 52\t Score = -1345.5833333333283\n",
      "Episode: Steps 53\t Score = -1370.4999999999939\n",
      "Episode: Steps 54\t Score = -1395.4166666666595\n",
      "Episode: Steps 55\t Score = -1420.333333333325\n",
      "Episode: Steps 56\t Score = -1445.2499999999907\n",
      "Episode: Steps 57\t Score = -1470.1666666666563\n",
      "Episode: Steps 58\t Score = -1495.083333333322\n",
      "Episode: Steps 59\t Score = -1519.9999999999875\n",
      "Episode: Steps 60\t Score = -1544.916666666653\n",
      "Episode: Steps 61\t Score = -1569.8333333333187\n",
      "Episode: Steps 62\t Score = -1594.7499999999843\n",
      "Episode: Steps 63\t Score = -1619.66666666665\n",
      "Episode: Steps 64\t Score = -1644.5833333333155\n",
      "Episode: Steps 65\t Score = -1669.4999999999811\n",
      "Episode: Steps 66\t Score = -1694.4166666666467\n",
      "Episode: Steps 67\t Score = -1719.3333333333123\n",
      "Episode: Steps 68\t Score = -1744.249999999978\n",
      "Episode: Steps 69\t Score = -1769.1666666666436\n",
      "Episode: Steps 70\t Score = -1794.0833333333092\n",
      "Episode: Steps 71\t Score = -1818.9999999999748\n",
      "Episode: Steps 72\t Score = -1843.9166666666404\n",
      "Episode: Steps 73\t Score = -1868.833333333306\n",
      "Episode: Steps 74\t Score = -1893.7499999999716\n",
      "Episode: Steps 75\t Score = -1918.6666666666372\n",
      "Episode: Steps 76\t Score = -1943.5833333333028\n",
      "Episode: Steps 77\t Score = -1968.4999999999684\n",
      "Episode: Steps 78\t Score = -1993.416666666634\n",
      "Episode: Steps 79\t Score = -2018.3333333332996\n",
      "Episode: Steps 80\t Score = -2043.2499999999652\n",
      "Episode: Steps 81\t Score = -2068.1666666666333\n",
      "Episode: Steps 82\t Score = -2093.083333333302\n",
      "Episode: Steps 83\t Score = -2117.999999999971\n",
      "Episode: Steps 84\t Score = -2142.9166666666397\n",
      "Episode: Steps 85\t Score = -2167.8333333333085\n",
      "Episode: Steps 86\t Score = -2192.7499999999773\n",
      "Episode: Steps 87\t Score = -2217.666666666646\n",
      "Episode: Steps 88\t Score = -2242.583333333315\n",
      "Episode: Steps 89\t Score = -2267.4999999999836\n",
      "Episode: Steps 90\t Score = -2292.4166666666524\n",
      "Episode: Steps 91\t Score = -2317.333333333321\n",
      "Episode: Steps 92\t Score = -2342.24999999999\n",
      "Episode: Steps 93\t Score = -2367.166666666659\n",
      "Episode: Steps 94\t Score = -2392.0833333333276\n",
      "Episode: Steps 95\t Score = -2416.9999999999964\n",
      "Episode: Steps 96\t Score = -2441.916666666665\n",
      "Episode: Steps 97\t Score = -2466.833333333334\n",
      "Episode: Steps 98\t Score = -2491.7500000000027\n",
      "Episode: Steps 99\t Score = -2516.6666666666715\n",
      "Episode: Steps 100\t Score = -2541.5833333333403\n",
      "Episode: Steps 101\t Score = -2566.500000000009\n",
      "Episode: Steps 102\t Score = -2591.416666666678\n",
      "Episode: Steps 103\t Score = -2616.3333333333467\n",
      "Episode: Steps 104\t Score = -2641.2500000000155\n",
      "Episode: Steps 105\t Score = -2666.1666666666843\n",
      "Episode: Steps 106\t Score = -2691.083333333353\n",
      "Episode: Steps 107\t Score = -2716.000000000022\n",
      "Episode: Steps 108\t Score = -2740.9166666666906\n",
      "Episode: Steps 109\t Score = -2765.8333333333594\n",
      "Episode: Steps 110\t Score = -2790.750000000028\n",
      "Episode: Steps 111\t Score = -2815.666666666697\n",
      "Episode: Steps 112\t Score = -2840.5833333333658\n",
      "Episode: Steps 113\t Score = -2865.5000000000346\n",
      "Episode: Steps 114\t Score = -2890.4166666667033\n",
      "Episode: Steps 115\t Score = -2915.333333333372\n",
      "Episode: Steps 116\t Score = -2940.250000000041\n",
      "Episode: Steps 117\t Score = -2965.1666666667097\n",
      "Episode: Steps 118\t Score = -2990.0833333333785\n",
      "Episode: Steps 119\t Score = -3015.0000000000473\n",
      "Episode: Steps 120\t Score = -3039.916666666716\n",
      "Episode: Steps 121\t Score = -3064.833333333385\n",
      "Episode: Steps 122\t Score = -3089.7500000000537\n",
      "Episode: Steps 123\t Score = -3114.6666666667224\n",
      "Episode: Steps 124\t Score = -3139.5833333333912\n",
      "Episode: Steps 125\t Score = -3164.50000000006\n",
      "Episode: Steps 126\t Score = -3189.416666666729\n",
      "Episode: Steps 127\t Score = -3214.3333333333976\n",
      "Episode: Steps 128\t Score = -3239.2500000000664\n",
      "Episode: Steps 129\t Score = -3264.166666666735\n",
      "Episode: Steps 130\t Score = -3289.083333333404\n",
      "Episode: Steps 131\t Score = -3314.0000000000728\n",
      "Episode: Steps 132\t Score = -3338.9166666667415\n",
      "Episode: Steps 133\t Score = -3363.8333333334103\n",
      "Episode: Steps 134\t Score = -3388.750000000079\n",
      "Episode: Steps 135\t Score = -3413.666666666748\n",
      "Episode: Steps 136\t Score = -3438.5833333334167\n",
      "Episode: Steps 137\t Score = -3463.5000000000855\n",
      "Episode: Steps 138\t Score = -3488.4166666667543\n",
      "Episode: Steps 139\t Score = -3513.333333333423\n",
      "Episode: Steps 140\t Score = -3538.250000000092\n",
      "Episode: Steps 141\t Score = -3563.1666666667606\n",
      "Episode: Steps 142\t Score = -3588.0833333334294\n",
      "Episode: Steps 143\t Score = -3613.000000000098\n",
      "Episode: Steps 144\t Score = -3637.916666666767\n",
      "Episode: Steps 145\t Score = -3662.833333333436\n",
      "Episode: Steps 146\t Score = -3687.7500000001046\n",
      "Episode: Steps 147\t Score = -3712.6666666667734\n",
      "Episode: Steps 148\t Score = -3737.583333333442\n",
      "Episode: Steps 149\t Score = -3762.500000000111\n",
      "Episode: Steps 150\t Score = -3787.4166666667797\n",
      "Episode: Steps 151\t Score = -3812.3333333334485\n",
      "Episode: Steps 152\t Score = -3837.2500000001173\n",
      "Episode: Steps 153\t Score = -3862.166666666786\n",
      "Episode: Steps 154\t Score = -3887.083333333455\n",
      "Episode: Steps 155\t Score = -3912.0000000001237\n",
      "Episode: Steps 156\t Score = -3936.9166666667925\n",
      "Episode: Steps 157\t Score = -3961.8333333334613\n",
      "Episode: Steps 158\t Score = -3986.75000000013\n",
      "Episode: Steps 159\t Score = -4011.666666666799\n",
      "Episode: Steps 160\t Score = -4036.5833333334676\n",
      "Episode: Steps 161\t Score = -4061.5000000001364\n",
      "Episode: Steps 162\t Score = -4086.416666666805\n",
      "Episode: Steps 163\t Score = -4111.333333333469\n",
      "Episode: Steps 164\t Score = -4136.250000000132\n",
      "Episode: Steps 165\t Score = -4161.166666666794\n",
      "Episode: Steps 166\t Score = -4186.083333333457\n",
      "Episode: Steps 167\t Score = -4211.000000000119\n",
      "Episode: Steps 168\t Score = -4235.916666666782\n",
      "Episode: Steps 169\t Score = -4260.833333333444\n",
      "Episode: Steps 170\t Score = -4285.750000000106\n",
      "Episode: Steps 171\t Score = -4310.666666666769\n",
      "Episode: Steps 172\t Score = -4335.583333333431\n",
      "Episode: Steps 173\t Score = -4360.500000000094\n",
      "Episode: Steps 174\t Score = -4385.416666666756\n",
      "Episode: Steps 175\t Score = -4410.3333333334185\n",
      "Episode: Steps 176\t Score = -4435.250000000081\n"
     ]
    },
    {
     "name": "stdout",
     "output_type": "stream",
     "text": [
      "Episode: Steps 177\t Score = -4460.166666666743\n",
      "Episode: Steps 178\t Score = -4485.083333333406\n",
      "Episode: Steps 179\t Score = -4510.000000000068\n",
      "Episode: Steps 180\t Score = -4534.916666666731\n",
      "Episode: Steps 181\t Score = -4559.833333333393\n",
      "Episode: Steps 182\t Score = -4584.7500000000555\n",
      "Episode: Steps 183\t Score = -4609.666666666718\n",
      "Episode: Steps 184\t Score = -4634.58333333338\n",
      "Episode: Steps 185\t Score = -4659.500000000043\n",
      "Episode: Steps 186\t Score = -4684.416666666705\n",
      "Episode: Steps 187\t Score = -4709.333333333368\n",
      "Episode: Steps 188\t Score = -4734.25000000003\n",
      "Episode: Steps 189\t Score = -4759.166666666692\n",
      "Episode: Steps 190\t Score = -4784.083333333355\n",
      "Episode: Steps 191\t Score = -4809.000000000017\n",
      "Episode: Steps 192\t Score = -4833.91666666668\n",
      "Episode: Steps 193\t Score = -4858.833333333342\n",
      "Episode: Steps 194\t Score = -4883.750000000005\n",
      "Episode: Steps 195\t Score = -4908.666666666667\n",
      "Episode: Steps 196\t Score = -4933.583333333329\n",
      "Episode: Steps 197\t Score = -4958.499999999992\n",
      "Episode: Steps 198\t Score = -4983.416666666654\n",
      "Episode: Steps 199\t Score = -5008.333333333317\n",
      "Episode: Steps 200\t Score = -5033.249999999979\n",
      "Episode: Steps 201\t Score = -5058.1666666666415\n",
      "Episode: Steps 202\t Score = -5083.083333333304\n",
      "Episode: Steps 203\t Score = -5107.999999999966\n",
      "Episode: Steps 204\t Score = -5132.916666666629\n",
      "Episode: Steps 205\t Score = -5157.833333333291\n",
      "Episode: Steps 206\t Score = -5182.749999999954\n",
      "Episode: Steps 207\t Score = -5207.666666666616\n",
      "Episode: Steps 208\t Score = -5232.5833333332785\n",
      "Episode: Steps 209\t Score = -5257.499999999941\n",
      "Episode: Steps 210\t Score = -5282.416666666603\n",
      "Episode: Steps 211\t Score = -5307.333333333266\n",
      "Episode: Steps 212\t Score = -5332.249999999928\n",
      "Episode: Steps 213\t Score = -5357.166666666591\n",
      "Episode: Steps 214\t Score = -5382.083333333253\n",
      "Episode: Steps 215\t Score = -5406.999999999915\n",
      "Episode: Steps 216\t Score = -5431.916666666578\n",
      "Episode: Steps 217\t Score = -5456.83333333324\n",
      "Episode: Steps 218\t Score = -5481.749999999903\n",
      "Episode: Steps 219\t Score = -5506.666666666565\n",
      "Episode: Steps 220\t Score = -5531.5833333332275\n",
      "Episode: Steps 221\t Score = -5556.49999999989\n",
      "Episode: Steps 222\t Score = -5581.416666666552\n",
      "Episode: Steps 223\t Score = -5606.333333333215\n",
      "Episode: Steps 224\t Score = -5631.249999999877\n",
      "Episode: Steps 225\t Score = -5656.16666666654\n",
      "Episode: Steps 226\t Score = -5681.083333333202\n",
      "Episode: Steps 227\t Score = -5705.9999999998645\n",
      "Episode: Steps 228\t Score = -5730.916666666527\n",
      "Episode: Steps 229\t Score = -5755.833333333189\n",
      "Episode: Steps 230\t Score = -5780.749999999852\n",
      "Episode: Steps 231\t Score = -5805.666666666514\n",
      "Episode: Steps 232\t Score = -5830.583333333177\n",
      "Episode: Steps 233\t Score = -5855.499999999839\n",
      "Episode: Steps 234\t Score = -5880.416666666501\n",
      "Episode: Steps 235\t Score = -5905.333333333164\n",
      "Episode: Steps 236\t Score = -5930.249999999826\n",
      "Episode: Steps 237\t Score = -5955.166666666489\n",
      "Episode: Steps 238\t Score = -5980.083333333151\n",
      "Episode: Steps 239\t Score = -6004.999999999814\n",
      "Episode: Steps 240\t Score = -6029.916666666476\n",
      "Episode: Steps 241\t Score = -6054.833333333138\n",
      "Episode: Steps 242\t Score = -6079.749999999801\n",
      "Episode: Steps 243\t Score = -6104.666666666463\n",
      "Episode: Steps 244\t Score = -6129.583333333126\n",
      "Episode: Steps 245\t Score = -6154.499999999788\n",
      "Episode: Steps 246\t Score = -6179.4166666664505\n",
      "Episode: Steps 247\t Score = -6204.333333333113\n",
      "Episode: Steps 248\t Score = -6229.249999999775\n",
      "Episode: Steps 249\t Score = -6254.166666666438\n",
      "Episode: Steps 250\t Score = -6279.0833333331\n",
      "Episode: Steps 251\t Score = -6303.999999999763\n",
      "Episode: Steps 252\t Score = -6328.916666666425\n",
      "Episode: Steps 253\t Score = -6353.8333333330875\n",
      "Episode: Steps 254\t Score = -6378.74999999975\n",
      "Episode: Steps 255\t Score = -6403.666666666412\n",
      "Episode: Steps 256\t Score = -6428.583333333075\n",
      "Episode: Steps 257\t Score = -6453.499999999737\n",
      "Episode: Steps 258\t Score = -6478.4166666664\n",
      "Episode: Steps 259\t Score = -6503.333333333062\n",
      "Episode: Steps 260\t Score = -6528.249999999724\n",
      "Episode: Steps 261\t Score = -6553.166666666387\n",
      "Episode: Steps 262\t Score = -6578.083333333049\n",
      "Episode: Steps 263\t Score = -6602.999999999712\n",
      "Episode: Steps 264\t Score = -6627.916666666374\n",
      "Episode: Steps 265\t Score = -6652.8333333330365\n",
      "Episode: Steps 266\t Score = -6677.749999999699\n",
      "Episode: Steps 267\t Score = -6702.666666666361\n",
      "Episode: Steps 268\t Score = -6727.583333333024\n",
      "Episode: Steps 269\t Score = -6752.499999999686\n",
      "Episode: Steps 270\t Score = -6777.416666666349\n",
      "Episode: Steps 271\t Score = -6802.333333333011\n",
      "Episode: Steps 272\t Score = -6827.2499999996735\n",
      "Episode: Steps 273\t Score = -6852.166666666336\n",
      "Episode: Steps 274\t Score = -6877.083333332998\n",
      "Episode: Steps 275\t Score = -6901.999999999661\n",
      "Episode: Steps 276\t Score = -6926.916666666323\n",
      "Episode: Steps 277\t Score = -6951.833333332986\n",
      "Episode: Steps 278\t Score = -6976.749999999648\n",
      "Episode: Steps 279\t Score = -7001.66666666631\n",
      "Episode: Steps 280\t Score = -7026.583333332973\n",
      "Episode: Steps 281\t Score = -7051.499999999635\n",
      "Episode: Steps 282\t Score = -7076.416666666298\n",
      "Episode: Steps 283\t Score = -7101.33333333296\n",
      "Episode: Steps 284\t Score = -7126.249999999623\n",
      "Episode: Steps 285\t Score = -7151.166666666285\n",
      "Episode: Steps 286\t Score = -7176.083333332947\n",
      "Episode: Steps 287\t Score = -7200.99999999961\n",
      "Episode: Steps 288\t Score = -7225.916666666272\n",
      "Episode: Steps 289\t Score = -7250.833333332935\n",
      "Episode: Steps 290\t Score = -7275.749999999597\n",
      "Episode: Steps 291\t Score = -7300.6666666662595\n",
      "Episode: Steps 292\t Score = -7325.583333332922\n",
      "Episode: Steps 293\t Score = -7350.499999999584\n",
      "Episode: Steps 294\t Score = -7375.416666666247\n",
      "Episode: Steps 295\t Score = -7400.333333332909\n",
      "Episode: Steps 296\t Score = -7425.249999999572\n",
      "Episode: Steps 297\t Score = -7450.166666666234\n",
      "Episode: Steps 298\t Score = -7475.0833333328965\n",
      "Episode: Steps 299\t Score = -7499.999999999559\n",
      "Episode: Steps 300\t Score = -7524.916666666221\n",
      "Episode: Steps 301\t Score = -7549.833333332884\n",
      "Episode: Steps 302\t Score = -7574.749999999546\n",
      "Episode: Steps 303\t Score = -7599.666666666209\n",
      "Episode: Steps 304\t Score = -7624.583333332871\n",
      "Episode: Steps 305\t Score = -7649.499999999533\n",
      "Episode: Steps 306\t Score = -7674.416666666196\n",
      "Episode: Steps 307\t Score = -7699.333333332858\n",
      "Episode: Steps 308\t Score = -7724.249999999521\n",
      "Episode: Steps 309\t Score = -7749.166666666183\n",
      "Episode: Steps 310\t Score = -7774.0833333328455\n",
      "Episode: Steps 311\t Score = -7798.999999999508\n",
      "Episode: Steps 312\t Score = -7823.91666666617\n",
      "Episode: Steps 313\t Score = -7848.833333332833\n",
      "Episode: Steps 314\t Score = -7873.749999999495\n",
      "Episode: Steps 315\t Score = -7898.666666666158\n",
      "Episode: Steps 316\t Score = -7923.58333333282\n",
      "Episode: Steps 317\t Score = -7948.4999999994825\n",
      "Episode: Steps 318\t Score = -7973.416666666145\n",
      "Episode: Steps 319\t Score = -7998.333333332807\n",
      "Episode: Steps 320\t Score = -8023.24999999947\n",
      "Episode: Steps 321\t Score = -8048.166666666132\n",
      "Episode: Steps 322\t Score = -8073.083333332795\n",
      "Episode: Steps 323\t Score = -8097.999999999457\n",
      "Episode: Steps 324\t Score = -8122.916666666119\n",
      "Episode: Steps 325\t Score = -8147.833333332782\n",
      "Episode: Steps 326\t Score = -8172.749999999444\n",
      "Episode: Steps 327\t Score = -8197.66666666611\n",
      "Episode: Steps 328\t Score = -8222.583333332785\n",
      "Episode: Steps 329\t Score = -8247.49999999946\n",
      "Episode: Steps 330\t Score = -8272.416666666135\n",
      "Episode: Steps 331\t Score = -8297.33333333281\n",
      "Episode: Steps 332\t Score = -8322.249999999485\n",
      "Episode: Steps 333\t Score = -8347.16666666616\n",
      "Episode: Steps 334\t Score = -8372.083333332836\n",
      "Episode: Steps 335\t Score = -8396.99999999951\n",
      "Episode: Steps 336\t Score = -8421.916666666186\n",
      "Episode: Steps 337\t Score = -8446.833333332861\n",
      "Episode: Steps 338\t Score = -8471.749999999536\n",
      "Episode: Steps 339\t Score = -8496.666666666211\n",
      "Episode: Steps 340\t Score = -8521.583333332886\n",
      "Episode: Steps 341\t Score = -8546.499999999562\n",
      "Episode: Steps 342\t Score = -8571.416666666237\n",
      "Episode: Steps 343\t Score = -8596.333333332912\n",
      "Episode: Steps 344\t Score = -8621.249999999587\n",
      "Episode: Steps 345\t Score = -8646.166666666262\n",
      "Episode: Steps 346\t Score = -8671.083333332937\n",
      "Episode: Steps 347\t Score = -8695.999999999613\n",
      "Episode: Steps 348\t Score = -8720.916666666288\n",
      "Episode: Steps 349\t Score = -8745.833333332963\n",
      "Episode: Steps 350\t Score = -8770.749999999638\n",
      "Episode: Steps 351\t Score = -8795.666666666313\n",
      "Episode: Steps 352\t Score = -8820.583333332988\n",
      "Episode: Steps 353\t Score = -8845.499999999663\n"
     ]
    },
    {
     "name": "stdout",
     "output_type": "stream",
     "text": [
      "Episode: Steps 354\t Score = -8870.416666666339\n",
      "Episode: Steps 355\t Score = -8895.333333333014\n",
      "Episode: Steps 356\t Score = -8920.249999999689\n",
      "Episode: Steps 357\t Score = -8945.166666666364\n",
      "Episode: Steps 358\t Score = -8970.08333333304\n",
      "Episode: Steps 359\t Score = -8994.999999999714\n",
      "Episode: Steps 360\t Score = -9019.91666666639\n",
      "Episode: Steps 361\t Score = -9044.833333333065\n",
      "Episode: Steps 362\t Score = -9069.74999999974\n",
      "Episode: Steps 363\t Score = -9094.666666666415\n",
      "Episode: Steps 364\t Score = -9119.58333333309\n",
      "Episode: Steps 365\t Score = -9144.499999999765\n",
      "Episode: Steps 366\t Score = -9169.41666666644\n",
      "Episode: Steps 367\t Score = -9194.333333333116\n",
      "Episode: Steps 368\t Score = -9219.24999999979\n",
      "Episode: Steps 369\t Score = -9244.166666666466\n",
      "Episode: Steps 370\t Score = -9269.083333333141\n",
      "Episode: Steps 371\t Score = -9293.999999999816\n",
      "Episode: Steps 372\t Score = -9318.916666666491\n",
      "Episode: Steps 373\t Score = -9343.833333333167\n",
      "Episode: Steps 374\t Score = -9368.749999999842\n",
      "Episode: Steps 375\t Score = -9393.666666666517\n",
      "Episode: Steps 376\t Score = -9418.583333333192\n",
      "Episode: Steps 377\t Score = -9443.499999999867\n",
      "Episode: Steps 378\t Score = -9468.416666666542\n",
      "Episode: Steps 379\t Score = -9493.333333333218\n",
      "Episode: Steps 380\t Score = -9518.249999999893\n",
      "Episode: Steps 381\t Score = -9543.166666666568\n",
      "Episode: Steps 382\t Score = -9568.083333333243\n",
      "Episode: Steps 383\t Score = -9592.999999999918\n",
      "Episode: Steps 384\t Score = -9617.916666666593\n",
      "Episode: Steps 385\t Score = -9642.833333333268\n",
      "Episode: Steps 386\t Score = -9667.749999999944\n",
      "Episode: Steps 387\t Score = -9692.666666666619\n",
      "Episode: Steps 388\t Score = -9717.583333333294\n",
      "Episode: Steps 389\t Score = -9742.499999999969\n",
      "Episode: Steps 390\t Score = -9767.416666666644\n",
      "Episode: Steps 391\t Score = -9792.33333333332\n",
      "Episode: Steps 392\t Score = -9817.249999999995\n",
      "Episode: Steps 393\t Score = -9842.16666666667\n",
      "Episode: Steps 394\t Score = -9867.083333333345\n",
      "Episode: Steps 395\t Score = -9892.00000000002\n",
      "Episode: Steps 396\t Score = -9916.916666666695\n",
      "Episode: Steps 397\t Score = -9941.83333333337\n",
      "Episode: Steps 398\t Score = -9966.750000000045\n",
      "Episode: Steps 399\t Score = -9991.66666666672\n",
      "Episode: Steps 400\t Score = -10016.583333333396\n",
      "Episode: Steps 401\t Score = -10041.500000000071\n",
      "Episode: Steps 402\t Score = -10066.416666666746\n",
      "Episode: Steps 403\t Score = -10091.333333333421\n",
      "Episode: Steps 404\t Score = -10116.250000000096\n",
      "Episode: Steps 405\t Score = -10141.166666666772\n",
      "Episode: Steps 406\t Score = -10166.083333333447\n",
      "Episode: Steps 407\t Score = -10191.000000000122\n",
      "Episode: Steps 408\t Score = -10215.916666666797\n",
      "Episode: Steps 409\t Score = -10240.833333333472\n",
      "Episode: Steps 410\t Score = -10265.750000000147\n",
      "Episode: Steps 411\t Score = -10290.666666666822\n",
      "Episode: Steps 412\t Score = -10315.583333333498\n",
      "Episode: Steps 413\t Score = -10340.500000000173\n",
      "Episode: Steps 414\t Score = -10365.416666666848\n",
      "Episode: Steps 415\t Score = -10390.333333333523\n",
      "Episode: Steps 416\t Score = -10415.250000000198\n",
      "Episode: Steps 417\t Score = -10440.166666666873\n",
      "Episode: Steps 418\t Score = -10465.083333333549\n",
      "Episode: Steps 419\t Score = -10490.000000000224\n",
      "Episode: Steps 420\t Score = -10514.916666666899\n",
      "Episode: Steps 421\t Score = -10539.833333333574\n",
      "Episode: Steps 422\t Score = -10564.75000000025\n",
      "Episode: Steps 423\t Score = -10589.666666666924\n",
      "Episode: Steps 424\t Score = -10614.5833333336\n",
      "Episode: Steps 425\t Score = -10639.500000000275\n",
      "Episode: Steps 426\t Score = -10664.41666666695\n",
      "Episode: Steps 427\t Score = -10689.333333333625\n",
      "Episode: Steps 428\t Score = -10714.2500000003\n",
      "Episode: Steps 429\t Score = -10739.166666666975\n",
      "Episode: Steps 430\t Score = -10764.08333333365\n",
      "Episode: Steps 431\t Score = -10789.000000000326\n",
      "Episode: Steps 432\t Score = -10813.916666667\n",
      "Episode: Steps 433\t Score = -10838.833333333676\n",
      "Episode: Steps 434\t Score = -10863.750000000351\n",
      "Episode: Steps 435\t Score = -10888.666666667026\n",
      "Episode: Steps 436\t Score = -10913.583333333701\n",
      "Episode: Steps 437\t Score = -10938.500000000377\n",
      "Episode: Steps 438\t Score = -10963.416666667052\n",
      "Episode: Steps 439\t Score = -10988.333333333727\n",
      "Episode: Steps 440\t Score = -11013.250000000402\n",
      "Episode: Steps 441\t Score = -11038.166666667077\n",
      "Episode: Steps 442\t Score = -11063.083333333752\n",
      "Episode: Steps 443\t Score = -11088.000000000427\n",
      "Episode: Steps 444\t Score = -11112.916666667103\n",
      "Episode: Steps 445\t Score = -11137.833333333778\n",
      "Episode: Steps 446\t Score = -11162.750000000453\n",
      "Episode: Steps 447\t Score = -11187.666666667128\n",
      "Episode: Steps 448\t Score = -11212.583333333803\n",
      "Episode: Steps 449\t Score = -11237.500000000478\n",
      "Episode: Steps 450\t Score = -11262.416666667154\n",
      "Episode: Steps 451\t Score = -11287.333333333829\n",
      "Episode: Steps 452\t Score = -11312.250000000504\n",
      "Episode: Steps 453\t Score = -11337.166666667179\n",
      "Episode: Steps 454\t Score = -11362.083333333854\n",
      "Episode: Steps 455\t Score = -11387.00000000053\n",
      "Episode: Steps 456\t Score = -11411.916666667204\n",
      "Episode: Steps 457\t Score = -11436.83333333388\n",
      "Episode: Steps 458\t Score = -11461.750000000555\n",
      "Episode: Steps 459\t Score = -11486.66666666723\n",
      "Episode: Steps 460\t Score = -11511.583333333905\n",
      "Episode: Steps 461\t Score = -11536.50000000058\n",
      "Episode: Steps 462\t Score = -11561.416666667255\n",
      "Episode: Steps 463\t Score = -11586.33333333393\n",
      "Episode: Steps 464\t Score = -11611.250000000606\n",
      "Episode: Steps 465\t Score = -11636.16666666728\n",
      "Episode: Steps 466\t Score = -11661.083333333956\n",
      "Episode: Steps 467\t Score = -11686.000000000631\n",
      "Episode: Steps 468\t Score = -11710.916666667306\n",
      "Episode: Steps 469\t Score = -11735.833333333981\n",
      "Episode: Steps 470\t Score = -11760.750000000657\n",
      "Episode: Steps 471\t Score = -11785.666666667332\n",
      "Episode: Steps 472\t Score = -11810.583333334007\n",
      "Episode: Steps 473\t Score = -11835.500000000682\n",
      "Episode: Steps 474\t Score = -11860.416666667357\n",
      "Episode: Steps 475\t Score = -11885.333333334032\n",
      "Episode: Steps 476\t Score = -11910.250000000708\n",
      "Episode: Steps 477\t Score = -11935.166666667383\n",
      "Episode: Steps 478\t Score = -11960.083333334058\n",
      "Episode: Steps 479\t Score = -11985.000000000733\n",
      "Episode: Steps 480\t Score = -12009.916666667408\n",
      "Episode: Steps 481\t Score = -12034.833333334083\n",
      "Episode: Steps 482\t Score = -12059.750000000759\n",
      "Episode: Steps 483\t Score = -12084.666666667434\n",
      "Episode: Steps 484\t Score = -12109.583333334109\n",
      "Episode: Steps 485\t Score = -12134.500000000784\n",
      "Episode: Steps 486\t Score = -12159.41666666746\n",
      "Episode: Steps 487\t Score = -12184.333333334134\n",
      "Episode: Steps 488\t Score = -12209.25000000081\n",
      "Episode: Steps 489\t Score = -12234.166666667485\n",
      "Episode: Steps 490\t Score = -12259.08333333416\n",
      "Episode: Steps 491\t Score = -12284.000000000835\n",
      "Episode: Steps 492\t Score = -12308.91666666751\n",
      "Episode: Steps 493\t Score = -12333.833333334185\n",
      "Episode: Steps 494\t Score = -12358.75000000086\n",
      "Episode: Steps 495\t Score = -12383.666666667536\n",
      "Episode: Steps 496\t Score = -12408.58333333421\n",
      "Episode: Steps 497\t Score = -12433.500000000886\n",
      "Episode: Steps 498\t Score = -12458.416666667561\n",
      "Episode: Steps 499\t Score = -12483.333333334236\n",
      "Episode: Steps 500\t Score = -12508.250000000911\n",
      "Episode: Steps 501\t Score = -12533.166666667586\n",
      "Episode: Steps 502\t Score = -12558.083333334262\n",
      "Episode: Steps 503\t Score = -12583.000000000937\n",
      "Episode: Steps 504\t Score = -12607.916666667612\n",
      "Episode: Steps 505\t Score = -12632.833333334287\n",
      "Episode: Steps 506\t Score = -12657.750000000962\n",
      "Episode: Steps 507\t Score = -12682.666666667637\n",
      "Episode: Steps 508\t Score = -12707.583333334313\n",
      "Episode: Steps 509\t Score = -12732.500000000988\n",
      "Episode: Steps 510\t Score = -12757.416666667663\n",
      "Episode: Steps 511\t Score = -12782.333333334338\n",
      "Episode: Steps 512\t Score = -12807.250000001013\n",
      "Episode: Steps 513\t Score = -12832.166666667688\n",
      "Episode: Steps 514\t Score = -12857.083333334363\n",
      "Episode: Steps 515\t Score = -12882.000000001039\n",
      "Episode: Steps 516\t Score = -12906.916666667714\n",
      "Episode: Steps 517\t Score = -12931.833333334389\n",
      "Episode: Steps 518\t Score = -12956.750000001064\n",
      "Episode: Steps 519\t Score = -12981.66666666774\n",
      "Episode: Steps 520\t Score = -13006.583333334414\n",
      "Episode: Steps 521\t Score = -13031.50000000109\n",
      "Episode: Steps 522\t Score = -13056.416666667765\n",
      "Episode: Steps 523\t Score = -13081.33333333444\n",
      "Episode: Steps 524\t Score = -13106.250000001115\n",
      "Episode: Steps 525\t Score = -13131.16666666779\n",
      "Episode: Steps 526\t Score = -13156.083333334465\n",
      "Episode: Steps 527\t Score = -13181.00000000114\n"
     ]
    },
    {
     "name": "stdout",
     "output_type": "stream",
     "text": [
      "Episode: Steps 528\t Score = -13205.916666667816\n",
      "Episode: Steps 529\t Score = -13230.83333333449\n",
      "Episode: Steps 530\t Score = -13255.750000001166\n",
      "Episode: Steps 531\t Score = -13280.666666667841\n",
      "Episode: Steps 532\t Score = -13305.583333334516\n",
      "Episode: Steps 533\t Score = -13330.500000001191\n",
      "Episode: Steps 534\t Score = -13355.416666667867\n",
      "Episode: Steps 535\t Score = -13380.333333334542\n",
      "Episode: Steps 536\t Score = -13405.250000001217\n",
      "Episode: Steps 537\t Score = -13430.166666667892\n",
      "Episode: Steps 538\t Score = -13455.083333334567\n",
      "Episode: Steps 539\t Score = -13480.000000001242\n",
      "Episode: Steps 540\t Score = -13504.916666667918\n",
      "Episode: Steps 541\t Score = -13529.833333334593\n",
      "Episode: Steps 542\t Score = -13554.750000001268\n",
      "Episode: Steps 543\t Score = -13579.666666667943\n",
      "Episode: Steps 544\t Score = -13604.583333334618\n",
      "Episode: Steps 545\t Score = -13629.500000001293\n",
      "Episode: Steps 546\t Score = -13654.416666667968\n",
      "Episode: Steps 547\t Score = -13679.333333334644\n",
      "Episode: Steps 548\t Score = -13704.250000001319\n",
      "Episode: Steps 549\t Score = -13729.166666667994\n",
      "Episode: Steps 550\t Score = -13754.083333334669\n",
      "Episode: Steps 551\t Score = -13779.000000001344\n",
      "Episode: Steps 552\t Score = -13803.91666666802\n",
      "Episode: Steps 553\t Score = -13828.833333334695\n",
      "Episode: Steps 554\t Score = -13853.75000000137\n",
      "Episode: Steps 555\t Score = -13878.666666668045\n",
      "Episode: Steps 556\t Score = -13903.58333333472\n",
      "Episode: Steps 557\t Score = -13928.500000001395\n",
      "Episode: Steps 558\t Score = -13953.41666666807\n",
      "Episode: Steps 559\t Score = -13978.333333334745\n",
      "Episode: Steps 560\t Score = -14003.25000000142\n",
      "Episode: Steps 561\t Score = -14028.166666668096\n",
      "Episode: Steps 562\t Score = -14053.083333334771\n",
      "Episode: Steps 563\t Score = -14078.000000001446\n",
      "Episode: Steps 564\t Score = -14102.916666668121\n",
      "Episode: Steps 565\t Score = -14127.833333334796\n",
      "Episode: Steps 566\t Score = -14152.750000001472\n",
      "Episode: Steps 567\t Score = -14177.666666668147\n",
      "Episode: Steps 568\t Score = -14202.583333334822\n",
      "Episode: Steps 569\t Score = -14227.500000001497\n",
      "Episode: Steps 570\t Score = -14252.416666668172\n",
      "Episode: Steps 571\t Score = -14277.333333334847\n",
      "Episode: Steps 572\t Score = -14302.250000001522\n",
      "Episode: Steps 573\t Score = -14327.166666668198\n",
      "Episode: Steps 574\t Score = -14352.083333334873\n",
      "Episode: Steps 575\t Score = -14377.000000001548\n",
      "Episode: Steps 576\t Score = -14401.916666668223\n",
      "Episode: Steps 577\t Score = -14426.833333334898\n",
      "Episode: Steps 578\t Score = -14451.750000001573\n",
      "Episode: Steps 579\t Score = -14476.666666668249\n",
      "Episode: Steps 580\t Score = -14501.583333334924\n",
      "Episode: Steps 581\t Score = -14526.500000001599\n",
      "Episode: Steps 582\t Score = -14551.416666668274\n",
      "Episode: Steps 583\t Score = -14576.33333333495\n",
      "Episode: Steps 584\t Score = -14601.250000001624\n",
      "Episode: Steps 585\t Score = -14626.1666666683\n",
      "Episode: Steps 586\t Score = -14651.083333334975\n",
      "Episode: Steps 587\t Score = -14676.00000000165\n",
      "Episode: Steps 588\t Score = -14700.916666668325\n",
      "Episode: Steps 589\t Score = -14725.833333335\n",
      "Episode: Steps 590\t Score = -14750.750000001675\n",
      "Episode: Steps 591\t Score = -14775.66666666835\n",
      "Episode: Steps 592\t Score = -14800.583333335026\n",
      "Episode: Steps 593\t Score = -14825.5000000017\n",
      "Episode: Steps 594\t Score = -14850.416666668376\n",
      "Episode: Steps 595\t Score = -14875.333333335051\n",
      "Episode: Steps 596\t Score = -14900.250000001726\n",
      "Episode: Steps 597\t Score = -14925.166666668401\n",
      "Episode: Steps 598\t Score = -14950.083333335077\n",
      "Episode: Steps 599\t Score = -14975.000000001752\n",
      "Episode: Steps 600\t Score = -14999.916666668427\n",
      "Episode: Steps 601\t Score = -15024.833333335102\n",
      "Episode: Steps 602\t Score = -15049.750000001777\n",
      "Episode: Steps 603\t Score = -15074.666666668452\n",
      "Episode: Steps 604\t Score = -15099.583333335127\n",
      "Episode: Steps 605\t Score = -15124.500000001803\n",
      "Episode: Steps 606\t Score = -15149.416666668478\n",
      "Episode: Steps 607\t Score = -15174.333333335153\n",
      "Episode: Steps 608\t Score = -15199.250000001828\n",
      "Episode: Steps 609\t Score = -15224.166666668503\n",
      "Episode: Steps 610\t Score = -15249.083333335178\n",
      "Episode: Steps 611\t Score = -15274.000000001854\n",
      "Episode: Steps 612\t Score = -15298.916666668529\n",
      "Episode: Steps 613\t Score = -15323.833333335204\n",
      "Episode: Steps 614\t Score = -15348.750000001879\n",
      "Episode: Steps 615\t Score = -15373.666666668554\n",
      "Episode: Steps 616\t Score = -15398.58333333523\n",
      "Episode: Steps 617\t Score = -15423.500000001904\n",
      "Episode: Steps 618\t Score = -15448.41666666858\n",
      "Episode: Steps 619\t Score = -15473.333333335255\n",
      "Episode: Steps 620\t Score = -15498.25000000193\n",
      "Episode: Steps 621\t Score = -15523.166666668605\n",
      "Episode: Steps 622\t Score = -15548.08333333528\n",
      "Episode: Steps 623\t Score = -15573.000000001955\n",
      "Episode: Steps 624\t Score = -15597.91666666863\n",
      "Episode: Steps 625\t Score = -15622.833333335306\n",
      "Episode: Steps 626\t Score = -15647.75000000198\n",
      "Episode: Steps 627\t Score = -15672.666666668656\n",
      "Episode: Steps 628\t Score = -15697.583333335331\n",
      "Episode: Steps 629\t Score = -15722.500000002006\n",
      "Episode: Steps 630\t Score = -15747.416666668682\n",
      "Episode: Steps 631\t Score = -15772.333333335357\n",
      "Episode: Steps 632\t Score = -15797.250000002032\n",
      "Episode: Steps 633\t Score = -15822.166666668707\n",
      "Episode: Steps 634\t Score = -15847.083333335382\n",
      "Episode: Steps 635\t Score = -15872.000000002057\n",
      "Episode: Steps 636\t Score = -15896.916666668732\n",
      "Episode: Steps 637\t Score = -15921.833333335408\n",
      "Episode: Steps 638\t Score = -15946.750000002083\n",
      "Episode: Steps 639\t Score = -15971.666666668758\n",
      "Episode: Steps 640\t Score = -15996.583333335433\n",
      "Episode: Steps 641\t Score = -16021.500000002108\n",
      "Episode: Steps 642\t Score = -16046.416666668783\n",
      "Episode: Steps 643\t Score = -16071.333333335459\n",
      "Episode: Steps 644\t Score = -16096.250000002134\n",
      "Episode: Steps 645\t Score = -16121.166666668809\n",
      "Episode: Steps 646\t Score = -16146.083333335484\n",
      "Episode: Steps 647\t Score = -16171.00000000216\n",
      "Episode: Steps 648\t Score = -16195.916666668834\n",
      "Episode: Steps 649\t Score = -16220.83333333551\n",
      "Episode: Steps 650\t Score = -16245.750000002185\n",
      "Episode: Steps 651\t Score = -16270.66666666886\n",
      "Episode: Steps 652\t Score = -16295.583333335535\n",
      "Episode: Steps 653\t Score = -16320.50000000221\n",
      "Episode: Steps 654\t Score = -16345.416666668885\n",
      "Episode: Steps 655\t Score = -16370.33333333556\n",
      "Episode: Steps 656\t Score = -16395.250000002223\n",
      "Episode: Steps 657\t Score = -16420.166666668872\n",
      "Episode: Steps 658\t Score = -16445.083333335522\n",
      "Episode: Steps 659\t Score = -16470.000000002172\n",
      "Episode: Steps 660\t Score = -16494.91666666882\n",
      "Episode: Steps 661\t Score = -16519.83333333547\n",
      "Episode: Steps 662\t Score = -16544.75000000212\n",
      "Episode: Steps 663\t Score = -16569.66666666877\n",
      "Episode: Steps 664\t Score = -16594.58333333542\n",
      "Episode: Steps 665\t Score = -16619.50000000207\n",
      "Episode: Steps 666\t Score = -16644.41666666872\n",
      "Episode: Steps 667\t Score = -16669.33333333537\n",
      "Episode: Steps 668\t Score = -16694.25000000202\n",
      "Episode: Steps 669\t Score = -16719.16666666867\n",
      "Episode: Steps 670\t Score = -16744.08333333532\n",
      "Episode: Steps 671\t Score = -16769.000000001968\n",
      "Episode: Steps 672\t Score = -16793.916666668618\n",
      "Episode: Steps 673\t Score = -16818.833333335268\n",
      "Episode: Steps 674\t Score = -16843.750000001917\n",
      "Episode: Steps 675\t Score = -16868.666666668567\n",
      "Episode: Steps 676\t Score = -16893.583333335217\n",
      "Episode: Steps 677\t Score = -16918.500000001866\n",
      "Episode: Steps 678\t Score = -16943.416666668516\n",
      "Episode: Steps 679\t Score = -16968.333333335166\n",
      "Episode: Steps 680\t Score = -16993.250000001815\n",
      "Episode: Steps 681\t Score = -17018.166666668465\n",
      "Episode: Steps 682\t Score = -17043.083333335115\n",
      "Episode: Steps 683\t Score = -17068.000000001764\n",
      "Episode: Steps 684\t Score = -17092.916666668414\n",
      "Episode: Steps 685\t Score = -17117.833333335064\n",
      "Episode: Steps 686\t Score = -17142.750000001713\n",
      "Episode: Steps 687\t Score = -17167.666666668363\n",
      "Episode: Steps 688\t Score = -17192.583333335013\n",
      "Episode: Steps 689\t Score = -17217.500000001663\n",
      "Episode: Steps 690\t Score = -17242.416666668312\n",
      "Episode: Steps 691\t Score = -17267.333333334962\n",
      "Episode: Steps 692\t Score = -17292.25000000161\n",
      "Episode: Steps 693\t Score = -17317.16666666826\n",
      "Episode: Steps 694\t Score = -17342.08333333491\n",
      "Episode: Steps 695\t Score = -17367.00000000156\n",
      "Episode: Steps 696\t Score = -17391.91666666821\n",
      "Episode: Steps 697\t Score = -17416.83333333486\n",
      "Episode: Steps 698\t Score = -17441.75000000151\n",
      "Episode: Steps 699\t Score = -17466.66666666816\n",
      "Episode: Steps 700\t Score = -17491.58333333481\n",
      "Episode: Steps 701\t Score = -17516.50000000146\n",
      "Episode: Steps 702\t Score = -17541.41666666811\n",
      "Episode: Steps 703\t Score = -17566.33333333476\n",
      "Episode: Steps 704\t Score = -17591.250000001408\n",
      "Episode: Steps 705\t Score = -17616.166666668058\n"
     ]
    },
    {
     "name": "stdout",
     "output_type": "stream",
     "text": [
      "Episode: Steps 706\t Score = -17641.083333334707\n",
      "Episode: Steps 707\t Score = -17666.000000001357\n",
      "Episode: Steps 708\t Score = -17690.916666668007\n",
      "Episode: Steps 709\t Score = -17715.833333334656\n",
      "Episode: Steps 710\t Score = -17740.750000001306\n",
      "Episode: Steps 711\t Score = -17765.666666667956\n",
      "Episode: Steps 712\t Score = -17790.583333334605\n",
      "Episode: Steps 713\t Score = -17815.500000001255\n",
      "Episode: Steps 714\t Score = -17840.416666667905\n",
      "Episode: Steps 715\t Score = -17865.333333334554\n",
      "Episode: Steps 716\t Score = -17890.250000001204\n",
      "Episode: Steps 717\t Score = -17915.166666667854\n",
      "Episode: Steps 718\t Score = -17940.083333334504\n",
      "Episode: Steps 719\t Score = -17965.000000001153\n",
      "Episode: Steps 720\t Score = -17989.916666667803\n",
      "Episode: Steps 721\t Score = -18014.833333334453\n",
      "Episode: Steps 722\t Score = -18039.750000001102\n",
      "Episode: Steps 723\t Score = -18064.666666667752\n",
      "Episode: Steps 724\t Score = -18089.5833333344\n",
      "Episode: Steps 725\t Score = -18114.50000000105\n",
      "Episode: Steps 726\t Score = -18139.4166666677\n",
      "Episode: Steps 727\t Score = -18164.33333333435\n",
      "Episode: Steps 728\t Score = -18189.250000001\n",
      "Episode: Steps 729\t Score = -18214.16666666765\n",
      "Episode: Steps 730\t Score = -18239.0833333343\n",
      "Episode: Steps 731\t Score = -18264.00000000095\n",
      "Episode: Steps 732\t Score = -18288.9166666676\n",
      "Episode: Steps 733\t Score = -18313.83333333425\n",
      "Episode: Steps 734\t Score = -18338.7500000009\n",
      "Episode: Steps 735\t Score = -18363.66666666755\n",
      "Episode: Steps 736\t Score = -18388.583333334198\n",
      "Episode: Steps 737\t Score = -18413.500000000848\n",
      "Episode: Steps 738\t Score = -18438.416666667497\n",
      "Episode: Steps 739\t Score = -18463.333333334147\n",
      "Episode: Steps 740\t Score = -18488.250000000797\n",
      "Episode: Steps 741\t Score = -18513.166666667446\n",
      "Episode: Steps 742\t Score = -18538.083333334096\n",
      "Episode: Steps 743\t Score = -18563.000000000746\n",
      "Episode: Steps 744\t Score = -18587.916666667395\n",
      "Episode: Steps 745\t Score = -18612.833333334045\n",
      "Episode: Steps 746\t Score = -18637.750000000695\n",
      "Episode: Steps 747\t Score = -18662.666666667345\n",
      "Episode: Steps 748\t Score = -18687.583333333994\n",
      "Episode: Steps 749\t Score = -18712.500000000644\n",
      "Episode: Steps 750\t Score = -18737.416666667294\n",
      "Episode: Steps 751\t Score = -18762.333333333943\n",
      "Episode: Steps 752\t Score = -18787.250000000593\n",
      "Episode: Steps 753\t Score = -18812.166666667243\n",
      "Episode: Steps 754\t Score = -18837.083333333892\n",
      "Episode: Steps 755\t Score = -18862.000000000542\n",
      "Episode: Steps 756\t Score = -18886.91666666719\n",
      "Episode: Steps 757\t Score = -18911.83333333384\n",
      "Episode: Steps 758\t Score = -18936.75000000049\n",
      "Episode: Steps 759\t Score = -18961.66666666714\n",
      "Episode: Steps 760\t Score = -18986.58333333379\n",
      "Episode: Steps 761\t Score = -19011.50000000044\n",
      "Episode: Steps 762\t Score = -19036.41666666709\n",
      "Episode: Steps 763\t Score = -19061.33333333374\n",
      "Episode: Steps 764\t Score = -19086.25000000039\n",
      "Episode: Steps 765\t Score = -19111.16666666704\n",
      "Episode: Steps 766\t Score = -19136.08333333369\n",
      "Episode: Steps 767\t Score = -19161.00000000034\n",
      "Episode: Steps 768\t Score = -19185.916666666988\n",
      "Episode: Steps 769\t Score = -19210.833333333638\n",
      "Episode: Steps 770\t Score = -19235.750000000287\n",
      "Episode: Steps 771\t Score = -19260.666666666937\n",
      "Episode: Steps 772\t Score = -19285.583333333587\n",
      "Episode: Steps 773\t Score = -19310.500000000236\n",
      "Episode: Steps 774\t Score = -19335.416666666886\n",
      "Episode: Steps 775\t Score = -19360.333333333536\n",
      "Episode: Steps 776\t Score = -19385.250000000186\n",
      "Episode: Steps 777\t Score = -19410.166666666835\n",
      "Episode: Steps 778\t Score = -19435.083333333485\n",
      "Episode: Steps 779\t Score = -19460.000000000135\n",
      "Episode: Steps 780\t Score = -19484.916666666784\n",
      "Episode: Steps 781\t Score = -19509.833333333434\n",
      "Episode: Steps 782\t Score = -19534.750000000084\n",
      "Episode: Steps 783\t Score = -19559.666666666733\n",
      "Episode: Steps 784\t Score = -19584.583333333383\n",
      "Episode: Steps 785\t Score = -19609.500000000033\n",
      "Episode: Steps 786\t Score = -19634.416666666682\n",
      "Episode: Steps 787\t Score = -19659.333333333332\n",
      "Episode: Steps 788\t Score = -19684.24999999998\n",
      "Episode: Steps 789\t Score = -19709.16666666663\n",
      "Episode: Steps 790\t Score = -19734.08333333328\n",
      "Episode: Steps 791\t Score = -19758.99999999993\n",
      "Episode: Steps 792\t Score = -19783.91666666658\n",
      "Episode: Steps 793\t Score = -19808.83333333323\n",
      "Episode: Steps 794\t Score = -19833.74999999988\n",
      "Episode: Steps 795\t Score = -19858.66666666653\n",
      "Episode: Steps 796\t Score = -19883.58333333318\n",
      "Episode: Steps 797\t Score = -19908.49999999983\n",
      "Episode: Steps 798\t Score = -19933.41666666648\n",
      "Episode: Steps 799\t Score = -19958.33333333313\n",
      "Episode: Steps 800\t Score = -19983.249999999778\n",
      "Episode: Steps 801\t Score = -20008.166666666428\n",
      "Episode: Steps 802\t Score = -20033.083333333077\n",
      "Episode: Steps 803\t Score = -20057.999999999727\n",
      "Episode: Steps 804\t Score = -20082.916666666377\n",
      "Episode: Steps 805\t Score = -20107.833333333027\n",
      "Episode: Steps 806\t Score = -20132.749999999676\n",
      "Episode: Steps 807\t Score = -20157.666666666326\n",
      "Episode: Steps 808\t Score = -20182.583333332976\n",
      "Episode: Steps 809\t Score = -20207.499999999625\n",
      "Episode: Steps 810\t Score = -20232.416666666275\n",
      "Episode: Steps 811\t Score = -20257.333333332925\n",
      "Episode: Steps 812\t Score = -20282.249999999574\n",
      "Episode: Steps 813\t Score = -20307.166666666224\n",
      "Episode: Steps 814\t Score = -20332.083333332874\n",
      "Episode: Steps 815\t Score = -20356.999999999523\n",
      "Episode: Steps 816\t Score = -20381.916666666173\n",
      "Episode: Steps 817\t Score = -20406.833333332823\n",
      "Episode: Steps 818\t Score = -20431.749999999472\n",
      "Episode: Steps 819\t Score = -20456.666666666122\n",
      "Episode: Steps 820\t Score = -20481.583333332772\n",
      "Episode: Steps 821\t Score = -20506.49999999942\n",
      "Episode: Steps 822\t Score = -20531.41666666607\n",
      "Episode: Steps 823\t Score = -20556.33333333272\n",
      "Episode: Steps 824\t Score = -20581.24999999937\n",
      "Episode: Steps 825\t Score = -20606.16666666602\n",
      "Episode: Steps 826\t Score = -20631.08333333267\n",
      "Episode: Steps 827\t Score = -20655.99999999932\n",
      "Episode: Steps 828\t Score = -20680.91666666597\n",
      "Episode: Steps 829\t Score = -20705.83333333262\n",
      "Episode: Steps 830\t Score = -20730.74999999927\n",
      "Episode: Steps 831\t Score = -20755.66666666592\n",
      "Episode: Steps 832\t Score = -20780.583333332568\n",
      "Episode: Steps 833\t Score = -20805.499999999218\n",
      "Episode: Steps 834\t Score = -20830.416666665868\n",
      "Episode: Steps 835\t Score = -20855.333333332517\n",
      "Episode: Steps 836\t Score = -20880.249999999167\n",
      "Episode: Steps 837\t Score = -20905.166666665817\n",
      "Episode: Steps 838\t Score = -20930.083333332466\n",
      "Episode: Steps 839\t Score = -20954.999999999116\n",
      "Episode: Steps 840\t Score = -20979.916666665766\n",
      "Episode: Steps 841\t Score = -21004.833333332415\n",
      "Episode: Steps 842\t Score = -21029.749999999065\n",
      "Episode: Steps 843\t Score = -21054.666666665715\n",
      "Episode: Steps 844\t Score = -21079.583333332364\n",
      "Episode: Steps 845\t Score = -21104.499999999014\n",
      "Episode: Steps 846\t Score = -21129.416666665664\n",
      "Episode: Steps 847\t Score = -21154.333333332313\n",
      "Episode: Steps 848\t Score = -21179.249999998963\n",
      "Episode: Steps 849\t Score = -21204.166666665613\n",
      "Episode: Steps 850\t Score = -21229.083333332263\n",
      "Episode: Steps 851\t Score = -21253.999999998912\n",
      "Episode: Steps 852\t Score = -21278.916666665562\n",
      "Episode: Steps 853\t Score = -21303.83333333221\n",
      "Episode: Steps 854\t Score = -21328.74999999886\n",
      "Episode: Steps 855\t Score = -21353.66666666551\n",
      "Episode: Steps 856\t Score = -21378.58333333216\n",
      "Episode: Steps 857\t Score = -21403.49999999881\n",
      "Episode: Steps 858\t Score = -21428.41666666546\n",
      "Episode: Steps 859\t Score = -21453.33333333211\n",
      "Episode: Steps 860\t Score = -21478.24999999876\n",
      "Episode: Steps 861\t Score = -21503.16666666541\n",
      "Episode: Steps 862\t Score = -21528.08333333206\n",
      "Episode: Steps 863\t Score = -21552.99999999871\n",
      "Episode: Steps 864\t Score = -21577.91666666536\n",
      "Episode: Steps 865\t Score = -21602.833333332008\n",
      "Episode: Steps 866\t Score = -21627.749999998658\n",
      "Episode: Steps 867\t Score = -21652.666666665307\n",
      "Episode: Steps 868\t Score = -21677.583333331957\n",
      "Episode: Steps 869\t Score = -21702.499999998607\n",
      "Episode: Steps 870\t Score = -21727.416666665256\n",
      "Episode: Steps 871\t Score = -21752.333333331906\n",
      "Episode: Steps 872\t Score = -21777.249999998556\n",
      "Episode: Steps 873\t Score = -21802.166666665205\n",
      "Episode: Steps 874\t Score = -21827.083333331855\n",
      "Episode: Steps 875\t Score = -21851.999999998505\n",
      "Episode: Steps 876\t Score = -21876.916666665154\n",
      "Episode: Steps 877\t Score = -21901.833333331804\n",
      "Episode: Steps 878\t Score = -21926.749999998454\n",
      "Episode: Steps 879\t Score = -21951.666666665104\n"
     ]
    },
    {
     "name": "stdout",
     "output_type": "stream",
     "text": [
      "Episode: Steps 880\t Score = -21976.583333331753\n",
      "Episode: Steps 881\t Score = -22001.499999998403\n",
      "Episode: Steps 882\t Score = -22026.416666665053\n",
      "Episode: Steps 883\t Score = -22051.333333331702\n",
      "Episode: Steps 884\t Score = -22076.249999998352\n",
      "Episode: Steps 885\t Score = -22101.166666665\n",
      "Episode: Steps 886\t Score = -22126.08333333165\n",
      "Episode: Steps 887\t Score = -22150.9999999983\n",
      "Episode: Steps 888\t Score = -22175.91666666495\n",
      "Episode: Steps 889\t Score = -22200.8333333316\n",
      "Episode: Steps 890\t Score = -22225.74999999825\n",
      "Episode: Steps 891\t Score = -22250.6666666649\n",
      "Episode: Steps 892\t Score = -22275.58333333155\n",
      "Episode: Steps 893\t Score = -22300.4999999982\n",
      "Episode: Steps 894\t Score = -22325.41666666485\n",
      "Episode: Steps 895\t Score = -22350.3333333315\n",
      "Episode: Steps 896\t Score = -22375.24999999815\n",
      "Episode: Steps 897\t Score = -22400.166666664798\n",
      "Episode: Steps 898\t Score = -22425.083333331448\n",
      "Episode: Steps 899\t Score = -22449.999999998097\n",
      "Episode: Steps 900\t Score = -22474.916666664747\n",
      "Episode: Steps 901\t Score = -22499.833333331397\n",
      "Episode: Steps 902\t Score = -22524.749999998046\n",
      "Episode: Steps 903\t Score = -22549.666666664696\n",
      "Episode: Steps 904\t Score = -22574.583333331346\n",
      "Episode: Steps 905\t Score = -22599.499999997995\n",
      "Episode: Steps 906\t Score = -22624.416666664645\n",
      "Episode: Steps 907\t Score = -22649.333333331295\n",
      "Episode: Steps 908\t Score = -22674.249999997945\n",
      "Episode: Steps 909\t Score = -22699.166666664594\n",
      "Episode: Steps 910\t Score = -22724.083333331244\n",
      "Episode: Steps 911\t Score = -22748.999999997894\n",
      "Episode: Steps 912\t Score = -22773.916666664543\n",
      "Episode: Steps 913\t Score = -22798.833333331193\n",
      "Episode: Steps 914\t Score = -22823.749999997843\n",
      "Episode: Steps 915\t Score = -22848.666666664492\n",
      "Episode: Steps 916\t Score = -22873.583333331142\n",
      "Episode: Steps 917\t Score = -22898.49999999779\n",
      "Episode: Steps 918\t Score = -22923.41666666444\n",
      "Episode: Steps 919\t Score = -22948.33333333109\n",
      "Episode: Steps 920\t Score = -22973.24999999774\n",
      "Episode: Steps 921\t Score = -22998.16666666439\n",
      "Episode: Steps 922\t Score = -23023.08333333104\n",
      "Episode: Steps 923\t Score = -23047.99999999769\n",
      "Episode: Steps 924\t Score = -23072.91666666434\n",
      "Episode: Steps 925\t Score = -23097.83333333099\n",
      "Episode: Steps 926\t Score = -23122.74999999764\n",
      "Episode: Steps 927\t Score = -23147.66666666429\n",
      "Episode: Steps 928\t Score = -23172.58333333094\n",
      "Episode: Steps 929\t Score = -23197.499999997588\n",
      "Episode: Steps 930\t Score = -23222.416666664238\n",
      "Episode: Steps 931\t Score = -23247.333333330887\n",
      "Episode: Steps 932\t Score = -23272.249999997537\n",
      "Episode: Steps 933\t Score = -23297.166666664187\n",
      "Episode: Steps 934\t Score = -23322.083333330836\n",
      "Episode: Steps 935\t Score = -23346.999999997486\n",
      "Episode: Steps 936\t Score = -23371.916666664136\n",
      "Episode: Steps 937\t Score = -23396.833333330786\n",
      "Episode: Steps 938\t Score = -23421.749999997435\n",
      "Episode: Steps 939\t Score = -23446.666666664085\n",
      "Episode: Steps 940\t Score = -23471.583333330735\n",
      "Episode: Steps 941\t Score = -23496.499999997384\n",
      "Episode: Steps 942\t Score = -23521.416666664034\n",
      "Episode: Steps 943\t Score = -23546.333333330684\n",
      "Episode: Steps 944\t Score = -23571.249999997333\n",
      "Episode: Steps 945\t Score = -23596.166666663983\n",
      "Episode: Steps 946\t Score = -23621.083333330633\n",
      "Episode: Steps 947\t Score = -23645.999999997282\n",
      "Episode: Steps 948\t Score = -23670.916666663932\n",
      "Episode: Steps 949\t Score = -23695.83333333058\n",
      "Episode: Steps 950\t Score = -23720.74999999723\n",
      "Episode: Steps 951\t Score = -23745.66666666388\n",
      "Episode: Steps 952\t Score = -23770.58333333053\n",
      "Episode: Steps 953\t Score = -23795.49999999718\n",
      "Episode: Steps 954\t Score = -23820.41666666383\n",
      "Episode: Steps 955\t Score = -23845.33333333048\n",
      "Episode: Steps 956\t Score = -23870.24999999713\n",
      "Episode: Steps 957\t Score = -23895.16666666378\n",
      "Episode: Steps 958\t Score = -23920.08333333043\n",
      "Episode: Steps 959\t Score = -23944.99999999708\n",
      "Episode: Steps 960\t Score = -23969.91666666373\n",
      "Episode: Steps 961\t Score = -23994.833333330378\n",
      "Episode: Steps 962\t Score = -24019.749999997028\n",
      "Episode: Steps 963\t Score = -24044.666666663677\n",
      "Episode: Steps 964\t Score = -24069.583333330327\n",
      "Episode: Steps 965\t Score = -24094.499999996977\n",
      "Episode: Steps 966\t Score = -24119.416666663627\n",
      "Episode: Steps 967\t Score = -24144.333333330276\n",
      "Episode: Steps 968\t Score = -24169.249999996926\n",
      "Episode: Steps 969\t Score = -24194.166666663576\n",
      "Episode: Steps 970\t Score = -24219.083333330225\n",
      "Episode: Steps 971\t Score = -24243.999999996875\n",
      "Episode: Steps 972\t Score = -24268.916666663525\n",
      "Episode: Steps 973\t Score = -24293.833333330174\n",
      "Episode: Steps 974\t Score = -24318.749999996824\n",
      "Episode: Steps 975\t Score = -24343.666666663474\n",
      "Episode: Steps 976\t Score = -24368.583333330123\n",
      "Episode: Steps 977\t Score = -24393.499999996773\n",
      "Episode: Steps 978\t Score = -24418.416666663423\n",
      "Episode: Steps 979\t Score = -24443.333333330072\n",
      "Episode: Steps 980\t Score = -24468.249999996722\n",
      "Episode: Steps 981\t Score = -24493.166666663372\n",
      "Episode: Steps 982\t Score = -24518.08333333002\n",
      "Episode: Steps 983\t Score = -24542.99999999667\n",
      "Episode: Steps 984\t Score = -24567.91666666332\n",
      "Episode: Steps 985\t Score = -24592.83333332997\n",
      "Episode: Steps 986\t Score = -24617.74999999662\n",
      "Episode: Steps 987\t Score = -24642.66666666327\n",
      "Episode: Steps 988\t Score = -24667.58333332992\n",
      "Episode: Steps 989\t Score = -24692.49999999657\n",
      "Episode: Steps 990\t Score = -24717.41666666322\n",
      "Episode: Steps 991\t Score = -24742.33333332987\n",
      "Episode: Steps 992\t Score = -24767.24999999652\n",
      "Episode: Steps 993\t Score = -24792.166666663168\n",
      "Episode: Steps 994\t Score = -24817.083333329818\n",
      "Episode: Steps 995\t Score = -24841.999999996468\n",
      "Episode: Steps 996\t Score = -24866.916666663117\n",
      "Episode: Steps 997\t Score = -24891.833333329767\n",
      "Episode: Steps 998\t Score = -24916.749999996417\n",
      "Episode: Steps 999\t Score = -24941.666666663066\n"
     ]
    }
   ],
   "source": [
    "for step in range(nSteps):\n",
    "    # Chose an action for each agent in the environment\n",
    "    for a in range(env.get_num_agents()):\n",
    "        action = controller.act(observations[a])\n",
    "        action_dict.update({a: action})\n",
    "\n",
    "    # Environment step which returns the observations for all agents, their corresponding\n",
    "    # reward and whether their are done\n",
    "    next_obs, all_rewards, done, _ = env.step(action_dict)\n",
    "    if False:\n",
    "        env_renderer.render_env(show=not in_notebook, show_observations=False, show_predictions=False)\n",
    "    else:\n",
    "        server.send_actions(action_dict)\n",
    "\n",
    "    # env_renderer.gl.save_image('./misc/Fames2/flatland_frame_{:04d}.png'.format(step))\n",
    "    frame_step += 1\n",
    "    # Update replay buffer and train agent\n",
    "    for a in range(env.get_num_agents()):\n",
    "        controller.step((observations[a], action_dict[a], all_rewards[a], next_obs[a], done[a]))\n",
    "        score += all_rewards[a]\n",
    "    observations = next_obs.copy()\n",
    "    if done['__all__']:\n",
    "        print(\"All done!\")\n",
    "        break\n",
    "    print('Episode: Steps {}\\t Score = {}'.format(step, score))\n",
    "    \n",
    "    time.sleep(0.01)\n",
    "    "
   ]
  },
  {
   "cell_type": "markdown",
   "metadata": {},
   "source": [
    "\n",
    "<app-root></app-root>\n",
    "<script>\n",
    "try{\n",
    "    window.nodeRequire = require;\n",
    "    delete window.require;\n",
    "    delete window.exports;\n",
    "    delete window.module;\n",
    "} catch (e) {}\n",
    "</script>\n",
    "\n",
    "<script src=\"static/runtime.js\" defer></script>\n",
    "<script src=\"static/polyfills-es5.js\" nomodule defer></script>\n",
    "<script src=\"static/polyfills.js\" defer></script>\n",
    "<script src=\"static/styles.js\" defer></script>\n",
    "<script src=\"static/scripts.js\" defer></script>\n",
    "<script src=\"static/vendor.js\" defer></script>\n",
    "<script src=\"static/main.js\" defer></script>\n",
    "</body>"
   ]
  },
  {
   "cell_type": "code",
   "execution_count": 32,
   "metadata": {},
   "outputs": [],
   "source": [
    "if False:\n",
    "    tuple_dummy = env.reset()\n",
    "    server.send_env()"
   ]
  }
 ],
 "metadata": {
  "hide_input": false,
  "kernelspec": {
   "display_name": "ve367",
   "language": "python",
   "name": "python3"
  },
  "language_info": {
   "codemirror_mode": {
    "name": "ipython",
    "version": 3
   },
   "file_extension": ".py",
   "mimetype": "text/x-python",
   "name": "python",
   "nbconvert_exporter": "python",
   "pygments_lexer": "ipython3",
   "version": "3.6.7"
  },
  "latex_envs": {
   "LaTeX_envs_menu_present": true,
   "autoclose": false,
   "autocomplete": true,
   "bibliofile": "biblio.bib",
   "cite_by": "apalike",
   "current_citInitial": 1,
   "eqLabelWithNumbers": true,
   "eqNumInitial": 1,
   "hotkeys": {
    "equation": "Ctrl-E",
    "itemize": "Ctrl-I"
   },
   "labels_anchors": false,
   "latex_user_defs": false,
   "report_style_numbering": false,
   "user_envs_cfg": false
  },
  "toc": {
   "base_numbering": 1,
   "nav_menu": {},
   "number_sections": true,
   "sideBar": true,
   "skip_h1_title": false,
   "title_cell": "Table of Contents",
   "title_sidebar": "Contents",
   "toc_cell": false,
   "toc_position": {},
   "toc_section_display": true,
   "toc_window_display": false
  },
  "varInspector": {
   "cols": {
    "lenName": 16,
    "lenType": 16,
    "lenVar": 40
   },
   "kernels_config": {
    "python": {
     "delete_cmd_postfix": "",
     "delete_cmd_prefix": "del ",
     "library": "var_list.py",
     "varRefreshCmd": "print(var_dic_list())"
    },
    "r": {
     "delete_cmd_postfix": ") ",
     "delete_cmd_prefix": "rm(",
     "library": "var_list.r",
     "varRefreshCmd": "cat(var_dic_list()) "
    }
   },
   "types_to_exclude": [
    "module",
    "function",
    "builtin_function_or_method",
    "instance",
    "_Feature"
   ],
   "window_display": false
  }
 },
 "nbformat": 4,
 "nbformat_minor": 2
}
