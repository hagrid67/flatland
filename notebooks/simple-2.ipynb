{
 "cells": [
  {
   "cell_type": "markdown",
   "metadata": {},
   "source": [
    "# Flatland Javascript Renderer\n",
    "\n",
    "This is in active development and is intended to replace the tkinter / PIL renderer.\n",
    "This notebook shows how the JS renderer can be started in a notebook using an \"iframe\".  It starts a Flask server in a background thread, listening on port 8080, localhost."
   ]
  },
  {
   "cell_type": "code",
   "execution_count": 90,
   "metadata": {},
   "outputs": [],
   "source": [
    "import time\n",
    "import os\n",
    "import numpy as np \n",
    "from numpy import array\n",
    "import threading\n",
    "import webbrowser\n",
    "import pandas as pd # useful for displaying tables\n",
    "#import ipysheet as ips\n",
    "from IPython.display import HTML, display\n",
    "from matplotlib import pyplot as plt\n",
    "import PIL\n",
    "import jpy_canvas\n",
    "from ipywidgets import Button"
   ]
  },
  {
   "cell_type": "code",
   "execution_count": 2,
   "metadata": {},
   "outputs": [],
   "source": [
    "%matplotlib inline"
   ]
  },
  {
   "cell_type": "code",
   "execution_count": 3,
   "metadata": {},
   "outputs": [],
   "source": [
    "#pd.describe_option(\"rows\")"
   ]
  },
  {
   "cell_type": "markdown",
   "metadata": {},
   "source": [
    "In Flatland you can use custom observation builders and predicitors<br>\n",
    "Observation builders generate the observation needed by the controller<br>\n",
    "Preditctors can be used to do short time prediction which can help in avoiding conflicts in the network"
   ]
  },
  {
   "cell_type": "code",
   "execution_count": 4,
   "metadata": {},
   "outputs": [
    {
     "name": "stdout",
     "output_type": "stream",
     "text": [
      "Flask static folder:  /home/jeremy/projects/aicrowd/rl-trains/flatland/notebooks/static\n"
     ]
    }
   ],
   "source": [
    "from flatland.envs.malfunction_generators import malfunction_from_params, MalfunctionParameters\n",
    "from flatland.envs.observations import GlobalObsForRailEnv\n",
    "# First of all we import the Flatland rail environment\n",
    "from flatland.envs.rail_env import RailEnv\n",
    "from flatland.envs.rail_env import RailEnvActions\n",
    "from flatland.envs.rail_generators import sparse_rail_generator\n",
    "from flatland.envs.schedule_generators import sparse_schedule_generator\n",
    "# We also include a renderer because we want to visualize what is going on in the environment\n",
    "from flatland.utils.rendertools import RenderTool, AgentRenderVariant\n"
   ]
  },
  {
   "cell_type": "code",
   "execution_count": 5,
   "metadata": {},
   "outputs": [],
   "source": [
    "seed = 14  # Random seed\n",
    "grid_distribution_of_cities = False  # Type of city distribution, if False cities are randomly placed\n",
    "max_rails_between_cities = 2  # Max number of tracks allowed between cities. This is number of entry point to a city\n",
    "max_rail_in_cities = 6  # Max number of parallel tracks within a city, representing a realistic trainstation"
   ]
  },
  {
   "cell_type": "code",
   "execution_count": 6,
   "metadata": {},
   "outputs": [
    {
     "data": {
      "text/html": [
       "<div>\n",
       "<style scoped>\n",
       "    .dataframe tbody tr th:only-of-type {\n",
       "        vertical-align: middle;\n",
       "    }\n",
       "\n",
       "    .dataframe tbody tr th {\n",
       "        vertical-align: top;\n",
       "    }\n",
       "\n",
       "    .dataframe thead th {\n",
       "        text-align: right;\n",
       "    }\n",
       "</style>\n",
       "<table border=\"1\" class=\"dataframe\">\n",
       "  <thead>\n",
       "    <tr style=\"text-align: right;\">\n",
       "      <th></th>\n",
       "      <th>width</th>\n",
       "      <th>height</th>\n",
       "      <th>nr_trains</th>\n",
       "      <th>cities_in_map</th>\n",
       "    </tr>\n",
       "    <tr>\n",
       "      <th>config</th>\n",
       "      <th></th>\n",
       "      <th></th>\n",
       "      <th></th>\n",
       "      <th></th>\n",
       "    </tr>\n",
       "  </thead>\n",
       "  <tbody>\n",
       "    <tr>\n",
       "      <th>0</th>\n",
       "      <td>30</td>\n",
       "      <td>30</td>\n",
       "      <td>5</td>\n",
       "      <td>2</td>\n",
       "    </tr>\n",
       "    <tr>\n",
       "      <th>1</th>\n",
       "      <td>56</td>\n",
       "      <td>56</td>\n",
       "      <td>20</td>\n",
       "      <td>10</td>\n",
       "    </tr>\n",
       "    <tr>\n",
       "      <th>2</th>\n",
       "      <td>112</td>\n",
       "      <td>63</td>\n",
       "      <td>50</td>\n",
       "      <td>20</td>\n",
       "    </tr>\n",
       "  </tbody>\n",
       "</table>\n",
       "</div>"
      ],
      "text/plain": [
       "        width  height  nr_trains  cities_in_map\n",
       "config                                         \n",
       "0          30      30          5              2\n",
       "1          56      56         20             10\n",
       "2         112      63         50             20"
      ]
     },
     "execution_count": 6,
     "metadata": {},
     "output_type": "execute_result"
    }
   ],
   "source": [
    "generator_configs = [\n",
    "    [30, 30, 5, 2],\n",
    "    [8*7, 8*7, 20, 10],\n",
    "    [16*7, 9*7, 50, 20],\n",
    "]\n",
    "dfConfig = pd.DataFrame(generator_configs, columns=\"width height nr_trains cities_in_map\".split(\" \"))\n",
    "dfConfig.index.name=\"config\"\n",
    "dfConfig"
   ]
  },
  {
   "cell_type": "code",
   "execution_count": 20,
   "metadata": {},
   "outputs": [
    {
     "data": {
      "text/plain": [
       "width            30\n",
       "height           30\n",
       "nr_trains         5\n",
       "cities_in_map     2\n",
       "Name: 0, dtype: int64"
      ]
     },
     "execution_count": 20,
     "metadata": {},
     "output_type": "execute_result"
    }
   ],
   "source": [
    "i_config = 0\n",
    "srConf = dfConfig.iloc[i_config,:]\n",
    "srConf"
   ]
  },
  {
   "cell_type": "code",
   "execution_count": 21,
   "metadata": {},
   "outputs": [],
   "source": [
    "rail_generator = sparse_rail_generator(max_num_cities=srConf.cities_in_map,\n",
    "                                       seed=seed,\n",
    "                                       grid_mode=grid_distribution_of_cities,\n",
    "                                       max_rails_between_cities=max_rails_between_cities,\n",
    "                                       max_rails_in_city=max_rail_in_cities,\n",
    "                                       )"
   ]
  },
  {
   "cell_type": "markdown",
   "metadata": {},
   "source": [
    "The schedule generator can make very basic schedules with a start point, end point and a speed profile for each agent.<br>\n",
    "The speed profiles can be adjusted directly as well as shown later on. We start by introducing a statistical<br>\n",
    "distribution of speed profiles"
   ]
  },
  {
   "cell_type": "markdown",
   "metadata": {},
   "source": [
    "Different agent types (trains) with different speeds."
   ]
  },
  {
   "cell_type": "code",
   "execution_count": 22,
   "metadata": {},
   "outputs": [],
   "source": [
    "speed_ration_map = {1.: 0.25,  # Fast passenger train\n",
    "                    1. / 2.: 0.25,  # Fast freight train\n",
    "                    1. / 3.: 0.25,  # Slow commuter train\n",
    "                    1. / 4.: 0.25}  # Slow freight train"
   ]
  },
  {
   "cell_type": "markdown",
   "metadata": {},
   "source": [
    "We can now initiate the schedule generator with the given speed profiles"
   ]
  },
  {
   "cell_type": "code",
   "execution_count": 23,
   "metadata": {},
   "outputs": [],
   "source": [
    "schedule_generator = sparse_schedule_generator(speed_ration_map)"
   ]
  },
  {
   "cell_type": "markdown",
   "metadata": {},
   "source": [
    "We can furthermore pass stochastic data to the RailEnv constructor which will allow for stochastic malfunctions<br>\n",
    "during an episode."
   ]
  },
  {
   "cell_type": "code",
   "execution_count": 24,
   "metadata": {},
   "outputs": [],
   "source": [
    "stochastic_data = MalfunctionParameters(malfunction_rate=10000,  # Rate of malfunction occurence\n",
    "                                        min_duration=15,  # Minimal duration of malfunction\n",
    "                                        max_duration=50  # Max duration of malfunction\n",
    "                                        )\n",
    "# Custom observation builder without predictor\n",
    "observation_builder = GlobalObsForRailEnv()"
   ]
  },
  {
   "cell_type": "markdown",
   "metadata": {},
   "source": [
    "Custom observation builder with predictor, uncomment line below if you want to try this one<br>\n",
    "observation_builder = TreeObsForRailEnv(max_depth=2, predictor=ShortestPathPredictorForRailEnv())"
   ]
  },
  {
   "cell_type": "markdown",
   "metadata": {},
   "source": [
    "Construct the enviornment with the given observation, generataors, predictors, and stochastic data"
   ]
  },
  {
   "cell_type": "code",
   "execution_count": 25,
   "metadata": {},
   "outputs": [],
   "source": [
    "env = RailEnv(width=srConf.width,\n",
    "              height=srConf.height,\n",
    "              rail_generator=rail_generator,\n",
    "              schedule_generator=schedule_generator,\n",
    "              number_of_agents=srConf.nr_trains,\n",
    "              obs_builder_object=observation_builder,\n",
    "              malfunction_generator_and_process_data=malfunction_from_params(stochastic_data),\n",
    "              remove_agents_at_target=True)\n",
    "env.reset()\n",
    "pass"
   ]
  },
  {
   "cell_type": "markdown",
   "metadata": {},
   "source": [
    "Initiate the renderer"
   ]
  },
  {
   "cell_type": "code",
   "execution_count": 26,
   "metadata": {},
   "outputs": [
    {
     "name": "stderr",
     "output_type": "stream",
     "text": [
      "WebSocket transport not available. Install eventlet or gevent and gevent-websocket for improved performance.\n"
     ]
    },
    {
     "name": "stdout",
     "output_type": "stream",
     "text": [
      " * Serving Flask app \"flatland.utils.flask_util\" (lazy loading)\n",
      " * Environment: production\n",
      "   WARNING: This is a development server. Do not use it in a production deployment.\n",
      "   Use a production WSGI server instead.\n",
      " * Debug mode: off\n"
     ]
    },
    {
     "name": "stderr",
     "output_type": "stream",
     "text": [
      " * Running on http://0.0.0.0:8085/ (Press CTRL+C to quit)\n"
     ]
    }
   ],
   "source": [
    "if False:\n",
    "    env_renderer_js = RenderTool(env, # gl=\"PILSVG\", # defaults to BROWSER\n",
    "                              agent_render_variant=AgentRenderVariant.ONE_STEP_BEHIND,\n",
    "                              show_debug=False,\n",
    "                              host=\"0.0.0.0\",\n",
    "                              )\n",
    "                          \n",
    "env_renderer = render_pil = RenderTool(env, gl=\"PILSVG\",\n",
    "                          agent_render_variant=AgentRenderVariant.ONE_STEP_BEHIND,\n",
    "                          show_debug=False,\n",
    "                          screen_height=1000,  # Adjust these parameters to fit your resolution\n",
    "                          screen_width=1300)  # Adjust these parameters to fit your resolution\n",
    "\n"
   ]
  },
  {
   "cell_type": "markdown",
   "metadata": {},
   "source": [
    "The first thing we notice is that some agents don't have feasible paths to their target.<br>\n",
    "We first look at the map we have created"
   ]
  },
  {
   "cell_type": "markdown",
   "metadata": {},
   "source": [
    "nv_renderer.render_env(show=True)<br>\n",
    "time.sleep(2)<br>\n",
    "Import your own Agent or use RLlib to train agents on Flatland<br>\n",
    "As an example we use a random agent instead"
   ]
  },
  {
   "cell_type": "code",
   "execution_count": 27,
   "metadata": {},
   "outputs": [],
   "source": [
    "class RandomAgent:\n",
    "    def __init__(self, state_size, action_size):\n",
    "        self.state_size = state_size\n",
    "        self.action_size = action_size\n",
    "    def act(self, state):\n",
    "        \"\"\"\n",
    "        :param state: input is the observation of the agent\n",
    "        :return: returns an action\n",
    "        \"\"\"\n",
    "        return np.random.choice([RailEnvActions.MOVE_FORWARD, RailEnvActions.MOVE_RIGHT, RailEnvActions.MOVE_LEFT,\n",
    "                                 RailEnvActions.STOP_MOVING])\n",
    "    def step(self, memories):\n",
    "        \"\"\"\n",
    "        Step function to improve agent by adjusting policy given the observations\n",
    "        :param memories: SARS Tuple to be\n",
    "        :return:\n",
    "        \"\"\"\n",
    "        return\n",
    "    def save(self, filename):\n",
    "        # Store the current policy\n",
    "        return\n",
    "    def load(self, filename):\n",
    "        # Load a policy\n",
    "        return"
   ]
  },
  {
   "cell_type": "markdown",
   "metadata": {},
   "source": [
    "Initialize the agent with the parameters corresponding to the environment and observation_builder"
   ]
  },
  {
   "cell_type": "code",
   "execution_count": 28,
   "metadata": {},
   "outputs": [],
   "source": [
    "controller = RandomAgent(218, env.action_space[0])"
   ]
  },
  {
   "cell_type": "code",
   "execution_count": 29,
   "metadata": {},
   "outputs": [],
   "source": [
    "env_renderer.reset()"
   ]
  },
  {
   "cell_type": "code",
   "execution_count": 30,
   "metadata": {},
   "outputs": [],
   "source": [
    "score = 0\n",
    "# Run episode\n",
    "frame_step = 0"
   ]
  },
  {
   "cell_type": "code",
   "execution_count": 31,
   "metadata": {},
   "outputs": [],
   "source": [
    "nSteps = 3\n",
    "action_dict = {}\n",
    "observations, rewards, dones, information = env.step(action_dict)"
   ]
  },
  {
   "cell_type": "code",
   "execution_count": 92,
   "metadata": {},
   "outputs": [],
   "source": [
    "def run_steps():\n",
    "    global controller, observations, action_dict, env, render_pil, wCanvas, frame_step, score\n",
    "    for step in range(nSteps):\n",
    "        # Chose an action for each agent in the environment\n",
    "        for a in range(env.get_num_agents()):\n",
    "            action = controller.act(observations[a])\n",
    "            action_dict.update({a: action})\n",
    "\n",
    "        # Environment step which returns the observations for all agents, their corresponding\n",
    "        # reward and whether their are done\n",
    "        next_obs, all_rewards, done, _ = env.step(action_dict)\n",
    "\n",
    "        # env_renderer_js.render_env(show=False, show_observations=False, show_predictions=False)\n",
    "        render_pil.render_env(show=False, show_observations=False, show_predictions=False, show_agents=True)\n",
    "        #display(PIL.Image.fromarray(render_pil.get_image()))\n",
    "        wCanvas.data = render_pil.get_image()\n",
    "\n",
    "        # env_renderer.gl.save_image('./misc/Fames2/flatland_frame_{:04d}.png'.format(step))\n",
    "        frame_step += 1\n",
    "        # Update replay buffer and train agent\n",
    "        for a in range(env.get_num_agents()):\n",
    "            controller.step((observations[a], action_dict[a], all_rewards[a], next_obs[a], done[a]))\n",
    "            score += all_rewards[a]\n",
    "        observations = next_obs.copy()\n",
    "        if done['__all__']:\n",
    "            print(\"All done!\")\n",
    "            break\n",
    "        print('Episode: Steps {}\\t Score = {}'.format(frame_step, score))\n",
    "\n",
    "        time.sleep(0.01)\n",
    "\n",
    "def run_steps_event(widget):\n",
    "    run_steps()"
   ]
  },
  {
   "cell_type": "code",
   "execution_count": 93,
   "metadata": {},
   "outputs": [
    {
     "data": {
      "application/vnd.jupyter.widget-view+json": {
       "model_id": "9d7e91f68aee4da8b08b18048b1200d2",
       "version_major": 2,
       "version_minor": 0
      },
      "text/plain": [
       "Button(description='run steps', style=ButtonStyle())"
      ]
     },
     "metadata": {},
     "output_type": "display_data"
    },
    {
     "data": {
      "application/vnd.jupyter.widget-view+json": {
       "model_id": "b590a34c17ee43ecb36e3abac0cd6598",
       "version_major": 2,
       "version_minor": 0
      },
      "text/plain": [
       "Canvas()"
      ]
     },
     "metadata": {},
     "output_type": "display_data"
    },
    {
     "name": "stdout",
     "output_type": "stream",
     "text": [
      "Episode: Steps 91\t Score = -257.8333333333337\n",
      "Episode: Steps 92\t Score = -260.666666666667\n",
      "Episode: Steps 93\t Score = -263.50000000000034\n",
      "Episode: Steps 94\t Score = -266.33333333333366\n",
      "Episode: Steps 95\t Score = -269.16666666666697\n",
      "Episode: Steps 96\t Score = -272.0000000000003\n",
      "Episode: Steps 97\t Score = -274.8333333333336\n",
      "Episode: Steps 98\t Score = -277.6666666666669\n",
      "Episode: Steps 99\t Score = -280.5000000000002\n",
      "Episode: Steps 100\t Score = -283.33333333333354\n",
      "Episode: Steps 101\t Score = -286.16666666666686\n",
      "Episode: Steps 102\t Score = -289.00000000000017\n",
      "Episode: Steps 103\t Score = -291.8333333333335\n",
      "Episode: Steps 104\t Score = -294.6666666666668\n",
      "Episode: Steps 105\t Score = -297.5000000000001\n",
      "Episode: Steps 106\t Score = -300.3333333333334\n",
      "Episode: Steps 107\t Score = -303.16666666666674\n",
      "Episode: Steps 108\t Score = -306.00000000000006\n",
      "Episode: Steps 109\t Score = -308.83333333333337\n",
      "Episode: Steps 110\t Score = -311.6666666666667\n",
      "Episode: Steps 111\t Score = -314.5\n",
      "Episode: Steps 112\t Score = -317.3333333333333\n",
      "Episode: Steps 113\t Score = -320.16666666666663\n",
      "Episode: Steps 114\t Score = -322.99999999999994\n"
     ]
    }
   ],
   "source": [
    "wCanvas = jpy_canvas.Canvas(render_pil.get_image())\n",
    "wButton = Button(description=\"run steps\")\n",
    "wButton.on_click(run_steps_event)\n",
    "display(wButton)\n",
    "display(wCanvas)"
   ]
  },
  {
   "cell_type": "code",
   "execution_count": 89,
   "metadata": {},
   "outputs": [
    {
     "name": "stdout",
     "output_type": "stream",
     "text": [
      "Episode: Steps 88\t Score = -249.33333333333366\n",
      "Episode: Steps 89\t Score = -252.166666666667\n",
      "Episode: Steps 90\t Score = -255.00000000000034\n"
     ]
    }
   ],
   "source": [
    "run_steps()"
   ]
  },
  {
   "cell_type": "markdown",
   "metadata": {},
   "source": [
    "\n",
    "<app-root></app-root>\n",
    "<script>\n",
    "try{\n",
    "    window.nodeRequire = require;\n",
    "    delete window.require;\n",
    "    delete window.exports;\n",
    "    delete window.module;\n",
    "} catch (e) {}\n",
    "</script>\n",
    "\n",
    "<script src=\"static/runtime.js\" defer></script>\n",
    "<script src=\"static/polyfills-es5.js\" nomodule defer></script>\n",
    "<script src=\"static/polyfills.js\" defer></script>\n",
    "<script src=\"static/styles.js\" defer></script>\n",
    "<script src=\"static/scripts.js\" defer></script>\n",
    "<script src=\"static/vendor.js\" defer></script>\n",
    "<script src=\"static/main.js\" defer></script>\n",
    "</body>"
   ]
  }
 ],
 "metadata": {
  "hide_input": false,
  "kernelspec": {
   "display_name": "ve367",
   "language": "python",
   "name": "python3"
  },
  "language_info": {
   "codemirror_mode": {
    "name": "ipython",
    "version": 3
   },
   "file_extension": ".py",
   "mimetype": "text/x-python",
   "name": "python",
   "nbconvert_exporter": "python",
   "pygments_lexer": "ipython3",
   "version": "3.6.7"
  },
  "latex_envs": {
   "LaTeX_envs_menu_present": true,
   "autoclose": false,
   "autocomplete": true,
   "bibliofile": "biblio.bib",
   "cite_by": "apalike",
   "current_citInitial": 1,
   "eqLabelWithNumbers": true,
   "eqNumInitial": 1,
   "hotkeys": {
    "equation": "Ctrl-E",
    "itemize": "Ctrl-I"
   },
   "labels_anchors": false,
   "latex_user_defs": false,
   "report_style_numbering": false,
   "user_envs_cfg": false
  },
  "toc": {
   "base_numbering": 1,
   "nav_menu": {},
   "number_sections": true,
   "sideBar": true,
   "skip_h1_title": false,
   "title_cell": "Table of Contents",
   "title_sidebar": "Contents",
   "toc_cell": false,
   "toc_position": {},
   "toc_section_display": true,
   "toc_window_display": false
  },
  "varInspector": {
   "cols": {
    "lenName": 16,
    "lenType": 16,
    "lenVar": 40
   },
   "kernels_config": {
    "python": {
     "delete_cmd_postfix": "",
     "delete_cmd_prefix": "del ",
     "library": "var_list.py",
     "varRefreshCmd": "print(var_dic_list())"
    },
    "r": {
     "delete_cmd_postfix": ") ",
     "delete_cmd_prefix": "rm(",
     "library": "var_list.r",
     "varRefreshCmd": "cat(var_dic_list()) "
    }
   },
   "types_to_exclude": [
    "module",
    "function",
    "builtin_function_or_method",
    "instance",
    "_Feature"
   ],
   "window_display": false
  }
 },
 "nbformat": 4,
 "nbformat_minor": 2
}
