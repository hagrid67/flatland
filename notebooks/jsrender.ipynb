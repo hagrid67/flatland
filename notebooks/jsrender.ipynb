{
 "cells": [
  {
   "cell_type": "markdown",
   "metadata": {},
   "source": [
    "# Flatland Javascript Renderer\n",
    "\n",
    "This is in active development and is intended to replace the tkinter / PIL renderer.\n",
    "This notebook shows how the JS renderer can be started in a notebook using an \"iframe\".  It starts a Flask server in a background thread, listening on port 8080, localhost."
   ]
  },
  {
   "cell_type": "code",
   "execution_count": 1,
   "metadata": {},
   "outputs": [],
   "source": [
    "import time\n",
    "import os\n",
    "import numpy as np \n",
    "import threading\n",
    "import webbrowser\n",
    "from IPython.display import HTML"
   ]
  },
  {
   "cell_type": "markdown",
   "metadata": {},
   "source": [
    "In Flatland you can use custom observation builders and predicitors<br>\n",
    "Observation builders generate the observation needed by the controller<br>\n",
    "Preditctors can be used to do short time prediction which can help in avoiding conflicts in the network"
   ]
  },
  {
   "cell_type": "code",
   "execution_count": 2,
   "metadata": {},
   "outputs": [
    {
     "name": "stdout",
     "output_type": "stream",
     "text": [
      "Flask static folder:  /home/jeremy/projects/aicrowd/rl-trains/flatland/notebooks/static\n"
     ]
    }
   ],
   "source": [
    "from flatland.envs.malfunction_generators import malfunction_from_params, MalfunctionParameters\n",
    "from flatland.envs.observations import GlobalObsForRailEnv\n",
    "# First of all we import the Flatland rail environment\n",
    "from flatland.envs.rail_env import RailEnv\n",
    "from flatland.envs.rail_env import RailEnvActions\n",
    "from flatland.envs.rail_generators import sparse_rail_generator\n",
    "from flatland.envs.schedule_generators import sparse_schedule_generator\n",
    "# We also include a renderer because we want to visualize what is going on in the environment\n",
    "from flatland.utils.rendertools import RenderTool, AgentRenderVariant\n",
    "#from flatland.utils.flask_util import simple_flask_server"
   ]
  },
  {
   "cell_type": "markdown",
   "metadata": {},
   "source": [
    "This is an introduction example for the Flatland 2.1.* version.<br>\n",
    "Changes and highlights of this version include<br>\n",
    "- Stochastic events (malfunctions)<br>\n",
    "- Different travel speeds for differet agents<br>\n",
    "- Levels are generated using a novel generator to reflect more realistic railway networks<br>\n",
    "- Agents start outside of the environment and enter at their own time<br>\n",
    "- Agents leave the environment after they have reached their goal<br>\n",
    "Use the new sparse_rail_generator to generate feasible network configurations with corresponding tasks<br>\n",
    "Training on simple small tasks is the best way to get familiar with the environment<br>\n",
    "We start by importing the necessary rail and schedule generators<br>\n",
    "The rail generator will generate the railway infrastructure<br>\n",
    "The schedule generator will assign tasks to all the agent within the railway network"
   ]
  },
  {
   "cell_type": "markdown",
   "metadata": {},
   "source": [
    "The railway infrastructure can be build using any of the provided generators in env/rail_generators.py<br>\n",
    "Here we use the sparse_rail_generator with the following parameters"
   ]
  },
  {
   "cell_type": "code",
   "execution_count": 3,
   "metadata": {},
   "outputs": [],
   "source": [
    "in_notebook = True\n",
    "in_browser = True\n",
    "in_native = False"
   ]
  },
  {
   "cell_type": "code",
   "execution_count": 4,
   "metadata": {},
   "outputs": [],
   "source": [
    "nSize = 3\n",
    "\n",
    "if nSize == 1: \n",
    "    width = 30  # With of map\n",
    "    height = 30  # Height of map\n",
    "    nr_trains = 5  # Number of trains that have an assigned task in the env\n",
    "    cities_in_map = 2  # Number of cities where agents can start or end\n",
    "elif nSize == 2:\n",
    "    width = 8 * 7  # With of map\n",
    "    height = 8 * 7  # Height of map\n",
    "    nr_trains = 20  # Number of trains that have an assigned task in the env\n",
    "    cities_in_map = 10  # Number of cities where agents can start or end\n",
    "else:\n",
    "    width = 16 * 7  # With of map\n",
    "    height = 9 * 7  # Height of map\n",
    "    nr_trains = 50  # Number of trains that have an assigned task in the env\n",
    "    cities_in_map = 20  # Number of cities where agents can start or end\n",
    "    \n",
    "seed = 14  # Random seed\n",
    "grid_distribution_of_cities = False  # Type of city distribution, if False cities are randomly placed\n",
    "max_rails_between_cities = 2  # Max number of tracks allowed between cities. This is number of entry point to a city\n",
    "max_rail_in_cities = 6  # Max number of parallel tracks within a city, representing a realistic trainstation"
   ]
  },
  {
   "cell_type": "code",
   "execution_count": 5,
   "metadata": {},
   "outputs": [],
   "source": [
    "rail_generator = sparse_rail_generator(max_num_cities=cities_in_map,\n",
    "                                       seed=seed,\n",
    "                                       grid_mode=grid_distribution_of_cities,\n",
    "                                       max_rails_between_cities=max_rails_between_cities,\n",
    "                                       max_rails_in_city=max_rail_in_cities,\n",
    "                                       )"
   ]
  },
  {
   "cell_type": "markdown",
   "metadata": {},
   "source": [
    "The schedule generator can make very basic schedules with a start point, end point and a speed profile for each agent.<br>\n",
    "The speed profiles can be adjusted directly as well as shown later on. We start by introducing a statistical<br>\n",
    "distribution of speed profiles"
   ]
  },
  {
   "cell_type": "markdown",
   "metadata": {},
   "source": [
    "Different agent types (trains) with different speeds."
   ]
  },
  {
   "cell_type": "code",
   "execution_count": 6,
   "metadata": {},
   "outputs": [],
   "source": [
    "speed_ration_map = {1.: 0.25,  # Fast passenger train\n",
    "                    1. / 2.: 0.25,  # Fast freight train\n",
    "                    1. / 3.: 0.25,  # Slow commuter train\n",
    "                    1. / 4.: 0.25}  # Slow freight train"
   ]
  },
  {
   "cell_type": "markdown",
   "metadata": {},
   "source": [
    "We can now initiate the schedule generator with the given speed profiles"
   ]
  },
  {
   "cell_type": "code",
   "execution_count": 7,
   "metadata": {},
   "outputs": [],
   "source": [
    "schedule_generator = sparse_schedule_generator(speed_ration_map)"
   ]
  },
  {
   "cell_type": "markdown",
   "metadata": {},
   "source": [
    "We can furthermore pass stochastic data to the RailEnv constructor which will allow for stochastic malfunctions<br>\n",
    "during an episode."
   ]
  },
  {
   "cell_type": "code",
   "execution_count": 8,
   "metadata": {},
   "outputs": [],
   "source": [
    "stochastic_data = MalfunctionParameters(malfunction_rate=10000,  # Rate of malfunction occurence\n",
    "                                        min_duration=15,  # Minimal duration of malfunction\n",
    "                                        max_duration=50  # Max duration of malfunction\n",
    "                                        )\n",
    "# Custom observation builder without predictor\n",
    "observation_builder = GlobalObsForRailEnv()"
   ]
  },
  {
   "cell_type": "markdown",
   "metadata": {},
   "source": [
    "Custom observation builder with predictor, uncomment line below if you want to try this one<br>\n",
    "observation_builder = TreeObsForRailEnv(max_depth=2, predictor=ShortestPathPredictorForRailEnv())"
   ]
  },
  {
   "cell_type": "markdown",
   "metadata": {},
   "source": [
    "Construct the enviornment with the given observation, generataors, predictors, and stochastic data"
   ]
  },
  {
   "cell_type": "code",
   "execution_count": 9,
   "metadata": {},
   "outputs": [],
   "source": [
    "env = RailEnv(width=width,\n",
    "              height=height,\n",
    "              rail_generator=rail_generator,\n",
    "              schedule_generator=schedule_generator,\n",
    "              number_of_agents=nr_trains,\n",
    "              obs_builder_object=observation_builder,\n",
    "              malfunction_generator_and_process_data=malfunction_from_params(stochastic_data),\n",
    "              remove_agents_at_target=True)\n",
    "env.reset()\n",
    "pass"
   ]
  },
  {
   "cell_type": "markdown",
   "metadata": {},
   "source": [
    "Initiate the renderer"
   ]
  },
  {
   "cell_type": "code",
   "execution_count": 10,
   "metadata": {},
   "outputs": [
    {
     "name": "stderr",
     "output_type": "stream",
     "text": [
      "WebSocket transport not available. Install eventlet or gevent and gevent-websocket for improved performance.\n"
     ]
    },
    {
     "name": "stdout",
     "output_type": "stream",
     "text": [
      " * Serving Flask app \"flatland.utils.flask_util\" (lazy loading)\n",
      " * Environment: production\n",
      "   WARNING: This is a development server. Do not use it in a production deployment.\n",
      "   Use a production WSGI server instead.\n",
      " * Debug mode: off\n"
     ]
    },
    {
     "name": "stderr",
     "output_type": "stream",
     "text": [
      " * Running on http://127.0.0.1:8081/ (Press CTRL+C to quit)\n"
     ]
    },
    {
     "data": {
      "text/html": [
       "<a href=\"http://localhost:8081\">Right-click Open in New Window - http://localhost:8081</a>"
      ],
      "text/plain": [
       "<IPython.core.display.HTML object>"
      ]
     },
     "execution_count": 10,
     "metadata": {},
     "output_type": "execute_result"
    }
   ],
   "source": [
    "env_renderer = RenderTool(env, gl=\"BROWSER\", # gl=\"PILSVG\",\n",
    "                          agent_render_variant=AgentRenderVariant.ONE_STEP_BEHIND,\n",
    "                          show_debug=False,\n",
    "                          screen_height=600,  # Adjust these parameters to fit your resolution\n",
    "                          screen_width=800)  # Adjust these parameters to fit your resolution\n",
    "\n",
    "url = env_renderer.get_endpoint_URL()\n",
    "HTML('<a href=\"{}\">Right-click Open in New Window - {}</a>'.format(url, url))"
   ]
  },
  {
   "cell_type": "markdown",
   "metadata": {},
   "source": [
    "The first thing we notice is that some agents don't have feasible paths to their target.<br>\n",
    "We first look at the map we have created"
   ]
  },
  {
   "cell_type": "markdown",
   "metadata": {},
   "source": [
    "nv_renderer.render_env(show=True)<br>\n",
    "time.sleep(2)<br>\n",
    "Import your own Agent or use RLlib to train agents on Flatland<br>\n",
    "As an example we use a random agent instead"
   ]
  },
  {
   "cell_type": "code",
   "execution_count": 11,
   "metadata": {},
   "outputs": [],
   "source": [
    "class RandomAgent:\n",
    "    def __init__(self, state_size, action_size):\n",
    "        self.state_size = state_size\n",
    "        self.action_size = action_size\n",
    "    def act(self, state):\n",
    "        \"\"\"\n",
    "        :param state: input is the observation of the agent\n",
    "        :return: returns an action\n",
    "        \"\"\"\n",
    "        return np.random.choice([RailEnvActions.MOVE_FORWARD, RailEnvActions.MOVE_RIGHT, RailEnvActions.MOVE_LEFT,\n",
    "                                 RailEnvActions.STOP_MOVING])\n",
    "    def step(self, memories):\n",
    "        \"\"\"\n",
    "        Step function to improve agent by adjusting policy given the observations\n",
    "        :param memories: SARS Tuple to be\n",
    "        :return:\n",
    "        \"\"\"\n",
    "        return\n",
    "    def save(self, filename):\n",
    "        # Store the current policy\n",
    "        return\n",
    "    def load(self, filename):\n",
    "        # Load a policy\n",
    "        return"
   ]
  },
  {
   "cell_type": "markdown",
   "metadata": {},
   "source": [
    "Initialize the agent with the parameters corresponding to the environment and observation_builder"
   ]
  },
  {
   "cell_type": "code",
   "execution_count": 12,
   "metadata": {},
   "outputs": [],
   "source": [
    "controller = RandomAgent(218, env.action_space[0])"
   ]
  },
  {
   "cell_type": "markdown",
   "metadata": {},
   "source": [
    "We start by looking at the information of each agent<br>\n",
    "We can see the task assigned to the agent by looking at"
   ]
  },
  {
   "cell_type": "code",
   "execution_count": 13,
   "metadata": {},
   "outputs": [
    {
     "name": "stdout",
     "output_type": "stream",
     "text": [
      "\n",
      " Agents in the environment have to solve the following tasks: \n",
      "\n",
      "The agent with index 0 has the task to go from its initial position (22, 74),facing in the direction 2 to its target at (19, 93).\n",
      "The agent with index 1 has the task to go from its initial position (7, 12),facing in the direction 0 to its target at (44, 16).\n",
      "The agent with index 2 has the task to go from its initial position (19, 92),facing in the direction 2 to its target at (21, 9).\n",
      "The agent with index 3 has the task to go from its initial position (42, 71),facing in the direction 3 to its target at (18, 52).\n",
      "The agent with index 4 has the task to go from its initial position (39, 16),facing in the direction 3 to its target at (19, 95).\n",
      "The agent with index 5 has the task to go from its initial position (32, 90),facing in the direction 2 to its target at (43, 102).\n",
      "The agent with index 6 has the task to go from its initial position (6, 93),facing in the direction 0 to its target at (53, 64).\n",
      "The agent with index 7 has the task to go from its initial position (41, 29),facing in the direction 3 to its target at (44, 16).\n",
      "The agent with index 8 has the task to go from its initial position (50, 44),facing in the direction 1 to its target at (24, 37).\n",
      "The agent with index 9 has the task to go from its initial position (48, 44),facing in the direction 1 to its target at (44, 16).\n",
      "The agent with index 10 has the task to go from its initial position (41, 16),facing in the direction 1 to its target at (39, 71).\n",
      "The agent with index 11 has the task to go from its initial position (19, 96),facing in the direction 0 to its target at (47, 102).\n",
      "The agent with index 12 has the task to go from its initial position (32, 86),facing in the direction 2 to its target at (49, 44).\n",
      "The agent with index 13 has the task to go from its initial position (53, 63),facing in the direction 2 to its target at (8, 41).\n",
      "The agent with index 14 has the task to go from its initial position (39, 16),facing in the direction 3 to its target at (49, 44).\n",
      "The agent with index 15 has the task to go from its initial position (56, 26),facing in the direction 0 to its target at (32, 87).\n",
      "The agent with index 16 has the task to go from its initial position (19, 24),facing in the direction 1 to its target at (9, 75).\n",
      "The agent with index 17 has the task to go from its initial position (32, 86),facing in the direction 2 to its target at (42, 16).\n",
      "The agent with index 18 has the task to go from its initial position (19, 96),facing in the direction 2 to its target at (51, 44).\n",
      "The agent with index 19 has the task to go from its initial position (37, 57),facing in the direction 1 to its target at (42, 16).\n",
      "The agent with index 20 has the task to go from its initial position (51, 86),facing in the direction 2 to its target at (9, 75).\n",
      "The agent with index 21 has the task to go from its initial position (42, 102),facing in the direction 1 to its target at (6, 94).\n",
      "The agent with index 22 has the task to go from its initial position (39, 29),facing in the direction 1 to its target at (40, 16).\n",
      "The agent with index 23 has the task to go from its initial position (43, 16),facing in the direction 3 to its target at (9, 73).\n",
      "The agent with index 24 has the task to go from its initial position (19, 92),facing in the direction 2 to its target at (51, 44).\n",
      "The agent with index 25 has the task to go from its initial position (50, 44),facing in the direction 3 to its target at (8, 41).\n",
      "The agent with index 26 has the task to go from its initial position (24, 36),facing in the direction 0 to its target at (47, 102).\n",
      "The agent with index 27 has the task to go from its initial position (32, 86),facing in the direction 2 to its target at (22, 75).\n",
      "The agent with index 28 has the task to go from its initial position (41, 16),facing in the direction 3 to its target at (22, 75).\n",
      "The agent with index 29 has the task to go from its initial position (53, 63),facing in the direction 0 to its target at (18, 24).\n",
      "The agent with index 30 has the task to go from its initial position (9, 74),facing in the direction 0 to its target at (18, 24).\n",
      "The agent with index 31 has the task to go from its initial position (24, 38),facing in the direction 2 to its target at (40, 16).\n",
      "The agent with index 32 has the task to go from its initial position (43, 16),facing in the direction 1 to its target at (19, 95).\n",
      "The agent with index 33 has the task to go from its initial position (21, 12),facing in the direction 2 to its target at (9, 73).\n",
      "The agent with index 34 has the task to go from its initial position (22, 74),facing in the direction 2 to its target at (7, 11).\n",
      "The agent with index 35 has the task to go from its initial position (37, 57),facing in the direction 1 to its target at (20, 52).\n",
      "The agent with index 36 has the task to go from its initial position (24, 38),facing in the direction 0 to its target at (43, 102).\n",
      "The agent with index 37 has the task to go from its initial position (39, 16),facing in the direction 1 to its target at (21, 11).\n",
      "The agent with index 38 has the task to go from its initial position (41, 16),facing in the direction 3 to its target at (51, 85).\n",
      "The agent with index 39 has the task to go from its initial position (19, 94),facing in the direction 2 to its target at (32, 89).\n",
      "The agent with index 40 has the task to go from its initial position (41, 29),facing in the direction 1 to its target at (32, 87).\n",
      "The agent with index 41 has the task to go from its initial position (6, 93),facing in the direction 2 to its target at (51, 85).\n",
      "The agent with index 42 has the task to go from its initial position (56, 26),facing in the direction 0 to its target at (9, 75).\n",
      "The agent with index 43 has the task to go from its initial position (51, 86),facing in the direction 2 to its target at (38, 57).\n",
      "The agent with index 44 has the task to go from its initial position (50, 44),facing in the direction 3 to its target at (8, 37).\n",
      "The agent with index 45 has the task to go from its initial position (37, 57),facing in the direction 1 to its target at (45, 102).\n",
      "The agent with index 46 has the task to go from its initial position (43, 16),facing in the direction 1 to its target at (6, 94).\n",
      "The agent with index 47 has the task to go from its initial position (56, 26),facing in the direction 0 to its target at (18, 52).\n",
      "The agent with index 48 has the task to go from its initial position (41, 16),facing in the direction 3 to its target at (32, 89).\n",
      "The agent with index 49 has the task to go from its initial position (41, 29),facing in the direction 3 to its target at (9, 73).\n"
     ]
    }
   ],
   "source": [
    "print(\"\\n Agents in the environment have to solve the following tasks: \\n\")\n",
    "for agent_idx, agent in enumerate(env.agents):\n",
    "    print(\n",
    "        (\"The agent with index {} has the task to go from its initial position {},\" +\n",
    "        \"facing in the direction {} to its target at {}.\").format(\n",
    "            agent_idx, agent.initial_position, agent.direction, agent.target))"
   ]
  },
  {
   "cell_type": "markdown",
   "metadata": {},
   "source": [
    "The agent will always have a status indicating if it is currently present in the environment or done or active<br>\n",
    "For example we see that agent with index 0 is currently not active"
   ]
  },
  {
   "cell_type": "code",
   "execution_count": 14,
   "metadata": {},
   "outputs": [
    {
     "name": "stdout",
     "output_type": "stream",
     "text": [
      "\n",
      " Their current statuses are:\n",
      "============================\n"
     ]
    }
   ],
   "source": [
    "print(\"\\n Their current statuses are:\")\n",
    "print(\"============================\")"
   ]
  },
  {
   "cell_type": "code",
   "execution_count": 15,
   "metadata": {},
   "outputs": [
    {
     "name": "stdout",
     "output_type": "stream",
     "text": [
      "Agent 0 status is: RailAgentStatus.READY_TO_DEPART with its current position being None\n",
      "Agent 1 status is: RailAgentStatus.READY_TO_DEPART with its current position being None\n",
      "Agent 2 status is: RailAgentStatus.READY_TO_DEPART with its current position being None\n",
      "Agent 3 status is: RailAgentStatus.READY_TO_DEPART with its current position being None\n",
      "Agent 4 status is: RailAgentStatus.READY_TO_DEPART with its current position being None\n",
      "Agent 5 status is: RailAgentStatus.READY_TO_DEPART with its current position being None\n",
      "Agent 6 status is: RailAgentStatus.READY_TO_DEPART with its current position being None\n",
      "Agent 7 status is: RailAgentStatus.READY_TO_DEPART with its current position being None\n",
      "Agent 8 status is: RailAgentStatus.READY_TO_DEPART with its current position being None\n",
      "Agent 9 status is: RailAgentStatus.READY_TO_DEPART with its current position being None\n",
      "Agent 10 status is: RailAgentStatus.READY_TO_DEPART with its current position being None\n",
      "Agent 11 status is: RailAgentStatus.READY_TO_DEPART with its current position being None\n",
      "Agent 12 status is: RailAgentStatus.READY_TO_DEPART with its current position being None\n",
      "Agent 13 status is: RailAgentStatus.READY_TO_DEPART with its current position being None\n",
      "Agent 14 status is: RailAgentStatus.READY_TO_DEPART with its current position being None\n",
      "Agent 15 status is: RailAgentStatus.READY_TO_DEPART with its current position being None\n",
      "Agent 16 status is: RailAgentStatus.READY_TO_DEPART with its current position being None\n",
      "Agent 17 status is: RailAgentStatus.READY_TO_DEPART with its current position being None\n",
      "Agent 18 status is: RailAgentStatus.READY_TO_DEPART with its current position being None\n",
      "Agent 19 status is: RailAgentStatus.READY_TO_DEPART with its current position being None\n",
      "Agent 20 status is: RailAgentStatus.READY_TO_DEPART with its current position being None\n",
      "Agent 21 status is: RailAgentStatus.READY_TO_DEPART with its current position being None\n",
      "Agent 22 status is: RailAgentStatus.READY_TO_DEPART with its current position being None\n",
      "Agent 23 status is: RailAgentStatus.READY_TO_DEPART with its current position being None\n",
      "Agent 24 status is: RailAgentStatus.READY_TO_DEPART with its current position being None\n",
      "Agent 25 status is: RailAgentStatus.READY_TO_DEPART with its current position being None\n",
      "Agent 26 status is: RailAgentStatus.READY_TO_DEPART with its current position being None\n",
      "Agent 27 status is: RailAgentStatus.READY_TO_DEPART with its current position being None\n",
      "Agent 28 status is: RailAgentStatus.READY_TO_DEPART with its current position being None\n",
      "Agent 29 status is: RailAgentStatus.READY_TO_DEPART with its current position being None\n",
      "Agent 30 status is: RailAgentStatus.READY_TO_DEPART with its current position being None\n",
      "Agent 31 status is: RailAgentStatus.READY_TO_DEPART with its current position being None\n",
      "Agent 32 status is: RailAgentStatus.READY_TO_DEPART with its current position being None\n",
      "Agent 33 status is: RailAgentStatus.READY_TO_DEPART with its current position being None\n",
      "Agent 34 status is: RailAgentStatus.READY_TO_DEPART with its current position being None\n",
      "Agent 35 status is: RailAgentStatus.READY_TO_DEPART with its current position being None\n",
      "Agent 36 status is: RailAgentStatus.READY_TO_DEPART with its current position being None\n",
      "Agent 37 status is: RailAgentStatus.READY_TO_DEPART with its current position being None\n",
      "Agent 38 status is: RailAgentStatus.READY_TO_DEPART with its current position being None\n",
      "Agent 39 status is: RailAgentStatus.READY_TO_DEPART with its current position being None\n",
      "Agent 40 status is: RailAgentStatus.READY_TO_DEPART with its current position being None\n",
      "Agent 41 status is: RailAgentStatus.READY_TO_DEPART with its current position being None\n",
      "Agent 42 status is: RailAgentStatus.READY_TO_DEPART with its current position being None\n",
      "Agent 43 status is: RailAgentStatus.READY_TO_DEPART with its current position being None\n",
      "Agent 44 status is: RailAgentStatus.READY_TO_DEPART with its current position being None\n",
      "Agent 45 status is: RailAgentStatus.READY_TO_DEPART with its current position being None\n",
      "Agent 46 status is: RailAgentStatus.READY_TO_DEPART with its current position being None\n",
      "Agent 47 status is: RailAgentStatus.READY_TO_DEPART with its current position being None\n",
      "Agent 48 status is: RailAgentStatus.READY_TO_DEPART with its current position being None\n",
      "Agent 49 status is: RailAgentStatus.READY_TO_DEPART with its current position being None\n"
     ]
    }
   ],
   "source": [
    "for agent_idx, agent in enumerate(env.agents):\n",
    "    print(\"Agent {} status is: {} with its current position being {}\".format(agent_idx, str(agent.status),\n",
    "                                                                             str(agent.position)))"
   ]
  },
  {
   "cell_type": "markdown",
   "metadata": {},
   "source": [
    "The agent needs to take any action [1,2,3] except do_nothing or stop to enter the level<br>\n",
    "If the starting cell is free they will enter the level<br>\n",
    "If multiple agents want to enter the same cell at the same time the lower index agent will enter first."
   ]
  },
  {
   "cell_type": "markdown",
   "metadata": {},
   "source": [
    "Let's check if there are any agents with the same start location"
   ]
  },
  {
   "cell_type": "code",
   "execution_count": 16,
   "metadata": {},
   "outputs": [
    {
     "name": "stdout",
     "output_type": "stream",
     "text": [
      "\n",
      " The following agents have the same initial position:\n",
      "=====================================================\n",
      "Agent 0 as the same initial position as agent 34\n",
      "Agent 2 as the same initial position as agent 24\n",
      "Agent 4 as the same initial position as agent 14\n",
      "Agent 4 as the same initial position as agent 37\n",
      "Agent 6 as the same initial position as agent 41\n",
      "Agent 7 as the same initial position as agent 40\n",
      "Agent 7 as the same initial position as agent 49\n",
      "Agent 8 as the same initial position as agent 25\n",
      "Agent 8 as the same initial position as agent 44\n",
      "Agent 10 as the same initial position as agent 28\n",
      "Agent 10 as the same initial position as agent 38\n",
      "Agent 10 as the same initial position as agent 48\n",
      "Agent 11 as the same initial position as agent 18\n",
      "Agent 12 as the same initial position as agent 17\n",
      "Agent 12 as the same initial position as agent 27\n",
      "Agent 13 as the same initial position as agent 29\n",
      "Agent 14 as the same initial position as agent 4\n",
      "Agent 14 as the same initial position as agent 37\n",
      "Agent 15 as the same initial position as agent 42\n",
      "Agent 15 as the same initial position as agent 47\n",
      "Agent 17 as the same initial position as agent 12\n",
      "Agent 17 as the same initial position as agent 27\n",
      "Agent 18 as the same initial position as agent 11\n",
      "Agent 19 as the same initial position as agent 35\n",
      "Agent 19 as the same initial position as agent 45\n",
      "Agent 20 as the same initial position as agent 43\n",
      "Agent 23 as the same initial position as agent 32\n",
      "Agent 23 as the same initial position as agent 46\n",
      "Agent 24 as the same initial position as agent 2\n",
      "Agent 25 as the same initial position as agent 8\n",
      "Agent 25 as the same initial position as agent 44\n",
      "Agent 27 as the same initial position as agent 12\n",
      "Agent 27 as the same initial position as agent 17\n",
      "Agent 28 as the same initial position as agent 10\n",
      "Agent 28 as the same initial position as agent 38\n",
      "Agent 28 as the same initial position as agent 48\n",
      "Agent 29 as the same initial position as agent 13\n",
      "Agent 31 as the same initial position as agent 36\n",
      "Agent 32 as the same initial position as agent 23\n",
      "Agent 32 as the same initial position as agent 46\n",
      "Agent 34 as the same initial position as agent 0\n",
      "Agent 35 as the same initial position as agent 19\n",
      "Agent 35 as the same initial position as agent 45\n",
      "Agent 36 as the same initial position as agent 31\n",
      "Agent 37 as the same initial position as agent 4\n",
      "Agent 37 as the same initial position as agent 14\n",
      "Agent 38 as the same initial position as agent 10\n",
      "Agent 38 as the same initial position as agent 28\n",
      "Agent 38 as the same initial position as agent 48\n",
      "Agent 40 as the same initial position as agent 7\n",
      "Agent 40 as the same initial position as agent 49\n",
      "Agent 41 as the same initial position as agent 6\n",
      "Agent 42 as the same initial position as agent 15\n",
      "Agent 42 as the same initial position as agent 47\n",
      "Agent 43 as the same initial position as agent 20\n",
      "Agent 44 as the same initial position as agent 8\n",
      "Agent 44 as the same initial position as agent 25\n",
      "Agent 45 as the same initial position as agent 19\n",
      "Agent 45 as the same initial position as agent 35\n",
      "Agent 46 as the same initial position as agent 23\n",
      "Agent 46 as the same initial position as agent 32\n",
      "Agent 47 as the same initial position as agent 15\n",
      "Agent 47 as the same initial position as agent 42\n",
      "Agent 48 as the same initial position as agent 10\n",
      "Agent 48 as the same initial position as agent 28\n",
      "Agent 48 as the same initial position as agent 38\n",
      "Agent 49 as the same initial position as agent 7\n",
      "Agent 49 as the same initial position as agent 40\n"
     ]
    }
   ],
   "source": [
    "agents_with_same_start = set()\n",
    "print(\"\\n The following agents have the same initial position:\")\n",
    "print(\"=====================================================\")\n",
    "for agent_idx, agent in enumerate(env.agents):\n",
    "    for agent_2_idx, agent2 in enumerate(env.agents):\n",
    "        if agent_idx != agent_2_idx and agent.initial_position == agent2.initial_position:\n",
    "            print(\"Agent {} as the same initial position as agent {}\".format(agent_idx, agent_2_idx))\n",
    "            agents_with_same_start.add(agent_idx)"
   ]
  },
  {
   "cell_type": "markdown",
   "metadata": {},
   "source": [
    "Lets try to enter with all of these agents at the same time"
   ]
  },
  {
   "cell_type": "code",
   "execution_count": 17,
   "metadata": {},
   "outputs": [],
   "source": [
    "action_dict = dict()"
   ]
  },
  {
   "cell_type": "code",
   "execution_count": 18,
   "metadata": {},
   "outputs": [],
   "source": [
    "for agent_id in agents_with_same_start:\n",
    "    action_dict[agent_id] = 1  # Try to move with the agents"
   ]
  },
  {
   "cell_type": "markdown",
   "metadata": {},
   "source": [
    "Do a step in the environment to see what agents entered:"
   ]
  },
  {
   "cell_type": "code",
   "execution_count": 19,
   "metadata": {},
   "outputs": [],
   "source": [
    "env.step(action_dict)\n",
    "pass"
   ]
  },
  {
   "cell_type": "markdown",
   "metadata": {},
   "source": [
    "Current state and position of the agents after all agents with same start position tried to move"
   ]
  },
  {
   "cell_type": "code",
   "execution_count": 20,
   "metadata": {},
   "outputs": [
    {
     "name": "stdout",
     "output_type": "stream",
     "text": [
      "\n",
      " This happened when all tried to enter at the same time:\n",
      "========================================================\n",
      "Agent 0 status is: RailAgentStatus.ACTIVE with the current position being (22, 74).\n",
      "Agent 2 status is: RailAgentStatus.ACTIVE with the current position being (19, 92).\n",
      "Agent 4 status is: RailAgentStatus.ACTIVE with the current position being (39, 16).\n",
      "Agent 6 status is: RailAgentStatus.ACTIVE with the current position being (6, 93).\n",
      "Agent 7 status is: RailAgentStatus.ACTIVE with the current position being (41, 29).\n",
      "Agent 8 status is: RailAgentStatus.ACTIVE with the current position being (50, 44).\n",
      "Agent 10 status is: RailAgentStatus.ACTIVE with the current position being (41, 16).\n",
      "Agent 11 status is: RailAgentStatus.ACTIVE with the current position being (19, 96).\n",
      "Agent 12 status is: RailAgentStatus.ACTIVE with the current position being (32, 86).\n",
      "Agent 13 status is: RailAgentStatus.ACTIVE with the current position being (53, 63).\n",
      "Agent 14 status is: RailAgentStatus.READY_TO_DEPART with the current position being None.\n",
      "Agent 15 status is: RailAgentStatus.ACTIVE with the current position being (56, 26).\n",
      "Agent 17 status is: RailAgentStatus.READY_TO_DEPART with the current position being None.\n",
      "Agent 18 status is: RailAgentStatus.READY_TO_DEPART with the current position being None.\n",
      "Agent 19 status is: RailAgentStatus.ACTIVE with the current position being (37, 57).\n",
      "Agent 20 status is: RailAgentStatus.ACTIVE with the current position being (51, 86).\n",
      "Agent 23 status is: RailAgentStatus.ACTIVE with the current position being (43, 16).\n",
      "Agent 24 status is: RailAgentStatus.READY_TO_DEPART with the current position being None.\n",
      "Agent 25 status is: RailAgentStatus.READY_TO_DEPART with the current position being None.\n",
      "Agent 27 status is: RailAgentStatus.READY_TO_DEPART with the current position being None.\n",
      "Agent 28 status is: RailAgentStatus.READY_TO_DEPART with the current position being None.\n",
      "Agent 29 status is: RailAgentStatus.READY_TO_DEPART with the current position being None.\n",
      "Agent 31 status is: RailAgentStatus.ACTIVE with the current position being (24, 38).\n",
      "Agent 32 status is: RailAgentStatus.READY_TO_DEPART with the current position being None.\n",
      "Agent 34 status is: RailAgentStatus.READY_TO_DEPART with the current position being None.\n",
      "Agent 35 status is: RailAgentStatus.READY_TO_DEPART with the current position being None.\n",
      "Agent 36 status is: RailAgentStatus.READY_TO_DEPART with the current position being None.\n",
      "Agent 37 status is: RailAgentStatus.READY_TO_DEPART with the current position being None.\n",
      "Agent 38 status is: RailAgentStatus.READY_TO_DEPART with the current position being None.\n",
      "Agent 40 status is: RailAgentStatus.READY_TO_DEPART with the current position being None.\n",
      "Agent 41 status is: RailAgentStatus.READY_TO_DEPART with the current position being None.\n",
      "Agent 42 status is: RailAgentStatus.READY_TO_DEPART with the current position being None.\n",
      "Agent 43 status is: RailAgentStatus.READY_TO_DEPART with the current position being None.\n",
      "Agent 44 status is: RailAgentStatus.READY_TO_DEPART with the current position being None.\n",
      "Agent 45 status is: RailAgentStatus.READY_TO_DEPART with the current position being None.\n",
      "Agent 46 status is: RailAgentStatus.READY_TO_DEPART with the current position being None.\n",
      "Agent 47 status is: RailAgentStatus.READY_TO_DEPART with the current position being None.\n",
      "Agent 48 status is: RailAgentStatus.READY_TO_DEPART with the current position being None.\n",
      "Agent 49 status is: RailAgentStatus.READY_TO_DEPART with the current position being None.\n"
     ]
    }
   ],
   "source": [
    "print(\"\\n This happened when all tried to enter at the same time:\")\n",
    "print(\"========================================================\")\n",
    "for agent_id in agents_with_same_start:\n",
    "    print(\n",
    "        \"Agent {} status is: {} with the current position being {}.\".format(\n",
    "            agent_id, str(env.agents[agent_id].status),\n",
    "            str(env.agents[agent_id].position)))"
   ]
  },
  {
   "cell_type": "markdown",
   "metadata": {},
   "source": [
    "As you see only the agents with lower indexes moved. As soon as the cell is free again the agents can attempt<br>\n",
    "to start again."
   ]
  },
  {
   "cell_type": "markdown",
   "metadata": {},
   "source": [
    "You will also notice, that the agents move at different speeds once they are on the rail.<br>\n",
    "The agents will always move at full speed when moving, never a speed inbetween.<br>\n",
    "The fastest an agent can go is 1, meaning that it moves to the next cell at every time step<br>\n",
    "All slower speeds indicate the fraction of a cell that is moved at each time step<br>\n",
    "Lets look at the current speed data of the agents:"
   ]
  },
  {
   "cell_type": "code",
   "execution_count": 21,
   "metadata": {},
   "outputs": [
    {
     "name": "stdout",
     "output_type": "stream",
     "text": [
      "\n",
      " The speed information of the agents are:\n",
      "=========================================\n"
     ]
    }
   ],
   "source": [
    "print(\"\\n The speed information of the agents are:\")\n",
    "print(\"=========================================\")"
   ]
  },
  {
   "cell_type": "code",
   "execution_count": 22,
   "metadata": {},
   "outputs": [
    {
     "name": "stdout",
     "output_type": "stream",
     "text": [
      "Agent 0 speed is: 0.25 with the current fractional position being 0.0\n",
      "Agent 1 speed is: 0.33 with the current fractional position being 0.0\n",
      "Agent 2 speed is: 0.25 with the current fractional position being 0.0\n",
      "Agent 3 speed is: 0.25 with the current fractional position being 0.0\n",
      "Agent 4 speed is: 1.00 with the current fractional position being 0.0\n",
      "Agent 5 speed is: 0.50 with the current fractional position being 0.0\n",
      "Agent 6 speed is: 0.25 with the current fractional position being 0.0\n",
      "Agent 7 speed is: 0.25 with the current fractional position being 0.0\n",
      "Agent 8 speed is: 0.25 with the current fractional position being 0.0\n",
      "Agent 9 speed is: 0.50 with the current fractional position being 0.0\n",
      "Agent 10 speed is: 0.33 with the current fractional position being 0.0\n",
      "Agent 11 speed is: 0.33 with the current fractional position being 0.0\n",
      "Agent 12 speed is: 0.25 with the current fractional position being 0.0\n",
      "Agent 13 speed is: 0.50 with the current fractional position being 0.0\n",
      "Agent 14 speed is: 0.33 with the current fractional position being 0.0\n",
      "Agent 15 speed is: 0.25 with the current fractional position being 0.0\n",
      "Agent 16 speed is: 1.00 with the current fractional position being 0.0\n",
      "Agent 17 speed is: 1.00 with the current fractional position being 0.0\n",
      "Agent 18 speed is: 1.00 with the current fractional position being 0.0\n",
      "Agent 19 speed is: 0.33 with the current fractional position being 0.0\n",
      "Agent 20 speed is: 0.50 with the current fractional position being 0.0\n",
      "Agent 21 speed is: 0.33 with the current fractional position being 0.0\n",
      "Agent 22 speed is: 0.25 with the current fractional position being 0.0\n",
      "Agent 23 speed is: 0.33 with the current fractional position being 0.0\n",
      "Agent 24 speed is: 0.50 with the current fractional position being 0.0\n",
      "Agent 25 speed is: 1.00 with the current fractional position being 0.0\n",
      "Agent 26 speed is: 0.50 with the current fractional position being 0.0\n",
      "Agent 27 speed is: 1.00 with the current fractional position being 0.0\n",
      "Agent 28 speed is: 0.25 with the current fractional position being 0.0\n",
      "Agent 29 speed is: 0.25 with the current fractional position being 0.0\n",
      "Agent 30 speed is: 0.50 with the current fractional position being 0.0\n",
      "Agent 31 speed is: 0.50 with the current fractional position being 0.0\n",
      "Agent 32 speed is: 1.00 with the current fractional position being 0.0\n",
      "Agent 33 speed is: 0.25 with the current fractional position being 0.0\n",
      "Agent 34 speed is: 0.25 with the current fractional position being 0.0\n",
      "Agent 35 speed is: 0.33 with the current fractional position being 0.0\n",
      "Agent 36 speed is: 0.33 with the current fractional position being 0.0\n",
      "Agent 37 speed is: 0.33 with the current fractional position being 0.0\n",
      "Agent 38 speed is: 0.33 with the current fractional position being 0.0\n",
      "Agent 39 speed is: 1.00 with the current fractional position being 0.0\n",
      "Agent 40 speed is: 1.00 with the current fractional position being 0.0\n",
      "Agent 41 speed is: 1.00 with the current fractional position being 0.0\n",
      "Agent 42 speed is: 0.50 with the current fractional position being 0.0\n",
      "Agent 43 speed is: 0.33 with the current fractional position being 0.0\n",
      "Agent 44 speed is: 1.00 with the current fractional position being 0.0\n",
      "Agent 45 speed is: 1.00 with the current fractional position being 0.0\n",
      "Agent 46 speed is: 1.00 with the current fractional position being 0.0\n",
      "Agent 47 speed is: 0.33 with the current fractional position being 0.0\n",
      "Agent 48 speed is: 0.33 with the current fractional position being 0.0\n",
      "Agent 49 speed is: 0.50 with the current fractional position being 0.0\n"
     ]
    }
   ],
   "source": [
    "for agent_idx, agent in enumerate(env.agents):\n",
    "    print(\n",
    "        \"Agent {} speed is: {:.2f} with the current fractional position being {}\".format(\n",
    "            agent_idx, agent.speed_data['speed'], agent.speed_data['position_fraction']))"
   ]
  },
  {
   "cell_type": "markdown",
   "metadata": {},
   "source": [
    "New the agents can also have stochastic malfunctions happening which will lead to them being unable to move<br>\n",
    "for a certain amount of time steps. The malfunction data of the agents can easily be accessed as follows"
   ]
  },
  {
   "cell_type": "code",
   "execution_count": 23,
   "metadata": {},
   "outputs": [
    {
     "name": "stdout",
     "output_type": "stream",
     "text": [
      "\n",
      " The malfunction data of the agents are:\n",
      "========================================\n"
     ]
    }
   ],
   "source": [
    "print(\"\\n The malfunction data of the agents are:\")\n",
    "print(\"========================================\")"
   ]
  },
  {
   "cell_type": "code",
   "execution_count": 24,
   "metadata": {},
   "outputs": [
    {
     "name": "stdout",
     "output_type": "stream",
     "text": [
      "Agent 0 is OK = True\n",
      "Agent 1 is OK = True\n",
      "Agent 2 is OK = True\n",
      "Agent 3 is OK = True\n",
      "Agent 4 is OK = True\n",
      "Agent 5 is OK = True\n",
      "Agent 6 is OK = True\n",
      "Agent 7 is OK = True\n",
      "Agent 8 is OK = True\n",
      "Agent 9 is OK = True\n",
      "Agent 10 is OK = True\n",
      "Agent 11 is OK = True\n",
      "Agent 12 is OK = True\n",
      "Agent 13 is OK = True\n",
      "Agent 14 is OK = True\n",
      "Agent 15 is OK = True\n",
      "Agent 16 is OK = True\n",
      "Agent 17 is OK = True\n",
      "Agent 18 is OK = True\n",
      "Agent 19 is OK = True\n",
      "Agent 20 is OK = True\n",
      "Agent 21 is OK = True\n",
      "Agent 22 is OK = True\n",
      "Agent 23 is OK = True\n",
      "Agent 24 is OK = True\n",
      "Agent 25 is OK = True\n",
      "Agent 26 is OK = True\n",
      "Agent 27 is OK = True\n",
      "Agent 28 is OK = True\n",
      "Agent 29 is OK = True\n",
      "Agent 30 is OK = True\n",
      "Agent 31 is OK = True\n",
      "Agent 32 is OK = True\n",
      "Agent 33 is OK = True\n",
      "Agent 34 is OK = True\n",
      "Agent 35 is OK = True\n",
      "Agent 36 is OK = True\n",
      "Agent 37 is OK = True\n",
      "Agent 38 is OK = True\n",
      "Agent 39 is OK = True\n",
      "Agent 40 is OK = True\n",
      "Agent 41 is OK = True\n",
      "Agent 42 is OK = True\n",
      "Agent 43 is OK = True\n",
      "Agent 44 is OK = True\n",
      "Agent 45 is OK = True\n",
      "Agent 46 is OK = True\n",
      "Agent 47 is OK = True\n",
      "Agent 48 is OK = True\n",
      "Agent 49 is OK = True\n"
     ]
    }
   ],
   "source": [
    "for agent_idx, agent in enumerate(env.agents):\n",
    "    print(\n",
    "        \"Agent {} is OK = {}\".format(\n",
    "            agent_idx, agent.malfunction_data['malfunction'] < 1))"
   ]
  },
  {
   "cell_type": "markdown",
   "metadata": {},
   "source": [
    "Now that you have seen these novel concepts that were introduced you will realize that agents don't need to take<br>\n",
    "an action at every time step as it will only change the outcome when actions are chosen at cell entry.<br>\n",
    "Therefore the environment provides information about what agents need to provide an action in the next step.<br>\n",
    "You can access this in the following way."
   ]
  },
  {
   "cell_type": "markdown",
   "metadata": {},
   "source": [
    "Chose an action for each agent"
   ]
  },
  {
   "cell_type": "code",
   "execution_count": 25,
   "metadata": {},
   "outputs": [
    {
     "name": "stdout",
     "output_type": "stream",
     "text": [
      "\n",
      " The following agents can register an action:\n",
      "========================================\n",
      "Agent 0 needs to submit an action.\n",
      "Agent 1 needs to submit an action.\n",
      "Agent 2 needs to submit an action.\n",
      "Agent 3 needs to submit an action.\n",
      "Agent 4 needs to submit an action.\n",
      "Agent 5 needs to submit an action.\n",
      "Agent 6 needs to submit an action.\n",
      "Agent 7 needs to submit an action.\n",
      "Agent 8 needs to submit an action.\n",
      "Agent 9 needs to submit an action.\n",
      "Agent 10 needs to submit an action.\n",
      "Agent 11 needs to submit an action.\n",
      "Agent 12 needs to submit an action.\n",
      "Agent 13 needs to submit an action.\n",
      "Agent 14 needs to submit an action.\n",
      "Agent 15 needs to submit an action.\n",
      "Agent 16 needs to submit an action.\n",
      "Agent 17 needs to submit an action.\n",
      "Agent 18 needs to submit an action.\n",
      "Agent 19 needs to submit an action.\n",
      "Agent 20 needs to submit an action.\n",
      "Agent 21 needs to submit an action.\n",
      "Agent 22 needs to submit an action.\n",
      "Agent 23 needs to submit an action.\n",
      "Agent 24 needs to submit an action.\n",
      "Agent 25 needs to submit an action.\n",
      "Agent 26 needs to submit an action.\n",
      "Agent 27 needs to submit an action.\n",
      "Agent 28 needs to submit an action.\n",
      "Agent 29 needs to submit an action.\n",
      "Agent 30 needs to submit an action.\n",
      "Agent 31 needs to submit an action.\n",
      "Agent 32 needs to submit an action.\n",
      "Agent 33 needs to submit an action.\n",
      "Agent 34 needs to submit an action.\n",
      "Agent 35 needs to submit an action.\n",
      "Agent 36 needs to submit an action.\n",
      "Agent 37 needs to submit an action.\n",
      "Agent 38 needs to submit an action.\n",
      "Agent 39 needs to submit an action.\n",
      "Agent 40 needs to submit an action.\n",
      "Agent 41 needs to submit an action.\n",
      "Agent 42 needs to submit an action.\n",
      "Agent 43 needs to submit an action.\n",
      "Agent 44 needs to submit an action.\n",
      "Agent 45 needs to submit an action.\n",
      "Agent 46 needs to submit an action.\n",
      "Agent 47 needs to submit an action.\n",
      "Agent 48 needs to submit an action.\n",
      "Agent 49 needs to submit an action.\n"
     ]
    }
   ],
   "source": [
    "for a in range(env.get_num_agents()):\n",
    "    action = controller.act(0)\n",
    "    action_dict.update({a: action})\n",
    "# Do the environment step\n",
    "observations, rewards, dones, information = env.step(action_dict)\n",
    "print(\"\\n The following agents can register an action:\")\n",
    "print(\"========================================\")\n",
    "for info in information['action_required']:\n",
    "    print(\"Agent {} needs to submit an action.\".format(info))"
   ]
  },
  {
   "cell_type": "markdown",
   "metadata": {},
   "source": [
    "We recommend that you monitor the malfunction data and the action required in order to optimize your training<br>\n",
    "and controlling code."
   ]
  },
  {
   "cell_type": "markdown",
   "metadata": {},
   "source": [
    "Let us now look at an episode playing out with random actions performed"
   ]
  },
  {
   "cell_type": "code",
   "execution_count": 26,
   "metadata": {},
   "outputs": [
    {
     "name": "stdout",
     "output_type": "stream",
     "text": [
      "\n",
      "Start episode...\n"
     ]
    }
   ],
   "source": [
    "print(\"\\nStart episode...\")"
   ]
  },
  {
   "cell_type": "markdown",
   "metadata": {},
   "source": [
    "Reset the rendering system"
   ]
  },
  {
   "cell_type": "code",
   "execution_count": 27,
   "metadata": {},
   "outputs": [],
   "source": [
    "env_renderer.reset()\n"
   ]
  },
  {
   "cell_type": "markdown",
   "metadata": {},
   "source": [
    "Here you can also further enhance the provided observation by means of normalization<br>\n",
    "See training navigation example in the baseline repository"
   ]
  },
  {
   "cell_type": "markdown",
   "metadata": {},
   "source": [
    "## Javascript Renderer\n",
    "The cell below should create an HTML \"iframe\" which is like a new window within a window.\n",
    "It loads from the Flask server created above, and which should now be running in the background, listening on localhost:8080.  The server should have been created with the Flatland RailEnv.  When the JS Renderer connects to the server, it should load the env data, ie the rails and agent positions.\n",
    "\n",
    "Note that only one server can be running on the host / machine / VM because it is configured to listen on a fixed port (8080).  Only one JS renderer can connect to the server. \n",
    "\n",
    "If you start more than one, only one will work, and it may be glitchy.  However it can be convenient to start a new window pointing to the server on http://localhost:8080/index.html - you can then position the viewer elsewhere, and run steps from the cells below."
   ]
  },
  {
   "cell_type": "code",
   "execution_count": 28,
   "metadata": {},
   "outputs": [],
   "source": [
    "#%%html\n",
    "#<iframe src=\"http://127.0.0.1:8080/index.html\" height=500 width=600 />\n"
   ]
  },
  {
   "cell_type": "code",
   "execution_count": 29,
   "metadata": {},
   "outputs": [],
   "source": [
    "score = 0\n",
    "# Run episode\n",
    "frame_step = 0"
   ]
  },
  {
   "cell_type": "code",
   "execution_count": 30,
   "metadata": {},
   "outputs": [],
   "source": [
    "nSteps = 1000"
   ]
  },
  {
   "cell_type": "code",
   "execution_count": 31,
   "metadata": {},
   "outputs": [
    {
     "name": "stderr",
     "output_type": "stream",
     "text": [
      "127.0.0.1 - - [28/Dec/2019 20:22:45] \"\u001b[37mGET /socket.io/?EIO=3&transport=polling&t=MzEBA88&sid=0b854fcfadce4efaa6468e7a5979d178 HTTP/1.1\u001b[0m\" 200 -\n",
      "127.0.0.1 - - [28/Dec/2019 20:22:45] \"\u001b[37mGET /socket.io/?EIO=3&transport=polling&t=MzEBF7H&sid=0b854fcfadce4efaa6468e7a5979d178 HTTP/1.1\u001b[0m\" 200 -\n",
      "127.0.0.1 - - [28/Dec/2019 20:22:46] \"\u001b[37mGET /socket.io/?EIO=3&transport=polling&t=MzEBF7S&sid=0b854fcfadce4efaa6468e7a5979d178 HTTP/1.1\u001b[0m\" 200 -\n",
      "127.0.0.1 - - [28/Dec/2019 20:22:46] \"\u001b[37mGET /socket.io/?EIO=3&transport=polling&t=MzEBF86&sid=0b854fcfadce4efaa6468e7a5979d178 HTTP/1.1\u001b[0m\" 200 -\n",
      "127.0.0.1 - - [28/Dec/2019 20:22:46] \"\u001b[37mGET /socket.io/?EIO=3&transport=polling&t=MzEBF8c&sid=0b854fcfadce4efaa6468e7a5979d178 HTTP/1.1\u001b[0m\" 200 -\n",
      "127.0.0.1 - - [28/Dec/2019 20:22:46] \"\u001b[37mGET /socket.io/?EIO=3&transport=polling&t=MzEBF8x&sid=0b854fcfadce4efaa6468e7a5979d178 HTTP/1.1\u001b[0m\" 200 -\n",
      "127.0.0.1 - - [28/Dec/2019 20:22:46] \"\u001b[37mGET /socket.io/?EIO=3&transport=polling&t=MzEBF9O&sid=0b854fcfadce4efaa6468e7a5979d178 HTTP/1.1\u001b[0m\" 200 -\n"
     ]
    },
    {
     "name": "stdout",
     "output_type": "stream",
     "text": [
      "Background Render complete\n",
      "Episode: Steps 0\t Score = -25.91666666666666\n",
      "Episode: Steps 1\t Score = -51.83333333333334\n",
      "Episode: Steps 2\t Score = -77.74999999999999\n",
      "Episode: Steps 3\t Score = -103.66666666666659\n",
      "Episode: Steps 4\t Score = -129.5833333333332\n",
      "Episode: Steps 5\t Score = -155.5\n",
      "Episode: Steps 6\t Score = -181.4166666666668\n",
      "Episode: Steps 7\t Score = -207.3333333333336\n"
     ]
    },
    {
     "name": "stderr",
     "output_type": "stream",
     "text": [
      "127.0.0.1 - - [28/Dec/2019 20:22:46] \"\u001b[37mGET /socket.io/?EIO=3&transport=polling&t=MzEBF9m&sid=0b854fcfadce4efaa6468e7a5979d178 HTTP/1.1\u001b[0m\" 200 -\n",
      "127.0.0.1 - - [28/Dec/2019 20:22:46] \"\u001b[37mGET /socket.io/?EIO=3&transport=polling&t=MzEBFA8&sid=0b854fcfadce4efaa6468e7a5979d178 HTTP/1.1\u001b[0m\" 200 -\n",
      "127.0.0.1 - - [28/Dec/2019 20:22:46] \"\u001b[37mGET /socket.io/?EIO=3&transport=polling&t=MzEBFAU&sid=0b854fcfadce4efaa6468e7a5979d178 HTTP/1.1\u001b[0m\" 200 -\n",
      "127.0.0.1 - - [28/Dec/2019 20:22:46] \"\u001b[37mGET /socket.io/?EIO=3&transport=polling&t=MzEBFAw&sid=0b854fcfadce4efaa6468e7a5979d178 HTTP/1.1\u001b[0m\" 200 -\n",
      "127.0.0.1 - - [28/Dec/2019 20:22:46] \"\u001b[37mGET /socket.io/?EIO=3&transport=polling&t=MzEBFBL&sid=0b854fcfadce4efaa6468e7a5979d178 HTTP/1.1\u001b[0m\" 200 -\n",
      "127.0.0.1 - - [28/Dec/2019 20:22:46] \"\u001b[37mGET /socket.io/?EIO=3&transport=polling&t=MzEBFBo&sid=0b854fcfadce4efaa6468e7a5979d178 HTTP/1.1\u001b[0m\" 200 -\n",
      "127.0.0.1 - - [28/Dec/2019 20:22:46] \"\u001b[37mGET /socket.io/?EIO=3&transport=polling&t=MzEBFC9&sid=0b854fcfadce4efaa6468e7a5979d178 HTTP/1.1\u001b[0m\" 200 -\n",
      "127.0.0.1 - - [28/Dec/2019 20:22:46] \"\u001b[37mGET /socket.io/?EIO=3&transport=polling&t=MzEBFCS&sid=0b854fcfadce4efaa6468e7a5979d178 HTTP/1.1\u001b[0m\" 200 -\n",
      "127.0.0.1 - - [28/Dec/2019 20:22:46] \"\u001b[37mGET /socket.io/?EIO=3&transport=polling&t=MzEBFCu&sid=0b854fcfadce4efaa6468e7a5979d178 HTTP/1.1\u001b[0m\" 200 -\n"
     ]
    },
    {
     "name": "stdout",
     "output_type": "stream",
     "text": [
      "Episode: Steps 8\t Score = -233.2500000000004\n",
      "Episode: Steps 9\t Score = -259.16666666666714\n",
      "Episode: Steps 10\t Score = -285.08333333333354\n",
      "Episode: Steps 11\t Score = -310.99999999999994\n",
      "Episode: Steps 12\t Score = -336.91666666666634\n",
      "Episode: Steps 13\t Score = -362.83333333333275\n",
      "Episode: Steps 14\t Score = -388.74999999999915\n",
      "Episode: Steps 15\t Score = -414.66666666666555\n",
      "Episode: Steps 16\t Score = -440.58333333333195\n"
     ]
    },
    {
     "name": "stderr",
     "output_type": "stream",
     "text": [
      "127.0.0.1 - - [28/Dec/2019 20:22:46] \"\u001b[37mGET /socket.io/?EIO=3&transport=polling&t=MzEBFDF&sid=0b854fcfadce4efaa6468e7a5979d178 HTTP/1.1\u001b[0m\" 200 -\n",
      "127.0.0.1 - - [28/Dec/2019 20:22:46] \"\u001b[37mGET /socket.io/?EIO=3&transport=polling&t=MzEBFDi&sid=0b854fcfadce4efaa6468e7a5979d178 HTTP/1.1\u001b[0m\" 200 -\n",
      "127.0.0.1 - - [28/Dec/2019 20:22:46] \"\u001b[37mGET /socket.io/?EIO=3&transport=polling&t=MzEBFE6&sid=0b854fcfadce4efaa6468e7a5979d178 HTTP/1.1\u001b[0m\" 200 -\n",
      "127.0.0.1 - - [28/Dec/2019 20:22:46] \"\u001b[37mGET /socket.io/?EIO=3&transport=polling&t=MzEBFEc&sid=0b854fcfadce4efaa6468e7a5979d178 HTTP/1.1\u001b[0m\" 200 -\n",
      "127.0.0.1 - - [28/Dec/2019 20:22:46] \"\u001b[37mGET /socket.io/?EIO=3&transport=polling&t=MzEBFF4&sid=0b854fcfadce4efaa6468e7a5979d178 HTTP/1.1\u001b[0m\" 200 -\n"
     ]
    },
    {
     "name": "stdout",
     "output_type": "stream",
     "text": [
      "Episode: Steps 17\t Score = -466.49999999999835\n",
      "Episode: Steps 18\t Score = -492.41666666666475\n",
      "Episode: Steps 19\t Score = -518.3333333333313\n",
      "Episode: Steps 20\t Score = -544.2499999999985\n",
      "Episode: Steps 21\t Score = -570.1666666666657\n",
      "Episode: Steps 22\t Score = -596.0833333333329\n",
      "Episode: Steps 23\t Score = -621.0000000000001\n",
      "Episode: Steps 24\t Score = -645.9166666666673\n"
     ]
    },
    {
     "name": "stderr",
     "output_type": "stream",
     "text": [
      "127.0.0.1 - - [28/Dec/2019 20:22:46] \"\u001b[37mGET /socket.io/?EIO=3&transport=polling&t=MzEBFIG&sid=0b854fcfadce4efaa6468e7a5979d178 HTTP/1.1\u001b[0m\" 200 -\n",
      "127.0.0.1 - - [28/Dec/2019 20:22:46] \"\u001b[37mGET /socket.io/?EIO=3&transport=polling&t=MzEBFIS&sid=0b854fcfadce4efaa6468e7a5979d178 HTTP/1.1\u001b[0m\" 200 -\n",
      "127.0.0.1 - - [28/Dec/2019 20:22:46] \"\u001b[37mGET /socket.io/?EIO=3&transport=polling&t=MzEBFIY&sid=0b854fcfadce4efaa6468e7a5979d178 HTTP/1.1\u001b[0m\" 200 -\n",
      "127.0.0.1 - - [28/Dec/2019 20:22:46] \"\u001b[37mGET /socket.io/?EIO=3&transport=polling&t=MzEBFIw&sid=0b854fcfadce4efaa6468e7a5979d178 HTTP/1.1\u001b[0m\" 200 -\n",
      "127.0.0.1 - - [28/Dec/2019 20:22:46] \"\u001b[37mGET /socket.io/?EIO=3&transport=polling&t=MzEBFJU&sid=0b854fcfadce4efaa6468e7a5979d178 HTTP/1.1\u001b[0m\" 200 -\n"
     ]
    },
    {
     "name": "stdout",
     "output_type": "stream",
     "text": [
      "Episode: Steps 25\t Score = -670.8333333333345\n",
      "Episode: Steps 26\t Score = -695.7500000000017\n",
      "Episode: Steps 27\t Score = -720.6666666666689\n",
      "Episode: Steps 28\t Score = -745.5833333333361\n",
      "Episode: Steps 29\t Score = -770.5000000000033\n",
      "Episode: Steps 30\t Score = -795.4166666666705\n",
      "Episode: Steps 31\t Score = -820.3333333333377\n"
     ]
    },
    {
     "name": "stderr",
     "output_type": "stream",
     "text": [
      "127.0.0.1 - - [28/Dec/2019 20:22:46] \"\u001b[37mGET /socket.io/?EIO=3&transport=polling&t=MzEBFJr&sid=0b854fcfadce4efaa6468e7a5979d178 HTTP/1.1\u001b[0m\" 200 -\n",
      "127.0.0.1 - - [28/Dec/2019 20:22:46] \"\u001b[37mGET /socket.io/?EIO=3&transport=polling&t=MzEBFKl&sid=0b854fcfadce4efaa6468e7a5979d178 HTTP/1.1\u001b[0m\" 200 -\n",
      "127.0.0.1 - - [28/Dec/2019 20:22:46] \"\u001b[37mGET /socket.io/?EIO=3&transport=polling&t=MzEBFLS&sid=0b854fcfadce4efaa6468e7a5979d178 HTTP/1.1\u001b[0m\" 200 -\n",
      "127.0.0.1 - - [28/Dec/2019 20:22:46] \"\u001b[37mGET /socket.io/?EIO=3&transport=polling&t=MzEBFML&sid=0b854fcfadce4efaa6468e7a5979d178 HTTP/1.1\u001b[0m\" 200 -\n",
      "127.0.0.1 - - [28/Dec/2019 20:22:46] \"\u001b[37mGET /socket.io/?EIO=3&transport=polling&t=MzEBFMn&sid=0b854fcfadce4efaa6468e7a5979d178 HTTP/1.1\u001b[0m\" 200 -\n",
      "127.0.0.1 - - [28/Dec/2019 20:22:47] \"\u001b[37mGET /socket.io/?EIO=3&transport=polling&t=MzEBFNJ&sid=0b854fcfadce4efaa6468e7a5979d178 HTTP/1.1\u001b[0m\" 200 -\n"
     ]
    },
    {
     "name": "stdout",
     "output_type": "stream",
     "text": [
      "Episode: Steps 32\t Score = -845.2500000000049\n",
      "Episode: Steps 33\t Score = -870.1666666666721\n",
      "Episode: Steps 34\t Score = -895.0833333333393\n",
      "Episode: Steps 35\t Score = -920.0000000000065\n",
      "Episode: Steps 36\t Score = -944.9166666666737\n",
      "Episode: Steps 37\t Score = -969.8333333333409\n"
     ]
    },
    {
     "name": "stderr",
     "output_type": "stream",
     "text": [
      "127.0.0.1 - - [28/Dec/2019 20:22:47] \"\u001b[37mGET /socket.io/?EIO=3&transport=polling&t=MzEBFNh&sid=0b854fcfadce4efaa6468e7a5979d178 HTTP/1.1\u001b[0m\" 200 -\n",
      "127.0.0.1 - - [28/Dec/2019 20:22:47] \"\u001b[37mGET /socket.io/?EIO=3&transport=polling&t=MzEBFO6&sid=0b854fcfadce4efaa6468e7a5979d178 HTTP/1.1\u001b[0m\" 200 -\n",
      "127.0.0.1 - - [28/Dec/2019 20:22:47] \"\u001b[37mGET /socket.io/?EIO=3&transport=polling&t=MzEBFR5&sid=0b854fcfadce4efaa6468e7a5979d178 HTTP/1.1\u001b[0m\" 200 -\n"
     ]
    },
    {
     "name": "stdout",
     "output_type": "stream",
     "text": [
      "Episode: Steps 38\t Score = -994.7500000000081\n",
      "Episode: Steps 39\t Score = -1019.6666666666753\n",
      "Episode: Steps 40\t Score = -1044.5833333333412\n",
      "Episode: Steps 41\t Score = -1069.5000000000068\n",
      "Episode: Steps 42\t Score = -1094.4166666666724\n",
      "Episode: Steps 43\t Score = -1119.333333333338\n",
      "Episode: Steps 44\t Score = -1144.2500000000036\n"
     ]
    },
    {
     "name": "stderr",
     "output_type": "stream",
     "text": [
      "127.0.0.1 - - [28/Dec/2019 20:22:47] \"\u001b[37mGET /socket.io/?EIO=3&transport=polling&t=MzEBFRE&sid=0b854fcfadce4efaa6468e7a5979d178 HTTP/1.1\u001b[0m\" 200 -\n",
      "127.0.0.1 - - [28/Dec/2019 20:22:47] \"\u001b[37mGET /socket.io/?EIO=3&transport=polling&t=MzEBFRh&sid=0b854fcfadce4efaa6468e7a5979d178 HTTP/1.1\u001b[0m\" 200 -\n",
      "127.0.0.1 - - [28/Dec/2019 20:22:47] \"\u001b[37mGET /socket.io/?EIO=3&transport=polling&t=MzEBFSe&sid=0b854fcfadce4efaa6468e7a5979d178 HTTP/1.1\u001b[0m\" 200 -\n",
      "127.0.0.1 - - [28/Dec/2019 20:22:47] \"\u001b[37mGET /socket.io/?EIO=3&transport=polling&t=MzEBFTD&sid=0b854fcfadce4efaa6468e7a5979d178 HTTP/1.1\u001b[0m\" 200 -\n",
      "127.0.0.1 - - [28/Dec/2019 20:22:47] \"\u001b[37mGET /socket.io/?EIO=3&transport=polling&t=MzEBFTp&sid=0b854fcfadce4efaa6468e7a5979d178 HTTP/1.1\u001b[0m\" 200 -\n"
     ]
    },
    {
     "name": "stdout",
     "output_type": "stream",
     "text": [
      "Episode: Steps 45\t Score = -1169.1666666666692\n",
      "Episode: Steps 46\t Score = -1194.0833333333348\n",
      "Episode: Steps 47\t Score = -1219.0000000000005\n",
      "Episode: Steps 48\t Score = -1243.916666666666\n",
      "Episode: Steps 49\t Score = -1268.8333333333317\n"
     ]
    },
    {
     "name": "stderr",
     "output_type": "stream",
     "text": [
      "127.0.0.1 - - [28/Dec/2019 20:22:47] \"\u001b[37mGET /socket.io/?EIO=3&transport=polling&t=MzEBFUO&sid=0b854fcfadce4efaa6468e7a5979d178 HTTP/1.1\u001b[0m\" 200 -\n",
      "127.0.0.1 - - [28/Dec/2019 20:22:47] \"\u001b[37mGET /socket.io/?EIO=3&transport=polling&t=MzEBFUx&sid=0b854fcfadce4efaa6468e7a5979d178 HTTP/1.1\u001b[0m\" 200 -\n",
      "127.0.0.1 - - [28/Dec/2019 20:22:47] \"\u001b[37mGET /socket.io/?EIO=3&transport=polling&t=MzEBFVI&sid=0b854fcfadce4efaa6468e7a5979d178 HTTP/1.1\u001b[0m\" 200 -\n",
      "127.0.0.1 - - [28/Dec/2019 20:22:47] \"\u001b[37mGET /socket.io/?EIO=3&transport=polling&t=MzEBFVo&sid=0b854fcfadce4efaa6468e7a5979d178 HTTP/1.1\u001b[0m\" 200 -\n",
      "127.0.0.1 - - [28/Dec/2019 20:22:47] \"\u001b[37mGET /socket.io/?EIO=3&transport=polling&t=MzEBFW8&sid=0b854fcfadce4efaa6468e7a5979d178 HTTP/1.1\u001b[0m\" 200 -\n",
      "127.0.0.1 - - [28/Dec/2019 20:22:47] \"\u001b[37mGET /socket.io/?EIO=3&transport=polling&t=MzEBFWb&sid=0b854fcfadce4efaa6468e7a5979d178 HTTP/1.1\u001b[0m\" 200 -\n",
      "127.0.0.1 - - [28/Dec/2019 20:22:47] \"\u001b[37mGET /socket.io/?EIO=3&transport=polling&t=MzEBFWx&sid=0b854fcfadce4efaa6468e7a5979d178 HTTP/1.1\u001b[0m\" 200 -\n"
     ]
    },
    {
     "name": "stdout",
     "output_type": "stream",
     "text": [
      "Episode: Steps 50\t Score = -1293.7499999999973\n",
      "Episode: Steps 51\t Score = -1318.6666666666629\n",
      "Episode: Steps 52\t Score = -1343.5833333333285\n",
      "Episode: Steps 53\t Score = -1368.499999999994\n",
      "Episode: Steps 54\t Score = -1393.4166666666597\n",
      "Episode: Steps 55\t Score = -1418.3333333333253\n",
      "Episode: Steps 56\t Score = -1443.249999999991\n",
      "Episode: Steps 57\t Score = -1468.1666666666565\n"
     ]
    },
    {
     "name": "stderr",
     "output_type": "stream",
     "text": [
      "127.0.0.1 - - [28/Dec/2019 20:22:47] \"\u001b[37mGET /socket.io/?EIO=3&transport=polling&t=MzEBFaV&sid=0b854fcfadce4efaa6468e7a5979d178 HTTP/1.1\u001b[0m\" 200 -\n",
      "127.0.0.1 - - [28/Dec/2019 20:22:47] \"\u001b[37mGET /socket.io/?EIO=3&transport=polling&t=MzEBFai&sid=0b854fcfadce4efaa6468e7a5979d178 HTTP/1.1\u001b[0m\" 200 -\n",
      "127.0.0.1 - - [28/Dec/2019 20:22:47] \"\u001b[37mGET /socket.io/?EIO=3&transport=polling&t=MzEBFau&sid=0b854fcfadce4efaa6468e7a5979d178 HTTP/1.1\u001b[0m\" 200 -\n",
      "127.0.0.1 - - [28/Dec/2019 20:22:47] \"\u001b[37mGET /socket.io/?EIO=3&transport=polling&t=MzEBFbK&sid=0b854fcfadce4efaa6468e7a5979d178 HTTP/1.1\u001b[0m\" 200 -\n"
     ]
    },
    {
     "name": "stdout",
     "output_type": "stream",
     "text": [
      "Episode: Steps 58\t Score = -1493.0833333333221\n",
      "Episode: Steps 59\t Score = -1517.9999999999877\n",
      "Episode: Steps 60\t Score = -1542.9166666666533\n",
      "Episode: Steps 61\t Score = -1567.833333333319\n",
      "Episode: Steps 62\t Score = -1592.7499999999845\n",
      "Episode: Steps 63\t Score = -1617.6666666666501\n",
      "Episode: Steps 64\t Score = -1642.5833333333157\n"
     ]
    },
    {
     "name": "stderr",
     "output_type": "stream",
     "text": [
      "127.0.0.1 - - [28/Dec/2019 20:22:47] \"\u001b[37mGET /socket.io/?EIO=3&transport=polling&t=MzEBFbu&sid=0b854fcfadce4efaa6468e7a5979d178 HTTP/1.1\u001b[0m\" 200 -\n",
      "127.0.0.1 - - [28/Dec/2019 20:22:47] \"\u001b[37mGET /socket.io/?EIO=3&transport=polling&t=MzEBFcI&sid=0b854fcfadce4efaa6468e7a5979d178 HTTP/1.1\u001b[0m\" 200 -\n",
      "127.0.0.1 - - [28/Dec/2019 20:22:48] \"\u001b[37mGET /socket.io/?EIO=3&transport=polling&t=MzEBFcq&sid=0b854fcfadce4efaa6468e7a5979d178 HTTP/1.1\u001b[0m\" 200 -\n",
      "127.0.0.1 - - [28/Dec/2019 20:22:48] \"\u001b[37mGET /socket.io/?EIO=3&transport=polling&t=MzEBFdX&sid=0b854fcfadce4efaa6468e7a5979d178 HTTP/1.1\u001b[0m\" 200 -\n",
      "127.0.0.1 - - [28/Dec/2019 20:22:48] \"\u001b[37mGET /socket.io/?EIO=3&transport=polling&t=MzEBFdz&sid=0b854fcfadce4efaa6468e7a5979d178 HTTP/1.1\u001b[0m\" 200 -\n",
      "127.0.0.1 - - [28/Dec/2019 20:22:48] \"\u001b[37mGET /socket.io/?EIO=3&transport=polling&t=MzEBFeK&sid=0b854fcfadce4efaa6468e7a5979d178 HTTP/1.1\u001b[0m\" 200 -\n",
      "127.0.0.1 - - [28/Dec/2019 20:22:48] \"\u001b[37mGET /socket.io/?EIO=3&transport=polling&t=MzEBFeq&sid=0b854fcfadce4efaa6468e7a5979d178 HTTP/1.1\u001b[0m\" 200 -\n"
     ]
    },
    {
     "name": "stdout",
     "output_type": "stream",
     "text": [
      "Episode: Steps 65\t Score = -1667.4999999999814\n",
      "Episode: Steps 66\t Score = -1692.416666666647\n",
      "Episode: Steps 67\t Score = -1717.3333333333126\n",
      "Episode: Steps 68\t Score = -1742.2499999999782\n",
      "Episode: Steps 69\t Score = -1767.1666666666438\n",
      "Episode: Steps 70\t Score = -1792.0833333333094\n",
      "Episode: Steps 71\t Score = -1816.999999999975\n"
     ]
    },
    {
     "name": "stderr",
     "output_type": "stream",
     "text": [
      "127.0.0.1 - - [28/Dec/2019 20:22:48] \"\u001b[37mGET /socket.io/?EIO=3&transport=polling&t=MzEBFfA&sid=0b854fcfadce4efaa6468e7a5979d178 HTTP/1.1\u001b[0m\" 200 -\n",
      "127.0.0.1 - - [28/Dec/2019 20:22:48] \"\u001b[37mGET /socket.io/?EIO=3&transport=polling&t=MzEBFfd&sid=0b854fcfadce4efaa6468e7a5979d178 HTTP/1.1\u001b[0m\" 200 -\n",
      "127.0.0.1 - - [28/Dec/2019 20:22:48] \"\u001b[37mGET /socket.io/?EIO=3&transport=polling&t=MzEBFfy&sid=0b854fcfadce4efaa6468e7a5979d178 HTTP/1.1\u001b[0m\" 200 -\n",
      "127.0.0.1 - - [28/Dec/2019 20:22:48] \"\u001b[37mGET /socket.io/?EIO=3&transport=polling&t=MzEBFgT&sid=0b854fcfadce4efaa6468e7a5979d178 HTTP/1.1\u001b[0m\" 200 -\n"
     ]
    },
    {
     "name": "stdout",
     "output_type": "stream",
     "text": [
      "Episode: Steps 72\t Score = -1841.9166666666406\n",
      "Episode: Steps 73\t Score = -1866.8333333333062\n",
      "Episode: Steps 74\t Score = -1891.7499999999718\n",
      "Episode: Steps 75\t Score = -1916.6666666666374\n",
      "Episode: Steps 76\t Score = -1941.583333333303\n",
      "Episode: Steps 77\t Score = -1966.4999999999686\n",
      "Episode: Steps 78\t Score = -1991.4166666666342\n"
     ]
    },
    {
     "name": "stderr",
     "output_type": "stream",
     "text": [
      "127.0.0.1 - - [28/Dec/2019 20:22:48] \"\u001b[37mGET /socket.io/?EIO=3&transport=polling&t=MzEBFjM&sid=0b854fcfadce4efaa6468e7a5979d178 HTTP/1.1\u001b[0m\" 200 -\n",
      "127.0.0.1 - - [28/Dec/2019 20:22:48] \"\u001b[37mGET /socket.io/?EIO=3&transport=polling&t=MzEBFjS&sid=0b854fcfadce4efaa6468e7a5979d178 HTTP/1.1\u001b[0m\" 200 -\n",
      "127.0.0.1 - - [28/Dec/2019 20:22:48] \"\u001b[37mGET /socket.io/?EIO=3&transport=polling&t=MzEBFjY&sid=0b854fcfadce4efaa6468e7a5979d178 HTTP/1.1\u001b[0m\" 200 -\n",
      "127.0.0.1 - - [28/Dec/2019 20:22:48] \"\u001b[37mGET /socket.io/?EIO=3&transport=polling&t=MzEBFjs&sid=0b854fcfadce4efaa6468e7a5979d178 HTTP/1.1\u001b[0m\" 200 -\n",
      "127.0.0.1 - - [28/Dec/2019 20:22:48] \"\u001b[37mGET /socket.io/?EIO=3&transport=polling&t=MzEBFkK&sid=0b854fcfadce4efaa6468e7a5979d178 HTTP/1.1\u001b[0m\" 200 -\n",
      "127.0.0.1 - - [28/Dec/2019 20:22:48] \"\u001b[37mGET /socket.io/?EIO=3&transport=polling&t=MzEBFkm&sid=0b854fcfadce4efaa6468e7a5979d178 HTTP/1.1\u001b[0m\" 200 -\n",
      "127.0.0.1 - - [28/Dec/2019 20:22:48] \"\u001b[37mGET /socket.io/?EIO=3&transport=polling&t=MzEBFlI&sid=0b854fcfadce4efaa6468e7a5979d178 HTTP/1.1\u001b[0m\" 200 -\n"
     ]
    },
    {
     "name": "stdout",
     "output_type": "stream",
     "text": [
      "Episode: Steps 79\t Score = -2016.3333333332998\n",
      "Episode: Steps 80\t Score = -2041.2499999999654\n",
      "Episode: Steps 81\t Score = -2066.1666666666333\n",
      "Episode: Steps 82\t Score = -2091.083333333302\n",
      "Episode: Steps 83\t Score = -2115.999999999971\n",
      "Episode: Steps 84\t Score = -2140.9166666666397\n",
      "Episode: Steps 85\t Score = -2165.8333333333085\n"
     ]
    },
    {
     "name": "stderr",
     "output_type": "stream",
     "text": [
      "127.0.0.1 - - [28/Dec/2019 20:22:48] \"\u001b[37mGET /socket.io/?EIO=3&transport=polling&t=MzEBFlj&sid=0b854fcfadce4efaa6468e7a5979d178 HTTP/1.1\u001b[0m\" 200 -\n",
      "127.0.0.1 - - [28/Dec/2019 20:22:48] \"\u001b[37mGET /socket.io/?EIO=3&transport=polling&t=MzEBFmM&sid=0b854fcfadce4efaa6468e7a5979d178 HTTP/1.1\u001b[0m\" 200 -\n",
      "127.0.0.1 - - [28/Dec/2019 20:22:48] \"\u001b[37mGET /socket.io/?EIO=3&transport=polling&t=MzEBFn6&sid=0b854fcfadce4efaa6468e7a5979d178 HTTP/1.1\u001b[0m\" 200 -\n",
      "127.0.0.1 - - [28/Dec/2019 20:22:48] \"\u001b[37mGET /socket.io/?EIO=3&transport=polling&t=MzEBFnc&sid=0b854fcfadce4efaa6468e7a5979d178 HTTP/1.1\u001b[0m\" 200 -\n",
      "127.0.0.1 - - [28/Dec/2019 20:22:48] \"\u001b[37mGET /socket.io/?EIO=3&transport=polling&t=MzEBFnz&sid=0b854fcfadce4efaa6468e7a5979d178 HTTP/1.1\u001b[0m\" 200 -\n",
      "127.0.0.1 - - [28/Dec/2019 20:22:48] \"\u001b[37mGET /socket.io/?EIO=3&transport=polling&t=MzEBFoX&sid=0b854fcfadce4efaa6468e7a5979d178 HTTP/1.1\u001b[0m\" 200 -\n",
      "127.0.0.1 - - [28/Dec/2019 20:22:48] \"\u001b[37mGET /socket.io/?EIO=3&transport=polling&t=MzEBFo_&sid=0b854fcfadce4efaa6468e7a5979d178 HTTP/1.1\u001b[0m\" 200 -\n"
     ]
    },
    {
     "name": "stdout",
     "output_type": "stream",
     "text": [
      "Episode: Steps 86\t Score = -2190.7499999999773\n",
      "Episode: Steps 87\t Score = -2215.666666666646\n",
      "Episode: Steps 88\t Score = -2240.583333333315\n",
      "Episode: Steps 89\t Score = -2265.4999999999836\n",
      "Episode: Steps 90\t Score = -2290.4166666666524\n",
      "Episode: Steps 91\t Score = -2315.333333333321\n",
      "Episode: Steps 92\t Score = -2340.24999999999"
     ]
    },
    {
     "name": "stderr",
     "output_type": "stream",
     "text": [
      "127.0.0.1 - - [28/Dec/2019 20:22:48] \"\u001b[37mGET /socket.io/?EIO=3&transport=polling&t=MzEBFpW&sid=0b854fcfadce4efaa6468e7a5979d178 HTTP/1.1\u001b[0m\" 200 -\n",
      "127.0.0.1 - - [28/Dec/2019 20:22:48] \"\u001b[37mGET /socket.io/?EIO=3&transport=polling&t=MzEBFsS&sid=0b854fcfadce4efaa6468e7a5979d178 HTTP/1.1\u001b[0m\" 200 -\n",
      "127.0.0.1 - - [28/Dec/2019 20:22:49] \"\u001b[37mGET /socket.io/?EIO=3&transport=polling&t=MzEBFsg&sid=0b854fcfadce4efaa6468e7a5979d178 HTTP/1.1\u001b[0m\" 200 -\n"
     ]
    },
    {
     "name": "stdout",
     "output_type": "stream",
     "text": [
      "\n",
      "Episode: Steps 93\t Score = -2365.166666666659\n",
      "Episode: Steps 94\t Score = -2390.0833333333276\n",
      "Episode: Steps 95\t Score = -2414.9999999999964\n",
      "Episode: Steps 96\t Score = -2439.916666666665\n",
      "Episode: Steps 97\t Score = -2464.833333333334\n",
      "Episode: Steps 98\t Score = -2489.7500000000027\n",
      "Episode: Steps 99\t Score = -2514.6666666666715\n"
     ]
    },
    {
     "name": "stderr",
     "output_type": "stream",
     "text": [
      "127.0.0.1 - - [28/Dec/2019 20:22:49] \"\u001b[37mGET /socket.io/?EIO=3&transport=polling&t=MzEBFsx&sid=0b854fcfadce4efaa6468e7a5979d178 HTTP/1.1\u001b[0m\" 200 -\n",
      "127.0.0.1 - - [28/Dec/2019 20:22:49] \"\u001b[37mGET /socket.io/?EIO=3&transport=polling&t=MzEBFta&sid=0b854fcfadce4efaa6468e7a5979d178 HTTP/1.1\u001b[0m\" 200 -\n",
      "127.0.0.1 - - [28/Dec/2019 20:22:49] \"\u001b[37mGET /socket.io/?EIO=3&transport=polling&t=MzEBFu0&sid=0b854fcfadce4efaa6468e7a5979d178 HTTP/1.1\u001b[0m\" 200 -\n",
      "127.0.0.1 - - [28/Dec/2019 20:22:49] \"\u001b[37mGET /socket.io/?EIO=3&transport=polling&t=MzEBFuY&sid=0b854fcfadce4efaa6468e7a5979d178 HTTP/1.1\u001b[0m\" 200 -\n",
      "127.0.0.1 - - [28/Dec/2019 20:22:49] \"\u001b[37mGET /socket.io/?EIO=3&transport=polling&t=MzEBFuw&sid=0b854fcfadce4efaa6468e7a5979d178 HTTP/1.1\u001b[0m\" 200 -\n",
      "127.0.0.1 - - [28/Dec/2019 20:22:49] \"\u001b[37mGET /socket.io/?EIO=3&transport=polling&t=MzEBFva&sid=0b854fcfadce4efaa6468e7a5979d178 HTTP/1.1\u001b[0m\" 200 -\n",
      "127.0.0.1 - - [28/Dec/2019 20:22:49] \"\u001b[37mGET /socket.io/?EIO=3&transport=polling&t=MzEBFv_&sid=0b854fcfadce4efaa6468e7a5979d178 HTTP/1.1\u001b[0m\" 200 -\n"
     ]
    },
    {
     "name": "stdout",
     "output_type": "stream",
     "text": [
      "Episode: Steps 100\t Score = -2539.5833333333403\n",
      "Episode: Steps 101\t Score = -2564.500000000009\n",
      "Episode: Steps 102\t Score = -2589.416666666678\n",
      "Episode: Steps 103\t Score = -2614.3333333333467\n",
      "Episode: Steps 104\t Score = -2639.2500000000155\n",
      "Episode: Steps 105\t Score = -2664.1666666666843\n",
      "Episode: Steps 106\t Score = -2689.083333333353\n"
     ]
    },
    {
     "name": "stderr",
     "output_type": "stream",
     "text": [
      "127.0.0.1 - - [28/Dec/2019 20:22:49] \"\u001b[37mGET /socket.io/?EIO=3&transport=polling&t=MzEBFwP&sid=0b854fcfadce4efaa6468e7a5979d178 HTTP/1.1\u001b[0m\" 200 -\n",
      "127.0.0.1 - - [28/Dec/2019 20:22:49] \"\u001b[37mGET /socket.io/?EIO=3&transport=polling&t=MzEBFwq&sid=0b854fcfadce4efaa6468e7a5979d178 HTTP/1.1\u001b[0m\" 200 -\n",
      "127.0.0.1 - - [28/Dec/2019 20:22:49] \"\u001b[37mGET /socket.io/?EIO=3&transport=polling&t=MzEBFxP&sid=0b854fcfadce4efaa6468e7a5979d178 HTTP/1.1\u001b[0m\" 200 -\n",
      "127.0.0.1 - - [28/Dec/2019 20:22:49] \"\u001b[37mGET /socket.io/?EIO=3&transport=polling&t=MzEBFxv&sid=0b854fcfadce4efaa6468e7a5979d178 HTTP/1.1\u001b[0m\" 200 -\n",
      "127.0.0.1 - - [28/Dec/2019 20:22:49] \"\u001b[37mGET /socket.io/?EIO=3&transport=polling&t=MzEBFyW&sid=0b854fcfadce4efaa6468e7a5979d178 HTTP/1.1\u001b[0m\" 200 -\n",
      "127.0.0.1 - - [28/Dec/2019 20:22:49] \"\u001b[37mGET /socket.io/?EIO=3&transport=polling&t=MzEBFy_&sid=0b854fcfadce4efaa6468e7a5979d178 HTTP/1.1\u001b[0m\" 200 -\n"
     ]
    },
    {
     "name": "stdout",
     "output_type": "stream",
     "text": [
      "Episode: Steps 107\t Score = -2714.000000000022\n",
      "Episode: Steps 108\t Score = -2738.9166666666906\n",
      "Episode: Steps 109\t Score = -2763.8333333333594\n",
      "Episode: Steps 110\t Score = -2788.750000000028\n",
      "Episode: Steps 111\t Score = -2813.666666666697\n",
      "Episode: Steps 112\t Score = -2838.5833333333658\n",
      "Episode: Steps 113\t Score = -2863.5000000000346\n"
     ]
    },
    {
     "name": "stderr",
     "output_type": "stream",
     "text": [
      "127.0.0.1 - - [28/Dec/2019 20:22:49] \"\u001b[37mGET /socket.io/?EIO=3&transport=polling&t=MzEBF_h&sid=0b854fcfadce4efaa6468e7a5979d178 HTTP/1.1\u001b[0m\" 200 -\n",
      "127.0.0.1 - - [28/Dec/2019 20:22:49] \"\u001b[37mGET /socket.io/?EIO=3&transport=polling&t=MzEBF_v&sid=0b854fcfadce4efaa6468e7a5979d178 HTTP/1.1\u001b[0m\" 200 -\n",
      "127.0.0.1 - - [28/Dec/2019 20:22:49] \"\u001b[37mGET /socket.io/?EIO=3&transport=polling&t=MzEBG03&sid=0b854fcfadce4efaa6468e7a5979d178 HTTP/1.1\u001b[0m\" 200 -\n",
      "127.0.0.1 - - [28/Dec/2019 20:22:49] \"\u001b[37mGET /socket.io/?EIO=3&transport=polling&t=MzEBG0W&sid=0b854fcfadce4efaa6468e7a5979d178 HTTP/1.1\u001b[0m\" 200 -\n",
      "127.0.0.1 - - [28/Dec/2019 20:22:49] \"\u001b[37mGET /socket.io/?EIO=3&transport=polling&t=MzEBG0v&sid=0b854fcfadce4efaa6468e7a5979d178 HTTP/1.1\u001b[0m\" 200 -\n",
      "127.0.0.1 - - [28/Dec/2019 20:22:49] \"\u001b[37mGET /socket.io/?EIO=3&transport=polling&t=MzEBG1M&sid=0b854fcfadce4efaa6468e7a5979d178 HTTP/1.1\u001b[0m\" 200 -\n"
     ]
    },
    {
     "name": "stdout",
     "output_type": "stream",
     "text": [
      "Episode: Steps 114\t Score = -2888.4166666667033\n",
      "Episode: Steps 115\t Score = -2913.333333333372\n",
      "Episode: Steps 116\t Score = -2938.250000000041\n",
      "Episode: Steps 117\t Score = -2963.1666666667097\n",
      "Episode: Steps 118\t Score = -2988.0833333333785\n",
      "Episode: Steps 119\t Score = -3013.0000000000473\n",
      "Episode: Steps 120\t Score = -3037.916666666716\n",
      "Episode: Steps 121\t Score = -3062.833333333385\n"
     ]
    },
    {
     "name": "stderr",
     "output_type": "stream",
     "text": [
      "127.0.0.1 - - [28/Dec/2019 20:22:49] \"\u001b[37mGET /socket.io/?EIO=3&transport=polling&t=MzEBG1m&sid=0b854fcfadce4efaa6468e7a5979d178 HTTP/1.1\u001b[0m\" 200 -\n",
      "127.0.0.1 - - [28/Dec/2019 20:22:49] \"\u001b[37mGET /socket.io/?EIO=3&transport=polling&t=MzEBG2Z&sid=0b854fcfadce4efaa6468e7a5979d178 HTTP/1.1\u001b[0m\" 200 -\n",
      "127.0.0.1 - - [28/Dec/2019 20:22:49] \"\u001b[37mGET /socket.io/?EIO=3&transport=polling&t=MzEBG33&sid=0b854fcfadce4efaa6468e7a5979d178 HTTP/1.1\u001b[0m\" 200 -\n",
      "127.0.0.1 - - [28/Dec/2019 20:22:49] \"\u001b[37mGET /socket.io/?EIO=3&transport=polling&t=MzEBG3f&sid=0b854fcfadce4efaa6468e7a5979d178 HTTP/1.1\u001b[0m\" 200 -\n",
      "127.0.0.1 - - [28/Dec/2019 20:22:49] \"\u001b[37mGET /socket.io/?EIO=3&transport=polling&t=MzEBG4C&sid=0b854fcfadce4efaa6468e7a5979d178 HTTP/1.1\u001b[0m\" 200 -\n",
      "127.0.0.1 - - [28/Dec/2019 20:22:49] \"\u001b[37mGET /socket.io/?EIO=3&transport=polling&t=MzEBG4g&sid=0b854fcfadce4efaa6468e7a5979d178 HTTP/1.1\u001b[0m\" 200 -\n"
     ]
    },
    {
     "name": "stdout",
     "output_type": "stream",
     "text": [
      "Episode: Steps 122\t Score = -3087.7500000000537\n",
      "Episode: Steps 123\t Score = -3112.6666666667224\n",
      "Episode: Steps 124\t Score = -3137.5833333333912\n",
      "Episode: Steps 125\t Score = -3162.50000000006\n",
      "Episode: Steps 126\t Score = -3187.416666666729\n",
      "Episode: Steps 127\t Score = -3212.3333333333976\n"
     ]
    },
    {
     "name": "stderr",
     "output_type": "stream",
     "text": [
      "127.0.0.1 - - [28/Dec/2019 20:22:49] \"\u001b[37mGET /socket.io/?EIO=3&transport=polling&t=MzEBG54&sid=0b854fcfadce4efaa6468e7a5979d178 HTTP/1.1\u001b[0m\" 200 -\n",
      "127.0.0.1 - - [28/Dec/2019 20:22:49] \"\u001b[37mGET /socket.io/?EIO=3&transport=polling&t=MzEBG5h&sid=0b854fcfadce4efaa6468e7a5979d178 HTTP/1.1\u001b[0m\" 200 -\n",
      "127.0.0.1 - - [28/Dec/2019 20:22:50] \"\u001b[37mGET /socket.io/?EIO=3&transport=polling&t=MzEBG8L&sid=0b854fcfadce4efaa6468e7a5979d178 HTTP/1.1\u001b[0m\" 200 -\n",
      "127.0.0.1 - - [28/Dec/2019 20:22:50] \"\u001b[37mGET /socket.io/?EIO=3&transport=polling&t=MzEBG8Y&sid=0b854fcfadce4efaa6468e7a5979d178 HTTP/1.1\u001b[0m\" 200 -\n"
     ]
    },
    {
     "name": "stdout",
     "output_type": "stream",
     "text": [
      "Episode: Steps 128\t Score = -3237.2500000000664\n",
      "Episode: Steps 129\t Score = -3262.166666666735\n",
      "Episode: Steps 130\t Score = -3287.083333333404\n",
      "Episode: Steps 131\t Score = -3312.0000000000728\n",
      "Episode: Steps 132\t Score = -3336.9166666667415\n",
      "Episode: Steps 133\t Score = -3361.8333333334103\n",
      "Episode: Steps 134\t Score = -3386.750000000079\n",
      "Episode: Steps 135\t Score = -3411.666666666748\n"
     ]
    },
    {
     "name": "stderr",
     "output_type": "stream",
     "text": [
      "127.0.0.1 - - [28/Dec/2019 20:22:50] \"\u001b[37mGET /socket.io/?EIO=3&transport=polling&t=MzEBG8n&sid=0b854fcfadce4efaa6468e7a5979d178 HTTP/1.1\u001b[0m\" 200 -\n",
      "127.0.0.1 - - [28/Dec/2019 20:22:50] \"\u001b[37mGET /socket.io/?EIO=3&transport=polling&t=MzEBG9F&sid=0b854fcfadce4efaa6468e7a5979d178 HTTP/1.1\u001b[0m\" 200 -\n",
      "127.0.0.1 - - [28/Dec/2019 20:22:50] \"\u001b[37mGET /socket.io/?EIO=3&transport=polling&t=MzEBG9h&sid=0b854fcfadce4efaa6468e7a5979d178 HTTP/1.1\u001b[0m\" 200 -\n",
      "127.0.0.1 - - [28/Dec/2019 20:22:50] \"\u001b[37mGET /socket.io/?EIO=3&transport=polling&t=MzEBGAA&sid=0b854fcfadce4efaa6468e7a5979d178 HTTP/1.1\u001b[0m\" 200 -\n",
      "127.0.0.1 - - [28/Dec/2019 20:22:50] \"\u001b[37mGET /socket.io/?EIO=3&transport=polling&t=MzEBGAZ&sid=0b854fcfadce4efaa6468e7a5979d178 HTTP/1.1\u001b[0m\" 200 -\n",
      "127.0.0.1 - - [28/Dec/2019 20:22:50] \"\u001b[37mGET /socket.io/?EIO=3&transport=polling&t=MzEBGBR&sid=0b854fcfadce4efaa6468e7a5979d178 HTTP/1.1\u001b[0m\" 200 -\n"
     ]
    },
    {
     "name": "stdout",
     "output_type": "stream",
     "text": [
      "Episode: Steps 136\t Score = -3436.5833333334167\n",
      "Episode: Steps 137\t Score = -3461.5000000000855\n",
      "Episode: Steps 138\t Score = -3486.4166666667543\n",
      "Episode: Steps 139\t Score = -3511.333333333423\n",
      "Episode: Steps 140\t Score = -3536.250000000092\n",
      "Episode: Steps 141\t Score = -3561.1666666667606\n"
     ]
    },
    {
     "name": "stderr",
     "output_type": "stream",
     "text": [
      "127.0.0.1 - - [28/Dec/2019 20:22:50] \"\u001b[37mGET /socket.io/?EIO=3&transport=polling&t=MzEBGB_&sid=0b854fcfadce4efaa6468e7a5979d178 HTTP/1.1\u001b[0m\" 200 -\n",
      "127.0.0.1 - - [28/Dec/2019 20:22:50] \"\u001b[37mGET /socket.io/?EIO=3&transport=polling&t=MzEBGCY&sid=0b854fcfadce4efaa6468e7a5979d178 HTTP/1.1\u001b[0m\" 200 -\n",
      "127.0.0.1 - - [28/Dec/2019 20:22:50] \"\u001b[37mGET /socket.io/?EIO=3&transport=polling&t=MzEBGCu&sid=0b854fcfadce4efaa6468e7a5979d178 HTTP/1.1\u001b[0m\" 200 -\n",
      "127.0.0.1 - - [28/Dec/2019 20:22:50] \"\u001b[37mGET /socket.io/?EIO=3&transport=polling&t=MzEBGDM&sid=0b854fcfadce4efaa6468e7a5979d178 HTTP/1.1\u001b[0m\" 200 -\n",
      "127.0.0.1 - - [28/Dec/2019 20:22:50] \"\u001b[37mGET /socket.io/?EIO=3&transport=polling&t=MzEBGE9&sid=0b854fcfadce4efaa6468e7a5979d178 HTTP/1.1\u001b[0m\" 200 -\n",
      "127.0.0.1 - - [28/Dec/2019 20:22:50] \"\u001b[37mPOST /socket.io/?EIO=3&transport=polling&t=MzEBGEy&sid=0b854fcfadce4efaa6468e7a5979d178 HTTP/1.1\u001b[0m\" 200 -\n",
      "127.0.0.1 - - [28/Dec/2019 20:22:50] \"\u001b[37mGET /socket.io/?EIO=3&transport=polling&t=MzEBGEi&sid=0b854fcfadce4efaa6468e7a5979d178 HTTP/1.1\u001b[0m\" 200 -\n"
     ]
    },
    {
     "name": "stdout",
     "output_type": "stream",
     "text": [
      "Episode: Steps 142\t Score = -3586.0833333334294\n",
      "Episode: Steps 143\t Score = -3611.000000000098\n",
      "Episode: Steps 144\t Score = -3635.916666666767\n",
      "Episode: Steps 145\t Score = -3660.833333333436\n",
      "Episode: Steps 146\t Score = -3685.7500000001046\n",
      "Episode: Steps 147\t Score = -3710.6666666667734\n"
     ]
    },
    {
     "name": "stderr",
     "output_type": "stream",
     "text": [
      "127.0.0.1 - - [28/Dec/2019 20:22:50] \"\u001b[37mGET /socket.io/?EIO=3&transport=polling&t=MzEBGH7&sid=0b854fcfadce4efaa6468e7a5979d178 HTTP/1.1\u001b[0m\" 200 -\n",
      "127.0.0.1 - - [28/Dec/2019 20:22:50] \"\u001b[37mGET /socket.io/?EIO=3&transport=polling&t=MzEBGHO&sid=0b854fcfadce4efaa6468e7a5979d178 HTTP/1.1\u001b[0m\" 200 -\n",
      "127.0.0.1 - - [28/Dec/2019 20:22:50] \"\u001b[37mGET /socket.io/?EIO=3&transport=polling&t=MzEBGHW&sid=0b854fcfadce4efaa6468e7a5979d178 HTTP/1.1\u001b[0m\" 200 -\n",
      "127.0.0.1 - - [28/Dec/2019 20:22:50] \"\u001b[37mGET /socket.io/?EIO=3&transport=polling&t=MzEBGHu&sid=0b854fcfadce4efaa6468e7a5979d178 HTTP/1.1\u001b[0m\" 200 -\n",
      "127.0.0.1 - - [28/Dec/2019 20:22:50] \"\u001b[37mGET /socket.io/?EIO=3&transport=polling&t=MzEBGIN&sid=0b854fcfadce4efaa6468e7a5979d178 HTTP/1.1\u001b[0m\" 200 -\n"
     ]
    },
    {
     "name": "stdout",
     "output_type": "stream",
     "text": [
      "Episode: Steps 148\t Score = -3735.583333333442\n",
      "Episode: Steps 149\t Score = -3760.500000000111\n",
      "Episode: Steps 150\t Score = -3785.4166666667797\n",
      "Episode: Steps 151\t Score = -3810.3333333334485\n",
      "Episode: Steps 152\t Score = -3835.2500000001173\n",
      "Episode: Steps 153\t Score = -3860.166666666786\n",
      "Episode: Steps 154\t Score = -3885.083333333455\n",
      "Episode: Steps 155\t Score = -3910.0000000001237\n"
     ]
    },
    {
     "name": "stderr",
     "output_type": "stream",
     "text": [
      "127.0.0.1 - - [28/Dec/2019 20:22:50] \"\u001b[37mGET /socket.io/?EIO=3&transport=polling&t=MzEBGIk&sid=0b854fcfadce4efaa6468e7a5979d178 HTTP/1.1\u001b[0m\" 200 -\n",
      "127.0.0.1 - - [28/Dec/2019 20:22:50] \"\u001b[37mGET /socket.io/?EIO=3&transport=polling&t=MzEBGJQ&sid=0b854fcfadce4efaa6468e7a5979d178 HTTP/1.1\u001b[0m\" 200 -\n",
      "127.0.0.1 - - [28/Dec/2019 20:22:50] \"\u001b[37mGET /socket.io/?EIO=3&transport=polling&t=MzEBGKH&sid=0b854fcfadce4efaa6468e7a5979d178 HTTP/1.1\u001b[0m\" 200 -\n",
      "127.0.0.1 - - [28/Dec/2019 20:22:50] \"\u001b[37mGET /socket.io/?EIO=3&transport=polling&t=MzEBGL2&sid=0b854fcfadce4efaa6468e7a5979d178 HTTP/1.1\u001b[0m\" 200 -\n",
      "127.0.0.1 - - [28/Dec/2019 20:22:51] \"\u001b[37mGET /socket.io/?EIO=3&transport=polling&t=MzEBGLR&sid=0b854fcfadce4efaa6468e7a5979d178 HTTP/1.1\u001b[0m\" 200 -\n",
      "127.0.0.1 - - [28/Dec/2019 20:22:51] \"\u001b[37mGET /socket.io/?EIO=3&transport=polling&t=MzEBGL-&sid=0b854fcfadce4efaa6468e7a5979d178 HTTP/1.1\u001b[0m\" 200 -\n"
     ]
    },
    {
     "name": "stdout",
     "output_type": "stream",
     "text": [
      "Episode: Steps 156\t Score = -3934.9166666667925\n",
      "Episode: Steps 157\t Score = -3959.8333333334613\n",
      "Episode: Steps 158\t Score = -3984.75000000013\n",
      "Episode: Steps 159\t Score = -4009.666666666799\n",
      "Episode: Steps 160\t Score = -4034.5833333334676\n",
      "Episode: Steps 161\t Score = -4059.5000000001364\n"
     ]
    },
    {
     "name": "stderr",
     "output_type": "stream",
     "text": [
      "127.0.0.1 - - [28/Dec/2019 20:22:51] \"\u001b[37mGET /socket.io/?EIO=3&transport=polling&t=MzEBGMM&sid=0b854fcfadce4efaa6468e7a5979d178 HTTP/1.1\u001b[0m\" 200 -\n",
      "127.0.0.1 - - [28/Dec/2019 20:22:51] \"\u001b[37mGET /socket.io/?EIO=3&transport=polling&t=MzEBGMq&sid=0b854fcfadce4efaa6468e7a5979d178 HTTP/1.1\u001b[0m\" 200 -\n",
      "127.0.0.1 - - [28/Dec/2019 20:22:51] \"\u001b[37mGET /socket.io/?EIO=3&transport=polling&t=MzEBGNA&sid=0b854fcfadce4efaa6468e7a5979d178 HTTP/1.1\u001b[0m\" 200 -\n",
      "127.0.0.1 - - [28/Dec/2019 20:22:51] \"\u001b[37mGET /socket.io/?EIO=3&transport=polling&t=MzEBGNb&sid=0b854fcfadce4efaa6468e7a5979d178 HTTP/1.1\u001b[0m\" 200 -\n"
     ]
    },
    {
     "name": "stdout",
     "output_type": "stream",
     "text": [
      "Episode: Steps 162\t Score = -4084.416666666805\n",
      "Episode: Steps 163\t Score = -4109.333333333471\n",
      "Episode: Steps 164\t Score = -4134.250000000134\n",
      "Episode: Steps 165\t Score = -4159.166666666796\n",
      "Episode: Steps 166\t Score = -4184.0833333334585\n",
      "Episode: Steps 167\t Score = -4209.000000000121\n",
      "Episode: Steps 168\t Score = -4233.916666666783\n",
      "Episode: Steps 169\t Score = -4258.833333333446\n"
     ]
    },
    {
     "name": "stderr",
     "output_type": "stream",
     "text": [
      "127.0.0.1 - - [28/Dec/2019 20:22:51] \"\u001b[37mGET /socket.io/?EIO=3&transport=polling&t=MzEBGQ6&sid=0b854fcfadce4efaa6468e7a5979d178 HTTP/1.1\u001b[0m\" 200 -\n",
      "127.0.0.1 - - [28/Dec/2019 20:22:51] \"\u001b[37mGET /socket.io/?EIO=3&transport=polling&t=MzEBGQH&sid=0b854fcfadce4efaa6468e7a5979d178 HTTP/1.1\u001b[0m\" 200 -\n",
      "127.0.0.1 - - [28/Dec/2019 20:22:51] \"\u001b[37mGET /socket.io/?EIO=3&transport=polling&t=MzEBGQZ&sid=0b854fcfadce4efaa6468e7a5979d178 HTTP/1.1\u001b[0m\" 200 -\n",
      "127.0.0.1 - - [28/Dec/2019 20:22:51] \"\u001b[37mGET /socket.io/?EIO=3&transport=polling&t=MzEBGR2&sid=0b854fcfadce4efaa6468e7a5979d178 HTTP/1.1\u001b[0m\" 200 -\n",
      "127.0.0.1 - - [28/Dec/2019 20:22:51] \"\u001b[37mGET /socket.io/?EIO=3&transport=polling&t=MzEBGRW&sid=0b854fcfadce4efaa6468e7a5979d178 HTTP/1.1\u001b[0m\" 200 -\n",
      "127.0.0.1 - - [28/Dec/2019 20:22:51] \"\u001b[37mGET /socket.io/?EIO=3&transport=polling&t=MzEBGRs&sid=0b854fcfadce4efaa6468e7a5979d178 HTTP/1.1\u001b[0m\" 200 -\n",
      "127.0.0.1 - - [28/Dec/2019 20:22:51] \"\u001b[37mGET /socket.io/?EIO=3&transport=polling&t=MzEBGSm&sid=0b854fcfadce4efaa6468e7a5979d178 HTTP/1.1\u001b[0m\" 200 -\n"
     ]
    },
    {
     "name": "stdout",
     "output_type": "stream",
     "text": [
      "Episode: Steps 170\t Score = -4283.750000000108\n",
      "Episode: Steps 171\t Score = -4308.666666666771\n",
      "Episode: Steps 172\t Score = -4333.583333333433\n",
      "Episode: Steps 173\t Score = -4358.5000000000955\n",
      "Episode: Steps 174\t Score = -4383.416666666758\n",
      "Episode: Steps 175\t Score = -4408.33333333342\n"
     ]
    },
    {
     "name": "stderr",
     "output_type": "stream",
     "text": [
      "127.0.0.1 - - [28/Dec/2019 20:22:51] \"\u001b[37mGET /socket.io/?EIO=3&transport=polling&t=MzEBGTG&sid=0b854fcfadce4efaa6468e7a5979d178 HTTP/1.1\u001b[0m\" 200 -\n",
      "127.0.0.1 - - [28/Dec/2019 20:22:51] \"\u001b[37mGET /socket.io/?EIO=3&transport=polling&t=MzEBGU1&sid=0b854fcfadce4efaa6468e7a5979d178 HTTP/1.1\u001b[0m\" 200 -\n",
      "127.0.0.1 - - [28/Dec/2019 20:22:51] \"\u001b[37mGET /socket.io/?EIO=3&transport=polling&t=MzEBGUM&sid=0b854fcfadce4efaa6468e7a5979d178 HTTP/1.1\u001b[0m\" 200 -\n",
      "127.0.0.1 - - [28/Dec/2019 20:22:51] \"\u001b[37mGET /socket.io/?EIO=3&transport=polling&t=MzEBGUo&sid=0b854fcfadce4efaa6468e7a5979d178 HTTP/1.1\u001b[0m\" 200 -\n",
      "127.0.0.1 - - [28/Dec/2019 20:22:51] \"\u001b[37mGET /socket.io/?EIO=3&transport=polling&t=MzEBGVA&sid=0b854fcfadce4efaa6468e7a5979d178 HTTP/1.1\u001b[0m\" 200 -\n",
      "127.0.0.1 - - [28/Dec/2019 20:22:51] \"\u001b[37mGET /socket.io/?EIO=3&transport=polling&t=MzEBGVd&sid=0b854fcfadce4efaa6468e7a5979d178 HTTP/1.1\u001b[0m\" 200 -\n",
      "127.0.0.1 - - [28/Dec/2019 20:22:51] \"\u001b[37mGET /socket.io/?EIO=3&transport=polling&t=MzEBGVy&sid=0b854fcfadce4efaa6468e7a5979d178 HTTP/1.1\u001b[0m\" 200 -\n",
      "127.0.0.1 - - [28/Dec/2019 20:22:51] \"\u001b[37mGET /socket.io/?EIO=3&transport=polling&t=MzEBGWO&sid=0b854fcfadce4efaa6468e7a5979d178 HTTP/1.1\u001b[0m\" 200 -\n"
     ]
    },
    {
     "name": "stdout",
     "output_type": "stream",
     "text": [
      "Episode: Steps 176\t Score = -4433.250000000083\n",
      "Episode: Steps 177\t Score = -4458.166666666745\n",
      "Episode: Steps 178\t Score = -4483.083333333408\n",
      "Episode: Steps 179\t Score = -4508.00000000007\n",
      "Episode: Steps 180\t Score = -4532.916666666732\n",
      "Episode: Steps 181\t Score = -4557.833333333395\n",
      "Episode: Steps 182\t Score = -4582.750000000057\n",
      "Episode: Steps 183\t Score = -4607.66666666672\n"
     ]
    },
    {
     "name": "stderr",
     "output_type": "stream",
     "text": [
      "127.0.0.1 - - [28/Dec/2019 20:22:51] \"\u001b[37mGET /socket.io/?EIO=3&transport=polling&t=MzEBGZ8&sid=0b854fcfadce4efaa6468e7a5979d178 HTTP/1.1\u001b[0m\" 200 -\n",
      "127.0.0.1 - - [28/Dec/2019 20:22:51] \"\u001b[37mGET /socket.io/?EIO=3&transport=polling&t=MzEBGZL&sid=0b854fcfadce4efaa6468e7a5979d178 HTTP/1.1\u001b[0m\" 200 -\n",
      "127.0.0.1 - - [28/Dec/2019 20:22:51] \"\u001b[37mGET /socket.io/?EIO=3&transport=polling&t=MzEBGZo&sid=0b854fcfadce4efaa6468e7a5979d178 HTTP/1.1\u001b[0m\" 200 -\n"
     ]
    },
    {
     "name": "stdout",
     "output_type": "stream",
     "text": [
      "Episode: Steps 184\t Score = -4632.583333333382\n",
      "Episode: Steps 185\t Score = -4657.500000000045\n",
      "Episode: Steps 186\t Score = -4682.416666666707\n",
      "Episode: Steps 187\t Score = -4707.333333333369\n",
      "Episode: Steps 188\t Score = -4732.250000000032\n",
      "Episode: Steps 189\t Score = -4757.166666666694\n",
      "Episode: Steps 190\t Score = -4782.083333333357\n",
      "Episode: Steps 191\t Score = -4807.000000000019\n"
     ]
    },
    {
     "name": "stderr",
     "output_type": "stream",
     "text": [
      "127.0.0.1 - - [28/Dec/2019 20:22:51] \"\u001b[37mGET /socket.io/?EIO=3&transport=polling&t=MzEBGa8&sid=0b854fcfadce4efaa6468e7a5979d178 HTTP/1.1\u001b[0m\" 200 -\n",
      "127.0.0.1 - - [28/Dec/2019 20:22:51] \"\u001b[37mGET /socket.io/?EIO=3&transport=polling&t=MzEBGad&sid=0b854fcfadce4efaa6468e7a5979d178 HTTP/1.1\u001b[0m\" 200 -\n",
      "127.0.0.1 - - [28/Dec/2019 20:22:52] \"\u001b[37mGET /socket.io/?EIO=3&transport=polling&t=MzEBGa-&sid=0b854fcfadce4efaa6468e7a5979d178 HTTP/1.1\u001b[0m\" 200 -\n",
      "127.0.0.1 - - [28/Dec/2019 20:22:52] \"\u001b[37mGET /socket.io/?EIO=3&transport=polling&t=MzEBGba&sid=0b854fcfadce4efaa6468e7a5979d178 HTTP/1.1\u001b[0m\" 200 -\n",
      "127.0.0.1 - - [28/Dec/2019 20:22:52] \"\u001b[37mGET /socket.io/?EIO=3&transport=polling&t=MzEBGc6&sid=0b854fcfadce4efaa6468e7a5979d178 HTTP/1.1\u001b[0m\" 200 -\n",
      "127.0.0.1 - - [28/Dec/2019 20:22:52] \"\u001b[37mGET /socket.io/?EIO=3&transport=polling&t=MzEBGce&sid=0b854fcfadce4efaa6468e7a5979d178 HTTP/1.1\u001b[0m\" 200 -\n",
      "127.0.0.1 - - [28/Dec/2019 20:22:52] \"\u001b[37mGET /socket.io/?EIO=3&transport=polling&t=MzEBGc-&sid=0b854fcfadce4efaa6468e7a5979d178 HTTP/1.1\u001b[0m\" 200 -\n",
      "127.0.0.1 - - [28/Dec/2019 20:22:52] \"\u001b[37mGET /socket.io/?EIO=3&transport=polling&t=MzEBGdQ&sid=0b854fcfadce4efaa6468e7a5979d178 HTTP/1.1\u001b[0m\" 200 -\n"
     ]
    },
    {
     "name": "stdout",
     "output_type": "stream",
     "text": [
      "Episode: Steps 192\t Score = -4831.9166666666815\n",
      "Episode: Steps 193\t Score = -4856.833333333344\n",
      "Episode: Steps 194\t Score = -4881.750000000006\n",
      "Episode: Steps 195\t Score = -4906.666666666669\n",
      "Episode: Steps 196\t Score = -4931.583333333331\n",
      "Episode: Steps 197\t Score = -4956.499999999994\n",
      "Episode: Steps 198\t Score = -4981.416666666656\n",
      "Episode: Steps 199\t Score = -5006.3333333333185\n"
     ]
    },
    {
     "name": "stderr",
     "output_type": "stream",
     "text": [
      "127.0.0.1 - - [28/Dec/2019 20:22:52] \"\u001b[37mGET /socket.io/?EIO=3&transport=polling&t=MzEBGdl&sid=0b854fcfadce4efaa6468e7a5979d178 HTTP/1.1\u001b[0m\" 200 -\n",
      "127.0.0.1 - - [28/Dec/2019 20:22:52] \"\u001b[37mGET /socket.io/?EIO=3&transport=polling&t=MzEBGeB&sid=0b854fcfadce4efaa6468e7a5979d178 HTTP/1.1\u001b[0m\" 200 -\n",
      "127.0.0.1 - - [28/Dec/2019 20:22:52] \"\u001b[37mGET /socket.io/?EIO=3&transport=polling&t=MzEBGeX&sid=0b854fcfadce4efaa6468e7a5979d178 HTTP/1.1\u001b[0m\" 200 -\n",
      "127.0.0.1 - - [28/Dec/2019 20:22:52] \"\u001b[37mGET /socket.io/?EIO=3&transport=polling&t=MzEBGf2&sid=0b854fcfadce4efaa6468e7a5979d178 HTTP/1.1\u001b[0m\" 200 -\n",
      "127.0.0.1 - - [28/Dec/2019 20:22:52] \"\u001b[37mGET /socket.io/?EIO=3&transport=polling&t=MzEBGfM&sid=0b854fcfadce4efaa6468e7a5979d178 HTTP/1.1\u001b[0m\" 200 -\n"
     ]
    },
    {
     "name": "stdout",
     "output_type": "stream",
     "text": [
      "Episode: Steps 200\t Score = -5031.249999999981\n",
      "Episode: Steps 201\t Score = -5056.166666666643\n",
      "Episode: Steps 202\t Score = -5081.083333333306\n",
      "Episode: Steps 203\t Score = -5105.999999999968\n",
      "Episode: Steps 204\t Score = -5130.916666666631\n",
      "Episode: Steps 205\t Score = -5155.833333333293\n",
      "Episode: Steps 206\t Score = -5180.749999999955\n"
     ]
    },
    {
     "name": "stderr",
     "output_type": "stream",
     "text": [
      "127.0.0.1 - - [28/Dec/2019 20:22:52] \"\u001b[37mGET /socket.io/?EIO=3&transport=polling&t=MzEBGiV&sid=0b854fcfadce4efaa6468e7a5979d178 HTTP/1.1\u001b[0m\" 200 -\n",
      "127.0.0.1 - - [28/Dec/2019 20:22:52] \"\u001b[37mGET /socket.io/?EIO=3&transport=polling&t=MzEBGii&sid=0b854fcfadce4efaa6468e7a5979d178 HTTP/1.1\u001b[0m\" 200 -\n",
      "127.0.0.1 - - [28/Dec/2019 20:22:52] \"\u001b[37mGET /socket.io/?EIO=3&transport=polling&t=MzEBGir&sid=0b854fcfadce4efaa6468e7a5979d178 HTTP/1.1\u001b[0m\" 200 -\n",
      "127.0.0.1 - - [28/Dec/2019 20:22:52] \"\u001b[37mGET /socket.io/?EIO=3&transport=polling&t=MzEBGjD&sid=0b854fcfadce4efaa6468e7a5979d178 HTTP/1.1\u001b[0m\" 200 -\n",
      "127.0.0.1 - - [28/Dec/2019 20:22:52] \"\u001b[37mGET /socket.io/?EIO=3&transport=polling&t=MzEBGjg&sid=0b854fcfadce4efaa6468e7a5979d178 HTTP/1.1\u001b[0m\" 200 -\n",
      "127.0.0.1 - - [28/Dec/2019 20:22:52] \"\u001b[37mGET /socket.io/?EIO=3&transport=polling&t=MzEBGk1&sid=0b854fcfadce4efaa6468e7a5979d178 HTTP/1.1\u001b[0m\" 200 -\n"
     ]
    },
    {
     "name": "stdout",
     "output_type": "stream",
     "text": [
      "Episode: Steps 207\t Score = -5205.666666666618\n",
      "Episode: Steps 208\t Score = -5230.58333333328\n",
      "Episode: Steps 209\t Score = -5255.499999999943\n",
      "Episode: Steps 210\t Score = -5280.416666666605\n",
      "Episode: Steps 211\t Score = -5305.333333333268\n",
      "Episode: Steps 212\t Score = -5330.24999999993\n",
      "Episode: Steps 213\t Score = -5355.166666666592\n",
      "Episode: Steps 214\t Score = -5380.083333333255\n"
     ]
    },
    {
     "name": "stderr",
     "output_type": "stream",
     "text": [
      "127.0.0.1 - - [28/Dec/2019 20:22:52] \"\u001b[37mGET /socket.io/?EIO=3&transport=polling&t=MzEBGkU&sid=0b854fcfadce4efaa6468e7a5979d178 HTTP/1.1\u001b[0m\" 200 -\n",
      "127.0.0.1 - - [28/Dec/2019 20:22:52] \"\u001b[37mGET /socket.io/?EIO=3&transport=polling&t=MzEBGkr&sid=0b854fcfadce4efaa6468e7a5979d178 HTTP/1.1\u001b[0m\" 200 -\n",
      "127.0.0.1 - - [28/Dec/2019 20:22:52] \"\u001b[37mGET /socket.io/?EIO=3&transport=polling&t=MzEBGlW&sid=0b854fcfadce4efaa6468e7a5979d178 HTTP/1.1\u001b[0m\" 200 -\n",
      "127.0.0.1 - - [28/Dec/2019 20:22:52] \"\u001b[37mGET /socket.io/?EIO=3&transport=polling&t=MzEBGls&sid=0b854fcfadce4efaa6468e7a5979d178 HTTP/1.1\u001b[0m\" 200 -\n",
      "127.0.0.1 - - [28/Dec/2019 20:22:52] \"\u001b[37mGET /socket.io/?EIO=3&transport=polling&t=MzEBGmJ&sid=0b854fcfadce4efaa6468e7a5979d178 HTTP/1.1\u001b[0m\" 200 -\n",
      "127.0.0.1 - - [28/Dec/2019 20:22:52] \"\u001b[37mGET /socket.io/?EIO=3&transport=polling&t=MzEBGmg&sid=0b854fcfadce4efaa6468e7a5979d178 HTTP/1.1\u001b[0m\" 200 -\n",
      "127.0.0.1 - - [28/Dec/2019 20:22:52] \"\u001b[37mGET /socket.io/?EIO=3&transport=polling&t=MzEBGnC&sid=0b854fcfadce4efaa6468e7a5979d178 HTTP/1.1\u001b[0m\" 200 -\n"
     ]
    },
    {
     "name": "stdout",
     "output_type": "stream",
     "text": [
      "Episode: Steps 215\t Score = -5404.999999999917\n",
      "Episode: Steps 216\t Score = -5429.91666666658\n",
      "Episode: Steps 217\t Score = -5454.833333333242\n",
      "Episode: Steps 218\t Score = -5479.7499999999045\n",
      "Episode: Steps 219\t Score = -5504.666666666567\n",
      "Episode: Steps 220\t Score = -5529.583333333229\n",
      "Episode: Steps 221\t Score = -5554.499999999892\n"
     ]
    },
    {
     "name": "stderr",
     "output_type": "stream",
     "text": [
      "127.0.0.1 - - [28/Dec/2019 20:22:52] \"\u001b[37mGET /socket.io/?EIO=3&transport=polling&t=MzEBGnX&sid=0b854fcfadce4efaa6468e7a5979d178 HTTP/1.1\u001b[0m\" 200 -\n",
      "127.0.0.1 - - [28/Dec/2019 20:22:52] \"\u001b[37mGET /socket.io/?EIO=3&transport=polling&t=MzEBGoN&sid=0b854fcfadce4efaa6468e7a5979d178 HTTP/1.1\u001b[0m\" 200 -\n",
      "127.0.0.1 - - [28/Dec/2019 20:22:52] \"\u001b[37mGET /socket.io/?EIO=3&transport=polling&t=MzEBGot&sid=0b854fcfadce4efaa6468e7a5979d178 HTTP/1.1\u001b[0m\" 200 -\n"
     ]
    },
    {
     "name": "stdout",
     "output_type": "stream",
     "text": [
      "Episode: Steps 222\t Score = -5579.416666666554\n",
      "Episode: Steps 223\t Score = -5604.333333333217\n",
      "Episode: Steps 224\t Score = -5629.249999999879\n",
      "Episode: Steps 225\t Score = -5654.1666666665415\n",
      "Episode: Steps 226\t Score = -5679.083333333204\n",
      "Episode: Steps 227\t Score = -5703.999999999866\n",
      "Episode: Steps 228\t Score = -5728.916666666529\n"
     ]
    },
    {
     "name": "stderr",
     "output_type": "stream",
     "text": [
      "127.0.0.1 - - [28/Dec/2019 20:22:53] \"\u001b[37mGET /socket.io/?EIO=3&transport=polling&t=MzEBGrW&sid=0b854fcfadce4efaa6468e7a5979d178 HTTP/1.1\u001b[0m\" 200 -\n",
      "127.0.0.1 - - [28/Dec/2019 20:22:53] \"\u001b[37mGET /socket.io/?EIO=3&transport=polling&t=MzEBGrk&sid=0b854fcfadce4efaa6468e7a5979d178 HTTP/1.1\u001b[0m\" 200 -\n",
      "127.0.0.1 - - [28/Dec/2019 20:22:53] \"\u001b[37mGET /socket.io/?EIO=3&transport=polling&t=MzEBGs1&sid=0b854fcfadce4efaa6468e7a5979d178 HTTP/1.1\u001b[0m\" 200 -\n",
      "127.0.0.1 - - [28/Dec/2019 20:22:53] \"\u001b[37mGET /socket.io/?EIO=3&transport=polling&t=MzEBGsM&sid=0b854fcfadce4efaa6468e7a5979d178 HTTP/1.1\u001b[0m\" 200 -\n",
      "127.0.0.1 - - [28/Dec/2019 20:22:53] \"\u001b[37mGET /socket.io/?EIO=3&transport=polling&t=MzEBGsm&sid=0b854fcfadce4efaa6468e7a5979d178 HTTP/1.1\u001b[0m\" 200 -\n",
      "127.0.0.1 - - [28/Dec/2019 20:22:53] \"\u001b[37mGET /socket.io/?EIO=3&transport=polling&t=MzEBGtI&sid=0b854fcfadce4efaa6468e7a5979d178 HTTP/1.1\u001b[0m\" 200 -\n",
      "127.0.0.1 - - [28/Dec/2019 20:22:53] \"\u001b[37mGET /socket.io/?EIO=3&transport=polling&t=MzEBGu6&sid=0b854fcfadce4efaa6468e7a5979d178 HTTP/1.1\u001b[0m\" 200 -\n"
     ]
    },
    {
     "name": "stdout",
     "output_type": "stream",
     "text": [
      "Episode: Steps 229\t Score = -5753.833333333191\n",
      "Episode: Steps 230\t Score = -5778.749999999854\n",
      "Episode: Steps 231\t Score = -5803.666666666516\n",
      "Episode: Steps 232\t Score = -5828.583333333178\n",
      "Episode: Steps 233\t Score = -5853.499999999841\n",
      "Episode: Steps 234\t Score = -5878.416666666503\n",
      "Episode: Steps 235\t Score = -5903.333333333166\n"
     ]
    },
    {
     "name": "stderr",
     "output_type": "stream",
     "text": [
      "127.0.0.1 - - [28/Dec/2019 20:22:53] \"\u001b[37mGET /socket.io/?EIO=3&transport=polling&t=MzEBGug&sid=0b854fcfadce4efaa6468e7a5979d178 HTTP/1.1\u001b[0m\" 200 -\n",
      "127.0.0.1 - - [28/Dec/2019 20:22:53] \"\u001b[37mGET /socket.io/?EIO=3&transport=polling&t=MzEBGvK&sid=0b854fcfadce4efaa6468e7a5979d178 HTTP/1.1\u001b[0m\" 200 -\n",
      "127.0.0.1 - - [28/Dec/2019 20:22:53] \"\u001b[37mGET /socket.io/?EIO=3&transport=polling&t=MzEBGvs&sid=0b854fcfadce4efaa6468e7a5979d178 HTTP/1.1\u001b[0m\" 200 -\n",
      "127.0.0.1 - - [28/Dec/2019 20:22:53] \"\u001b[37mGET /socket.io/?EIO=3&transport=polling&t=MzEBGwP&sid=0b854fcfadce4efaa6468e7a5979d178 HTTP/1.1\u001b[0m\" 200 -\n",
      "127.0.0.1 - - [28/Dec/2019 20:22:53] \"\u001b[37mGET /socket.io/?EIO=3&transport=polling&t=MzEBGwt&sid=0b854fcfadce4efaa6468e7a5979d178 HTTP/1.1\u001b[0m\" 200 -\n",
      "127.0.0.1 - - [28/Dec/2019 20:22:53] \"\u001b[37mGET /socket.io/?EIO=3&transport=polling&t=MzEBGxf&sid=0b854fcfadce4efaa6468e7a5979d178 HTTP/1.1\u001b[0m\" 200 -\n"
     ]
    },
    {
     "name": "stdout",
     "output_type": "stream",
     "text": [
      "Episode: Steps 236\t Score = -5928.249999999828\n",
      "Episode: Steps 237\t Score = -5953.1666666664905\n",
      "Episode: Steps 238\t Score = -5978.083333333153\n",
      "Episode: Steps 239\t Score = -6002.999999999815\n",
      "Episode: Steps 240\t Score = -6027.916666666478\n",
      "Episode: Steps 241\t Score = -6052.83333333314\n"
     ]
    },
    {
     "name": "stderr",
     "output_type": "stream",
     "text": [
      "127.0.0.1 - - [28/Dec/2019 20:22:53] \"\u001b[37mGET /socket.io/?EIO=3&transport=polling&t=MzEBGyC&sid=0b854fcfadce4efaa6468e7a5979d178 HTTP/1.1\u001b[0m\" 200 -\n"
     ]
    },
    {
     "name": "stdout",
     "output_type": "stream",
     "text": [
      "Episode: Steps 242\t Score = -6077.749999999803\n",
      "Episode: Steps 243\t Score = -6102.666666666465\n",
      "Episode: Steps 244\t Score = -6127.5833333331275\n",
      "Episode: Steps 245\t Score = -6152.49999999979\n"
     ]
    },
    {
     "name": "stderr",
     "output_type": "stream",
     "text": [
      "127.0.0.1 - - [28/Dec/2019 20:22:53] \"\u001b[37mGET /socket.io/?EIO=3&transport=polling&t=MzEBH3X&sid=0b854fcfadce4efaa6468e7a5979d178 HTTP/1.1\u001b[0m\" 200 -\n"
     ]
    },
    {
     "name": "stdout",
     "output_type": "stream",
     "text": [
      "Episode: Steps 246\t Score = -6177.416666666452\n",
      "Episode: Steps 247\t Score = -6202.333333333115\n",
      "Episode: Steps 248\t Score = -6227.249999999777\n",
      "Episode: Steps 249\t Score = -6252.16666666644\n",
      "Episode: Steps 250\t Score = -6277.083333333102\n",
      "Episode: Steps 251\t Score = -6301.999999999764\n"
     ]
    },
    {
     "name": "stderr",
     "output_type": "stream",
     "text": [
      "127.0.0.1 - - [28/Dec/2019 20:22:54] \"\u001b[37mGET /socket.io/?EIO=3&transport=polling&t=MzEBH69&sid=0b854fcfadce4efaa6468e7a5979d178 HTTP/1.1\u001b[0m\" 200 -\n"
     ]
    },
    {
     "name": "stdout",
     "output_type": "stream",
     "text": [
      "Episode: Steps 252\t Score = -6326.916666666427\n",
      "Episode: Steps 253\t Score = -6351.833333333089\n",
      "Episode: Steps 254\t Score = -6376.749999999752\n",
      "Episode: Steps 255\t Score = -6401.666666666414\n",
      "Episode: Steps 256\t Score = -6426.583333333077\n",
      "Episode: Steps 257\t Score = -6451.499999999739\n",
      "Episode: Steps 258\t Score = -6476.416666666401\n"
     ]
    },
    {
     "name": "stderr",
     "output_type": "stream",
     "text": [
      "127.0.0.1 - - [28/Dec/2019 20:22:54] \"\u001b[37mGET /socket.io/?EIO=3&transport=polling&t=MzEBH9l&sid=0b854fcfadce4efaa6468e7a5979d178 HTTP/1.1\u001b[0m\" 200 -\n"
     ]
    },
    {
     "name": "stdout",
     "output_type": "stream",
     "text": [
      "Episode: Steps 259\t Score = -6501.333333333064\n",
      "Episode: Steps 260\t Score = -6526.249999999726\n",
      "Episode: Steps 261\t Score = -6551.166666666389\n",
      "Episode: Steps 262\t Score = -6576.083333333051\n",
      "Episode: Steps 263\t Score = -6600.9999999997135\n",
      "Episode: Steps 264\t Score = -6625.916666666376\n",
      "Episode: Steps 265\t Score = -6650.833333333038\n"
     ]
    },
    {
     "name": "stderr",
     "output_type": "stream",
     "text": [
      "127.0.0.1 - - [28/Dec/2019 20:22:54] \"\u001b[37mGET /socket.io/?EIO=3&transport=polling&t=MzEBHCQ&sid=0b854fcfadce4efaa6468e7a5979d178 HTTP/1.1\u001b[0m\" 200 -\n",
      "127.0.0.1 - - [28/Dec/2019 20:22:54] \"\u001b[37mGET /socket.io/?EIO=3&transport=polling&t=MzEBHCh&sid=0b854fcfadce4efaa6468e7a5979d178 HTTP/1.1\u001b[0m\" 200 -\n",
      "127.0.0.1 - - [28/Dec/2019 20:22:54] \"\u001b[37mGET /socket.io/?EIO=3&transport=polling&t=MzEBHCn&sid=0b854fcfadce4efaa6468e7a5979d178 HTTP/1.1\u001b[0m\" 200 -\n",
      "127.0.0.1 - - [28/Dec/2019 20:22:54] \"\u001b[37mGET /socket.io/?EIO=3&transport=polling&t=MzEBHDH&sid=0b854fcfadce4efaa6468e7a5979d178 HTTP/1.1\u001b[0m\" 200 -\n"
     ]
    },
    {
     "name": "stdout",
     "output_type": "stream",
     "text": [
      "Episode: Steps 266\t Score = -6675.749999999701\n",
      "Episode: Steps 267\t Score = -6700.666666666363\n",
      "Episode: Steps 268\t Score = -6725.583333333026\n",
      "Episode: Steps 269\t Score = -6750.499999999688\n",
      "Episode: Steps 270\t Score = -6775.4166666663505\n",
      "Episode: Steps 271\t Score = -6800.333333333013\n",
      "Episode: Steps 272\t Score = -6825.249999999675\n",
      "Episode: Steps 273\t Score = -6850.166666666338\n"
     ]
    },
    {
     "name": "stderr",
     "output_type": "stream",
     "text": [
      "127.0.0.1 - - [28/Dec/2019 20:22:54] \"\u001b[37mGET /socket.io/?EIO=3&transport=polling&t=MzEBHDe&sid=0b854fcfadce4efaa6468e7a5979d178 HTTP/1.1\u001b[0m\" 200 -\n",
      "127.0.0.1 - - [28/Dec/2019 20:22:54] \"\u001b[37mGET /socket.io/?EIO=3&transport=polling&t=MzEBHEA&sid=0b854fcfadce4efaa6468e7a5979d178 HTTP/1.1\u001b[0m\" 200 -\n",
      "127.0.0.1 - - [28/Dec/2019 20:22:54] \"\u001b[37mGET /socket.io/?EIO=3&transport=polling&t=MzEBHEk&sid=0b854fcfadce4efaa6468e7a5979d178 HTTP/1.1\u001b[0m\" 200 -\n",
      "127.0.0.1 - - [28/Dec/2019 20:22:54] \"\u001b[37mGET /socket.io/?EIO=3&transport=polling&t=MzEBHFG&sid=0b854fcfadce4efaa6468e7a5979d178 HTTP/1.1\u001b[0m\" 200 -\n",
      "127.0.0.1 - - [28/Dec/2019 20:22:54] \"\u001b[37mGET /socket.io/?EIO=3&transport=polling&t=MzEBHFe&sid=0b854fcfadce4efaa6468e7a5979d178 HTTP/1.1\u001b[0m\" 200 -\n",
      "127.0.0.1 - - [28/Dec/2019 20:22:54] \"\u001b[37mGET /socket.io/?EIO=3&transport=polling&t=MzEBHGC&sid=0b854fcfadce4efaa6468e7a5979d178 HTTP/1.1\u001b[0m\" 200 -\n"
     ]
    },
    {
     "name": "stdout",
     "output_type": "stream",
     "text": [
      "Episode: Steps 274\t Score = -6875.083333333\n",
      "Episode: Steps 275\t Score = -6899.999999999663\n",
      "Episode: Steps 276\t Score = -6924.916666666325\n",
      "Episode: Steps 277\t Score = -6949.833333332987\n",
      "Episode: Steps 278\t Score = -6974.74999999965\n",
      "Episode: Steps 279\t Score = -6999.666666666312\n",
      "Episode: Steps 280\t Score = -7024.583333332975\n"
     ]
    },
    {
     "name": "stderr",
     "output_type": "stream",
     "text": [
      "127.0.0.1 - - [28/Dec/2019 20:22:54] \"\u001b[37mGET /socket.io/?EIO=3&transport=polling&t=MzEBHJ5&sid=0b854fcfadce4efaa6468e7a5979d178 HTTP/1.1\u001b[0m\" 200 -\n",
      "127.0.0.1 - - [28/Dec/2019 20:22:54] \"\u001b[37mGET /socket.io/?EIO=3&transport=polling&t=MzEBHJG&sid=0b854fcfadce4efaa6468e7a5979d178 HTTP/1.1\u001b[0m\" 200 -\n",
      "127.0.0.1 - - [28/Dec/2019 20:22:54] \"\u001b[37mGET /socket.io/?EIO=3&transport=polling&t=MzEBHJf&sid=0b854fcfadce4efaa6468e7a5979d178 HTTP/1.1\u001b[0m\" 200 -\n"
     ]
    },
    {
     "name": "stdout",
     "output_type": "stream",
     "text": [
      "Episode: Steps 281\t Score = -7049.499999999637\n",
      "Episode: Steps 282\t Score = -7074.4166666662995\n",
      "Episode: Steps 283\t Score = -7099.333333332962\n",
      "Episode: Steps 284\t Score = -7124.249999999624\n",
      "Episode: Steps 285\t Score = -7149.166666666287\n",
      "Episode: Steps 286\t Score = -7174.083333332949\n",
      "Episode: Steps 287\t Score = -7198.999999999612\n",
      "Episode: Steps 288\t Score = -7223.916666666274\n"
     ]
    },
    {
     "name": "stderr",
     "output_type": "stream",
     "text": [
      "127.0.0.1 - - [28/Dec/2019 20:22:55] \"\u001b[37mGET /socket.io/?EIO=3&transport=polling&t=MzEBHM2&sid=0b854fcfadce4efaa6468e7a5979d178 HTTP/1.1\u001b[0m\" 200 -\n",
      "127.0.0.1 - - [28/Dec/2019 20:22:55] \"\u001b[37mGET /socket.io/?EIO=3&transport=polling&t=MzEBHM8&sid=0b854fcfadce4efaa6468e7a5979d178 HTTP/1.1\u001b[0m\" 200 -\n",
      "127.0.0.1 - - [28/Dec/2019 20:22:55] \"\u001b[37mGET /socket.io/?EIO=3&transport=polling&t=MzEBHMK&sid=0b854fcfadce4efaa6468e7a5979d178 HTTP/1.1\u001b[0m\" 200 -\n",
      "127.0.0.1 - - [28/Dec/2019 20:22:55] \"\u001b[37mGET /socket.io/?EIO=3&transport=polling&t=MzEBHMn&sid=0b854fcfadce4efaa6468e7a5979d178 HTTP/1.1\u001b[0m\" 200 -\n",
      "127.0.0.1 - - [28/Dec/2019 20:22:55] \"\u001b[37mGET /socket.io/?EIO=3&transport=polling&t=MzEBHN5&sid=0b854fcfadce4efaa6468e7a5979d178 HTTP/1.1\u001b[0m\" 200 -\n",
      "127.0.0.1 - - [28/Dec/2019 20:22:55] \"\u001b[37mGET /socket.io/?EIO=3&transport=polling&t=MzEBHNY&sid=0b854fcfadce4efaa6468e7a5979d178 HTTP/1.1\u001b[0m\" 200 -\n"
     ]
    },
    {
     "name": "stdout",
     "output_type": "stream",
     "text": [
      "Episode: Steps 289\t Score = -7248.8333333329365\n",
      "Episode: Steps 290\t Score = -7273.749999999599\n",
      "Episode: Steps 291\t Score = -7298.666666666261\n",
      "Episode: Steps 292\t Score = -7323.583333332924\n",
      "Episode: Steps 293\t Score = -7348.499999999586\n",
      "Episode: Steps 294\t Score = -7373.416666666249\n",
      "Episode: Steps 295\t Score = -7398.333333332911\n"
     ]
    },
    {
     "name": "stderr",
     "output_type": "stream",
     "text": [
      "127.0.0.1 - - [28/Dec/2019 20:22:55] \"\u001b[37mGET /socket.io/?EIO=3&transport=polling&t=MzEBHNz&sid=0b854fcfadce4efaa6468e7a5979d178 HTTP/1.1\u001b[0m\" 200 -\n",
      "127.0.0.1 - - [28/Dec/2019 20:22:55] \"\u001b[37mGET /socket.io/?EIO=3&transport=polling&t=MzEBHO_&sid=0b854fcfadce4efaa6468e7a5979d178 HTTP/1.1\u001b[0m\" 200 -\n"
     ]
    },
    {
     "name": "stdout",
     "output_type": "stream",
     "text": [
      "Episode: Steps 296\t Score = -7423.249999999573\n",
      "Episode: Steps 297\t Score = -7448.166666666236\n",
      "Episode: Steps 298\t Score = -7473.083333332898\n",
      "Episode: Steps 299\t Score = -7497.999999999561\n"
     ]
    },
    {
     "name": "stderr",
     "output_type": "stream",
     "text": [
      "127.0.0.1 - - [28/Dec/2019 20:22:55] \"\u001b[37mGET /socket.io/?EIO=3&transport=polling&t=MzEBHUF&sid=0b854fcfadce4efaa6468e7a5979d178 HTTP/1.1\u001b[0m\" 200 -\n",
      "127.0.0.1 - - [28/Dec/2019 20:22:55] \"\u001b[37mGET /socket.io/?EIO=3&transport=polling&t=MzEBHUU&sid=0b854fcfadce4efaa6468e7a5979d178 HTTP/1.1\u001b[0m\" 200 -\n",
      "127.0.0.1 - - [28/Dec/2019 20:22:55] \"\u001b[37mGET /socket.io/?EIO=3&transport=polling&t=MzEBHUj&sid=0b854fcfadce4efaa6468e7a5979d178 HTTP/1.1\u001b[0m\" 200 -\n",
      "127.0.0.1 - - [28/Dec/2019 20:22:55] \"\u001b[37mGET /socket.io/?EIO=3&transport=polling&t=MzEBHV4&sid=0b854fcfadce4efaa6468e7a5979d178 HTTP/1.1\u001b[0m\" 200 -\n"
     ]
    },
    {
     "name": "stdout",
     "output_type": "stream",
     "text": [
      "Episode: Steps 300\t Score = -7522.916666666223\n",
      "Episode: Steps 301\t Score = -7547.833333332886\n",
      "Episode: Steps 302\t Score = -7572.749999999548\n",
      "Episode: Steps 303\t Score = -7597.66666666621\n",
      "Episode: Steps 304\t Score = -7622.583333332873\n",
      "Episode: Steps 305\t Score = -7647.499999999535\n",
      "Episode: Steps 306\t Score = -7672.416666666198\n"
     ]
    },
    {
     "name": "stderr",
     "output_type": "stream",
     "text": [
      "127.0.0.1 - - [28/Dec/2019 20:22:55] \"\u001b[37mGET /socket.io/?EIO=3&transport=polling&t=MzEBHVT&sid=0b854fcfadce4efaa6468e7a5979d178 HTTP/1.1\u001b[0m\" 200 -\n",
      "127.0.0.1 - - [28/Dec/2019 20:22:55] \"\u001b[37mGET /socket.io/?EIO=3&transport=polling&t=MzEBHVp&sid=0b854fcfadce4efaa6468e7a5979d178 HTTP/1.1\u001b[0m\" 200 -\n",
      "127.0.0.1 - - [28/Dec/2019 20:22:55] \"\u001b[37mGET /socket.io/?EIO=3&transport=polling&t=MzEBHWR&sid=0b854fcfadce4efaa6468e7a5979d178 HTTP/1.1\u001b[0m\" 200 -\n",
      "127.0.0.1 - - [28/Dec/2019 20:22:55] \"\u001b[37mGET /socket.io/?EIO=3&transport=polling&t=MzEBHWq&sid=0b854fcfadce4efaa6468e7a5979d178 HTTP/1.1\u001b[0m\" 200 -\n",
      "127.0.0.1 - - [28/Dec/2019 20:22:55] \"\u001b[37mGET /socket.io/?EIO=3&transport=polling&t=MzEBHXb&sid=0b854fcfadce4efaa6468e7a5979d178 HTTP/1.1\u001b[0m\" 200 -\n",
      "127.0.0.1 - - [28/Dec/2019 20:22:55] \"\u001b[37mGET /socket.io/?EIO=3&transport=polling&t=MzEBHY6&sid=0b854fcfadce4efaa6468e7a5979d178 HTTP/1.1\u001b[0m\" 200 -\n"
     ]
    },
    {
     "name": "stdout",
     "output_type": "stream",
     "text": [
      "Episode: Steps 307\t Score = -7697.33333333286\n",
      "Episode: Steps 308\t Score = -7722.2499999995225\n",
      "Episode: Steps 309\t Score = -7747.166666666185\n",
      "Episode: Steps 310\t Score = -7772.083333332847\n",
      "Episode: Steps 311\t Score = -7796.99999999951\n",
      "Episode: Steps 312\t Score = -7821.916666666172\n"
     ]
    },
    {
     "name": "stderr",
     "output_type": "stream",
     "text": [
      "127.0.0.1 - - [28/Dec/2019 20:22:55] \"\u001b[37mGET /socket.io/?EIO=3&transport=polling&t=MzEBHYk&sid=0b854fcfadce4efaa6468e7a5979d178 HTTP/1.1\u001b[0m\" 200 -\n",
      "127.0.0.1 - - [28/Dec/2019 20:22:55] \"\u001b[37mGET /socket.io/?EIO=3&transport=polling&t=MzEBHZE&sid=0b854fcfadce4efaa6468e7a5979d178 HTTP/1.1\u001b[0m\" 200 -\n",
      "127.0.0.1 - - [28/Dec/2019 20:22:55] \"\u001b[37mGET /socket.io/?EIO=3&transport=polling&t=MzEBHZh&sid=0b854fcfadce4efaa6468e7a5979d178 HTTP/1.1\u001b[0m\" 200 -\n",
      "127.0.0.1 - - [28/Dec/2019 20:22:56] \"\u001b[37mGET /socket.io/?EIO=3&transport=polling&t=MzEBHa0&sid=0b854fcfadce4efaa6468e7a5979d178 HTTP/1.1\u001b[0m\" 200 -\n"
     ]
    },
    {
     "name": "stdout",
     "output_type": "stream",
     "text": [
      "Episode: Steps 313\t Score = -7846.833333332835\n",
      "Episode: Steps 314\t Score = -7871.749999999497\n",
      "Episode: Steps 315\t Score = -7896.6666666661595\n",
      "Episode: Steps 316\t Score = -7921.583333332822\n",
      "Episode: Steps 317\t Score = -7946.499999999484\n",
      "Episode: Steps 318\t Score = -7971.416666666147\n",
      "Episode: Steps 319\t Score = -7996.333333332809\n",
      "Episode: Steps 320\t Score = -8021.249999999472\n"
     ]
    },
    {
     "name": "stderr",
     "output_type": "stream",
     "text": [
      "127.0.0.1 - - [28/Dec/2019 20:22:56] \"\u001b[37mGET /socket.io/?EIO=3&transport=polling&t=MzEBHcG&sid=0b854fcfadce4efaa6468e7a5979d178 HTTP/1.1\u001b[0m\" 200 -\n",
      "127.0.0.1 - - [28/Dec/2019 20:22:56] \"\u001b[37mGET /socket.io/?EIO=3&transport=polling&t=MzEBHcX&sid=0b854fcfadce4efaa6468e7a5979d178 HTTP/1.1\u001b[0m\" 200 -\n",
      "127.0.0.1 - - [28/Dec/2019 20:22:56] \"\u001b[37mGET /socket.io/?EIO=3&transport=polling&t=MzEBHcw&sid=0b854fcfadce4efaa6468e7a5979d178 HTTP/1.1\u001b[0m\" 200 -\n",
      "127.0.0.1 - - [28/Dec/2019 20:22:56] \"\u001b[37mGET /socket.io/?EIO=3&transport=polling&t=MzEBHdQ&sid=0b854fcfadce4efaa6468e7a5979d178 HTTP/1.1\u001b[0m\" 200 -\n",
      "127.0.0.1 - - [28/Dec/2019 20:22:56] \"\u001b[37mGET /socket.io/?EIO=3&transport=polling&t=MzEBHd_&sid=0b854fcfadce4efaa6468e7a5979d178 HTTP/1.1\u001b[0m\" 200 -\n",
      "127.0.0.1 - - [28/Dec/2019 20:22:56] \"\u001b[37mGET /socket.io/?EIO=3&transport=polling&t=MzEBHeJ&sid=0b854fcfadce4efaa6468e7a5979d178 HTTP/1.1\u001b[0m\" 200 -\n"
     ]
    },
    {
     "name": "stdout",
     "output_type": "stream",
     "text": [
      "Episode: Steps 321\t Score = -8046.166666666134\n",
      "Episode: Steps 322\t Score = -8071.083333332796\n",
      "Episode: Steps 323\t Score = -8095.999999999459\n",
      "Episode: Steps 324\t Score = -8120.916666666121\n",
      "Episode: Steps 325\t Score = -8145.833333332784\n",
      "Episode: Steps 326\t Score = -8170.749999999446\n"
     ]
    },
    {
     "name": "stderr",
     "output_type": "stream",
     "text": [
      "127.0.0.1 - - [28/Dec/2019 20:22:56] \"\u001b[37mGET /socket.io/?EIO=3&transport=polling&t=MzEBHf9&sid=0b854fcfadce4efaa6468e7a5979d178 HTTP/1.1\u001b[0m\" 200 -\n",
      "127.0.0.1 - - [28/Dec/2019 20:22:56] \"\u001b[37mGET /socket.io/?EIO=3&transport=polling&t=MzEBHfm&sid=0b854fcfadce4efaa6468e7a5979d178 HTTP/1.1\u001b[0m\" 200 -\n",
      "127.0.0.1 - - [28/Dec/2019 20:22:56] \"\u001b[37mGET /socket.io/?EIO=3&transport=polling&t=MzEBHgO&sid=0b854fcfadce4efaa6468e7a5979d178 HTTP/1.1\u001b[0m\" 200 -\n",
      "127.0.0.1 - - [28/Dec/2019 20:22:56] \"\u001b[37mGET /socket.io/?EIO=3&transport=polling&t=MzEBHgr&sid=0b854fcfadce4efaa6468e7a5979d178 HTTP/1.1\u001b[0m\" 200 -\n",
      "127.0.0.1 - - [28/Dec/2019 20:22:56] \"\u001b[37mGET /socket.io/?EIO=3&transport=polling&t=MzEBHhM&sid=0b854fcfadce4efaa6468e7a5979d178 HTTP/1.1\u001b[0m\" 200 -\n",
      "127.0.0.1 - - [28/Dec/2019 20:22:56] \"\u001b[37mGET /socket.io/?EIO=3&transport=polling&t=MzEBHhq&sid=0b854fcfadce4efaa6468e7a5979d178 HTTP/1.1\u001b[0m\" 200 -\n",
      "127.0.0.1 - - [28/Dec/2019 20:22:56] \"\u001b[37mGET /socket.io/?EIO=3&transport=polling&t=MzEBHiH&sid=0b854fcfadce4efaa6468e7a5979d178 HTTP/1.1\u001b[0m\" 200 -\n"
     ]
    },
    {
     "name": "stdout",
     "output_type": "stream",
     "text": [
      "Episode: Steps 327\t Score = -8195.666666666111\n",
      "Episode: Steps 328\t Score = -8220.583333332786\n",
      "Episode: Steps 329\t Score = -8245.499999999462\n",
      "Episode: Steps 330\t Score = -8270.416666666137\n",
      "Episode: Steps 331\t Score = -8295.333333332812\n",
      "Episode: Steps 332\t Score = -8320.249999999487\n",
      "Episode: Steps 333\t Score = -8345.166666666162\n"
     ]
    },
    {
     "name": "stderr",
     "output_type": "stream",
     "text": [
      "127.0.0.1 - - [28/Dec/2019 20:22:56] \"\u001b[37mGET /socket.io/?EIO=3&transport=polling&t=MzEBHiu&sid=0b854fcfadce4efaa6468e7a5979d178 HTTP/1.1\u001b[0m\" 200 -\n",
      "127.0.0.1 - - [28/Dec/2019 20:22:56] \"\u001b[37mGET /socket.io/?EIO=3&transport=polling&t=MzEBHlT&sid=0b854fcfadce4efaa6468e7a5979d178 HTTP/1.1\u001b[0m\" 200 -\n",
      "127.0.0.1 - - [28/Dec/2019 20:22:56] \"\u001b[37mGET /socket.io/?EIO=3&transport=polling&t=MzEBHlk&sid=0b854fcfadce4efaa6468e7a5979d178 HTTP/1.1\u001b[0m\" 200 -\n",
      "127.0.0.1 - - [28/Dec/2019 20:22:56] \"\u001b[37mGET /socket.io/?EIO=3&transport=polling&t=MzEBHm5&sid=0b854fcfadce4efaa6468e7a5979d178 HTTP/1.1\u001b[0m\" 200 -\n"
     ]
    },
    {
     "name": "stdout",
     "output_type": "stream",
     "text": [
      "Episode: Steps 334\t Score = -8370.083333332837\n",
      "Episode: Steps 335\t Score = -8394.999999999513\n",
      "Episode: Steps 336\t Score = -8419.916666666188\n",
      "Episode: Steps 337\t Score = -8444.833333332863\n",
      "Episode: Steps 338\t Score = -8469.749999999538\n",
      "Episode: Steps 339\t Score = -8494.666666666213\n",
      "Episode: Steps 340\t Score = -8519.583333332888\n"
     ]
    },
    {
     "name": "stderr",
     "output_type": "stream",
     "text": [
      "127.0.0.1 - - [28/Dec/2019 20:22:56] \"\u001b[37mGET /socket.io/?EIO=3&transport=polling&t=MzEBHmX&sid=0b854fcfadce4efaa6468e7a5979d178 HTTP/1.1\u001b[0m\" 200 -\n",
      "127.0.0.1 - - [28/Dec/2019 20:22:56] \"\u001b[37mGET /socket.io/?EIO=3&transport=polling&t=MzEBHn9&sid=0b854fcfadce4efaa6468e7a5979d178 HTTP/1.1\u001b[0m\" 200 -\n",
      "127.0.0.1 - - [28/Dec/2019 20:22:56] \"\u001b[37mGET /socket.io/?EIO=3&transport=polling&t=MzEBHoD&sid=0b854fcfadce4efaa6468e7a5979d178 HTTP/1.1\u001b[0m\" 200 -\n",
      "127.0.0.1 - - [28/Dec/2019 20:22:56] \"\u001b[37mGET /socket.io/?EIO=3&transport=polling&t=MzEBHom&sid=0b854fcfadce4efaa6468e7a5979d178 HTTP/1.1\u001b[0m\" 200 -\n",
      "127.0.0.1 - - [28/Dec/2019 20:22:57] \"\u001b[37mGET /socket.io/?EIO=3&transport=polling&t=MzEBHpU&sid=0b854fcfadce4efaa6468e7a5979d178 HTTP/1.1\u001b[0m\" 200 -\n"
     ]
    },
    {
     "name": "stdout",
     "output_type": "stream",
     "text": [
      "Episode: Steps 341\t Score = -8544.499999999563\n",
      "Episode: Steps 342\t Score = -8569.416666666239\n",
      "Episode: Steps 343\t Score = -8594.333333332914\n",
      "Episode: Steps 344\t Score = -8619.249999999589\n",
      "Episode: Steps 345\t Score = -8644.166666666264\n"
     ]
    },
    {
     "name": "stderr",
     "output_type": "stream",
     "text": [
      "127.0.0.1 - - [28/Dec/2019 20:22:57] \"\u001b[37mGET /socket.io/?EIO=3&transport=polling&t=MzEBHpr&sid=0b854fcfadce4efaa6468e7a5979d178 HTTP/1.1\u001b[0m\" 200 -\n",
      "127.0.0.1 - - [28/Dec/2019 20:22:57] \"\u001b[37mGET /socket.io/?EIO=3&transport=polling&t=MzEBHqG&sid=0b854fcfadce4efaa6468e7a5979d178 HTTP/1.1\u001b[0m\" 200 -\n",
      "127.0.0.1 - - [28/Dec/2019 20:22:57] \"\u001b[37mGET /socket.io/?EIO=3&transport=polling&t=MzEBHqc&sid=0b854fcfadce4efaa6468e7a5979d178 HTTP/1.1\u001b[0m\" 200 -\n",
      "127.0.0.1 - - [28/Dec/2019 20:22:57] \"\u001b[37mGET /socket.io/?EIO=3&transport=polling&t=MzEBHrC&sid=0b854fcfadce4efaa6468e7a5979d178 HTTP/1.1\u001b[0m\" 200 -\n",
      "127.0.0.1 - - [28/Dec/2019 20:22:57] \"\u001b[37mGET /socket.io/?EIO=3&transport=polling&t=MzEBHra&sid=0b854fcfadce4efaa6468e7a5979d178 HTTP/1.1\u001b[0m\" 200 -\n"
     ]
    },
    {
     "name": "stdout",
     "output_type": "stream",
     "text": [
      "Episode: Steps 346\t Score = -8669.08333333294\n",
      "Episode: Steps 347\t Score = -8693.999999999614\n",
      "Episode: Steps 348\t Score = -8718.91666666629\n",
      "Episode: Steps 349\t Score = -8743.833333332965\n",
      "Episode: Steps 350\t Score = -8768.74999999964\n",
      "Episode: Steps 351\t Score = -8793.666666666315\n",
      "Episode: Steps 352\t Score = -8818.58333333299\n"
     ]
    },
    {
     "name": "stderr",
     "output_type": "stream",
     "text": [
      "127.0.0.1 - - [28/Dec/2019 20:22:57] \"\u001b[37mGET /socket.io/?EIO=3&transport=polling&t=MzEBHuf&sid=0b854fcfadce4efaa6468e7a5979d178 HTTP/1.1\u001b[0m\" 200 -\n",
      "127.0.0.1 - - [28/Dec/2019 20:22:57] \"\u001b[37mGET /socket.io/?EIO=3&transport=polling&t=MzEBHur&sid=0b854fcfadce4efaa6468e7a5979d178 HTTP/1.1\u001b[0m\" 200 -\n",
      "127.0.0.1 - - [28/Dec/2019 20:22:57] \"\u001b[37mGET /socket.io/?EIO=3&transport=polling&t=MzEBHuv&sid=0b854fcfadce4efaa6468e7a5979d178 HTTP/1.1\u001b[0m\" 200 -\n",
      "127.0.0.1 - - [28/Dec/2019 20:22:57] \"\u001b[37mGET /socket.io/?EIO=3&transport=polling&t=MzEBHvS&sid=0b854fcfadce4efaa6468e7a5979d178 HTTP/1.1\u001b[0m\" 200 -\n",
      "127.0.0.1 - - [28/Dec/2019 20:22:57] \"\u001b[37mGET /socket.io/?EIO=3&transport=polling&t=MzEBHw6&sid=0b854fcfadce4efaa6468e7a5979d178 HTTP/1.1\u001b[0m\" 200 -\n"
     ]
    },
    {
     "name": "stdout",
     "output_type": "stream",
     "text": [
      "Episode: Steps 353\t Score = -8843.499999999665\n",
      "Episode: Steps 354\t Score = -8868.41666666634\n",
      "Episode: Steps 355\t Score = -8893.333333333016\n",
      "Episode: Steps 356\t Score = -8918.24999999969\n",
      "Episode: Steps 357\t Score = -8943.166666666366\n",
      "Episode: Steps 358\t Score = -8968.083333333041\n",
      "Episode: Steps 359\t Score = -8992.999999999716\n"
     ]
    },
    {
     "name": "stderr",
     "output_type": "stream",
     "text": [
      "127.0.0.1 - - [28/Dec/2019 20:22:57] \"\u001b[37mGET /socket.io/?EIO=3&transport=polling&t=MzEBHwY&sid=0b854fcfadce4efaa6468e7a5979d178 HTTP/1.1\u001b[0m\" 200 -\n",
      "127.0.0.1 - - [28/Dec/2019 20:22:57] \"\u001b[37mGET /socket.io/?EIO=3&transport=polling&t=MzEBHx1&sid=0b854fcfadce4efaa6468e7a5979d178 HTTP/1.1\u001b[0m\" 200 -\n",
      "127.0.0.1 - - [28/Dec/2019 20:22:57] \"\u001b[37mGET /socket.io/?EIO=3&transport=polling&t=MzEBHxZ&sid=0b854fcfadce4efaa6468e7a5979d178 HTTP/1.1\u001b[0m\" 200 -\n",
      "127.0.0.1 - - [28/Dec/2019 20:22:57] \"\u001b[37mGET /socket.io/?EIO=3&transport=polling&t=MzEBHyB&sid=0b854fcfadce4efaa6468e7a5979d178 HTTP/1.1\u001b[0m\" 200 -\n",
      "127.0.0.1 - - [28/Dec/2019 20:22:57] \"\u001b[37mGET /socket.io/?EIO=3&transport=polling&t=MzEBHyY&sid=0b854fcfadce4efaa6468e7a5979d178 HTTP/1.1\u001b[0m\" 200 -\n",
      "127.0.0.1 - - [28/Dec/2019 20:22:57] \"\u001b[37mGET /socket.io/?EIO=3&transport=polling&t=MzEBHy_&sid=0b854fcfadce4efaa6468e7a5979d178 HTTP/1.1\u001b[0m\" 200 -\n",
      "127.0.0.1 - - [28/Dec/2019 20:22:57] \"\u001b[37mGET /socket.io/?EIO=3&transport=polling&t=MzEBHzL&sid=0b854fcfadce4efaa6468e7a5979d178 HTTP/1.1\u001b[0m\" 200 -\n",
      "127.0.0.1 - - [28/Dec/2019 20:22:57] \"\u001b[37mGET /socket.io/?EIO=3&transport=polling&t=MzEBHzm&sid=0b854fcfadce4efaa6468e7a5979d178 HTTP/1.1\u001b[0m\" 200 -\n"
     ]
    },
    {
     "name": "stdout",
     "output_type": "stream",
     "text": [
      "Episode: Steps 360\t Score = -9017.916666666391\n",
      "Episode: Steps 361\t Score = -9042.833333333067\n",
      "Episode: Steps 362\t Score = -9067.749999999742\n",
      "Episode: Steps 363\t Score = -9092.666666666417\n",
      "Episode: Steps 364\t Score = -9117.583333333092\n",
      "Episode: Steps 365\t Score = -9142.499999999767\n",
      "Episode: Steps 366\t Score = -9167.416666666442\n",
      "Episode: Steps 367\t Score = -9192.333333333117\n"
     ]
    },
    {
     "name": "stderr",
     "output_type": "stream",
     "text": [
      "127.0.0.1 - - [28/Dec/2019 20:22:57] \"\u001b[37mGET /socket.io/?EIO=3&transport=polling&t=MzEBH-6&sid=0b854fcfadce4efaa6468e7a5979d178 HTTP/1.1\u001b[0m\" 200 -\n",
      "127.0.0.1 - - [28/Dec/2019 20:22:57] \"\u001b[37mGET /socket.io/?EIO=3&transport=polling&t=MzEBH-X&sid=0b854fcfadce4efaa6468e7a5979d178 HTTP/1.1\u001b[0m\" 200 -\n",
      "127.0.0.1 - - [28/Dec/2019 20:22:57] \"\u001b[37mGET /socket.io/?EIO=3&transport=polling&t=MzEBI1D&sid=0b854fcfadce4efaa6468e7a5979d178 HTTP/1.1\u001b[0m\" 200 -\n"
     ]
    },
    {
     "name": "stdout",
     "output_type": "stream",
     "text": [
      "Episode: Steps 368\t Score = -9217.249999999793\n",
      "Episode: Steps 369\t Score = -9242.166666666468\n",
      "Episode: Steps 370\t Score = -9267.083333333143\n",
      "Episode: Steps 371\t Score = -9291.999999999818\n",
      "Episode: Steps 372\t Score = -9316.916666666493\n",
      "Episode: Steps 373\t Score = -9341.833333333168\n",
      "Episode: Steps 374\t Score = -9366.749999999844\n",
      "Episode: Steps 375\t Score = -9391.666666666519\n"
     ]
    },
    {
     "name": "stderr",
     "output_type": "stream",
     "text": [
      "127.0.0.1 - - [28/Dec/2019 20:22:58] \"\u001b[37mGET /socket.io/?EIO=3&transport=polling&t=MzEBI43&sid=0b854fcfadce4efaa6468e7a5979d178 HTTP/1.1\u001b[0m\" 200 -\n"
     ]
    },
    {
     "name": "stdout",
     "output_type": "stream",
     "text": [
      "Episode: Steps 376\t Score = -9416.583333333194\n",
      "Episode: Steps 377\t Score = -9441.499999999869\n",
      "Episode: Steps 378\t Score = -9466.416666666544\n",
      "Episode: Steps 379\t Score = -9491.33333333322\n",
      "Episode: Steps 380\t Score = -9516.249999999894\n",
      "Episode: Steps 381\t Score = -9541.16666666657\n"
     ]
    },
    {
     "name": "stderr",
     "output_type": "stream",
     "text": [
      "127.0.0.1 - - [28/Dec/2019 20:22:58] \"\u001b[37mGET /socket.io/?EIO=3&transport=polling&t=MzEBI82&sid=0b854fcfadce4efaa6468e7a5979d178 HTTP/1.1\u001b[0m\" 200 -\n"
     ]
    },
    {
     "name": "stdout",
     "output_type": "stream",
     "text": [
      "Episode: Steps 382\t Score = -9566.083333333245\n",
      "Episode: Steps 383\t Score = -9590.99999999992\n",
      "Episode: Steps 384\t Score = -9615.916666666595\n",
      "Episode: Steps 385\t Score = -9640.83333333327\n",
      "Episode: Steps 386\t Score = -9665.749999999945\n",
      "Episode: Steps 387\t Score = -9690.66666666662\n",
      "Episode: Steps 388\t Score = -9715.583333333296\n"
     ]
    },
    {
     "name": "stderr",
     "output_type": "stream",
     "text": [
      "127.0.0.1 - - [28/Dec/2019 20:22:58] \"\u001b[37mGET /socket.io/?EIO=3&transport=polling&t=MzEBIBJ&sid=0b854fcfadce4efaa6468e7a5979d178 HTTP/1.1\u001b[0m\" 200 -\n"
     ]
    },
    {
     "name": "stdout",
     "output_type": "stream",
     "text": [
      "Episode: Steps 389\t Score = -9740.49999999997\n",
      "Episode: Steps 390\t Score = -9765.416666666646\n",
      "Episode: Steps 391\t Score = -9790.333333333321\n",
      "Episode: Steps 392\t Score = -9815.249999999996\n",
      "Episode: Steps 393\t Score = -9840.166666666672\n",
      "Episode: Steps 394\t Score = -9865.083333333347\n",
      "Episode: Steps 395\t Score = -9890.000000000022\n"
     ]
    },
    {
     "name": "stderr",
     "output_type": "stream",
     "text": [
      "127.0.0.1 - - [28/Dec/2019 20:22:58] \"\u001b[37mGET /socket.io/?EIO=3&transport=polling&t=MzEBIE9&sid=0b854fcfadce4efaa6468e7a5979d178 HTTP/1.1\u001b[0m\" 200 -\n"
     ]
    },
    {
     "name": "stdout",
     "output_type": "stream",
     "text": [
      "Episode: Steps 396\t Score = -9914.916666666697\n",
      "Episode: Steps 397\t Score = -9939.833333333372\n",
      "Episode: Steps 398\t Score = -9964.750000000047\n",
      "Episode: Steps 399\t Score = -9989.666666666722\n",
      "Episode: Steps 400\t Score = -10014.583333333398\n",
      "Episode: Steps 401\t Score = -10039.500000000073\n",
      "Episode: Steps 402\t Score = -10064.416666666748\n",
      "Episode: Steps 403\t Score = -10089.333333333423\n"
     ]
    },
    {
     "name": "stderr",
     "output_type": "stream",
     "text": [
      "127.0.0.1 - - [28/Dec/2019 20:22:58] \"\u001b[37mGET /socket.io/?EIO=3&transport=polling&t=MzEBIHa&sid=0b854fcfadce4efaa6468e7a5979d178 HTTP/1.1\u001b[0m\" 200 -\n"
     ]
    },
    {
     "name": "stdout",
     "output_type": "stream",
     "text": [
      "Episode: Steps 404\t Score = -10114.250000000098\n",
      "Episode: Steps 405\t Score = -10139.166666666773\n",
      "Episode: Steps 406\t Score = -10164.083333333449\n",
      "Episode: Steps 407\t Score = -10189.000000000124\n",
      "Episode: Steps 408\t Score = -10213.916666666799\n",
      "Episode: Steps 409\t Score = -10238.833333333474\n",
      "Episode: Steps 410\t Score = -10263.75000000015\n",
      "Episode: Steps 411\t Score = -10288.666666666824\n"
     ]
    },
    {
     "name": "stderr",
     "output_type": "stream",
     "text": [
      "127.0.0.1 - - [28/Dec/2019 20:22:59] \"\u001b[37mGET /socket.io/?EIO=3&transport=polling&t=MzEBIKS&sid=0b854fcfadce4efaa6468e7a5979d178 HTTP/1.1\u001b[0m\" 200 -\n"
     ]
    },
    {
     "name": "stdout",
     "output_type": "stream",
     "text": [
      "Episode: Steps 412\t Score = -10313.5833333335\n",
      "Episode: Steps 413\t Score = -10338.500000000175\n",
      "Episode: Steps 414\t Score = -10363.41666666685\n",
      "Episode: Steps 415\t Score = -10388.333333333525\n",
      "Episode: Steps 416\t Score = -10413.2500000002\n",
      "Episode: Steps 417\t Score = -10438.166666666875\n",
      "Episode: Steps 418\t Score = -10463.08333333355\n",
      "Episode: Steps 419\t Score = -10488.000000000226\n"
     ]
    },
    {
     "name": "stderr",
     "output_type": "stream",
     "text": [
      "127.0.0.1 - - [28/Dec/2019 20:22:59] \"\u001b[37mGET /socket.io/?EIO=3&transport=polling&t=MzEBINX&sid=0b854fcfadce4efaa6468e7a5979d178 HTTP/1.1\u001b[0m\" 200 -\n"
     ]
    },
    {
     "name": "stdout",
     "output_type": "stream",
     "text": [
      "Episode: Steps 420\t Score = -10512.9166666669\n",
      "Episode: Steps 421\t Score = -10537.833333333576\n",
      "Episode: Steps 422\t Score = -10562.750000000251\n",
      "Episode: Steps 423\t Score = -10587.666666666926\n",
      "Episode: Steps 424\t Score = -10612.583333333601\n",
      "Episode: Steps 425\t Score = -10637.500000000276\n",
      "Episode: Steps 426\t Score = -10662.416666666952\n"
     ]
    },
    {
     "name": "stderr",
     "output_type": "stream",
     "text": [
      "127.0.0.1 - - [28/Dec/2019 20:22:59] \"\u001b[37mGET /socket.io/?EIO=3&transport=polling&t=MzEBIQh&sid=0b854fcfadce4efaa6468e7a5979d178 HTTP/1.1\u001b[0m\" 200 -\n"
     ]
    },
    {
     "name": "stdout",
     "output_type": "stream",
     "text": [
      "Episode: Steps 427\t Score = -10687.333333333627\n",
      "Episode: Steps 428\t Score = -10712.250000000302\n",
      "Episode: Steps 429\t Score = -10737.166666666977\n",
      "Episode: Steps 430\t Score = -10762.083333333652\n",
      "Episode: Steps 431\t Score = -10787.000000000327\n",
      "Episode: Steps 432\t Score = -10811.916666667003\n",
      "Episode: Steps 433\t Score = -10836.833333333678\n"
     ]
    },
    {
     "name": "stderr",
     "output_type": "stream",
     "text": [
      "127.0.0.1 - - [28/Dec/2019 20:22:59] \"\u001b[37mGET /socket.io/?EIO=3&transport=polling&t=MzEBITV&sid=0b854fcfadce4efaa6468e7a5979d178 HTTP/1.1\u001b[0m\" 200 -\n"
     ]
    },
    {
     "name": "stdout",
     "output_type": "stream",
     "text": [
      "Episode: Steps 434\t Score = -10861.750000000353\n",
      "Episode: Steps 435\t Score = -10886.666666667028\n",
      "Episode: Steps 436\t Score = -10911.583333333703\n",
      "Episode: Steps 437\t Score = -10936.500000000378\n",
      "Episode: Steps 438\t Score = -10961.416666667054\n",
      "Episode: Steps 439\t Score = -10986.333333333729\n"
     ]
    },
    {
     "name": "stderr",
     "output_type": "stream",
     "text": [
      "127.0.0.1 - - [28/Dec/2019 20:22:59] \"\u001b[37mGET /socket.io/?EIO=3&transport=polling&t=MzEBIWZ&sid=0b854fcfadce4efaa6468e7a5979d178 HTTP/1.1\u001b[0m\" 200 -\n",
      "127.0.0.1 - - [28/Dec/2019 20:23:00] \"\u001b[37mGET /socket.io/?EIO=3&transport=polling&t=MzEBIZb&sid=0b854fcfadce4efaa6468e7a5979d178 HTTP/1.1\u001b[0m\" 200 -\n"
     ]
    },
    {
     "name": "stdout",
     "output_type": "stream",
     "text": [
      "Episode: Steps 440\t Score = -11011.250000000404\n",
      "Episode: Steps 441\t Score = -11036.166666667079\n",
      "Episode: Steps 442\t Score = -11061.083333333754\n",
      "Episode: Steps 443\t Score = -11086.00000000043\n",
      "Episode: Steps 444\t Score = -11110.916666667104\n",
      "Episode: Steps 445\t Score = -11135.83333333378\n",
      "Episode: Steps 446\t Score = -11160.750000000455\n"
     ]
    },
    {
     "name": "stderr",
     "output_type": "stream",
     "text": [
      "127.0.0.1 - - [28/Dec/2019 20:23:00] \"\u001b[37mGET /socket.io/?EIO=3&transport=polling&t=MzEBIcS&sid=0b854fcfadce4efaa6468e7a5979d178 HTTP/1.1\u001b[0m\" 200 -\n"
     ]
    },
    {
     "name": "stdout",
     "output_type": "stream",
     "text": [
      "Episode: Steps 447\t Score = -11185.66666666713\n",
      "Episode: Steps 448\t Score = -11210.583333333805\n",
      "Episode: Steps 449\t Score = -11235.50000000048\n",
      "Episode: Steps 450\t Score = -11260.416666667155\n",
      "Episode: Steps 451\t Score = -11285.33333333383\n",
      "Episode: Steps 452\t Score = -11310.250000000506\n",
      "Episode: Steps 453\t Score = -11335.16666666718\n"
     ]
    },
    {
     "name": "stderr",
     "output_type": "stream",
     "text": [
      "127.0.0.1 - - [28/Dec/2019 20:23:00] \"\u001b[37mGET /socket.io/?EIO=3&transport=polling&t=MzEBIfk&sid=0b854fcfadce4efaa6468e7a5979d178 HTTP/1.1\u001b[0m\" 200 -\n"
     ]
    },
    {
     "name": "stdout",
     "output_type": "stream",
     "text": [
      "Episode: Steps 454\t Score = -11360.083333333856\n",
      "Episode: Steps 455\t Score = -11385.000000000531\n",
      "Episode: Steps 456\t Score = -11409.916666667206\n",
      "Episode: Steps 457\t Score = -11434.833333333881\n",
      "Episode: Steps 458\t Score = -11459.750000000557\n",
      "Episode: Steps 459\t Score = -11484.666666667232\n",
      "Episode: Steps 460\t Score = -11509.583333333907\n",
      "Episode: Steps 461\t Score = -11534.500000000582\n"
     ]
    },
    {
     "name": "stderr",
     "output_type": "stream",
     "text": [
      "127.0.0.1 - - [28/Dec/2019 20:23:00] \"\u001b[37mGET /socket.io/?EIO=3&transport=polling&t=MzEBIib&sid=0b854fcfadce4efaa6468e7a5979d178 HTTP/1.1\u001b[0m\" 200 -\n"
     ]
    },
    {
     "name": "stdout",
     "output_type": "stream",
     "text": [
      "Episode: Steps 462\t Score = -11559.416666667257\n",
      "Episode: Steps 463\t Score = -11584.333333333932\n",
      "Episode: Steps 464\t Score = -11609.250000000608\n",
      "Episode: Steps 465\t Score = -11634.166666667283\n",
      "Episode: Steps 466\t Score = -11659.083333333958\n",
      "Episode: Steps 467\t Score = -11684.000000000633\n",
      "Episode: Steps 468\t Score = -11708.916666667308\n",
      "Episode: Steps 469\t Score = -11733.833333333983\n"
     ]
    },
    {
     "name": "stderr",
     "output_type": "stream",
     "text": [
      "127.0.0.1 - - [28/Dec/2019 20:23:00] \"\u001b[37mGET /socket.io/?EIO=3&transport=polling&t=MzEBIlk&sid=0b854fcfadce4efaa6468e7a5979d178 HTTP/1.1\u001b[0m\" 200 -\n"
     ]
    },
    {
     "name": "stdout",
     "output_type": "stream",
     "text": [
      "Episode: Steps 470\t Score = -11758.750000000658\n",
      "Episode: Steps 471\t Score = -11783.666666667334\n",
      "Episode: Steps 472\t Score = -11808.583333334009\n",
      "Episode: Steps 473\t Score = -11833.500000000684\n",
      "Episode: Steps 474\t Score = -11858.41666666736\n",
      "Episode: Steps 475\t Score = -11883.333333334034\n"
     ]
    },
    {
     "name": "stderr",
     "output_type": "stream",
     "text": [
      "127.0.0.1 - - [28/Dec/2019 20:23:01] \"\u001b[37mGET /socket.io/?EIO=3&transport=polling&t=MzEBIp3&sid=0b854fcfadce4efaa6468e7a5979d178 HTTP/1.1\u001b[0m\" 200 -\n"
     ]
    },
    {
     "name": "stdout",
     "output_type": "stream",
     "text": [
      "Episode: Steps 476\t Score = -11908.25000000071\n",
      "Episode: Steps 477\t Score = -11933.166666667385\n",
      "Episode: Steps 478\t Score = -11958.08333333406\n",
      "Episode: Steps 479\t Score = -11983.000000000735\n",
      "Episode: Steps 480\t Score = -12007.91666666741\n",
      "Episode: Steps 481\t Score = -12032.833333334085\n",
      "Episode: Steps 482\t Score = -12057.75000000076\n",
      "Episode: Steps 483\t Score = -12082.666666667435\n"
     ]
    },
    {
     "name": "stderr",
     "output_type": "stream",
     "text": [
      "127.0.0.1 - - [28/Dec/2019 20:23:01] \"\u001b[37mGET /socket.io/?EIO=3&transport=polling&t=MzEBIsY&sid=0b854fcfadce4efaa6468e7a5979d178 HTTP/1.1\u001b[0m\" 200 -\n"
     ]
    },
    {
     "name": "stdout",
     "output_type": "stream",
     "text": [
      "Episode: Steps 484\t Score = -12107.58333333411\n",
      "Episode: Steps 485\t Score = -12132.500000000786\n",
      "Episode: Steps 486\t Score = -12157.416666667461\n",
      "Episode: Steps 487\t Score = -12182.333333334136\n",
      "Episode: Steps 488\t Score = -12207.250000000811\n",
      "Episode: Steps 489\t Score = -12232.166666667486\n",
      "Episode: Steps 490\t Score = -12257.083333334162\n"
     ]
    },
    {
     "name": "stderr",
     "output_type": "stream",
     "text": [
      "127.0.0.1 - - [28/Dec/2019 20:23:01] \"\u001b[37mGET /socket.io/?EIO=3&transport=polling&t=MzEBIvn&sid=0b854fcfadce4efaa6468e7a5979d178 HTTP/1.1\u001b[0m\" 200 -\n"
     ]
    },
    {
     "name": "stdout",
     "output_type": "stream",
     "text": [
      "Episode: Steps 491\t Score = -12282.000000000837\n",
      "Episode: Steps 492\t Score = -12306.916666667512\n",
      "Episode: Steps 493\t Score = -12331.833333334187\n",
      "Episode: Steps 494\t Score = -12356.750000000862\n",
      "Episode: Steps 495\t Score = -12381.666666667537\n",
      "Episode: Steps 496\t Score = -12406.583333334213\n",
      "Episode: Steps 497\t Score = -12431.500000000888\n"
     ]
    },
    {
     "name": "stderr",
     "output_type": "stream",
     "text": [
      "127.0.0.1 - - [28/Dec/2019 20:23:01] \"\u001b[37mGET /socket.io/?EIO=3&transport=polling&t=MzEBIym&sid=0b854fcfadce4efaa6468e7a5979d178 HTTP/1.1\u001b[0m\" 200 -\n"
     ]
    },
    {
     "name": "stdout",
     "output_type": "stream",
     "text": [
      "Episode: Steps 498\t Score = -12456.416666667563\n",
      "Episode: Steps 499\t Score = -12481.333333334238\n",
      "Episode: Steps 500\t Score = -12506.250000000913\n",
      "Episode: Steps 501\t Score = -12531.166666667588\n",
      "Episode: Steps 502\t Score = -12556.083333334263\n",
      "Episode: Steps 503\t Score = -12581.000000000939\n",
      "Episode: Steps 504\t Score = -12605.916666667614\n"
     ]
    },
    {
     "name": "stderr",
     "output_type": "stream",
     "text": [
      "127.0.0.1 - - [28/Dec/2019 20:23:01] \"\u001b[37mGET /socket.io/?EIO=3&transport=polling&t=MzEBI_k&sid=0b854fcfadce4efaa6468e7a5979d178 HTTP/1.1\u001b[0m\" 200 -\n",
      "127.0.0.1 - - [28/Dec/2019 20:23:02] \"\u001b[37mGET /socket.io/?EIO=3&transport=polling&t=MzEBJ2c&sid=0b854fcfadce4efaa6468e7a5979d178 HTTP/1.1\u001b[0m\" 200 -\n"
     ]
    },
    {
     "name": "stdout",
     "output_type": "stream",
     "text": [
      "Episode: Steps 505\t Score = -12630.833333334289\n",
      "Episode: Steps 506\t Score = -12655.750000000964\n",
      "Episode: Steps 507\t Score = -12680.66666666764\n",
      "Episode: Steps 508\t Score = -12705.583333334314\n",
      "Episode: Steps 509\t Score = -12730.50000000099\n",
      "Episode: Steps 510\t Score = -12755.416666667665\n",
      "Episode: Steps 511\t Score = -12780.33333333434\n"
     ]
    },
    {
     "name": "stderr",
     "output_type": "stream",
     "text": [
      "127.0.0.1 - - [28/Dec/2019 20:23:02] \"\u001b[37mGET /socket.io/?EIO=3&transport=polling&t=MzEBJ5b&sid=0b854fcfadce4efaa6468e7a5979d178 HTTP/1.1\u001b[0m\" 200 -\n"
     ]
    },
    {
     "name": "stdout",
     "output_type": "stream",
     "text": [
      "Episode: Steps 512\t Score = -12805.250000001015\n",
      "Episode: Steps 513\t Score = -12830.16666666769\n",
      "Episode: Steps 514\t Score = -12855.083333334365\n",
      "Episode: Steps 515\t Score = -12880.00000000104\n",
      "Episode: Steps 516\t Score = -12904.916666667716\n",
      "Episode: Steps 517\t Score = -12929.83333333439\n",
      "Episode: Steps 518\t Score = -12954.750000001066\n"
     ]
    },
    {
     "name": "stderr",
     "output_type": "stream",
     "text": [
      "127.0.0.1 - - [28/Dec/2019 20:23:02] \"\u001b[37mGET /socket.io/?EIO=3&transport=polling&t=MzEBJ8-&sid=0b854fcfadce4efaa6468e7a5979d178 HTTP/1.1\u001b[0m\" 200 -\n"
     ]
    },
    {
     "name": "stdout",
     "output_type": "stream",
     "text": [
      "Episode: Steps 519\t Score = -12979.666666667741\n",
      "Episode: Steps 520\t Score = -13004.583333334416\n",
      "Episode: Steps 521\t Score = -13029.500000001091\n",
      "Episode: Steps 522\t Score = -13054.416666667767\n",
      "Episode: Steps 523\t Score = -13079.333333334442\n",
      "Episode: Steps 524\t Score = -13104.250000001117\n"
     ]
    },
    {
     "name": "stderr",
     "output_type": "stream",
     "text": [
      "127.0.0.1 - - [28/Dec/2019 20:23:02] \"\u001b[37mGET /socket.io/?EIO=3&transport=polling&t=MzEBJC2&sid=0b854fcfadce4efaa6468e7a5979d178 HTTP/1.1\u001b[0m\" 200 -\n"
     ]
    },
    {
     "name": "stdout",
     "output_type": "stream",
     "text": [
      "Episode: Steps 525\t Score = -13129.166666667792\n",
      "Episode: Steps 526\t Score = -13154.083333334467\n",
      "Episode: Steps 527\t Score = -13179.000000001142\n",
      "Episode: Steps 528\t Score = -13203.916666667817\n",
      "Episode: Steps 529\t Score = -13228.833333334493\n",
      "Episode: Steps 530\t Score = -13253.750000001168\n",
      "Episode: Steps 531\t Score = -13278.666666667843\n"
     ]
    },
    {
     "name": "stderr",
     "output_type": "stream",
     "text": [
      "127.0.0.1 - - [28/Dec/2019 20:23:02] \"\u001b[37mGET /socket.io/?EIO=3&transport=polling&t=MzEBJF5&sid=0b854fcfadce4efaa6468e7a5979d178 HTTP/1.1\u001b[0m\" 200 -\n"
     ]
    },
    {
     "name": "stdout",
     "output_type": "stream",
     "text": [
      "Episode: Steps 532\t Score = -13303.583333334518\n",
      "Episode: Steps 533\t Score = -13328.500000001193\n",
      "Episode: Steps 534\t Score = -13353.416666667868\n",
      "Episode: Steps 535\t Score = -13378.333333334544\n",
      "Episode: Steps 536\t Score = -13403.250000001219\n",
      "Episode: Steps 537\t Score = -13428.166666667894\n",
      "Episode: Steps 538\t Score = -13453.083333334569\n"
     ]
    },
    {
     "name": "stderr",
     "output_type": "stream",
     "text": [
      "127.0.0.1 - - [28/Dec/2019 20:23:03] \"\u001b[37mGET /socket.io/?EIO=3&transport=polling&t=MzEBJII&sid=0b854fcfadce4efaa6468e7a5979d178 HTTP/1.1\u001b[0m\" 200 -\n"
     ]
    },
    {
     "name": "stdout",
     "output_type": "stream",
     "text": [
      "Episode: Steps 539\t Score = -13478.000000001244\n",
      "Episode: Steps 540\t Score = -13502.91666666792\n",
      "Episode: Steps 541\t Score = -13527.833333334594\n",
      "Episode: Steps 542\t Score = -13552.75000000127\n",
      "Episode: Steps 543\t Score = -13577.666666667945\n",
      "Episode: Steps 544\t Score = -13602.58333333462\n"
     ]
    },
    {
     "name": "stderr",
     "output_type": "stream",
     "text": [
      "127.0.0.1 - - [28/Dec/2019 20:23:03] \"\u001b[37mGET /socket.io/?EIO=3&transport=polling&t=MzEBJLV&sid=0b854fcfadce4efaa6468e7a5979d178 HTTP/1.1\u001b[0m\" 200 -\n"
     ]
    },
    {
     "name": "stdout",
     "output_type": "stream",
     "text": [
      "Episode: Steps 545\t Score = -13627.500000001295\n",
      "Episode: Steps 546\t Score = -13652.41666666797\n",
      "Episode: Steps 547\t Score = -13677.333333334645\n",
      "Episode: Steps 548\t Score = -13702.25000000132\n",
      "Episode: Steps 549\t Score = -13727.166666667996\n",
      "Episode: Steps 550\t Score = -13752.08333333467\n"
     ]
    },
    {
     "name": "stderr",
     "output_type": "stream",
     "text": [
      "127.0.0.1 - - [28/Dec/2019 20:23:03] \"\u001b[37mGET /socket.io/?EIO=3&transport=polling&t=MzEBJOv&sid=0b854fcfadce4efaa6468e7a5979d178 HTTP/1.1\u001b[0m\" 200 -\n"
     ]
    },
    {
     "name": "stdout",
     "output_type": "stream",
     "text": [
      "Episode: Steps 551\t Score = -13777.000000001346\n",
      "Episode: Steps 552\t Score = -13801.916666668021\n",
      "Episode: Steps 553\t Score = -13826.833333334696\n",
      "Episode: Steps 554\t Score = -13851.750000001372\n",
      "Episode: Steps 555\t Score = -13876.666666668047\n",
      "Episode: Steps 556\t Score = -13901.583333334722\n",
      "Episode: Steps 557\t Score = -13926.500000001397\n",
      "Episode: Steps 558\t Score = -13951.416666668072\n"
     ]
    },
    {
     "name": "stderr",
     "output_type": "stream",
     "text": [
      "127.0.0.1 - - [28/Dec/2019 20:23:03] \"\u001b[37mGET /socket.io/?EIO=3&transport=polling&t=MzEBJRf&sid=0b854fcfadce4efaa6468e7a5979d178 HTTP/1.1\u001b[0m\" 200 -\n"
     ]
    },
    {
     "name": "stdout",
     "output_type": "stream",
     "text": [
      "Episode: Steps 559\t Score = -13976.333333334747\n",
      "Episode: Steps 560\t Score = -14001.250000001422\n",
      "Episode: Steps 561\t Score = -14026.166666668098\n",
      "Episode: Steps 562\t Score = -14051.083333334773\n",
      "Episode: Steps 563\t Score = -14076.000000001448\n",
      "Episode: Steps 564\t Score = -14100.916666668123\n",
      "Episode: Steps 565\t Score = -14125.833333334798\n"
     ]
    },
    {
     "name": "stderr",
     "output_type": "stream",
     "text": [
      "127.0.0.1 - - [28/Dec/2019 20:23:03] \"\u001b[37mGET /socket.io/?EIO=3&transport=polling&t=MzEBJVD&sid=0b854fcfadce4efaa6468e7a5979d178 HTTP/1.1\u001b[0m\" 200 -\n"
     ]
    },
    {
     "name": "stdout",
     "output_type": "stream",
     "text": [
      "Episode: Steps 566\t Score = -14150.750000001473\n",
      "Episode: Steps 567\t Score = -14175.666666668149\n",
      "Episode: Steps 568\t Score = -14200.583333334824\n",
      "Episode: Steps 569\t Score = -14225.500000001499\n",
      "Episode: Steps 570\t Score = -14250.416666668174\n",
      "Episode: Steps 571\t Score = -14275.33333333485\n",
      "Episode: Steps 572\t Score = -14300.250000001524\n"
     ]
    },
    {
     "name": "stderr",
     "output_type": "stream",
     "text": [
      "127.0.0.1 - - [28/Dec/2019 20:23:04] \"\u001b[37mGET /socket.io/?EIO=3&transport=polling&t=MzEBJYE&sid=0b854fcfadce4efaa6468e7a5979d178 HTTP/1.1\u001b[0m\" 200 -\n"
     ]
    },
    {
     "name": "stdout",
     "output_type": "stream",
     "text": [
      "Episode: Steps 573\t Score = -14325.1666666682\n",
      "Episode: Steps 574\t Score = -14350.083333334875\n",
      "Episode: Steps 575\t Score = -14375.00000000155\n",
      "Episode: Steps 576\t Score = -14399.916666668225\n",
      "Episode: Steps 577\t Score = -14424.8333333349\n",
      "Episode: Steps 578\t Score = -14449.750000001575\n",
      "Episode: Steps 579\t Score = -14474.66666666825\n",
      "Episode: Steps 580\t Score = -14499.583333334926\n"
     ]
    },
    {
     "name": "stderr",
     "output_type": "stream",
     "text": [
      "127.0.0.1 - - [28/Dec/2019 20:23:04] \"\u001b[37mGET /socket.io/?EIO=3&transport=polling&t=MzEBJbL&sid=0b854fcfadce4efaa6468e7a5979d178 HTTP/1.1\u001b[0m\" 200 -\n"
     ]
    },
    {
     "name": "stdout",
     "output_type": "stream",
     "text": [
      "Episode: Steps 581\t Score = -14524.5000000016\n",
      "Episode: Steps 582\t Score = -14549.416666668276\n",
      "Episode: Steps 583\t Score = -14574.333333334951\n",
      "Episode: Steps 584\t Score = -14599.250000001626\n",
      "Episode: Steps 585\t Score = -14624.166666668301\n",
      "Episode: Steps 586\t Score = -14649.083333334976\n",
      "Episode: Steps 587\t Score = -14674.000000001652\n"
     ]
    },
    {
     "name": "stderr",
     "output_type": "stream",
     "text": [
      "127.0.0.1 - - [28/Dec/2019 20:23:04] \"\u001b[37mGET /socket.io/?EIO=3&transport=polling&t=MzEBJeP&sid=0b854fcfadce4efaa6468e7a5979d178 HTTP/1.1\u001b[0m\" 200 -\n",
      "127.0.0.1 - - [28/Dec/2019 20:23:04] \"\u001b[37mGET /socket.io/?EIO=3&transport=polling&t=MzEBJhB&sid=0b854fcfadce4efaa6468e7a5979d178 HTTP/1.1\u001b[0m\" 200 -\n"
     ]
    },
    {
     "name": "stdout",
     "output_type": "stream",
     "text": [
      "Episode: Steps 588\t Score = -14698.916666668327\n",
      "Episode: Steps 589\t Score = -14723.833333335002\n",
      "Episode: Steps 590\t Score = -14748.750000001677\n",
      "Episode: Steps 591\t Score = -14773.666666668352\n",
      "Episode: Steps 592\t Score = -14798.583333335027\n",
      "Episode: Steps 593\t Score = -14823.500000001703\n",
      "Episode: Steps 594\t Score = -14848.416666668378\n",
      "Episode: Steps 595\t Score = -14873.333333335053\n"
     ]
    },
    {
     "name": "stderr",
     "output_type": "stream",
     "text": [
      "127.0.0.1 - - [28/Dec/2019 20:23:04] \"\u001b[37mGET /socket.io/?EIO=3&transport=polling&t=MzEBJkC&sid=0b854fcfadce4efaa6468e7a5979d178 HTTP/1.1\u001b[0m\" 200 -\n"
     ]
    },
    {
     "name": "stdout",
     "output_type": "stream",
     "text": [
      "Episode: Steps 596\t Score = -14898.250000001728\n",
      "Episode: Steps 597\t Score = -14923.166666668403\n",
      "Episode: Steps 598\t Score = -14948.083333335078\n",
      "Episode: Steps 599\t Score = -14973.000000001754\n",
      "Episode: Steps 600\t Score = -14997.916666668429\n",
      "Episode: Steps 601\t Score = -15022.833333335104\n"
     ]
    },
    {
     "name": "stderr",
     "output_type": "stream",
     "text": [
      "127.0.0.1 - - [28/Dec/2019 20:23:05] \"\u001b[37mGET /socket.io/?EIO=3&transport=polling&t=MzEBJnI&sid=0b854fcfadce4efaa6468e7a5979d178 HTTP/1.1\u001b[0m\" 200 -\n"
     ]
    },
    {
     "name": "stdout",
     "output_type": "stream",
     "text": [
      "Episode: Steps 602\t Score = -15047.750000001779\n",
      "Episode: Steps 603\t Score = -15072.666666668454\n",
      "Episode: Steps 604\t Score = -15097.58333333513\n",
      "Episode: Steps 605\t Score = -15122.500000001804\n",
      "Episode: Steps 606\t Score = -15147.41666666848\n",
      "Episode: Steps 607\t Score = -15172.333333335155\n"
     ]
    },
    {
     "name": "stderr",
     "output_type": "stream",
     "text": [
      "127.0.0.1 - - [28/Dec/2019 20:23:05] \"\u001b[37mGET /socket.io/?EIO=3&transport=polling&t=MzEBJqT&sid=0b854fcfadce4efaa6468e7a5979d178 HTTP/1.1\u001b[0m\" 200 -\n"
     ]
    },
    {
     "name": "stdout",
     "output_type": "stream",
     "text": [
      "Episode: Steps 608\t Score = -15197.25000000183\n",
      "Episode: Steps 609\t Score = -15222.166666668505\n",
      "Episode: Steps 610\t Score = -15247.08333333518\n",
      "Episode: Steps 611\t Score = -15272.000000001855\n",
      "Episode: Steps 612\t Score = -15296.91666666853\n",
      "Episode: Steps 613\t Score = -15321.833333335206\n",
      "Episode: Steps 614\t Score = -15346.75000000188\n"
     ]
    },
    {
     "name": "stderr",
     "output_type": "stream",
     "text": [
      "127.0.0.1 - - [28/Dec/2019 20:23:05] \"\u001b[37mGET /socket.io/?EIO=3&transport=polling&t=MzEBJts&sid=0b854fcfadce4efaa6468e7a5979d178 HTTP/1.1\u001b[0m\" 200 -\n"
     ]
    },
    {
     "name": "stdout",
     "output_type": "stream",
     "text": [
      "Episode: Steps 615\t Score = -15371.666666668556\n",
      "Episode: Steps 616\t Score = -15396.583333335231\n",
      "Episode: Steps 617\t Score = -15421.500000001906\n",
      "Episode: Steps 618\t Score = -15446.416666668581\n",
      "Episode: Steps 619\t Score = -15471.333333335257\n",
      "Episode: Steps 620\t Score = -15496.250000001932\n",
      "Episode: Steps 621\t Score = -15521.166666668607\n"
     ]
    },
    {
     "name": "stderr",
     "output_type": "stream",
     "text": [
      "127.0.0.1 - - [28/Dec/2019 20:23:05] \"\u001b[37mGET /socket.io/?EIO=3&transport=polling&t=MzEBJwv&sid=0b854fcfadce4efaa6468e7a5979d178 HTTP/1.1\u001b[0m\" 200 -\n"
     ]
    },
    {
     "name": "stdout",
     "output_type": "stream",
     "text": [
      "Episode: Steps 622\t Score = -15546.083333335282\n",
      "Episode: Steps 623\t Score = -15571.000000001957\n",
      "Episode: Steps 624\t Score = -15595.916666668632\n",
      "Episode: Steps 625\t Score = -15620.833333335308\n",
      "Episode: Steps 626\t Score = -15645.750000001983\n",
      "Episode: Steps 627\t Score = -15670.666666668658\n",
      "Episode: Steps 628\t Score = -15695.583333335333\n",
      "Episode: Steps 629\t Score = -15720.500000002008\n"
     ]
    },
    {
     "name": "stderr",
     "output_type": "stream",
     "text": [
      "127.0.0.1 - - [28/Dec/2019 20:23:05] \"\u001b[37mGET /socket.io/?EIO=3&transport=polling&t=MzEBJzx&sid=0b854fcfadce4efaa6468e7a5979d178 HTTP/1.1\u001b[0m\" 200 -\n"
     ]
    },
    {
     "name": "stdout",
     "output_type": "stream",
     "text": [
      "Episode: Steps 630\t Score = -15745.416666668683\n",
      "Episode: Steps 631\t Score = -15770.333333335358\n",
      "Episode: Steps 632\t Score = -15795.250000002034\n",
      "Episode: Steps 633\t Score = -15820.166666668709\n",
      "Episode: Steps 634\t Score = -15845.083333335384\n",
      "Episode: Steps 635\t Score = -15870.00000000206\n"
     ]
    },
    {
     "name": "stderr",
     "output_type": "stream",
     "text": [
      "127.0.0.1 - - [28/Dec/2019 20:23:06] \"\u001b[37mGET /socket.io/?EIO=3&transport=polling&t=MzEBK0x&sid=0b854fcfadce4efaa6468e7a5979d178 HTTP/1.1\u001b[0m\" 200 -\n"
     ]
    },
    {
     "name": "stdout",
     "output_type": "stream",
     "text": [
      "Episode: Steps 636\t Score = -15894.916666668734\n",
      "Episode: Steps 637\t Score = -15919.83333333541\n",
      "Episode: Steps 638\t Score = -15944.750000002085\n",
      "Episode: Steps 639\t Score = -15969.66666666876\n",
      "Episode: Steps 640\t Score = -15994.583333335435\n",
      "Episode: Steps 641\t Score = -16019.50000000211\n",
      "Episode: Steps 642\t Score = -16044.416666668785\n",
      "Episode: Steps 643\t Score = -16069.33333333546\n"
     ]
    },
    {
     "name": "stderr",
     "output_type": "stream",
     "text": [
      "127.0.0.1 - - [28/Dec/2019 20:23:06] \"\u001b[37mGET /socket.io/?EIO=3&transport=polling&t=MzEBK3h&sid=0b854fcfadce4efaa6468e7a5979d178 HTTP/1.1\u001b[0m\" 200 -\n",
      "127.0.0.1 - - [28/Dec/2019 20:23:06] \"\u001b[37mGET /socket.io/?EIO=3&transport=polling&t=MzEBK7E&sid=0b854fcfadce4efaa6468e7a5979d178 HTTP/1.1\u001b[0m\" 200 -\n"
     ]
    },
    {
     "name": "stdout",
     "output_type": "stream",
     "text": [
      "Episode: Steps 644\t Score = -16094.250000002135\n",
      "Episode: Steps 645\t Score = -16119.16666666881\n",
      "Episode: Steps 646\t Score = -16144.083333335486\n",
      "Episode: Steps 647\t Score = -16169.000000002161\n",
      "Episode: Steps 648\t Score = -16193.916666668836\n",
      "Episode: Steps 649\t Score = -16218.833333335511\n"
     ]
    },
    {
     "name": "stderr",
     "output_type": "stream",
     "text": [
      "127.0.0.1 - - [28/Dec/2019 20:23:06] \"\u001b[37mGET /socket.io/?EIO=3&transport=polling&t=MzEBKAB&sid=0b854fcfadce4efaa6468e7a5979d178 HTTP/1.1\u001b[0m\" 200 -\n"
     ]
    },
    {
     "name": "stdout",
     "output_type": "stream",
     "text": [
      "Episode: Steps 650\t Score = -16243.750000002186\n",
      "Episode: Steps 651\t Score = -16268.666666668862\n",
      "Episode: Steps 652\t Score = -16293.583333335537\n",
      "Episode: Steps 653\t Score = -16318.500000002212\n",
      "Episode: Steps 654\t Score = -16343.416666668887\n",
      "Episode: Steps 655\t Score = -16368.333333335562\n",
      "Episode: Steps 656\t Score = -16393.250000002223\n"
     ]
    },
    {
     "name": "stderr",
     "output_type": "stream",
     "text": [
      "127.0.0.1 - - [28/Dec/2019 20:23:06] \"\u001b[37mGET /socket.io/?EIO=3&transport=polling&t=MzEBKDL&sid=0b854fcfadce4efaa6468e7a5979d178 HTTP/1.1\u001b[0m\" 200 -\n"
     ]
    },
    {
     "name": "stdout",
     "output_type": "stream",
     "text": [
      "Episode: Steps 657\t Score = -16418.166666668872\n",
      "Episode: Steps 658\t Score = -16443.083333335522\n",
      "Episode: Steps 659\t Score = -16468.000000002172\n",
      "Episode: Steps 660\t Score = -16492.91666666882\n",
      "Episode: Steps 661\t Score = -16517.83333333547\n",
      "Episode: Steps 662\t Score = -16542.75000000212\n",
      "Episode: Steps 663\t Score = -16567.66666666877\n"
     ]
    },
    {
     "name": "stderr",
     "output_type": "stream",
     "text": [
      "127.0.0.1 - - [28/Dec/2019 20:23:07] \"\u001b[37mGET /socket.io/?EIO=3&transport=polling&t=MzEBKGT&sid=0b854fcfadce4efaa6468e7a5979d178 HTTP/1.1\u001b[0m\" 200 -\n"
     ]
    },
    {
     "name": "stdout",
     "output_type": "stream",
     "text": [
      "Episode: Steps 664\t Score = -16592.58333333542\n",
      "Episode: Steps 665\t Score = -16617.50000000207\n",
      "Episode: Steps 666\t Score = -16642.41666666872\n",
      "Episode: Steps 667\t Score = -16667.33333333537\n",
      "Episode: Steps 668\t Score = -16692.25000000202\n",
      "Episode: Steps 669\t Score = -16717.16666666867\n",
      "Episode: Steps 670\t Score = -16742.08333333532\n"
     ]
    },
    {
     "name": "stderr",
     "output_type": "stream",
     "text": [
      "127.0.0.1 - - [28/Dec/2019 20:23:07] \"\u001b[37mGET /socket.io/?EIO=3&transport=polling&t=MzEBKJZ&sid=0b854fcfadce4efaa6468e7a5979d178 HTTP/1.1\u001b[0m\" 200 -\n"
     ]
    },
    {
     "name": "stdout",
     "output_type": "stream",
     "text": [
      "Episode: Steps 671\t Score = -16767.000000001968\n",
      "Episode: Steps 672\t Score = -16791.916666668618\n",
      "Episode: Steps 673\t Score = -16816.833333335268\n",
      "Episode: Steps 674\t Score = -16841.750000001917\n",
      "Episode: Steps 675\t Score = -16866.666666668567\n",
      "Episode: Steps 676\t Score = -16891.583333335217\n",
      "Episode: Steps 677\t Score = -16916.500000001866\n"
     ]
    },
    {
     "name": "stderr",
     "output_type": "stream",
     "text": [
      "127.0.0.1 - - [28/Dec/2019 20:23:07] \"\u001b[37mGET /socket.io/?EIO=3&transport=polling&t=MzEBKMm&sid=0b854fcfadce4efaa6468e7a5979d178 HTTP/1.1\u001b[0m\" 200 -\n"
     ]
    },
    {
     "name": "stdout",
     "output_type": "stream",
     "text": [
      "Episode: Steps 678\t Score = -16941.416666668516\n",
      "Episode: Steps 679\t Score = -16966.333333335166\n",
      "Episode: Steps 680\t Score = -16991.250000001815\n",
      "Episode: Steps 681\t Score = -17016.166666668465\n",
      "Episode: Steps 682\t Score = -17041.083333335115\n",
      "Episode: Steps 683\t Score = -17066.000000001764\n",
      "Episode: Steps 684\t Score = -17090.916666668414\n"
     ]
    },
    {
     "name": "stderr",
     "output_type": "stream",
     "text": [
      "127.0.0.1 - - [28/Dec/2019 20:23:07] \"\u001b[37mGET /socket.io/?EIO=3&transport=polling&t=MzEBKPp&sid=0b854fcfadce4efaa6468e7a5979d178 HTTP/1.1\u001b[0m\" 200 -\n"
     ]
    },
    {
     "name": "stdout",
     "output_type": "stream",
     "text": [
      "Episode: Steps 685\t Score = -17115.833333335064\n",
      "Episode: Steps 686\t Score = -17140.750000001713\n",
      "Episode: Steps 687\t Score = -17165.666666668363\n",
      "Episode: Steps 688\t Score = -17190.583333335013\n",
      "Episode: Steps 689\t Score = -17215.500000001663\n",
      "Episode: Steps 690\t Score = -17240.416666668312\n",
      "Episode: Steps 691\t Score = -17265.333333334962\n",
      "Episode: Steps 692\t Score = -17290.25000000161\n"
     ]
    },
    {
     "name": "stderr",
     "output_type": "stream",
     "text": [
      "127.0.0.1 - - [28/Dec/2019 20:23:07] \"\u001b[37mGET /socket.io/?EIO=3&transport=polling&t=MzEBKSz&sid=0b854fcfadce4efaa6468e7a5979d178 HTTP/1.1\u001b[0m\" 200 -\n"
     ]
    },
    {
     "name": "stdout",
     "output_type": "stream",
     "text": [
      "Episode: Steps 693\t Score = -17315.16666666826\n",
      "Episode: Steps 694\t Score = -17340.08333333491\n",
      "Episode: Steps 695\t Score = -17365.00000000156\n",
      "Episode: Steps 696\t Score = -17389.91666666821\n",
      "Episode: Steps 697\t Score = -17414.83333333486\n",
      "Episode: Steps 698\t Score = -17439.75000000151\n",
      "Episode: Steps 699\t Score = -17464.66666666816\n"
     ]
    },
    {
     "name": "stderr",
     "output_type": "stream",
     "text": [
      "127.0.0.1 - - [28/Dec/2019 20:23:08] \"\u001b[37mGET /socket.io/?EIO=3&transport=polling&t=MzEBKVn&sid=0b854fcfadce4efaa6468e7a5979d178 HTTP/1.1\u001b[0m\" 200 -\n",
      "127.0.0.1 - - [28/Dec/2019 20:23:08] \"\u001b[37mGET /socket.io/?EIO=3&transport=polling&t=MzEBKY-&sid=0b854fcfadce4efaa6468e7a5979d178 HTTP/1.1\u001b[0m\" 200 -\n"
     ]
    },
    {
     "name": "stdout",
     "output_type": "stream",
     "text": [
      "Episode: Steps 700\t Score = -17489.58333333481\n",
      "Episode: Steps 701\t Score = -17514.50000000146\n",
      "Episode: Steps 702\t Score = -17539.41666666811\n",
      "Episode: Steps 703\t Score = -17564.33333333476\n",
      "Episode: Steps 704\t Score = -17589.250000001408\n",
      "Episode: Steps 705\t Score = -17614.166666668058\n",
      "Episode: Steps 706\t Score = -17639.083333334707\n"
     ]
    },
    {
     "name": "stderr",
     "output_type": "stream",
     "text": [
      "127.0.0.1 - - [28/Dec/2019 20:23:08] \"\u001b[37mGET /socket.io/?EIO=3&transport=polling&t=MzEBKcN&sid=0b854fcfadce4efaa6468e7a5979d178 HTTP/1.1\u001b[0m\" 200 -\n"
     ]
    },
    {
     "name": "stdout",
     "output_type": "stream",
     "text": [
      "Episode: Steps 707\t Score = -17664.000000001357\n",
      "Episode: Steps 708\t Score = -17688.916666668007\n",
      "Episode: Steps 709\t Score = -17713.833333334656\n",
      "Episode: Steps 710\t Score = -17738.750000001306\n",
      "Episode: Steps 711\t Score = -17763.666666667956\n",
      "Episode: Steps 712\t Score = -17788.583333334605\n"
     ]
    },
    {
     "name": "stderr",
     "output_type": "stream",
     "text": [
      "127.0.0.1 - - [28/Dec/2019 20:23:08] \"\u001b[37mGET /socket.io/?EIO=3&transport=polling&t=MzEBKfK&sid=0b854fcfadce4efaa6468e7a5979d178 HTTP/1.1\u001b[0m\" 200 -\n"
     ]
    },
    {
     "name": "stdout",
     "output_type": "stream",
     "text": [
      "Episode: Steps 713\t Score = -17813.500000001255\n",
      "Episode: Steps 714\t Score = -17838.416666667905\n",
      "Episode: Steps 715\t Score = -17863.333333334554\n",
      "Episode: Steps 716\t Score = -17888.250000001204\n",
      "Episode: Steps 717\t Score = -17913.166666667854\n",
      "Episode: Steps 718\t Score = -17938.083333334504\n",
      "Episode: Steps 719\t Score = -17963.000000001153\n"
     ]
    },
    {
     "name": "stderr",
     "output_type": "stream",
     "text": [
      "127.0.0.1 - - [28/Dec/2019 20:23:08] \"\u001b[37mGET /socket.io/?EIO=3&transport=polling&t=MzEBKie&sid=0b854fcfadce4efaa6468e7a5979d178 HTTP/1.1\u001b[0m\" 200 -\n"
     ]
    },
    {
     "name": "stdout",
     "output_type": "stream",
     "text": [
      "Episode: Steps 720\t Score = -17987.916666667803\n",
      "Episode: Steps 721\t Score = -18012.833333334453\n",
      "Episode: Steps 722\t Score = -18037.750000001102\n",
      "Episode: Steps 723\t Score = -18062.666666667752\n",
      "Episode: Steps 724\t Score = -18087.5833333344\n",
      "Episode: Steps 725\t Score = -18112.50000000105\n",
      "Episode: Steps 726\t Score = -18137.4166666677\n"
     ]
    },
    {
     "name": "stderr",
     "output_type": "stream",
     "text": [
      "127.0.0.1 - - [28/Dec/2019 20:23:09] \"\u001b[37mGET /socket.io/?EIO=3&transport=polling&t=MzEBKlX&sid=0b854fcfadce4efaa6468e7a5979d178 HTTP/1.1\u001b[0m\" 200 -\n"
     ]
    },
    {
     "name": "stdout",
     "output_type": "stream",
     "text": [
      "Episode: Steps 727\t Score = -18162.33333333435\n",
      "Episode: Steps 728\t Score = -18187.250000001\n",
      "Episode: Steps 729\t Score = -18212.16666666765\n",
      "Episode: Steps 730\t Score = -18237.0833333343\n",
      "Episode: Steps 731\t Score = -18262.00000000095\n",
      "Episode: Steps 732\t Score = -18286.9166666676\n",
      "Episode: Steps 733\t Score = -18311.83333333425\n"
     ]
    },
    {
     "name": "stderr",
     "output_type": "stream",
     "text": [
      "127.0.0.1 - - [28/Dec/2019 20:23:09] \"\u001b[37mGET /socket.io/?EIO=3&transport=polling&t=MzEBKoi&sid=0b854fcfadce4efaa6468e7a5979d178 HTTP/1.1\u001b[0m\" 200 -\n"
     ]
    },
    {
     "name": "stdout",
     "output_type": "stream",
     "text": [
      "Episode: Steps 734\t Score = -18336.7500000009\n",
      "Episode: Steps 735\t Score = -18361.66666666755\n",
      "Episode: Steps 736\t Score = -18386.583333334198\n",
      "Episode: Steps 737\t Score = -18411.500000000848\n",
      "Episode: Steps 738\t Score = -18436.416666667497\n",
      "Episode: Steps 739\t Score = -18461.333333334147\n",
      "Episode: Steps 740\t Score = -18486.250000000797\n"
     ]
    },
    {
     "name": "stderr",
     "output_type": "stream",
     "text": [
      "127.0.0.1 - - [28/Dec/2019 20:23:09] \"\u001b[37mGET /socket.io/?EIO=3&transport=polling&t=MzEBKrz&sid=0b854fcfadce4efaa6468e7a5979d178 HTTP/1.1\u001b[0m\" 200 -\n"
     ]
    },
    {
     "name": "stdout",
     "output_type": "stream",
     "text": [
      "Episode: Steps 741\t Score = -18511.166666667446\n",
      "Episode: Steps 742\t Score = -18536.083333334096\n",
      "Episode: Steps 743\t Score = -18561.000000000746\n",
      "Episode: Steps 744\t Score = -18585.916666667395\n",
      "Episode: Steps 745\t Score = -18610.833333334045\n",
      "Episode: Steps 746\t Score = -18635.750000000695\n",
      "Episode: Steps 747\t Score = -18660.666666667345\n"
     ]
    },
    {
     "name": "stderr",
     "output_type": "stream",
     "text": [
      "127.0.0.1 - - [28/Dec/2019 20:23:09] \"\u001b[37mGET /socket.io/?EIO=3&transport=polling&t=MzEBKuv&sid=0b854fcfadce4efaa6468e7a5979d178 HTTP/1.1\u001b[0m\" 200 -\n"
     ]
    },
    {
     "name": "stdout",
     "output_type": "stream",
     "text": [
      "Episode: Steps 748\t Score = -18685.583333333994\n",
      "Episode: Steps 749\t Score = -18710.500000000644\n",
      "Episode: Steps 750\t Score = -18735.416666667294\n",
      "Episode: Steps 751\t Score = -18760.333333333943\n",
      "Episode: Steps 752\t Score = -18785.250000000593\n",
      "Episode: Steps 753\t Score = -18810.166666667243\n",
      "Episode: Steps 754\t Score = -18835.083333333892\n",
      "Episode: Steps 755\t Score = -18860.000000000542\n"
     ]
    },
    {
     "name": "stderr",
     "output_type": "stream",
     "text": [
      "127.0.0.1 - - [28/Dec/2019 20:23:09] \"\u001b[37mGET /socket.io/?EIO=3&transport=polling&t=MzEBKxf&sid=0b854fcfadce4efaa6468e7a5979d178 HTTP/1.1\u001b[0m\" 200 -\n",
      "127.0.0.1 - - [28/Dec/2019 20:23:10] \"\u001b[37mGET /socket.io/?EIO=3&transport=polling&t=MzEBK-r&sid=0b854fcfadce4efaa6468e7a5979d178 HTTP/1.1\u001b[0m\" 200 -\n"
     ]
    },
    {
     "name": "stdout",
     "output_type": "stream",
     "text": [
      "Episode: Steps 756\t Score = -18884.91666666719\n",
      "Episode: Steps 757\t Score = -18909.83333333384\n",
      "Episode: Steps 758\t Score = -18934.75000000049\n",
      "Episode: Steps 759\t Score = -18959.66666666714\n",
      "Episode: Steps 760\t Score = -18984.58333333379\n",
      "Episode: Steps 761\t Score = -19009.50000000044\n",
      "Episode: Steps 762\t Score = -19034.41666666709\n"
     ]
    },
    {
     "name": "stderr",
     "output_type": "stream",
     "text": [
      "127.0.0.1 - - [28/Dec/2019 20:23:10] \"\u001b[37mGET /socket.io/?EIO=3&transport=polling&t=MzEBL1r&sid=0b854fcfadce4efaa6468e7a5979d178 HTTP/1.1\u001b[0m\" 200 -\n"
     ]
    },
    {
     "name": "stdout",
     "output_type": "stream",
     "text": [
      "Episode: Steps 763\t Score = -19059.33333333374\n",
      "Episode: Steps 764\t Score = -19084.25000000039\n",
      "Episode: Steps 765\t Score = -19109.16666666704\n",
      "Episode: Steps 766\t Score = -19134.08333333369\n",
      "Episode: Steps 767\t Score = -19159.00000000034\n",
      "Episode: Steps 768\t Score = -19183.916666666988\n",
      "Episode: Steps 769\t Score = -19208.833333333638\n"
     ]
    },
    {
     "name": "stderr",
     "output_type": "stream",
     "text": [
      "127.0.0.1 - - [28/Dec/2019 20:23:10] \"\u001b[37mGET /socket.io/?EIO=3&transport=polling&t=MzEBL55&sid=0b854fcfadce4efaa6468e7a5979d178 HTTP/1.1\u001b[0m\" 200 -\n"
     ]
    },
    {
     "name": "stdout",
     "output_type": "stream",
     "text": [
      "Episode: Steps 770\t Score = -19233.750000000287\n",
      "Episode: Steps 771\t Score = -19258.666666666937\n",
      "Episode: Steps 772\t Score = -19283.583333333587\n",
      "Episode: Steps 773\t Score = -19308.500000000236\n",
      "Episode: Steps 774\t Score = -19333.416666666886\n",
      "Episode: Steps 775\t Score = -19358.333333333536\n",
      "Episode: Steps 776\t Score = -19383.250000000186\n",
      "Episode: Steps 777\t Score = -19408.166666666835\n"
     ]
    },
    {
     "name": "stderr",
     "output_type": "stream",
     "text": [
      "127.0.0.1 - - [28/Dec/2019 20:23:10] \"\u001b[37mGET /socket.io/?EIO=3&transport=polling&t=MzEBL7l&sid=0b854fcfadce4efaa6468e7a5979d178 HTTP/1.1\u001b[0m\" 200 -\n"
     ]
    },
    {
     "name": "stdout",
     "output_type": "stream",
     "text": [
      "Episode: Steps 778\t Score = -19433.083333333485\n",
      "Episode: Steps 779\t Score = -19458.000000000135\n",
      "Episode: Steps 780\t Score = -19482.916666666784\n",
      "Episode: Steps 781\t Score = -19507.833333333434\n",
      "Episode: Steps 782\t Score = -19532.750000000084\n",
      "Episode: Steps 783\t Score = -19557.666666666733\n",
      "Episode: Steps 784\t Score = -19582.583333333383\n",
      "Episode: Steps 785\t Score = -19607.500000000033\n"
     ]
    },
    {
     "name": "stderr",
     "output_type": "stream",
     "text": [
      "127.0.0.1 - - [28/Dec/2019 20:23:10] \"\u001b[37mGET /socket.io/?EIO=3&transport=polling&t=MzEBLAn&sid=0b854fcfadce4efaa6468e7a5979d178 HTTP/1.1\u001b[0m\" 200 -\n"
     ]
    },
    {
     "name": "stdout",
     "output_type": "stream",
     "text": [
      "Episode: Steps 786\t Score = -19632.416666666682\n",
      "Episode: Steps 787\t Score = -19657.333333333332\n",
      "Episode: Steps 788\t Score = -19682.24999999998\n",
      "Episode: Steps 789\t Score = -19707.16666666663\n",
      "Episode: Steps 790\t Score = -19732.08333333328\n",
      "Episode: Steps 791\t Score = -19756.99999999993\n",
      "Episode: Steps 792\t Score = -19781.91666666658\n"
     ]
    },
    {
     "name": "stderr",
     "output_type": "stream",
     "text": [
      "127.0.0.1 - - [28/Dec/2019 20:23:10] \"\u001b[37mGET /socket.io/?EIO=3&transport=polling&t=MzEBLD-&sid=0b854fcfadce4efaa6468e7a5979d178 HTTP/1.1\u001b[0m\" 200 -\n"
     ]
    },
    {
     "name": "stdout",
     "output_type": "stream",
     "text": [
      "Episode: Steps 793\t Score = -19806.83333333323\n",
      "Episode: Steps 794\t Score = -19831.74999999988\n",
      "Episode: Steps 795\t Score = -19856.66666666653\n",
      "Episode: Steps 796\t Score = -19881.58333333318\n",
      "Episode: Steps 797\t Score = -19906.49999999983\n",
      "Episode: Steps 798\t Score = -19931.41666666648\n",
      "Episode: Steps 799\t Score = -19956.33333333313\n"
     ]
    },
    {
     "name": "stderr",
     "output_type": "stream",
     "text": [
      "127.0.0.1 - - [28/Dec/2019 20:23:11] \"\u001b[37mGET /socket.io/?EIO=3&transport=polling&t=MzEBLGu&sid=0b854fcfadce4efaa6468e7a5979d178 HTTP/1.1\u001b[0m\" 200 -\n"
     ]
    },
    {
     "name": "stdout",
     "output_type": "stream",
     "text": [
      "Episode: Steps 800\t Score = -19981.249999999778\n",
      "Episode: Steps 801\t Score = -20006.166666666428\n",
      "Episode: Steps 802\t Score = -20031.083333333077\n",
      "Episode: Steps 803\t Score = -20055.999999999727\n",
      "Episode: Steps 804\t Score = -20080.916666666377\n",
      "Episode: Steps 805\t Score = -20105.833333333027\n",
      "Episode: Steps 806\t Score = -20130.749999999676\n"
     ]
    },
    {
     "name": "stderr",
     "output_type": "stream",
     "text": [
      "127.0.0.1 - - [28/Dec/2019 20:23:11] \"\u001b[37mGET /socket.io/?EIO=3&transport=polling&t=MzEBLJy&sid=0b854fcfadce4efaa6468e7a5979d178 HTTP/1.1\u001b[0m\" 200 -\n",
      "127.0.0.1 - - [28/Dec/2019 20:23:11] \"\u001b[37mGET /socket.io/?EIO=3&transport=polling&t=MzEBLN9&sid=0b854fcfadce4efaa6468e7a5979d178 HTTP/1.1\u001b[0m\" 200 -\n"
     ]
    },
    {
     "name": "stdout",
     "output_type": "stream",
     "text": [
      "Episode: Steps 807\t Score = -20155.666666666326\n",
      "Episode: Steps 808\t Score = -20180.583333332976\n",
      "Episode: Steps 809\t Score = -20205.499999999625\n",
      "Episode: Steps 810\t Score = -20230.416666666275\n",
      "Episode: Steps 811\t Score = -20255.333333332925\n",
      "Episode: Steps 812\t Score = -20280.249999999574\n",
      "Episode: Steps 813\t Score = -20305.166666666224\n"
     ]
    },
    {
     "name": "stderr",
     "output_type": "stream",
     "text": [
      "127.0.0.1 - - [28/Dec/2019 20:23:11] \"\u001b[37mGET /socket.io/?EIO=3&transport=polling&t=MzEBLQA&sid=0b854fcfadce4efaa6468e7a5979d178 HTTP/1.1\u001b[0m\" 200 -\n"
     ]
    },
    {
     "name": "stdout",
     "output_type": "stream",
     "text": [
      "Episode: Steps 814\t Score = -20330.083333332874\n",
      "Episode: Steps 815\t Score = -20354.999999999523\n",
      "Episode: Steps 816\t Score = -20379.916666666173\n",
      "Episode: Steps 817\t Score = -20404.833333332823\n",
      "Episode: Steps 818\t Score = -20429.749999999472\n",
      "Episode: Steps 819\t Score = -20454.666666666122\n",
      "Episode: Steps 820\t Score = -20479.583333332772\n",
      "Episode: Steps 821\t Score = -20504.49999999942\n"
     ]
    },
    {
     "name": "stderr",
     "output_type": "stream",
     "text": [
      "127.0.0.1 - - [28/Dec/2019 20:23:11] \"\u001b[37mGET /socket.io/?EIO=3&transport=polling&t=MzEBLTr&sid=0b854fcfadce4efaa6468e7a5979d178 HTTP/1.1\u001b[0m\" 200 -\n"
     ]
    },
    {
     "name": "stdout",
     "output_type": "stream",
     "text": [
      "Episode: Steps 822\t Score = -20529.41666666607\n",
      "Episode: Steps 823\t Score = -20554.33333333272\n",
      "Episode: Steps 824\t Score = -20579.24999999937\n",
      "Episode: Steps 825\t Score = -20604.16666666602\n",
      "Episode: Steps 826\t Score = -20629.08333333267\n",
      "Episode: Steps 827\t Score = -20653.99999999932\n",
      "Episode: Steps 828\t Score = -20678.91666666597\n"
     ]
    },
    {
     "name": "stderr",
     "output_type": "stream",
     "text": [
      "127.0.0.1 - - [28/Dec/2019 20:23:12] \"\u001b[37mGET /socket.io/?EIO=3&transport=polling&t=MzEBLWj&sid=0b854fcfadce4efaa6468e7a5979d178 HTTP/1.1\u001b[0m\" 200 -\n"
     ]
    },
    {
     "name": "stdout",
     "output_type": "stream",
     "text": [
      "Episode: Steps 829\t Score = -20703.83333333262\n",
      "Episode: Steps 830\t Score = -20728.74999999927\n",
      "Episode: Steps 831\t Score = -20753.66666666592\n",
      "Episode: Steps 832\t Score = -20778.583333332568\n",
      "Episode: Steps 833\t Score = -20803.499999999218\n",
      "Episode: Steps 834\t Score = -20828.416666665868\n",
      "Episode: Steps 835\t Score = -20853.333333332517\n",
      "Episode: Steps 836\t Score = -20878.249999999167\n"
     ]
    },
    {
     "name": "stderr",
     "output_type": "stream",
     "text": [
      "127.0.0.1 - - [28/Dec/2019 20:23:12] \"\u001b[37mGET /socket.io/?EIO=3&transport=polling&t=MzEBLZu&sid=0b854fcfadce4efaa6468e7a5979d178 HTTP/1.1\u001b[0m\" 200 -\n"
     ]
    },
    {
     "name": "stdout",
     "output_type": "stream",
     "text": [
      "Episode: Steps 837\t Score = -20903.166666665817\n",
      "Episode: Steps 838\t Score = -20928.083333332466\n",
      "Episode: Steps 839\t Score = -20952.999999999116\n",
      "Episode: Steps 840\t Score = -20977.916666665766\n",
      "Episode: Steps 841\t Score = -21002.833333332415\n",
      "Episode: Steps 842\t Score = -21027.749999999065\n",
      "Episode: Steps 843\t Score = -21052.666666665715\n"
     ]
    },
    {
     "name": "stderr",
     "output_type": "stream",
     "text": [
      "127.0.0.1 - - [28/Dec/2019 20:23:12] \"\u001b[37mGET /socket.io/?EIO=3&transport=polling&t=MzEBLcq&sid=0b854fcfadce4efaa6468e7a5979d178 HTTP/1.1\u001b[0m\" 200 -\n"
     ]
    },
    {
     "name": "stdout",
     "output_type": "stream",
     "text": [
      "Episode: Steps 844\t Score = -21077.583333332364\n",
      "Episode: Steps 845\t Score = -21102.499999999014\n",
      "Episode: Steps 846\t Score = -21127.416666665664\n",
      "Episode: Steps 847\t Score = -21152.333333332313\n",
      "Episode: Steps 848\t Score = -21177.249999998963\n",
      "Episode: Steps 849\t Score = -21202.166666665613\n",
      "Episode: Steps 850\t Score = -21227.083333332263\n"
     ]
    },
    {
     "name": "stderr",
     "output_type": "stream",
     "text": [
      "127.0.0.1 - - [28/Dec/2019 20:23:12] \"\u001b[37mGET /socket.io/?EIO=3&transport=polling&t=MzEBLg9&sid=0b854fcfadce4efaa6468e7a5979d178 HTTP/1.1\u001b[0m\" 200 -\n"
     ]
    },
    {
     "name": "stdout",
     "output_type": "stream",
     "text": [
      "Episode: Steps 851\t Score = -21251.999999998912\n",
      "Episode: Steps 852\t Score = -21276.916666665562\n",
      "Episode: Steps 853\t Score = -21301.83333333221\n",
      "Episode: Steps 854\t Score = -21326.74999999886\n",
      "Episode: Steps 855\t Score = -21351.66666666551\n",
      "Episode: Steps 856\t Score = -21376.58333333216\n"
     ]
    },
    {
     "name": "stderr",
     "output_type": "stream",
     "text": [
      "127.0.0.1 - - [28/Dec/2019 20:23:13] \"\u001b[37mGET /socket.io/?EIO=3&transport=polling&t=MzEBLjb&sid=0b854fcfadce4efaa6468e7a5979d178 HTTP/1.1\u001b[0m\" 200 -\n"
     ]
    },
    {
     "name": "stdout",
     "output_type": "stream",
     "text": [
      "Episode: Steps 857\t Score = -21401.49999999881\n",
      "Episode: Steps 858\t Score = -21426.41666666546\n",
      "Episode: Steps 859\t Score = -21451.33333333211\n",
      "Episode: Steps 860\t Score = -21476.24999999876\n",
      "Episode: Steps 861\t Score = -21501.16666666541\n",
      "Episode: Steps 862\t Score = -21526.08333333206\n",
      "Episode: Steps 863\t Score = -21550.99999999871\n",
      "Episode: Steps 864\t Score = -21575.91666666536\n"
     ]
    },
    {
     "name": "stderr",
     "output_type": "stream",
     "text": [
      "127.0.0.1 - - [28/Dec/2019 20:23:13] \"\u001b[37mGET /socket.io/?EIO=3&transport=polling&t=MzEBLmR&sid=0b854fcfadce4efaa6468e7a5979d178 HTTP/1.1\u001b[0m\" 200 -\n"
     ]
    },
    {
     "name": "stdout",
     "output_type": "stream",
     "text": [
      "Episode: Steps 865\t Score = -21600.833333332008\n",
      "Episode: Steps 866\t Score = -21625.749999998658\n",
      "Episode: Steps 867\t Score = -21650.666666665307\n",
      "Episode: Steps 868\t Score = -21675.583333331957\n",
      "Episode: Steps 869\t Score = -21700.499999998607\n",
      "Episode: Steps 870\t Score = -21725.416666665256\n",
      "Episode: Steps 871\t Score = -21750.333333331906\n"
     ]
    },
    {
     "name": "stderr",
     "output_type": "stream",
     "text": [
      "127.0.0.1 - - [28/Dec/2019 20:23:13] \"\u001b[37mGET /socket.io/?EIO=3&transport=polling&t=MzEBLpy&sid=0b854fcfadce4efaa6468e7a5979d178 HTTP/1.1\u001b[0m\" 200 -\n"
     ]
    },
    {
     "name": "stdout",
     "output_type": "stream",
     "text": [
      "Episode: Steps 872\t Score = -21775.249999998556\n",
      "Episode: Steps 873\t Score = -21800.166666665205\n",
      "Episode: Steps 874\t Score = -21825.083333331855\n",
      "Episode: Steps 875\t Score = -21849.999999998505\n",
      "Episode: Steps 876\t Score = -21874.916666665154\n"
     ]
    },
    {
     "name": "stderr",
     "output_type": "stream",
     "text": [
      "127.0.0.1 - - [28/Dec/2019 20:23:13] \"\u001b[37mGET /socket.io/?EIO=3&transport=polling&t=MzEBLt4&sid=0b854fcfadce4efaa6468e7a5979d178 HTTP/1.1\u001b[0m\" 200 -\n"
     ]
    },
    {
     "name": "stdout",
     "output_type": "stream",
     "text": [
      "Episode: Steps 877\t Score = -21899.833333331804\n",
      "Episode: Steps 878\t Score = -21924.749999998454\n",
      "Episode: Steps 879\t Score = -21949.666666665104\n",
      "Episode: Steps 880\t Score = -21974.583333331753\n",
      "Episode: Steps 881\t Score = -21999.499999998403\n",
      "Episode: Steps 882\t Score = -22024.416666665053\n",
      "Episode: Steps 883\t Score = -22049.333333331702\n",
      "Episode: Steps 884\t Score = -22074.249999998352\n"
     ]
    },
    {
     "name": "stderr",
     "output_type": "stream",
     "text": [
      "127.0.0.1 - - [28/Dec/2019 20:23:13] \"\u001b[37mGET /socket.io/?EIO=3&transport=polling&t=MzEBLwb&sid=0b854fcfadce4efaa6468e7a5979d178 HTTP/1.1\u001b[0m\" 200 -\n"
     ]
    },
    {
     "name": "stdout",
     "output_type": "stream",
     "text": [
      "Episode: Steps 885\t Score = -22099.166666665\n",
      "Episode: Steps 886\t Score = -22124.08333333165\n",
      "Episode: Steps 887\t Score = -22148.9999999983\n",
      "Episode: Steps 888\t Score = -22173.91666666495\n",
      "Episode: Steps 889\t Score = -22198.8333333316\n",
      "Episode: Steps 890\t Score = -22223.74999999825\n"
     ]
    },
    {
     "name": "stderr",
     "output_type": "stream",
     "text": [
      "127.0.0.1 - - [28/Dec/2019 20:23:14] \"\u001b[37mGET /socket.io/?EIO=3&transport=polling&t=MzEBLzl&sid=0b854fcfadce4efaa6468e7a5979d178 HTTP/1.1\u001b[0m\" 200 -\n",
      "127.0.0.1 - - [28/Dec/2019 20:23:14] \"\u001b[37mGET /socket.io/?EIO=3&transport=polling&t=MzEBM0R&sid=0b854fcfadce4efaa6468e7a5979d178 HTTP/1.1\u001b[0m\" 200 -\n"
     ]
    },
    {
     "name": "stdout",
     "output_type": "stream",
     "text": [
      "Episode: Steps 891\t Score = -22248.6666666649\n",
      "Episode: Steps 892\t Score = -22273.58333333155\n",
      "Episode: Steps 893\t Score = -22298.4999999982\n",
      "Episode: Steps 894\t Score = -22323.41666666485\n",
      "Episode: Steps 895\t Score = -22348.3333333315\n",
      "Episode: Steps 896\t Score = -22373.24999999815\n",
      "Episode: Steps 897\t Score = -22398.166666664798\n",
      "Episode: Steps 898\t Score = -22423.083333331448\n"
     ]
    },
    {
     "name": "stderr",
     "output_type": "stream",
     "text": [
      "127.0.0.1 - - [28/Dec/2019 20:23:14] \"\u001b[37mGET /socket.io/?EIO=3&transport=polling&t=MzEBM3d&sid=0b854fcfadce4efaa6468e7a5979d178 HTTP/1.1\u001b[0m\" 200 -\n"
     ]
    },
    {
     "name": "stdout",
     "output_type": "stream",
     "text": [
      "Episode: Steps 899\t Score = -22447.999999998097\n",
      "Episode: Steps 900\t Score = -22472.916666664747\n",
      "Episode: Steps 901\t Score = -22497.833333331397\n",
      "Episode: Steps 902\t Score = -22522.749999998046\n",
      "Episode: Steps 903\t Score = -22547.666666664696\n",
      "Episode: Steps 904\t Score = -22572.583333331346\n",
      "Episode: Steps 905\t Score = -22597.499999997995\n"
     ]
    },
    {
     "name": "stderr",
     "output_type": "stream",
     "text": [
      "127.0.0.1 - - [28/Dec/2019 20:23:14] \"\u001b[37mGET /socket.io/?EIO=3&transport=polling&t=MzEBM6a&sid=0b854fcfadce4efaa6468e7a5979d178 HTTP/1.1\u001b[0m\" 200 -\n"
     ]
    },
    {
     "name": "stdout",
     "output_type": "stream",
     "text": [
      "Episode: Steps 906\t Score = -22622.416666664645\n",
      "Episode: Steps 907\t Score = -22647.333333331295\n",
      "Episode: Steps 908\t Score = -22672.249999997945\n",
      "Episode: Steps 909\t Score = -22697.166666664594\n",
      "Episode: Steps 910\t Score = -22722.083333331244\n",
      "Episode: Steps 911\t Score = -22746.999999997894\n",
      "Episode: Steps 912\t Score = -22771.916666664543\n",
      "Episode: Steps 913\t Score = -22796.833333331193\n"
     ]
    },
    {
     "name": "stderr",
     "output_type": "stream",
     "text": [
      "127.0.0.1 - - [28/Dec/2019 20:23:14] \"\u001b[37mGET /socket.io/?EIO=3&transport=polling&t=MzEBM9g&sid=0b854fcfadce4efaa6468e7a5979d178 HTTP/1.1\u001b[0m\" 200 -\n"
     ]
    },
    {
     "name": "stdout",
     "output_type": "stream",
     "text": [
      "Episode: Steps 914\t Score = -22821.749999997843\n",
      "Episode: Steps 915\t Score = -22846.666666664492\n",
      "Episode: Steps 916\t Score = -22871.583333331142\n",
      "Episode: Steps 917\t Score = -22896.49999999779\n",
      "Episode: Steps 918\t Score = -22921.41666666444\n",
      "Episode: Steps 919\t Score = -22946.33333333109\n",
      "Episode: Steps 920\t Score = -22971.24999999774\n"
     ]
    },
    {
     "name": "stderr",
     "output_type": "stream",
     "text": [
      "127.0.0.1 - - [28/Dec/2019 20:23:15] \"\u001b[37mGET /socket.io/?EIO=3&transport=polling&t=MzEBMD6&sid=0b854fcfadce4efaa6468e7a5979d178 HTTP/1.1\u001b[0m\" 200 -\n"
     ]
    },
    {
     "name": "stdout",
     "output_type": "stream",
     "text": [
      "Episode: Steps 921\t Score = -22996.16666666439\n",
      "Episode: Steps 922\t Score = -23021.08333333104\n",
      "Episode: Steps 923\t Score = -23045.99999999769\n",
      "Episode: Steps 924\t Score = -23070.91666666434\n",
      "Episode: Steps 925\t Score = -23095.83333333099\n",
      "Episode: Steps 926\t Score = -23120.74999999764\n",
      "Episode: Steps 927\t Score = -23145.66666666429\n",
      "Episode: Steps 928\t Score = -23170.58333333094\n"
     ]
    },
    {
     "name": "stderr",
     "output_type": "stream",
     "text": [
      "127.0.0.1 - - [28/Dec/2019 20:23:15] \"\u001b[37mGET /socket.io/?EIO=3&transport=polling&t=MzEBMFu&sid=0b854fcfadce4efaa6468e7a5979d178 HTTP/1.1\u001b[0m\" 200 -\n"
     ]
    },
    {
     "name": "stdout",
     "output_type": "stream",
     "text": [
      "Episode: Steps 929\t Score = -23195.499999997588\n",
      "Episode: Steps 930\t Score = -23220.416666664238\n",
      "Episode: Steps 931\t Score = -23245.333333330887\n",
      "Episode: Steps 932\t Score = -23270.249999997537\n",
      "Episode: Steps 933\t Score = -23295.166666664187\n",
      "Episode: Steps 934\t Score = -23320.083333330836\n",
      "Episode: Steps 935\t Score = -23344.999999997486\n"
     ]
    },
    {
     "name": "stderr",
     "output_type": "stream",
     "text": [
      "127.0.0.1 - - [28/Dec/2019 20:23:15] \"\u001b[37mGET /socket.io/?EIO=3&transport=polling&t=MzEBMJ9&sid=0b854fcfadce4efaa6468e7a5979d178 HTTP/1.1\u001b[0m\" 200 -\n"
     ]
    },
    {
     "name": "stdout",
     "output_type": "stream",
     "text": [
      "Episode: Steps 936\t Score = -23369.916666664136\n",
      "Episode: Steps 937\t Score = -23394.833333330786\n",
      "Episode: Steps 938\t Score = -23419.749999997435\n",
      "Episode: Steps 939\t Score = -23444.666666664085\n",
      "Episode: Steps 940\t Score = -23469.583333330735\n",
      "Episode: Steps 941\t Score = -23494.499999997384\n",
      "Episode: Steps 942\t Score = -23519.416666664034\n"
     ]
    },
    {
     "name": "stderr",
     "output_type": "stream",
     "text": [
      "127.0.0.1 - - [28/Dec/2019 20:23:15] \"\u001b[37mGET /socket.io/?EIO=3&transport=polling&t=MzEBMLz&sid=0b854fcfadce4efaa6468e7a5979d178 HTTP/1.1\u001b[0m\" 200 -\n"
     ]
    },
    {
     "name": "stdout",
     "output_type": "stream",
     "text": [
      "Episode: Steps 943\t Score = -23544.333333330684\n",
      "Episode: Steps 944\t Score = -23569.249999997333\n",
      "Episode: Steps 945\t Score = -23594.166666663983\n",
      "Episode: Steps 946\t Score = -23619.083333330633\n",
      "Episode: Steps 947\t Score = -23643.999999997282\n",
      "Episode: Steps 948\t Score = -23668.916666663932\n",
      "Episode: Steps 949\t Score = -23693.83333333058\n"
     ]
    },
    {
     "name": "stderr",
     "output_type": "stream",
     "text": [
      "127.0.0.1 - - [28/Dec/2019 20:23:15] \"\u001b[37mGET /socket.io/?EIO=3&transport=polling&t=MzEBMOy&sid=0b854fcfadce4efaa6468e7a5979d178 HTTP/1.1\u001b[0m\" 200 -\n",
      "127.0.0.1 - - [28/Dec/2019 20:23:15] \"\u001b[37mPOST /socket.io/?EIO=3&transport=polling&t=MzEBMRg&sid=0b854fcfadce4efaa6468e7a5979d178 HTTP/1.1\u001b[0m\" 200 -\n"
     ]
    },
    {
     "name": "stdout",
     "output_type": "stream",
     "text": [
      "Episode: Steps 950\t Score = -23718.74999999723\n",
      "Episode: Steps 951\t Score = -23743.66666666388\n",
      "Episode: Steps 952\t Score = -23768.58333333053\n",
      "Episode: Steps 953\t Score = -23793.49999999718\n",
      "Episode: Steps 954\t Score = -23818.41666666383\n",
      "Episode: Steps 955\t Score = -23843.33333333048\n"
     ]
    },
    {
     "name": "stderr",
     "output_type": "stream",
     "text": [
      "127.0.0.1 - - [28/Dec/2019 20:23:16] \"\u001b[37mGET /socket.io/?EIO=3&transport=polling&t=MzEBMSe&sid=0b854fcfadce4efaa6468e7a5979d178 HTTP/1.1\u001b[0m\" 200 -\n",
      "127.0.0.1 - - [28/Dec/2019 20:23:16] \"\u001b[37mGET /socket.io/?EIO=3&transport=polling&t=MzEBMVX&sid=0b854fcfadce4efaa6468e7a5979d178 HTTP/1.1\u001b[0m\" 200 -\n"
     ]
    },
    {
     "name": "stdout",
     "output_type": "stream",
     "text": [
      "Episode: Steps 956\t Score = -23868.24999999713\n",
      "Episode: Steps 957\t Score = -23893.16666666378\n",
      "Episode: Steps 958\t Score = -23918.08333333043\n",
      "Episode: Steps 959\t Score = -23942.99999999708\n",
      "Episode: Steps 960\t Score = -23967.91666666373\n",
      "Episode: Steps 961\t Score = -23992.833333330378\n",
      "Episode: Steps 962\t Score = -24017.749999997028\n",
      "Episode: Steps 963\t Score = -24042.666666663677\n"
     ]
    },
    {
     "name": "stderr",
     "output_type": "stream",
     "text": [
      "127.0.0.1 - - [28/Dec/2019 20:23:16] \"\u001b[37mGET /socket.io/?EIO=3&transport=polling&t=MzEBMYl&sid=0b854fcfadce4efaa6468e7a5979d178 HTTP/1.1\u001b[0m\" 200 -\n"
     ]
    },
    {
     "name": "stdout",
     "output_type": "stream",
     "text": [
      "Episode: Steps 964\t Score = -24067.583333330327\n",
      "Episode: Steps 965\t Score = -24092.499999996977\n",
      "Episode: Steps 966\t Score = -24117.416666663627\n",
      "Episode: Steps 967\t Score = -24142.333333330276\n",
      "Episode: Steps 968\t Score = -24167.249999996926\n",
      "Episode: Steps 969\t Score = -24192.166666663576\n",
      "Episode: Steps 970\t Score = -24217.083333330225\n"
     ]
    },
    {
     "name": "stderr",
     "output_type": "stream",
     "text": [
      "127.0.0.1 - - [28/Dec/2019 20:23:16] \"\u001b[37mGET /socket.io/?EIO=3&transport=polling&t=MzEBMbk&sid=0b854fcfadce4efaa6468e7a5979d178 HTTP/1.1\u001b[0m\" 200 -\n"
     ]
    },
    {
     "name": "stdout",
     "output_type": "stream",
     "text": [
      "Episode: Steps 971\t Score = -24241.999999996875\n",
      "Episode: Steps 972\t Score = -24266.916666663525\n",
      "Episode: Steps 973\t Score = -24291.833333330174\n",
      "Episode: Steps 974\t Score = -24316.749999996824\n",
      "Episode: Steps 975\t Score = -24341.666666663474\n",
      "Episode: Steps 976\t Score = -24366.583333330123\n",
      "Episode: Steps 977\t Score = -24391.499999996773\n"
     ]
    },
    {
     "name": "stderr",
     "output_type": "stream",
     "text": [
      "127.0.0.1 - - [28/Dec/2019 20:23:16] \"\u001b[37mGET /socket.io/?EIO=3&transport=polling&t=MzEBMeW&sid=0b854fcfadce4efaa6468e7a5979d178 HTTP/1.1\u001b[0m\" 200 -\n"
     ]
    },
    {
     "name": "stdout",
     "output_type": "stream",
     "text": [
      "Episode: Steps 978\t Score = -24416.416666663423\n",
      "Episode: Steps 979\t Score = -24441.333333330072\n",
      "Episode: Steps 980\t Score = -24466.249999996722\n",
      "Episode: Steps 981\t Score = -24491.166666663372\n",
      "Episode: Steps 982\t Score = -24516.08333333002\n",
      "Episode: Steps 983\t Score = -24540.99999999667\n"
     ]
    },
    {
     "name": "stderr",
     "output_type": "stream",
     "text": [
      "127.0.0.1 - - [28/Dec/2019 20:23:16] \"\u001b[37mGET /socket.io/?EIO=3&transport=polling&t=MzEBMhz&sid=0b854fcfadce4efaa6468e7a5979d178 HTTP/1.1\u001b[0m\" 200 -\n"
     ]
    },
    {
     "name": "stdout",
     "output_type": "stream",
     "text": [
      "Episode: Steps 984\t Score = -24565.91666666332\n",
      "Episode: Steps 985\t Score = -24590.83333332997\n",
      "Episode: Steps 986\t Score = -24615.74999999662\n",
      "Episode: Steps 987\t Score = -24640.66666666327\n",
      "Episode: Steps 988\t Score = -24665.58333332992\n",
      "Episode: Steps 989\t Score = -24690.49999999657\n"
     ]
    },
    {
     "name": "stderr",
     "output_type": "stream",
     "text": [
      "127.0.0.1 - - [28/Dec/2019 20:23:17] \"\u001b[37mGET /socket.io/?EIO=3&transport=polling&t=MzEBMlE&sid=0b854fcfadce4efaa6468e7a5979d178 HTTP/1.1\u001b[0m\" 200 -\n"
     ]
    },
    {
     "name": "stdout",
     "output_type": "stream",
     "text": [
      "Episode: Steps 990\t Score = -24715.41666666322\n",
      "Episode: Steps 991\t Score = -24740.33333332987\n",
      "Episode: Steps 992\t Score = -24765.24999999652\n",
      "Episode: Steps 993\t Score = -24790.166666663168\n",
      "Episode: Steps 994\t Score = -24815.083333329818\n",
      "Episode: Steps 995\t Score = -24839.999999996468\n",
      "Episode: Steps 996\t Score = -24864.916666663117\n"
     ]
    },
    {
     "name": "stderr",
     "output_type": "stream",
     "text": [
      "127.0.0.1 - - [28/Dec/2019 20:23:17] \"\u001b[37mGET /socket.io/?EIO=3&transport=polling&t=MzEBMoS&sid=0b854fcfadce4efaa6468e7a5979d178 HTTP/1.1\u001b[0m\" 200 -\n"
     ]
    },
    {
     "name": "stdout",
     "output_type": "stream",
     "text": [
      "Episode: Steps 997\t Score = -24889.833333329767\n",
      "Episode: Steps 998\t Score = -24914.749999996417\n",
      "Episode: Steps 999\t Score = -24939.666666663066\n"
     ]
    }
   ],
   "source": [
    "for step in range(nSteps):\n",
    "    # Chose an action for each agent in the environment\n",
    "    for a in range(env.get_num_agents()):\n",
    "        action = controller.act(observations[a])\n",
    "        action_dict.update({a: action})\n",
    "\n",
    "    # Environment step which returns the observations for all agents, their corresponding\n",
    "    # reward and whether their are done\n",
    "    next_obs, all_rewards, done, _ = env.step(action_dict)\n",
    "    env_renderer.render_env(show=not in_notebook, show_observations=False, show_predictions=False)\n",
    "    \n",
    "    # env_renderer.gl.save_image('./misc/Fames2/flatland_frame_{:04d}.png'.format(step))\n",
    "    frame_step += 1\n",
    "    # Update replay buffer and train agent\n",
    "    for a in range(env.get_num_agents()):\n",
    "        controller.step((observations[a], action_dict[a], all_rewards[a], next_obs[a], done[a]))\n",
    "        score += all_rewards[a]\n",
    "    observations = next_obs.copy()\n",
    "    if done['__all__']:\n",
    "        print(\"All done!\")\n",
    "        break\n",
    "    print('Episode: Steps {}\\t Score = {}'.format(step, score))\n",
    "    \n",
    "    time.sleep(0.01)\n",
    "    "
   ]
  },
  {
   "cell_type": "markdown",
   "metadata": {},
   "source": [
    "\n",
    "<app-root></app-root>\n",
    "<script>\n",
    "try{\n",
    "    window.nodeRequire = require;\n",
    "    delete window.require;\n",
    "    delete window.exports;\n",
    "    delete window.module;\n",
    "} catch (e) {}\n",
    "</script>\n",
    "\n",
    "<script src=\"static/runtime.js\" defer></script>\n",
    "<script src=\"static/polyfills-es5.js\" nomodule defer></script>\n",
    "<script src=\"static/polyfills.js\" defer></script>\n",
    "<script src=\"static/styles.js\" defer></script>\n",
    "<script src=\"static/scripts.js\" defer></script>\n",
    "<script src=\"static/vendor.js\" defer></script>\n",
    "<script src=\"static/main.js\" defer></script>\n",
    "</body>"
   ]
  },
  {
   "cell_type": "code",
   "execution_count": null,
   "metadata": {},
   "outputs": [],
   "source": [
    "if False:\n",
    "    tuple_dummy = env.reset()\n",
    "    server.send_env()"
   ]
  }
 ],
 "metadata": {
  "hide_input": false,
  "kernelspec": {
   "display_name": "ve367",
   "language": "python",
   "name": "python3"
  },
  "language_info": {
   "codemirror_mode": {
    "name": "ipython",
    "version": 3
   },
   "file_extension": ".py",
   "mimetype": "text/x-python",
   "name": "python",
   "nbconvert_exporter": "python",
   "pygments_lexer": "ipython3",
   "version": "3.6.7"
  },
  "latex_envs": {
   "LaTeX_envs_menu_present": true,
   "autoclose": false,
   "autocomplete": true,
   "bibliofile": "biblio.bib",
   "cite_by": "apalike",
   "current_citInitial": 1,
   "eqLabelWithNumbers": true,
   "eqNumInitial": 1,
   "hotkeys": {
    "equation": "Ctrl-E",
    "itemize": "Ctrl-I"
   },
   "labels_anchors": false,
   "latex_user_defs": false,
   "report_style_numbering": false,
   "user_envs_cfg": false
  },
  "toc": {
   "base_numbering": 1,
   "nav_menu": {},
   "number_sections": true,
   "sideBar": true,
   "skip_h1_title": false,
   "title_cell": "Table of Contents",
   "title_sidebar": "Contents",
   "toc_cell": false,
   "toc_position": {},
   "toc_section_display": true,
   "toc_window_display": false
  },
  "varInspector": {
   "cols": {
    "lenName": 16,
    "lenType": 16,
    "lenVar": 40
   },
   "kernels_config": {
    "python": {
     "delete_cmd_postfix": "",
     "delete_cmd_prefix": "del ",
     "library": "var_list.py",
     "varRefreshCmd": "print(var_dic_list())"
    },
    "r": {
     "delete_cmd_postfix": ") ",
     "delete_cmd_prefix": "rm(",
     "library": "var_list.r",
     "varRefreshCmd": "cat(var_dic_list()) "
    }
   },
   "types_to_exclude": [
    "module",
    "function",
    "builtin_function_or_method",
    "instance",
    "_Feature"
   ],
   "window_display": false
  }
 },
 "nbformat": 4,
 "nbformat_minor": 2
}
