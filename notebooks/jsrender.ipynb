{
 "cells": [
  {
   "cell_type": "markdown",
   "metadata": {},
   "source": [
    "# Flatland Javascript Renderer\n",
    "\n",
    "This is in active development and is intended to replace the tkinter / PIL renderer.\n",
    "This notebook shows how the JS renderer can be started in a notebook using an \"iframe\".  It starts a Flask server in a background thread, listening on port 8080, localhost."
   ]
  },
  {
   "cell_type": "code",
   "execution_count": 1,
   "metadata": {},
   "outputs": [],
   "source": [
    "import time\n",
    "import os\n",
    "import numpy as np \n",
    "import threading\n",
    "import webbrowser"
   ]
  },
  {
   "cell_type": "markdown",
   "metadata": {},
   "source": [
    "In Flatland you can use custom observation builders and predicitors<br>\n",
    "Observation builders generate the observation needed by the controller<br>\n",
    "Preditctors can be used to do short time prediction which can help in avoiding conflicts in the network"
   ]
  },
  {
   "cell_type": "code",
   "execution_count": 2,
   "metadata": {},
   "outputs": [
    {
     "name": "stdout",
     "output_type": "stream",
     "text": [
      "Flask static folder:  /home/jeremy/projects/aicrowd/rl-trains/flatland/notebooks/static\n"
     ]
    }
   ],
   "source": [
    "from flatland.envs.malfunction_generators import malfunction_from_params, MalfunctionParameters\n",
    "from flatland.envs.observations import GlobalObsForRailEnv\n",
    "# First of all we import the Flatland rail environment\n",
    "from flatland.envs.rail_env import RailEnv\n",
    "from flatland.envs.rail_env import RailEnvActions\n",
    "from flatland.envs.rail_generators import sparse_rail_generator\n",
    "from flatland.envs.schedule_generators import sparse_schedule_generator\n",
    "# We also include a renderer because we want to visualize what is going on in the environment\n",
    "from flatland.utils.rendertools import RenderTool, AgentRenderVariant\n",
    "from flatland.utils.flask_util import simple_flask_server"
   ]
  },
  {
   "cell_type": "markdown",
   "metadata": {},
   "source": [
    "This is an introduction example for the Flatland 2.1.* version.<br>\n",
    "Changes and highlights of this version include<br>\n",
    "- Stochastic events (malfunctions)<br>\n",
    "- Different travel speeds for differet agents<br>\n",
    "- Levels are generated using a novel generator to reflect more realistic railway networks<br>\n",
    "- Agents start outside of the environment and enter at their own time<br>\n",
    "- Agents leave the environment after they have reached their goal<br>\n",
    "Use the new sparse_rail_generator to generate feasible network configurations with corresponding tasks<br>\n",
    "Training on simple small tasks is the best way to get familiar with the environment<br>\n",
    "We start by importing the necessary rail and schedule generators<br>\n",
    "The rail generator will generate the railway infrastructure<br>\n",
    "The schedule generator will assign tasks to all the agent within the railway network"
   ]
  },
  {
   "cell_type": "markdown",
   "metadata": {},
   "source": [
    "The railway infrastructure can be build using any of the provided generators in env/rail_generators.py<br>\n",
    "Here we use the sparse_rail_generator with the following parameters"
   ]
  },
  {
   "cell_type": "code",
   "execution_count": 3,
   "metadata": {},
   "outputs": [],
   "source": [
    "in_notebook = False\n",
    "in_browser = True\n",
    "in_native = False"
   ]
  },
  {
   "cell_type": "code",
   "execution_count": 4,
   "metadata": {},
   "outputs": [],
   "source": [
    "if True: \n",
    "    width = 30  # With of map\n",
    "    height = 30  # Height of map\n",
    "    nr_trains = 5  # Number of trains that have an assigned task in the env\n",
    "    cities_in_map = 2  # Number of cities where agents can start or end\n",
    "elif True:\n",
    "    width = 8 * 7  # With of map\n",
    "    height = 8 * 7  # Height of map\n",
    "    nr_trains = 20  # Number of trains that have an assigned task in the env\n",
    "    cities_in_map = 10  # Number of cities where agents can start or end\n",
    "else:\n",
    "    width = 16 * 7  # With of map\n",
    "    height = 9 * 7  # Height of map\n",
    "    nr_trains = 50  # Number of trains that have an assigned task in the env\n",
    "    cities_in_map = 20  # Number of cities where agents can start or end\n",
    "    \n",
    "seed = 14  # Random seed\n",
    "grid_distribution_of_cities = False  # Type of city distribution, if False cities are randomly placed\n",
    "max_rails_between_cities = 2  # Max number of tracks allowed between cities. This is number of entry point to a city\n",
    "max_rail_in_cities = 6  # Max number of parallel tracks within a city, representing a realistic trainstation"
   ]
  },
  {
   "cell_type": "code",
   "execution_count": 5,
   "metadata": {},
   "outputs": [],
   "source": [
    "rail_generator = sparse_rail_generator(max_num_cities=cities_in_map,\n",
    "                                       seed=seed,\n",
    "                                       grid_mode=grid_distribution_of_cities,\n",
    "                                       max_rails_between_cities=max_rails_between_cities,\n",
    "                                       max_rails_in_city=max_rail_in_cities,\n",
    "                                       )"
   ]
  },
  {
   "cell_type": "markdown",
   "metadata": {},
   "source": [
    "The schedule generator can make very basic schedules with a start point, end point and a speed profile for each agent.<br>\n",
    "The speed profiles can be adjusted directly as well as shown later on. We start by introducing a statistical<br>\n",
    "distribution of speed profiles"
   ]
  },
  {
   "cell_type": "markdown",
   "metadata": {},
   "source": [
    "Different agent types (trains) with different speeds."
   ]
  },
  {
   "cell_type": "code",
   "execution_count": 6,
   "metadata": {},
   "outputs": [],
   "source": [
    "speed_ration_map = {1.: 0.25,  # Fast passenger train\n",
    "                    1. / 2.: 0.25,  # Fast freight train\n",
    "                    1. / 3.: 0.25,  # Slow commuter train\n",
    "                    1. / 4.: 0.25}  # Slow freight train"
   ]
  },
  {
   "cell_type": "markdown",
   "metadata": {},
   "source": [
    "We can now initiate the schedule generator with the given speed profiles"
   ]
  },
  {
   "cell_type": "code",
   "execution_count": 7,
   "metadata": {},
   "outputs": [],
   "source": [
    "schedule_generator = sparse_schedule_generator(speed_ration_map)"
   ]
  },
  {
   "cell_type": "markdown",
   "metadata": {},
   "source": [
    "We can furthermore pass stochastic data to the RailEnv constructor which will allow for stochastic malfunctions<br>\n",
    "during an episode."
   ]
  },
  {
   "cell_type": "code",
   "execution_count": 8,
   "metadata": {},
   "outputs": [],
   "source": [
    "stochastic_data = MalfunctionParameters(malfunction_rate=10000,  # Rate of malfunction occurence\n",
    "                                        min_duration=15,  # Minimal duration of malfunction\n",
    "                                        max_duration=50  # Max duration of malfunction\n",
    "                                        )\n",
    "# Custom observation builder without predictor\n",
    "observation_builder = GlobalObsForRailEnv()"
   ]
  },
  {
   "cell_type": "markdown",
   "metadata": {},
   "source": [
    "Custom observation builder with predictor, uncomment line below if you want to try this one<br>\n",
    "observation_builder = TreeObsForRailEnv(max_depth=2, predictor=ShortestPathPredictorForRailEnv())"
   ]
  },
  {
   "cell_type": "markdown",
   "metadata": {},
   "source": [
    "Construct the enviornment with the given observation, generataors, predictors, and stochastic data"
   ]
  },
  {
   "cell_type": "code",
   "execution_count": 9,
   "metadata": {},
   "outputs": [],
   "source": [
    "env = RailEnv(width=width,\n",
    "              height=height,\n",
    "              rail_generator=rail_generator,\n",
    "              schedule_generator=schedule_generator,\n",
    "              number_of_agents=nr_trains,\n",
    "              obs_builder_object=observation_builder,\n",
    "              malfunction_generator_and_process_data=malfunction_from_params(stochastic_data),\n",
    "              remove_agents_at_target=True)\n",
    "env.reset()\n",
    "pass"
   ]
  },
  {
   "cell_type": "markdown",
   "metadata": {},
   "source": [
    "Initiate the renderer"
   ]
  },
  {
   "cell_type": "code",
   "execution_count": 10,
   "metadata": {},
   "outputs": [
    {
     "name": "stderr",
     "output_type": "stream",
     "text": [
      "WebSocket transport not available. Install eventlet or gevent and gevent-websocket for improved performance.\n"
     ]
    },
    {
     "name": "stdout",
     "output_type": "stream",
     "text": [
      " * Serving Flask app \"flatland.utils.flask_util\" (lazy loading)\n",
      " * Environment: production\n",
      "   WARNING: This is a development server. Do not use it in a production deployment.\n",
      "   Use a production WSGI server instead.\n",
      " * Debug mode: off\n"
     ]
    },
    {
     "name": "stderr",
     "output_type": "stream",
     "text": [
      " * Running on http://127.0.0.1:8080/ (Press CTRL+C to quit)\n",
      "127.0.0.1 - - [13/Dec/2019 20:42:26] \"\u001b[37mGET /socket.io/?EIO=3&transport=polling&t=My0_v37 HTTP/1.1\u001b[0m\" 200 -\n"
     ]
    },
    {
     "name": "stdout",
     "output_type": "stream",
     "text": [
      "Client connected\n",
      "Send Map\n",
      "Map sent\n"
     ]
    }
   ],
   "source": [
    "if in_native:\n",
    "    env_renderer = RenderTool(env, gl=\"PILSVG\",\n",
    "                          agent_render_variant=AgentRenderVariant.ONE_STEP_BEHIND,\n",
    "                          show_debug=False,\n",
    "                          screen_height=600,  # Adjust these parameters to fit your resolution\n",
    "                          screen_width=800)  # Adjust these parameters to fit your resolution\n",
    "elif in_browser:\n",
    "    server = simple_flask_server(env)\n",
    "    # threading.Thread(target=server.run_flask_server).start()\n",
    "    # webbrowser.open(\"http://127.0.0.1:8080\")\n",
    "    server.run_flask_server_in_thread()\n",
    "    # server.open_browser()"
   ]
  },
  {
   "cell_type": "markdown",
   "metadata": {},
   "source": [
    "The first thing we notice is that some agents don't have feasible paths to their target.<br>\n",
    "We first look at the map we have created"
   ]
  },
  {
   "cell_type": "markdown",
   "metadata": {},
   "source": [
    "nv_renderer.render_env(show=True)<br>\n",
    "time.sleep(2)<br>\n",
    "Import your own Agent or use RLlib to train agents on Flatland<br>\n",
    "As an example we use a random agent instead"
   ]
  },
  {
   "cell_type": "code",
   "execution_count": 11,
   "metadata": {},
   "outputs": [],
   "source": [
    "class RandomAgent:\n",
    "    def __init__(self, state_size, action_size):\n",
    "        self.state_size = state_size\n",
    "        self.action_size = action_size\n",
    "    def act(self, state):\n",
    "        \"\"\"\n",
    "        :param state: input is the observation of the agent\n",
    "        :return: returns an action\n",
    "        \"\"\"\n",
    "        return np.random.choice([RailEnvActions.MOVE_FORWARD, RailEnvActions.MOVE_RIGHT, RailEnvActions.MOVE_LEFT,\n",
    "                                 RailEnvActions.STOP_MOVING])\n",
    "    def step(self, memories):\n",
    "        \"\"\"\n",
    "        Step function to improve agent by adjusting policy given the observations\n",
    "        :param memories: SARS Tuple to be\n",
    "        :return:\n",
    "        \"\"\"\n",
    "        return\n",
    "    def save(self, filename):\n",
    "        # Store the current policy\n",
    "        return\n",
    "    def load(self, filename):\n",
    "        # Load a policy\n",
    "        return"
   ]
  },
  {
   "cell_type": "markdown",
   "metadata": {},
   "source": [
    "Initialize the agent with the parameters corresponding to the environment and observation_builder"
   ]
  },
  {
   "cell_type": "code",
   "execution_count": 12,
   "metadata": {},
   "outputs": [],
   "source": [
    "controller = RandomAgent(218, env.action_space[0])"
   ]
  },
  {
   "cell_type": "markdown",
   "metadata": {},
   "source": [
    "We start by looking at the information of each agent<br>\n",
    "We can see the task assigned to the agent by looking at"
   ]
  },
  {
   "cell_type": "code",
   "execution_count": 13,
   "metadata": {},
   "outputs": [
    {
     "name": "stdout",
     "output_type": "stream",
     "text": [
      "\n",
      " Agents in the environment have to solve the following tasks: \n",
      "\n",
      "The agent with index 0 has the task to go from its initial position (22, 9),facing in the direction 2 to its target at (6, 20).\n",
      "The agent with index 1 has the task to go from its initial position (22, 9),facing in the direction 2 to its target at (6, 20).\n",
      "The agent with index 2 has the task to go from its initial position (22, 9),facing in the direction 2 to its target at (6, 20).\n",
      "The agent with index 3 has the task to go from its initial position (22, 9),facing in the direction 2 to its target at (6, 20).\n",
      "The agent with index 4 has the task to go from its initial position (6, 21),facing in the direction 0 to its target at (22, 12).\n"
     ]
    }
   ],
   "source": [
    "print(\"\\n Agents in the environment have to solve the following tasks: \\n\")\n",
    "for agent_idx, agent in enumerate(env.agents):\n",
    "    print(\n",
    "        (\"The agent with index {} has the task to go from its initial position {},\" +\n",
    "        \"facing in the direction {} to its target at {}.\").format(\n",
    "            agent_idx, agent.initial_position, agent.direction, agent.target))"
   ]
  },
  {
   "cell_type": "markdown",
   "metadata": {},
   "source": [
    "The agent will always have a status indicating if it is currently present in the environment or done or active<br>\n",
    "For example we see that agent with index 0 is currently not active"
   ]
  },
  {
   "cell_type": "code",
   "execution_count": 14,
   "metadata": {},
   "outputs": [
    {
     "name": "stdout",
     "output_type": "stream",
     "text": [
      "\n",
      " Their current statuses are:\n",
      "============================\n"
     ]
    }
   ],
   "source": [
    "print(\"\\n Their current statuses are:\")\n",
    "print(\"============================\")"
   ]
  },
  {
   "cell_type": "code",
   "execution_count": 15,
   "metadata": {},
   "outputs": [
    {
     "name": "stdout",
     "output_type": "stream",
     "text": [
      "Agent 0 status is: RailAgentStatus.READY_TO_DEPART with its current position being None\n",
      "Agent 1 status is: RailAgentStatus.READY_TO_DEPART with its current position being None\n",
      "Agent 2 status is: RailAgentStatus.READY_TO_DEPART with its current position being None\n",
      "Agent 3 status is: RailAgentStatus.READY_TO_DEPART with its current position being None\n",
      "Agent 4 status is: RailAgentStatus.READY_TO_DEPART with its current position being None\n"
     ]
    }
   ],
   "source": [
    "for agent_idx, agent in enumerate(env.agents):\n",
    "    print(\"Agent {} status is: {} with its current position being {}\".format(agent_idx, str(agent.status),\n",
    "                                                                             str(agent.position)))"
   ]
  },
  {
   "cell_type": "markdown",
   "metadata": {},
   "source": [
    "The agent needs to take any action [1,2,3] except do_nothing or stop to enter the level<br>\n",
    "If the starting cell is free they will enter the level<br>\n",
    "If multiple agents want to enter the same cell at the same time the lower index agent will enter first."
   ]
  },
  {
   "cell_type": "markdown",
   "metadata": {},
   "source": [
    "Let's check if there are any agents with the same start location"
   ]
  },
  {
   "cell_type": "code",
   "execution_count": 16,
   "metadata": {},
   "outputs": [
    {
     "name": "stdout",
     "output_type": "stream",
     "text": [
      "\n",
      " The following agents have the same initial position:\n",
      "=====================================================\n",
      "Agent 0 as the same initial position as agent 1\n",
      "Agent 0 as the same initial position as agent 2\n",
      "Agent 0 as the same initial position as agent 3\n",
      "Agent 1 as the same initial position as agent 0\n",
      "Agent 1 as the same initial position as agent 2\n",
      "Agent 1 as the same initial position as agent 3\n",
      "Agent 2 as the same initial position as agent 0\n",
      "Agent 2 as the same initial position as agent 1\n",
      "Agent 2 as the same initial position as agent 3\n",
      "Agent 3 as the same initial position as agent 0\n",
      "Agent 3 as the same initial position as agent 1\n",
      "Agent 3 as the same initial position as agent 2\n"
     ]
    }
   ],
   "source": [
    "agents_with_same_start = set()\n",
    "print(\"\\n The following agents have the same initial position:\")\n",
    "print(\"=====================================================\")\n",
    "for agent_idx, agent in enumerate(env.agents):\n",
    "    for agent_2_idx, agent2 in enumerate(env.agents):\n",
    "        if agent_idx != agent_2_idx and agent.initial_position == agent2.initial_position:\n",
    "            print(\"Agent {} as the same initial position as agent {}\".format(agent_idx, agent_2_idx))\n",
    "            agents_with_same_start.add(agent_idx)"
   ]
  },
  {
   "cell_type": "markdown",
   "metadata": {},
   "source": [
    "Lets try to enter with all of these agents at the same time"
   ]
  },
  {
   "cell_type": "code",
   "execution_count": 17,
   "metadata": {},
   "outputs": [],
   "source": [
    "action_dict = dict()"
   ]
  },
  {
   "cell_type": "code",
   "execution_count": 18,
   "metadata": {},
   "outputs": [],
   "source": [
    "for agent_id in agents_with_same_start:\n",
    "    action_dict[agent_id] = 1  # Try to move with the agents"
   ]
  },
  {
   "cell_type": "markdown",
   "metadata": {},
   "source": [
    "Do a step in the environment to see what agents entered:"
   ]
  },
  {
   "cell_type": "code",
   "execution_count": 19,
   "metadata": {},
   "outputs": [],
   "source": [
    "env.step(action_dict)\n",
    "pass"
   ]
  },
  {
   "cell_type": "markdown",
   "metadata": {},
   "source": [
    "Current state and position of the agents after all agents with same start position tried to move"
   ]
  },
  {
   "cell_type": "code",
   "execution_count": 20,
   "metadata": {},
   "outputs": [
    {
     "name": "stdout",
     "output_type": "stream",
     "text": [
      "\n",
      " This happened when all tried to enter at the same time:\n",
      "========================================================\n",
      "Agent 0 status is: RailAgentStatus.ACTIVE with the current position being (22, 9).\n",
      "Agent 1 status is: RailAgentStatus.READY_TO_DEPART with the current position being None.\n",
      "Agent 2 status is: RailAgentStatus.READY_TO_DEPART with the current position being None.\n",
      "Agent 3 status is: RailAgentStatus.READY_TO_DEPART with the current position being None.\n"
     ]
    }
   ],
   "source": [
    "print(\"\\n This happened when all tried to enter at the same time:\")\n",
    "print(\"========================================================\")\n",
    "for agent_id in agents_with_same_start:\n",
    "    print(\n",
    "        \"Agent {} status is: {} with the current position being {}.\".format(\n",
    "            agent_id, str(env.agents[agent_id].status),\n",
    "            str(env.agents[agent_id].position)))"
   ]
  },
  {
   "cell_type": "markdown",
   "metadata": {},
   "source": [
    "As you see only the agents with lower indexes moved. As soon as the cell is free again the agents can attempt<br>\n",
    "to start again."
   ]
  },
  {
   "cell_type": "markdown",
   "metadata": {},
   "source": [
    "You will also notice, that the agents move at different speeds once they are on the rail.<br>\n",
    "The agents will always move at full speed when moving, never a speed inbetween.<br>\n",
    "The fastest an agent can go is 1, meaning that it moves to the next cell at every time step<br>\n",
    "All slower speeds indicate the fraction of a cell that is moved at each time step<br>\n",
    "Lets look at the current speed data of the agents:"
   ]
  },
  {
   "cell_type": "code",
   "execution_count": 21,
   "metadata": {},
   "outputs": [
    {
     "name": "stdout",
     "output_type": "stream",
     "text": [
      "\n",
      " The speed information of the agents are:\n",
      "=========================================\n"
     ]
    }
   ],
   "source": [
    "print(\"\\n The speed information of the agents are:\")\n",
    "print(\"=========================================\")"
   ]
  },
  {
   "cell_type": "code",
   "execution_count": 22,
   "metadata": {},
   "outputs": [
    {
     "name": "stdout",
     "output_type": "stream",
     "text": [
      "Agent 0 speed is: 0.25 with the current fractional position being 0.0\n",
      "Agent 1 speed is: 0.25 with the current fractional position being 0.0\n",
      "Agent 2 speed is: 0.33 with the current fractional position being 0.0\n",
      "Agent 3 speed is: 1.00 with the current fractional position being 0.0\n",
      "Agent 4 speed is: 1.00 with the current fractional position being 0.0\n"
     ]
    }
   ],
   "source": [
    "for agent_idx, agent in enumerate(env.agents):\n",
    "    print(\n",
    "        \"Agent {} speed is: {:.2f} with the current fractional position being {}\".format(\n",
    "            agent_idx, agent.speed_data['speed'], agent.speed_data['position_fraction']))"
   ]
  },
  {
   "cell_type": "markdown",
   "metadata": {},
   "source": [
    "New the agents can also have stochastic malfunctions happening which will lead to them being unable to move<br>\n",
    "for a certain amount of time steps. The malfunction data of the agents can easily be accessed as follows"
   ]
  },
  {
   "cell_type": "code",
   "execution_count": 23,
   "metadata": {},
   "outputs": [
    {
     "name": "stdout",
     "output_type": "stream",
     "text": [
      "\n",
      " The malfunction data of the agents are:\n",
      "========================================\n"
     ]
    }
   ],
   "source": [
    "print(\"\\n The malfunction data of the agents are:\")\n",
    "print(\"========================================\")"
   ]
  },
  {
   "cell_type": "code",
   "execution_count": 24,
   "metadata": {},
   "outputs": [
    {
     "name": "stdout",
     "output_type": "stream",
     "text": [
      "Agent 0 is OK = True\n",
      "Agent 1 is OK = True\n",
      "Agent 2 is OK = True\n",
      "Agent 3 is OK = True\n",
      "Agent 4 is OK = True\n"
     ]
    }
   ],
   "source": [
    "for agent_idx, agent in enumerate(env.agents):\n",
    "    print(\n",
    "        \"Agent {} is OK = {}\".format(\n",
    "            agent_idx, agent.malfunction_data['malfunction'] < 1))"
   ]
  },
  {
   "cell_type": "markdown",
   "metadata": {},
   "source": [
    "Now that you have seen these novel concepts that were introduced you will realize that agents don't need to take<br>\n",
    "an action at every time step as it will only change the outcome when actions are chosen at cell entry.<br>\n",
    "Therefore the environment provides information about what agents need to provide an action in the next step.<br>\n",
    "You can access this in the following way."
   ]
  },
  {
   "cell_type": "markdown",
   "metadata": {},
   "source": [
    "Chose an action for each agent"
   ]
  },
  {
   "cell_type": "code",
   "execution_count": 25,
   "metadata": {},
   "outputs": [
    {
     "name": "stdout",
     "output_type": "stream",
     "text": [
      "\n",
      " The following agents can register an action:\n",
      "========================================\n",
      "Agent 0 needs to submit an action.\n",
      "Agent 1 needs to submit an action.\n",
      "Agent 2 needs to submit an action.\n",
      "Agent 3 needs to submit an action.\n",
      "Agent 4 needs to submit an action.\n"
     ]
    }
   ],
   "source": [
    "for a in range(env.get_num_agents()):\n",
    "    action = controller.act(0)\n",
    "    action_dict.update({a: action})\n",
    "# Do the environment step\n",
    "observations, rewards, dones, information = env.step(action_dict)\n",
    "print(\"\\n The following agents can register an action:\")\n",
    "print(\"========================================\")\n",
    "for info in information['action_required']:\n",
    "    print(\"Agent {} needs to submit an action.\".format(info))"
   ]
  },
  {
   "cell_type": "markdown",
   "metadata": {},
   "source": [
    "We recommend that you monitor the malfunction data and the action required in order to optimize your training<br>\n",
    "and controlling code."
   ]
  },
  {
   "cell_type": "markdown",
   "metadata": {},
   "source": [
    "Let us now look at an episode playing out with random actions performed"
   ]
  },
  {
   "cell_type": "code",
   "execution_count": 26,
   "metadata": {},
   "outputs": [
    {
     "name": "stdout",
     "output_type": "stream",
     "text": [
      "\n",
      "Start episode...\n"
     ]
    }
   ],
   "source": [
    "print(\"\\nStart episode...\")"
   ]
  },
  {
   "cell_type": "markdown",
   "metadata": {},
   "source": [
    "Reset the rendering system"
   ]
  },
  {
   "cell_type": "code",
   "execution_count": 27,
   "metadata": {},
   "outputs": [
    {
     "name": "stderr",
     "output_type": "stream",
     "text": [
      "127.0.0.1 - - [13/Dec/2019 20:42:27] \"\u001b[37mGET /socket.io/?EIO=3&transport=polling&t=My0_v3L&sid=7d83d8909de34a5f9cbd4ae601cd4d93 HTTP/1.1\u001b[0m\" 200 -\n"
     ]
    }
   ],
   "source": [
    "if False:\n",
    "    env_renderer.reset()\n",
    "else:\n",
    "    server.send_env()"
   ]
  },
  {
   "cell_type": "markdown",
   "metadata": {},
   "source": [
    "Here you can also further enhance the provided observation by means of normalization<br>\n",
    "See training navigation example in the baseline repository"
   ]
  },
  {
   "cell_type": "markdown",
   "metadata": {},
   "source": [
    "## Javascript Renderer\n",
    "The cell below should create an HTML \"iframe\" which is like a new window within a window.\n",
    "It loads from the Flask server created above, and which should now be running in the background, listening on localhost:8080.  The server should have been created with the Flatland RailEnv.  When the JS Renderer connects to the server, it should load the env data, ie the rails and agent positions.\n",
    "\n",
    "Note that only one server can be running on the host / machine / VM because it is configured to listen on a fixed port (8080).  Only one JS renderer can connect to the server. \n",
    "\n",
    "If you start more than one, only one will work, and it may be glitchy.  However it can be convenient to start a new window pointing to the server on http://localhost:8080/index.html - you can then position the viewer elsewhere, and run steps from the cells below."
   ]
  },
  {
   "cell_type": "code",
   "execution_count": 85,
   "metadata": {},
   "outputs": [
    {
     "data": {
      "text/html": [
       "<iframe src=\"http://127.0.0.1:8080/index.html\" height=500 width=600 />\n"
      ],
      "text/plain": [
       "<IPython.core.display.HTML object>"
      ]
     },
     "metadata": {},
     "output_type": "display_data"
    }
   ],
   "source": [
    "%%html\n",
    "<iframe src=\"http://127.0.0.1:8080/index.html\" height=500 width=600 />"
   ]
  },
  {
   "cell_type": "code",
   "execution_count": 29,
   "metadata": {},
   "outputs": [],
   "source": [
    "score = 0\n",
    "# Run episode\n",
    "frame_step = 0"
   ]
  },
  {
   "cell_type": "code",
   "execution_count": 30,
   "metadata": {},
   "outputs": [],
   "source": [
    "nSteps = 5"
   ]
  },
  {
   "cell_type": "code",
   "execution_count": 88,
   "metadata": {},
   "outputs": [
    {
     "name": "stderr",
     "output_type": "stream",
     "text": [
      "127.0.0.1 - - [13/Dec/2019 20:54:42] \"\u001b[37mGET /socket.io/?EIO=3&transport=polling&t=My12iaG&sid=8074683dd5194dffadcbdfee2d5fc142 HTTP/1.1\u001b[0m\" 200 -\n",
      "127.0.0.1 - - [13/Dec/2019 20:54:42] \"\u001b[37mGET /socket.io/?EIO=3&transport=polling&t=My12ilr&sid=8074683dd5194dffadcbdfee2d5fc142 HTTP/1.1\u001b[0m\" 200 -\n"
     ]
    },
    {
     "name": "stdout",
     "output_type": "stream",
     "text": [
      "Client disconnected\n",
      "Episode: Steps 0\t Score = -782.0000000000023\n",
      "Episode: Steps 1\t Score = -784.8333333333356\n"
     ]
    },
    {
     "name": "stderr",
     "output_type": "stream",
     "text": [
      "127.0.0.1 - - [13/Dec/2019 20:54:42] \"\u001b[37mGET /socket.io/?EIO=3&transport=polling&t=My12ing&sid=8074683dd5194dffadcbdfee2d5fc142 HTTP/1.1\u001b[0m\" 200 -\n",
      "127.0.0.1 - - [13/Dec/2019 20:54:42] \"\u001b[37mGET /socket.io/?EIO=3&transport=polling&t=My12io-&sid=8074683dd5194dffadcbdfee2d5fc142 HTTP/1.1\u001b[0m\" 200 -\n"
     ]
    },
    {
     "name": "stdout",
     "output_type": "stream",
     "text": [
      "Episode: Steps 2\t Score = -787.666666666669\n",
      "Episode: Steps 3\t Score = -790.5000000000024\n"
     ]
    },
    {
     "name": "stderr",
     "output_type": "stream",
     "text": [
      "127.0.0.1 - - [13/Dec/2019 20:54:42] \"\u001b[37mGET /socket.io/?EIO=3&transport=polling&t=My12iqk&sid=8074683dd5194dffadcbdfee2d5fc142 HTTP/1.1\u001b[0m\" 200 -\n"
     ]
    },
    {
     "name": "stdout",
     "output_type": "stream",
     "text": [
      "Episode: Steps 4\t Score = -793.3333333333358\n"
     ]
    }
   ],
   "source": [
    "for step in range(nSteps):\n",
    "    # Chose an action for each agent in the environment\n",
    "    for a in range(env.get_num_agents()):\n",
    "        action = controller.act(observations[a])\n",
    "        action_dict.update({a: action})\n",
    "\n",
    "    # Environment step which returns the observations for all agents, their corresponding\n",
    "    # reward and whether their are done\n",
    "    next_obs, all_rewards, done, _ = env.step(action_dict)\n",
    "    if False:\n",
    "        env_renderer.render_env(show=not in_notebook, show_observations=False, show_predictions=False)\n",
    "    else:\n",
    "        server.send_actions(action_dict)\n",
    "\n",
    "    # env_renderer.gl.save_image('./misc/Fames2/flatland_frame_{:04d}.png'.format(step))\n",
    "    frame_step += 1\n",
    "    # Update replay buffer and train agent\n",
    "    for a in range(env.get_num_agents()):\n",
    "        controller.step((observations[a], action_dict[a], all_rewards[a], next_obs[a], done[a]))\n",
    "        score += all_rewards[a]\n",
    "    observations = next_obs.copy()\n",
    "    if done['__all__']:\n",
    "        break\n",
    "    print('Episode: Steps {}\\t Score = {}'.format(step, score))\n",
    "    if in_notebook:\n",
    "        arrImage = env_renderer.get_image()\n",
    "        pilImage = PIL.Image.fromarray(arrImage)\n",
    "        clear_output()\n",
    "        display(pilImage)\n",
    "    time.sleep(0.1)\n",
    "    "
   ]
  },
  {
   "cell_type": "code",
   "execution_count": null,
   "metadata": {},
   "outputs": [],
   "source": []
  }
 ],
 "metadata": {
  "hide_input": false,
  "kernelspec": {
   "display_name": "ve367",
   "language": "python",
   "name": "python3"
  },
  "language_info": {
   "codemirror_mode": {
    "name": "ipython",
    "version": 3
   },
   "file_extension": ".py",
   "mimetype": "text/x-python",
   "name": "python",
   "nbconvert_exporter": "python",
   "pygments_lexer": "ipython3",
   "version": "3.6.7"
  },
  "latex_envs": {
   "LaTeX_envs_menu_present": true,
   "autoclose": false,
   "autocomplete": true,
   "bibliofile": "biblio.bib",
   "cite_by": "apalike",
   "current_citInitial": 1,
   "eqLabelWithNumbers": true,
   "eqNumInitial": 1,
   "hotkeys": {
    "equation": "Ctrl-E",
    "itemize": "Ctrl-I"
   },
   "labels_anchors": false,
   "latex_user_defs": false,
   "report_style_numbering": false,
   "user_envs_cfg": false
  },
  "toc": {
   "base_numbering": 1,
   "nav_menu": {},
   "number_sections": true,
   "sideBar": true,
   "skip_h1_title": false,
   "title_cell": "Table of Contents",
   "title_sidebar": "Contents",
   "toc_cell": false,
   "toc_position": {},
   "toc_section_display": true,
   "toc_window_display": false
  },
  "varInspector": {
   "cols": {
    "lenName": 16,
    "lenType": 16,
    "lenVar": 40
   },
   "kernels_config": {
    "python": {
     "delete_cmd_postfix": "",
     "delete_cmd_prefix": "del ",
     "library": "var_list.py",
     "varRefreshCmd": "print(var_dic_list())"
    },
    "r": {
     "delete_cmd_postfix": ") ",
     "delete_cmd_prefix": "rm(",
     "library": "var_list.r",
     "varRefreshCmd": "cat(var_dic_list()) "
    }
   },
   "types_to_exclude": [
    "module",
    "function",
    "builtin_function_or_method",
    "instance",
    "_Feature"
   ],
   "window_display": false
  }
 },
 "nbformat": 4,
 "nbformat_minor": 2
}
